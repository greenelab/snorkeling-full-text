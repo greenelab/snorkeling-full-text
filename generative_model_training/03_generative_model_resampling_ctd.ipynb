{
 "cells": [
  {
   "cell_type": "markdown",
   "metadata": {},
   "source": [
    "# Does resampling experiment help with predicting CtD sentences?"
   ]
  },
  {
   "cell_type": "code",
   "execution_count": 1,
   "metadata": {
    "ExecuteTime": {
     "end_time": "2021-12-22T23:52:53.378240Z",
     "start_time": "2021-12-22T23:52:49.215901Z"
    }
   },
   "outputs": [],
   "source": [
    "from pathlib import Path\n",
    "import warnings\n",
    "\n",
    "import numpy as np\n",
    "import pandas as pd\n",
    "import plydata as ply\n",
    "from sqlalchemy import create_engine\n",
    "\n",
    "from snorkel.labeling.analysis import LFAnalysis\n",
    "from snorkeling_helper.generative_model_helper import (\n",
    "    sample_lfs,\n",
    "    run_generative_label_function_sampler,\n",
    ")\n",
    "\n",
    "warnings.filterwarnings(\"ignore\")"
   ]
  },
  {
   "cell_type": "code",
   "execution_count": 2,
   "metadata": {
    "ExecuteTime": {
     "end_time": "2021-12-22T23:52:53.680542Z",
     "start_time": "2021-12-22T23:52:53.379673Z"
    }
   },
   "outputs": [],
   "source": [
    "username = \"danich1\"\n",
    "password = \"snorkel\"\n",
    "dbname = \"pubmed_central_db\"\n",
    "database_str = (\n",
    "    f\"postgresql+psycopg2://{username}:{password}@/{dbname}?host=/var/run/postgresql\"\n",
    ")\n",
    "conn = create_engine(database_str)"
   ]
  },
  {
   "cell_type": "markdown",
   "metadata": {},
   "source": [
    "## Load the data"
   ]
  },
  {
   "cell_type": "code",
   "execution_count": 3,
   "metadata": {
    "ExecuteTime": {
     "end_time": "2021-12-22T23:52:53.689799Z",
     "start_time": "2021-12-22T23:52:53.684761Z"
    }
   },
   "outputs": [],
   "source": [
    "label_candidates_dir = Path(\"../label_candidates/output\")\n",
    "notebook_output_dir = Path(\"output/CtD\")"
   ]
  },
  {
   "cell_type": "code",
   "execution_count": 4,
   "metadata": {
    "ExecuteTime": {
     "end_time": "2021-12-22T23:52:58.704946Z",
     "start_time": "2021-12-22T23:52:53.693050Z"
    }
   },
   "outputs": [
    {
     "name": "stdout",
     "output_type": "stream",
     "text": [
      "(971820, 103)\n"
     ]
    },
    {
     "data": {
      "text/html": [
       "<div>\n",
       "<style scoped>\n",
       "    .dataframe tbody tr th:only-of-type {\n",
       "        vertical-align: middle;\n",
       "    }\n",
       "\n",
       "    .dataframe tbody tr th {\n",
       "        vertical-align: top;\n",
       "    }\n",
       "\n",
       "    .dataframe thead th {\n",
       "        text-align: right;\n",
       "    }\n",
       "</style>\n",
       "<table border=\"1\" class=\"dataframe\">\n",
       "  <thead>\n",
       "    <tr style=\"text-align: right;\">\n",
       "      <th></th>\n",
       "      <th>0</th>\n",
       "      <th>1</th>\n",
       "      <th>2</th>\n",
       "      <th>3</th>\n",
       "      <th>4</th>\n",
       "    </tr>\n",
       "  </thead>\n",
       "  <tbody>\n",
       "    <tr>\n",
       "      <th>LF_HETNET_PHARMACOTHERAPYDB</th>\n",
       "      <td>-1</td>\n",
       "      <td>-1</td>\n",
       "      <td>-1</td>\n",
       "      <td>-1</td>\n",
       "      <td>-1</td>\n",
       "    </tr>\n",
       "    <tr>\n",
       "      <th>LF_HETNET_CD_ABSENT</th>\n",
       "      <td>0</td>\n",
       "      <td>0</td>\n",
       "      <td>0</td>\n",
       "      <td>0</td>\n",
       "      <td>0</td>\n",
       "    </tr>\n",
       "    <tr>\n",
       "      <th>LF_CD_CHECK_DISEASE_TAG</th>\n",
       "      <td>0</td>\n",
       "      <td>0</td>\n",
       "      <td>0</td>\n",
       "      <td>0</td>\n",
       "      <td>-1</td>\n",
       "    </tr>\n",
       "    <tr>\n",
       "      <th>LF_DG_IS_BIOMARKER</th>\n",
       "      <td>-1</td>\n",
       "      <td>-1</td>\n",
       "      <td>-1</td>\n",
       "      <td>-1</td>\n",
       "      <td>-1</td>\n",
       "    </tr>\n",
       "    <tr>\n",
       "      <th>LF_DaG_ASSOCIATION</th>\n",
       "      <td>-1</td>\n",
       "      <td>-1</td>\n",
       "      <td>-1</td>\n",
       "      <td>-1</td>\n",
       "      <td>-1</td>\n",
       "    </tr>\n",
       "    <tr>\n",
       "      <th>...</th>\n",
       "      <td>...</td>\n",
       "      <td>...</td>\n",
       "      <td>...</td>\n",
       "      <td>...</td>\n",
       "      <td>...</td>\n",
       "    </tr>\n",
       "    <tr>\n",
       "      <th>LF_GG_BICLUSTER_INCREASES_EXPRESSION</th>\n",
       "      <td>-1</td>\n",
       "      <td>-1</td>\n",
       "      <td>-1</td>\n",
       "      <td>-1</td>\n",
       "      <td>-1</td>\n",
       "    </tr>\n",
       "    <tr>\n",
       "      <th>LF_GG_BICLUSTER_SIGNALING</th>\n",
       "      <td>-1</td>\n",
       "      <td>-1</td>\n",
       "      <td>-1</td>\n",
       "      <td>-1</td>\n",
       "      <td>-1</td>\n",
       "    </tr>\n",
       "    <tr>\n",
       "      <th>LF_GG_BICLUSTER_IDENTICAL_PROTEIN</th>\n",
       "      <td>-1</td>\n",
       "      <td>-1</td>\n",
       "      <td>-1</td>\n",
       "      <td>-1</td>\n",
       "      <td>-1</td>\n",
       "    </tr>\n",
       "    <tr>\n",
       "      <th>LF_GG_BICLUSTER_CELL_PRODUCTION</th>\n",
       "      <td>-1</td>\n",
       "      <td>0</td>\n",
       "      <td>-1</td>\n",
       "      <td>-1</td>\n",
       "      <td>-1</td>\n",
       "    </tr>\n",
       "    <tr>\n",
       "      <th>candidate_id</th>\n",
       "      <td>52</td>\n",
       "      <td>175</td>\n",
       "      <td>176</td>\n",
       "      <td>408</td>\n",
       "      <td>409</td>\n",
       "    </tr>\n",
       "  </tbody>\n",
       "</table>\n",
       "<p>103 rows × 5 columns</p>\n",
       "</div>"
      ],
      "text/plain": [
       "                                       0    1    2    3    4\n",
       "LF_HETNET_PHARMACOTHERAPYDB           -1   -1   -1   -1   -1\n",
       "LF_HETNET_CD_ABSENT                    0    0    0    0    0\n",
       "LF_CD_CHECK_DISEASE_TAG                0    0    0    0   -1\n",
       "LF_DG_IS_BIOMARKER                    -1   -1   -1   -1   -1\n",
       "LF_DaG_ASSOCIATION                    -1   -1   -1   -1   -1\n",
       "...                                   ..  ...  ...  ...  ...\n",
       "LF_GG_BICLUSTER_INCREASES_EXPRESSION  -1   -1   -1   -1   -1\n",
       "LF_GG_BICLUSTER_SIGNALING             -1   -1   -1   -1   -1\n",
       "LF_GG_BICLUSTER_IDENTICAL_PROTEIN     -1   -1   -1   -1   -1\n",
       "LF_GG_BICLUSTER_CELL_PRODUCTION       -1    0   -1   -1   -1\n",
       "candidate_id                          52  175  176  408  409\n",
       "\n",
       "[103 rows x 5 columns]"
      ]
     },
     "execution_count": 4,
     "metadata": {},
     "output_type": "execute_result"
    }
   ],
   "source": [
    "L_abstracts = pd.read_csv(\n",
    "    str(label_candidates_dir / Path(\"cd_abstract_train_candidates_resampling.tsv\")),\n",
    "    sep=\"\\t\",\n",
    ")\n",
    "\n",
    "print(L_abstracts.shape)\n",
    "L_abstracts.head().T"
   ]
  },
  {
   "cell_type": "code",
   "execution_count": 5,
   "metadata": {
    "ExecuteTime": {
     "end_time": "2021-12-22T23:53:04.509441Z",
     "start_time": "2021-12-22T23:52:58.706083Z"
    }
   },
   "outputs": [
    {
     "name": "stdout",
     "output_type": "stream",
     "text": [
      "(1247188, 103)\n"
     ]
    },
    {
     "data": {
      "text/html": [
       "<div>\n",
       "<style scoped>\n",
       "    .dataframe tbody tr th:only-of-type {\n",
       "        vertical-align: middle;\n",
       "    }\n",
       "\n",
       "    .dataframe tbody tr th {\n",
       "        vertical-align: top;\n",
       "    }\n",
       "\n",
       "    .dataframe thead th {\n",
       "        text-align: right;\n",
       "    }\n",
       "</style>\n",
       "<table border=\"1\" class=\"dataframe\">\n",
       "  <thead>\n",
       "    <tr style=\"text-align: right;\">\n",
       "      <th></th>\n",
       "      <th>0</th>\n",
       "      <th>1</th>\n",
       "      <th>2</th>\n",
       "      <th>3</th>\n",
       "      <th>4</th>\n",
       "    </tr>\n",
       "  </thead>\n",
       "  <tbody>\n",
       "    <tr>\n",
       "      <th>LF_HETNET_PHARMACOTHERAPYDB</th>\n",
       "      <td>-1</td>\n",
       "      <td>-1</td>\n",
       "      <td>-1</td>\n",
       "      <td>-1</td>\n",
       "      <td>-1</td>\n",
       "    </tr>\n",
       "    <tr>\n",
       "      <th>LF_HETNET_CD_ABSENT</th>\n",
       "      <td>0</td>\n",
       "      <td>0</td>\n",
       "      <td>0</td>\n",
       "      <td>0</td>\n",
       "      <td>0</td>\n",
       "    </tr>\n",
       "    <tr>\n",
       "      <th>LF_CD_CHECK_DISEASE_TAG</th>\n",
       "      <td>0</td>\n",
       "      <td>0</td>\n",
       "      <td>0</td>\n",
       "      <td>0</td>\n",
       "      <td>0</td>\n",
       "    </tr>\n",
       "    <tr>\n",
       "      <th>LF_DG_IS_BIOMARKER</th>\n",
       "      <td>-1</td>\n",
       "      <td>-1</td>\n",
       "      <td>-1</td>\n",
       "      <td>-1</td>\n",
       "      <td>-1</td>\n",
       "    </tr>\n",
       "    <tr>\n",
       "      <th>LF_DaG_ASSOCIATION</th>\n",
       "      <td>-1</td>\n",
       "      <td>-1</td>\n",
       "      <td>-1</td>\n",
       "      <td>-1</td>\n",
       "      <td>-1</td>\n",
       "    </tr>\n",
       "    <tr>\n",
       "      <th>...</th>\n",
       "      <td>...</td>\n",
       "      <td>...</td>\n",
       "      <td>...</td>\n",
       "      <td>...</td>\n",
       "      <td>...</td>\n",
       "    </tr>\n",
       "    <tr>\n",
       "      <th>LF_GG_BICLUSTER_INCREASES_EXPRESSION</th>\n",
       "      <td>-1</td>\n",
       "      <td>-1</td>\n",
       "      <td>-1</td>\n",
       "      <td>-1</td>\n",
       "      <td>-1</td>\n",
       "    </tr>\n",
       "    <tr>\n",
       "      <th>LF_GG_BICLUSTER_SIGNALING</th>\n",
       "      <td>-1</td>\n",
       "      <td>-1</td>\n",
       "      <td>-1</td>\n",
       "      <td>-1</td>\n",
       "      <td>-1</td>\n",
       "    </tr>\n",
       "    <tr>\n",
       "      <th>LF_GG_BICLUSTER_IDENTICAL_PROTEIN</th>\n",
       "      <td>-1</td>\n",
       "      <td>-1</td>\n",
       "      <td>-1</td>\n",
       "      <td>-1</td>\n",
       "      <td>-1</td>\n",
       "    </tr>\n",
       "    <tr>\n",
       "      <th>LF_GG_BICLUSTER_CELL_PRODUCTION</th>\n",
       "      <td>-1</td>\n",
       "      <td>-1</td>\n",
       "      <td>-1</td>\n",
       "      <td>-1</td>\n",
       "      <td>-1</td>\n",
       "    </tr>\n",
       "    <tr>\n",
       "      <th>candidate_id</th>\n",
       "      <td>14</td>\n",
       "      <td>15</td>\n",
       "      <td>16</td>\n",
       "      <td>17</td>\n",
       "      <td>18</td>\n",
       "    </tr>\n",
       "  </tbody>\n",
       "</table>\n",
       "<p>103 rows × 5 columns</p>\n",
       "</div>"
      ],
      "text/plain": [
       "                                       0   1   2   3   4\n",
       "LF_HETNET_PHARMACOTHERAPYDB           -1  -1  -1  -1  -1\n",
       "LF_HETNET_CD_ABSENT                    0   0   0   0   0\n",
       "LF_CD_CHECK_DISEASE_TAG                0   0   0   0   0\n",
       "LF_DG_IS_BIOMARKER                    -1  -1  -1  -1  -1\n",
       "LF_DaG_ASSOCIATION                    -1  -1  -1  -1  -1\n",
       "...                                   ..  ..  ..  ..  ..\n",
       "LF_GG_BICLUSTER_INCREASES_EXPRESSION  -1  -1  -1  -1  -1\n",
       "LF_GG_BICLUSTER_SIGNALING             -1  -1  -1  -1  -1\n",
       "LF_GG_BICLUSTER_IDENTICAL_PROTEIN     -1  -1  -1  -1  -1\n",
       "LF_GG_BICLUSTER_CELL_PRODUCTION       -1  -1  -1  -1  -1\n",
       "candidate_id                          14  15  16  17  18\n",
       "\n",
       "[103 rows x 5 columns]"
      ]
     },
     "execution_count": 5,
     "metadata": {},
     "output_type": "execute_result"
    }
   ],
   "source": [
    "L_full_text = pd.read_csv(\n",
    "    str(label_candidates_dir / Path(\"cd_full_text_train_candidates_resampling.tsv\")),\n",
    "    sep=\"\\t\",\n",
    ")\n",
    "\n",
    "print(L_full_text.shape)\n",
    "L_full_text.head().T"
   ]
  },
  {
   "cell_type": "code",
   "execution_count": 6,
   "metadata": {
    "ExecuteTime": {
     "end_time": "2021-12-22T23:53:04.590642Z",
     "start_time": "2021-12-22T23:53:04.510613Z"
    }
   },
   "outputs": [
    {
     "name": "stdout",
     "output_type": "stream",
     "text": [
      "(500, 105)\n"
     ]
    },
    {
     "data": {
      "text/html": [
       "<div>\n",
       "<style scoped>\n",
       "    .dataframe tbody tr th:only-of-type {\n",
       "        vertical-align: middle;\n",
       "    }\n",
       "\n",
       "    .dataframe tbody tr th {\n",
       "        vertical-align: top;\n",
       "    }\n",
       "\n",
       "    .dataframe thead th {\n",
       "        text-align: right;\n",
       "    }\n",
       "</style>\n",
       "<table border=\"1\" class=\"dataframe\">\n",
       "  <thead>\n",
       "    <tr style=\"text-align: right;\">\n",
       "      <th></th>\n",
       "      <th>1</th>\n",
       "      <th>2</th>\n",
       "      <th>3</th>\n",
       "      <th>4</th>\n",
       "      <th>6</th>\n",
       "    </tr>\n",
       "  </thead>\n",
       "  <tbody>\n",
       "    <tr>\n",
       "      <th>LF_HETNET_PHARMACOTHERAPYDB</th>\n",
       "      <td>-1.0</td>\n",
       "      <td>-1.0</td>\n",
       "      <td>-1.0</td>\n",
       "      <td>1.0</td>\n",
       "      <td>1.0</td>\n",
       "    </tr>\n",
       "    <tr>\n",
       "      <th>LF_HETNET_CD_ABSENT</th>\n",
       "      <td>0.0</td>\n",
       "      <td>0.0</td>\n",
       "      <td>0.0</td>\n",
       "      <td>-1.0</td>\n",
       "      <td>-1.0</td>\n",
       "    </tr>\n",
       "    <tr>\n",
       "      <th>LF_CD_CHECK_DISEASE_TAG</th>\n",
       "      <td>-1.0</td>\n",
       "      <td>0.0</td>\n",
       "      <td>0.0</td>\n",
       "      <td>-1.0</td>\n",
       "      <td>-1.0</td>\n",
       "    </tr>\n",
       "    <tr>\n",
       "      <th>LF_DG_IS_BIOMARKER</th>\n",
       "      <td>-1.0</td>\n",
       "      <td>-1.0</td>\n",
       "      <td>-1.0</td>\n",
       "      <td>-1.0</td>\n",
       "      <td>-1.0</td>\n",
       "    </tr>\n",
       "    <tr>\n",
       "      <th>LF_DaG_ASSOCIATION</th>\n",
       "      <td>-1.0</td>\n",
       "      <td>-1.0</td>\n",
       "      <td>-1.0</td>\n",
       "      <td>-1.0</td>\n",
       "      <td>-1.0</td>\n",
       "    </tr>\n",
       "    <tr>\n",
       "      <th>...</th>\n",
       "      <td>...</td>\n",
       "      <td>...</td>\n",
       "      <td>...</td>\n",
       "      <td>...</td>\n",
       "      <td>...</td>\n",
       "    </tr>\n",
       "    <tr>\n",
       "      <th>LF_GG_BICLUSTER_IDENTICAL_PROTEIN</th>\n",
       "      <td>-1.0</td>\n",
       "      <td>-1.0</td>\n",
       "      <td>-1.0</td>\n",
       "      <td>-1.0</td>\n",
       "      <td>-1.0</td>\n",
       "    </tr>\n",
       "    <tr>\n",
       "      <th>LF_GG_BICLUSTER_CELL_PRODUCTION</th>\n",
       "      <td>-1.0</td>\n",
       "      <td>-1.0</td>\n",
       "      <td>-1.0</td>\n",
       "      <td>-1.0</td>\n",
       "      <td>-1.0</td>\n",
       "    </tr>\n",
       "    <tr>\n",
       "      <th>split</th>\n",
       "      <td>10.0</td>\n",
       "      <td>10.0</td>\n",
       "      <td>10.0</td>\n",
       "      <td>10.0</td>\n",
       "      <td>10.0</td>\n",
       "    </tr>\n",
       "    <tr>\n",
       "      <th>document_id</th>\n",
       "      <td>162660.0</td>\n",
       "      <td>146415.0</td>\n",
       "      <td>213795.0</td>\n",
       "      <td>33875.0</td>\n",
       "      <td>15752.0</td>\n",
       "    </tr>\n",
       "    <tr>\n",
       "      <th>curated_ctd</th>\n",
       "      <td>0.0</td>\n",
       "      <td>0.0</td>\n",
       "      <td>0.0</td>\n",
       "      <td>0.0</td>\n",
       "      <td>0.0</td>\n",
       "    </tr>\n",
       "  </tbody>\n",
       "</table>\n",
       "<p>105 rows × 5 columns</p>\n",
       "</div>"
      ],
      "text/plain": [
       "                                          1         2         3        4  \\\n",
       "LF_HETNET_PHARMACOTHERAPYDB            -1.0      -1.0      -1.0      1.0   \n",
       "LF_HETNET_CD_ABSENT                     0.0       0.0       0.0     -1.0   \n",
       "LF_CD_CHECK_DISEASE_TAG                -1.0       0.0       0.0     -1.0   \n",
       "LF_DG_IS_BIOMARKER                     -1.0      -1.0      -1.0     -1.0   \n",
       "LF_DaG_ASSOCIATION                     -1.0      -1.0      -1.0     -1.0   \n",
       "...                                     ...       ...       ...      ...   \n",
       "LF_GG_BICLUSTER_IDENTICAL_PROTEIN      -1.0      -1.0      -1.0     -1.0   \n",
       "LF_GG_BICLUSTER_CELL_PRODUCTION        -1.0      -1.0      -1.0     -1.0   \n",
       "split                                  10.0      10.0      10.0     10.0   \n",
       "document_id                        162660.0  146415.0  213795.0  33875.0   \n",
       "curated_ctd                             0.0       0.0       0.0      0.0   \n",
       "\n",
       "                                         6  \n",
       "LF_HETNET_PHARMACOTHERAPYDB            1.0  \n",
       "LF_HETNET_CD_ABSENT                   -1.0  \n",
       "LF_CD_CHECK_DISEASE_TAG               -1.0  \n",
       "LF_DG_IS_BIOMARKER                    -1.0  \n",
       "LF_DaG_ASSOCIATION                    -1.0  \n",
       "...                                    ...  \n",
       "LF_GG_BICLUSTER_IDENTICAL_PROTEIN     -1.0  \n",
       "LF_GG_BICLUSTER_CELL_PRODUCTION       -1.0  \n",
       "split                                 10.0  \n",
       "document_id                        15752.0  \n",
       "curated_ctd                            0.0  \n",
       "\n",
       "[105 rows x 5 columns]"
      ]
     },
     "execution_count": 6,
     "metadata": {},
     "output_type": "execute_result"
    }
   ],
   "source": [
    "L_dev = pd.read_csv(\n",
    "    str(label_candidates_dir / Path(\"cd_dev_test_candidates_resampling.tsv\")), sep=\"\\t\"\n",
    ") >> ply.query(\"split==10\")\n",
    "print(L_dev.shape)\n",
    "L_dev.head().T"
   ]
  },
  {
   "cell_type": "code",
   "execution_count": 7,
   "metadata": {
    "ExecuteTime": {
     "end_time": "2021-12-22T23:53:04.619864Z",
     "start_time": "2021-12-22T23:53:04.591797Z"
    }
   },
   "outputs": [
    {
     "name": "stdout",
     "output_type": "stream",
     "text": [
      "(500, 105)\n"
     ]
    },
    {
     "data": {
      "text/html": [
       "<div>\n",
       "<style scoped>\n",
       "    .dataframe tbody tr th:only-of-type {\n",
       "        vertical-align: middle;\n",
       "    }\n",
       "\n",
       "    .dataframe tbody tr th {\n",
       "        vertical-align: top;\n",
       "    }\n",
       "\n",
       "    .dataframe thead th {\n",
       "        text-align: right;\n",
       "    }\n",
       "</style>\n",
       "<table border=\"1\" class=\"dataframe\">\n",
       "  <thead>\n",
       "    <tr style=\"text-align: right;\">\n",
       "      <th></th>\n",
       "      <th>0</th>\n",
       "      <th>5</th>\n",
       "      <th>8</th>\n",
       "      <th>9</th>\n",
       "      <th>17</th>\n",
       "    </tr>\n",
       "  </thead>\n",
       "  <tbody>\n",
       "    <tr>\n",
       "      <th>LF_HETNET_PHARMACOTHERAPYDB</th>\n",
       "      <td>-1.0</td>\n",
       "      <td>-1.0</td>\n",
       "      <td>-1.0</td>\n",
       "      <td>-1.0</td>\n",
       "      <td>-1.0</td>\n",
       "    </tr>\n",
       "    <tr>\n",
       "      <th>LF_HETNET_CD_ABSENT</th>\n",
       "      <td>0.0</td>\n",
       "      <td>0.0</td>\n",
       "      <td>0.0</td>\n",
       "      <td>0.0</td>\n",
       "      <td>0.0</td>\n",
       "    </tr>\n",
       "    <tr>\n",
       "      <th>LF_CD_CHECK_DISEASE_TAG</th>\n",
       "      <td>0.0</td>\n",
       "      <td>0.0</td>\n",
       "      <td>-1.0</td>\n",
       "      <td>0.0</td>\n",
       "      <td>0.0</td>\n",
       "    </tr>\n",
       "    <tr>\n",
       "      <th>LF_DG_IS_BIOMARKER</th>\n",
       "      <td>-1.0</td>\n",
       "      <td>-1.0</td>\n",
       "      <td>-1.0</td>\n",
       "      <td>-1.0</td>\n",
       "      <td>-1.0</td>\n",
       "    </tr>\n",
       "    <tr>\n",
       "      <th>LF_DaG_ASSOCIATION</th>\n",
       "      <td>-1.0</td>\n",
       "      <td>-1.0</td>\n",
       "      <td>-1.0</td>\n",
       "      <td>1.0</td>\n",
       "      <td>-1.0</td>\n",
       "    </tr>\n",
       "    <tr>\n",
       "      <th>...</th>\n",
       "      <td>...</td>\n",
       "      <td>...</td>\n",
       "      <td>...</td>\n",
       "      <td>...</td>\n",
       "      <td>...</td>\n",
       "    </tr>\n",
       "    <tr>\n",
       "      <th>LF_GG_BICLUSTER_IDENTICAL_PROTEIN</th>\n",
       "      <td>-1.0</td>\n",
       "      <td>-1.0</td>\n",
       "      <td>-1.0</td>\n",
       "      <td>-1.0</td>\n",
       "      <td>-1.0</td>\n",
       "    </tr>\n",
       "    <tr>\n",
       "      <th>LF_GG_BICLUSTER_CELL_PRODUCTION</th>\n",
       "      <td>-1.0</td>\n",
       "      <td>-1.0</td>\n",
       "      <td>-1.0</td>\n",
       "      <td>-1.0</td>\n",
       "      <td>-1.0</td>\n",
       "    </tr>\n",
       "    <tr>\n",
       "      <th>split</th>\n",
       "      <td>11.0</td>\n",
       "      <td>11.0</td>\n",
       "      <td>11.0</td>\n",
       "      <td>11.0</td>\n",
       "      <td>11.0</td>\n",
       "    </tr>\n",
       "    <tr>\n",
       "      <th>document_id</th>\n",
       "      <td>207885.0</td>\n",
       "      <td>291052.0</td>\n",
       "      <td>165878.0</td>\n",
       "      <td>186450.0</td>\n",
       "      <td>212095.0</td>\n",
       "    </tr>\n",
       "    <tr>\n",
       "      <th>curated_ctd</th>\n",
       "      <td>0.0</td>\n",
       "      <td>0.0</td>\n",
       "      <td>0.0</td>\n",
       "      <td>0.0</td>\n",
       "      <td>0.0</td>\n",
       "    </tr>\n",
       "  </tbody>\n",
       "</table>\n",
       "<p>105 rows × 5 columns</p>\n",
       "</div>"
      ],
      "text/plain": [
       "                                         0         5         8         9   \\\n",
       "LF_HETNET_PHARMACOTHERAPYDB            -1.0      -1.0      -1.0      -1.0   \n",
       "LF_HETNET_CD_ABSENT                     0.0       0.0       0.0       0.0   \n",
       "LF_CD_CHECK_DISEASE_TAG                 0.0       0.0      -1.0       0.0   \n",
       "LF_DG_IS_BIOMARKER                     -1.0      -1.0      -1.0      -1.0   \n",
       "LF_DaG_ASSOCIATION                     -1.0      -1.0      -1.0       1.0   \n",
       "...                                     ...       ...       ...       ...   \n",
       "LF_GG_BICLUSTER_IDENTICAL_PROTEIN      -1.0      -1.0      -1.0      -1.0   \n",
       "LF_GG_BICLUSTER_CELL_PRODUCTION        -1.0      -1.0      -1.0      -1.0   \n",
       "split                                  11.0      11.0      11.0      11.0   \n",
       "document_id                        207885.0  291052.0  165878.0  186450.0   \n",
       "curated_ctd                             0.0       0.0       0.0       0.0   \n",
       "\n",
       "                                         17  \n",
       "LF_HETNET_PHARMACOTHERAPYDB            -1.0  \n",
       "LF_HETNET_CD_ABSENT                     0.0  \n",
       "LF_CD_CHECK_DISEASE_TAG                 0.0  \n",
       "LF_DG_IS_BIOMARKER                     -1.0  \n",
       "LF_DaG_ASSOCIATION                     -1.0  \n",
       "...                                     ...  \n",
       "LF_GG_BICLUSTER_IDENTICAL_PROTEIN      -1.0  \n",
       "LF_GG_BICLUSTER_CELL_PRODUCTION        -1.0  \n",
       "split                                  11.0  \n",
       "document_id                        212095.0  \n",
       "curated_ctd                             0.0  \n",
       "\n",
       "[105 rows x 5 columns]"
      ]
     },
     "execution_count": 7,
     "metadata": {},
     "output_type": "execute_result"
    }
   ],
   "source": [
    "L_test = pd.read_csv(\n",
    "    str(label_candidates_dir / Path(\"cd_dev_test_candidates_resampling.tsv\")), sep=\"\\t\"\n",
    ") >> ply.query(\"split==11\")\n",
    "print(L_dev.shape)\n",
    "L_test.head().T"
   ]
  },
  {
   "cell_type": "markdown",
   "metadata": {},
   "source": [
    "## Resort the Candidates Based on Abstract"
   ]
  },
  {
   "cell_type": "code",
   "execution_count": 8,
   "metadata": {
    "ExecuteTime": {
     "end_time": "2021-12-22T23:57:39.372318Z",
     "start_time": "2021-12-22T23:53:04.622042Z"
    }
   },
   "outputs": [
    {
     "data": {
      "text/html": [
       "<div>\n",
       "<style scoped>\n",
       "    .dataframe tbody tr th:only-of-type {\n",
       "        vertical-align: middle;\n",
       "    }\n",
       "\n",
       "    .dataframe tbody tr th {\n",
       "        vertical-align: top;\n",
       "    }\n",
       "\n",
       "    .dataframe thead th {\n",
       "        text-align: right;\n",
       "    }\n",
       "</style>\n",
       "<table border=\"1\" class=\"dataframe\">\n",
       "  <thead>\n",
       "    <tr style=\"text-align: right;\">\n",
       "      <th></th>\n",
       "      <th>sentence_id</th>\n",
       "      <th>document_id</th>\n",
       "      <th>candidate_id</th>\n",
       "    </tr>\n",
       "  </thead>\n",
       "  <tbody>\n",
       "    <tr>\n",
       "      <th>0</th>\n",
       "      <td>578151345</td>\n",
       "      <td>24670128</td>\n",
       "      <td>8160</td>\n",
       "    </tr>\n",
       "    <tr>\n",
       "      <th>1</th>\n",
       "      <td>568187139</td>\n",
       "      <td>27952167</td>\n",
       "      <td>9876</td>\n",
       "    </tr>\n",
       "    <tr>\n",
       "      <th>2</th>\n",
       "      <td>561956917</td>\n",
       "      <td>8224816</td>\n",
       "      <td>20087</td>\n",
       "    </tr>\n",
       "    <tr>\n",
       "      <th>3</th>\n",
       "      <td>244310297</td>\n",
       "      <td>28588380</td>\n",
       "      <td>45149</td>\n",
       "    </tr>\n",
       "    <tr>\n",
       "      <th>4</th>\n",
       "      <td>593065266</td>\n",
       "      <td>15261556</td>\n",
       "      <td>89224</td>\n",
       "    </tr>\n",
       "  </tbody>\n",
       "</table>\n",
       "</div>"
      ],
      "text/plain": [
       "   sentence_id  document_id  candidate_id\n",
       "0    578151345     24670128          8160\n",
       "1    568187139     27952167          9876\n",
       "2    561956917      8224816         20087\n",
       "3    244310297     28588380         45149\n",
       "4    593065266     15261556         89224"
      ]
     },
     "execution_count": 8,
     "metadata": {},
     "output_type": "execute_result"
    }
   ],
   "source": [
    "# Grab the document ids for resampling\n",
    "sql = \"\"\"\n",
    "select cd_candidates.sentence_id, document_id, cd_candidates.candidate_id\n",
    "from sentence\n",
    "inner join (\n",
    "  select candidate.candidate_id, compound_disease.sentence_id from compound_disease\n",
    "  inner join candidate on candidate.candidate_id=compound_disease.candidate_id\n",
    "  ) as cd_candidates\n",
    "on sentence.sentence_id = cd_candidates.sentence_id\n",
    "\"\"\"\n",
    "candidate_doc_df = pd.read_sql(sql, database_str)\n",
    "candidate_doc_df.head()"
   ]
  },
  {
   "cell_type": "code",
   "execution_count": 9,
   "metadata": {
    "ExecuteTime": {
     "end_time": "2021-12-22T23:57:39.422121Z",
     "start_time": "2021-12-22T23:57:39.373839Z"
    }
   },
   "outputs": [],
   "source": [
    "dev_test_ids = (\n",
    "    L_dev >> ply.select(\"document_id\") >> ply.distinct() >> ply.pull(\"document_id\")\n",
    ")\n",
    "\n",
    "filtered_candidate_id = (\n",
    "    candidate_doc_df\n",
    "    >> ply.query(f\"document_id in {list(dev_test_ids)}\")\n",
    "    >> ply.pull(\"candidate_id\")\n",
    ")"
   ]
  },
  {
   "cell_type": "code",
   "execution_count": 10,
   "metadata": {
    "ExecuteTime": {
     "end_time": "2021-12-22T23:57:39.658474Z",
     "start_time": "2021-12-22T23:57:39.423304Z"
    }
   },
   "outputs": [
    {
     "data": {
      "text/html": [
       "<div>\n",
       "<style scoped>\n",
       "    .dataframe tbody tr th:only-of-type {\n",
       "        vertical-align: middle;\n",
       "    }\n",
       "\n",
       "    .dataframe tbody tr th {\n",
       "        vertical-align: top;\n",
       "    }\n",
       "\n",
       "    .dataframe thead th {\n",
       "        text-align: right;\n",
       "    }\n",
       "</style>\n",
       "<table border=\"1\" class=\"dataframe\">\n",
       "  <thead>\n",
       "    <tr style=\"text-align: right;\">\n",
       "      <th></th>\n",
       "      <th>document_id</th>\n",
       "      <th>dataset</th>\n",
       "    </tr>\n",
       "  </thead>\n",
       "  <tbody>\n",
       "    <tr>\n",
       "      <th>0</th>\n",
       "      <td>24670128</td>\n",
       "      <td>train</td>\n",
       "    </tr>\n",
       "    <tr>\n",
       "      <th>1</th>\n",
       "      <td>27952167</td>\n",
       "      <td>train</td>\n",
       "    </tr>\n",
       "    <tr>\n",
       "      <th>2</th>\n",
       "      <td>8224816</td>\n",
       "      <td>train</td>\n",
       "    </tr>\n",
       "    <tr>\n",
       "      <th>3</th>\n",
       "      <td>28588380</td>\n",
       "      <td>tune</td>\n",
       "    </tr>\n",
       "    <tr>\n",
       "      <th>4</th>\n",
       "      <td>15261556</td>\n",
       "      <td>train</td>\n",
       "    </tr>\n",
       "  </tbody>\n",
       "</table>\n",
       "</div>"
      ],
      "text/plain": [
       "   document_id dataset\n",
       "0     24670128   train\n",
       "1     27952167   train\n",
       "2      8224816   train\n",
       "3     28588380    tune\n",
       "4     15261556   train"
      ]
     },
     "execution_count": 10,
     "metadata": {},
     "output_type": "execute_result"
    }
   ],
   "source": [
    "sorted_train_df = pd.read_csv(\n",
    "    str(notebook_output_dir / Path(\"ctd_dataset_mapper.tsv\")), sep=\"\\t\"\n",
    ")\n",
    "sorted_train_df.head()"
   ]
  },
  {
   "cell_type": "code",
   "execution_count": 11,
   "metadata": {
    "ExecuteTime": {
     "end_time": "2021-12-22T23:57:40.063926Z",
     "start_time": "2021-12-22T23:57:39.659667Z"
    }
   },
   "outputs": [],
   "source": [
    "trained_documents = (\n",
    "    sorted_train_df\n",
    "    >> ply.inner_join(candidate_doc_df, on=\"document_id\")\n",
    "    >> ply.query(\"dataset=='train'\")\n",
    "    >> ply.pull(\"candidate_id\")\n",
    ")"
   ]
  },
  {
   "cell_type": "code",
   "execution_count": 12,
   "metadata": {
    "ExecuteTime": {
     "end_time": "2021-12-22T23:58:05.320740Z",
     "start_time": "2021-12-22T23:57:40.065199Z"
    }
   },
   "outputs": [
    {
     "name": "stdout",
     "output_type": "stream",
     "text": [
      "(680470, 103)\n"
     ]
    },
    {
     "data": {
      "text/html": [
       "<div>\n",
       "<style scoped>\n",
       "    .dataframe tbody tr th:only-of-type {\n",
       "        vertical-align: middle;\n",
       "    }\n",
       "\n",
       "    .dataframe tbody tr th {\n",
       "        vertical-align: top;\n",
       "    }\n",
       "\n",
       "    .dataframe thead th {\n",
       "        text-align: right;\n",
       "    }\n",
       "</style>\n",
       "<table border=\"1\" class=\"dataframe\">\n",
       "  <thead>\n",
       "    <tr style=\"text-align: right;\">\n",
       "      <th></th>\n",
       "      <th>LF_HETNET_PHARMACOTHERAPYDB</th>\n",
       "      <th>LF_HETNET_CD_ABSENT</th>\n",
       "      <th>LF_CD_CHECK_DISEASE_TAG</th>\n",
       "      <th>LF_DG_IS_BIOMARKER</th>\n",
       "      <th>LF_DaG_ASSOCIATION</th>\n",
       "      <th>LF_DaG_WEAK_ASSOCIATION</th>\n",
       "      <th>LF_DaG_NO_ASSOCIATION</th>\n",
       "      <th>LF_DaG_CELLULAR_ACTIVITY</th>\n",
       "      <th>LF_DaG_DISEASE_SAMPLE</th>\n",
       "      <th>LF_DG_METHOD_DESC</th>\n",
       "      <th>...</th>\n",
       "      <th>LF_GG_NO_VERB</th>\n",
       "      <th>LF_GG_BICLUSTER_BINDING</th>\n",
       "      <th>LF_GG_BICLUSTER_ENHANCES</th>\n",
       "      <th>LF_GG_BICLUSTER_ACTIVATES</th>\n",
       "      <th>LF_GG_BICLUSTER_AFFECTS_EXPRESSION</th>\n",
       "      <th>LF_GG_BICLUSTER_INCREASES_EXPRESSION</th>\n",
       "      <th>LF_GG_BICLUSTER_SIGNALING</th>\n",
       "      <th>LF_GG_BICLUSTER_IDENTICAL_PROTEIN</th>\n",
       "      <th>LF_GG_BICLUSTER_CELL_PRODUCTION</th>\n",
       "      <th>candidate_id</th>\n",
       "    </tr>\n",
       "  </thead>\n",
       "  <tbody>\n",
       "    <tr>\n",
       "      <th>0</th>\n",
       "      <td>-1</td>\n",
       "      <td>0</td>\n",
       "      <td>0</td>\n",
       "      <td>-1</td>\n",
       "      <td>-1</td>\n",
       "      <td>-1</td>\n",
       "      <td>-1</td>\n",
       "      <td>-1</td>\n",
       "      <td>1</td>\n",
       "      <td>-1</td>\n",
       "      <td>...</td>\n",
       "      <td>-1</td>\n",
       "      <td>-1</td>\n",
       "      <td>-1</td>\n",
       "      <td>1</td>\n",
       "      <td>-1</td>\n",
       "      <td>-1</td>\n",
       "      <td>-1</td>\n",
       "      <td>-1</td>\n",
       "      <td>-1</td>\n",
       "      <td>52</td>\n",
       "    </tr>\n",
       "    <tr>\n",
       "      <th>3</th>\n",
       "      <td>-1</td>\n",
       "      <td>0</td>\n",
       "      <td>0</td>\n",
       "      <td>-1</td>\n",
       "      <td>-1</td>\n",
       "      <td>-1</td>\n",
       "      <td>-1</td>\n",
       "      <td>-1</td>\n",
       "      <td>-1</td>\n",
       "      <td>-1</td>\n",
       "      <td>...</td>\n",
       "      <td>-1</td>\n",
       "      <td>-1</td>\n",
       "      <td>-1</td>\n",
       "      <td>-1</td>\n",
       "      <td>-1</td>\n",
       "      <td>-1</td>\n",
       "      <td>-1</td>\n",
       "      <td>-1</td>\n",
       "      <td>-1</td>\n",
       "      <td>408</td>\n",
       "    </tr>\n",
       "    <tr>\n",
       "      <th>4</th>\n",
       "      <td>-1</td>\n",
       "      <td>0</td>\n",
       "      <td>-1</td>\n",
       "      <td>-1</td>\n",
       "      <td>-1</td>\n",
       "      <td>-1</td>\n",
       "      <td>-1</td>\n",
       "      <td>-1</td>\n",
       "      <td>-1</td>\n",
       "      <td>-1</td>\n",
       "      <td>...</td>\n",
       "      <td>-1</td>\n",
       "      <td>-1</td>\n",
       "      <td>-1</td>\n",
       "      <td>1</td>\n",
       "      <td>-1</td>\n",
       "      <td>-1</td>\n",
       "      <td>-1</td>\n",
       "      <td>-1</td>\n",
       "      <td>-1</td>\n",
       "      <td>409</td>\n",
       "    </tr>\n",
       "    <tr>\n",
       "      <th>5</th>\n",
       "      <td>-1</td>\n",
       "      <td>0</td>\n",
       "      <td>0</td>\n",
       "      <td>-1</td>\n",
       "      <td>-1</td>\n",
       "      <td>-1</td>\n",
       "      <td>-1</td>\n",
       "      <td>-1</td>\n",
       "      <td>1</td>\n",
       "      <td>-1</td>\n",
       "      <td>...</td>\n",
       "      <td>-1</td>\n",
       "      <td>-1</td>\n",
       "      <td>-1</td>\n",
       "      <td>-1</td>\n",
       "      <td>-1</td>\n",
       "      <td>-1</td>\n",
       "      <td>-1</td>\n",
       "      <td>-1</td>\n",
       "      <td>-1</td>\n",
       "      <td>410</td>\n",
       "    </tr>\n",
       "    <tr>\n",
       "      <th>6</th>\n",
       "      <td>-1</td>\n",
       "      <td>0</td>\n",
       "      <td>-1</td>\n",
       "      <td>-1</td>\n",
       "      <td>-1</td>\n",
       "      <td>-1</td>\n",
       "      <td>-1</td>\n",
       "      <td>-1</td>\n",
       "      <td>1</td>\n",
       "      <td>0</td>\n",
       "      <td>...</td>\n",
       "      <td>-1</td>\n",
       "      <td>-1</td>\n",
       "      <td>-1</td>\n",
       "      <td>1</td>\n",
       "      <td>-1</td>\n",
       "      <td>-1</td>\n",
       "      <td>-1</td>\n",
       "      <td>-1</td>\n",
       "      <td>-1</td>\n",
       "      <td>413</td>\n",
       "    </tr>\n",
       "  </tbody>\n",
       "</table>\n",
       "<p>5 rows × 103 columns</p>\n",
       "</div>"
      ],
      "text/plain": [
       "   LF_HETNET_PHARMACOTHERAPYDB  LF_HETNET_CD_ABSENT  LF_CD_CHECK_DISEASE_TAG  \\\n",
       "0                           -1                    0                        0   \n",
       "3                           -1                    0                        0   \n",
       "4                           -1                    0                       -1   \n",
       "5                           -1                    0                        0   \n",
       "6                           -1                    0                       -1   \n",
       "\n",
       "   LF_DG_IS_BIOMARKER  LF_DaG_ASSOCIATION  LF_DaG_WEAK_ASSOCIATION  \\\n",
       "0                  -1                  -1                       -1   \n",
       "3                  -1                  -1                       -1   \n",
       "4                  -1                  -1                       -1   \n",
       "5                  -1                  -1                       -1   \n",
       "6                  -1                  -1                       -1   \n",
       "\n",
       "   LF_DaG_NO_ASSOCIATION  LF_DaG_CELLULAR_ACTIVITY  LF_DaG_DISEASE_SAMPLE  \\\n",
       "0                     -1                        -1                      1   \n",
       "3                     -1                        -1                     -1   \n",
       "4                     -1                        -1                     -1   \n",
       "5                     -1                        -1                      1   \n",
       "6                     -1                        -1                      1   \n",
       "\n",
       "   LF_DG_METHOD_DESC  ...  LF_GG_NO_VERB  LF_GG_BICLUSTER_BINDING  \\\n",
       "0                 -1  ...             -1                       -1   \n",
       "3                 -1  ...             -1                       -1   \n",
       "4                 -1  ...             -1                       -1   \n",
       "5                 -1  ...             -1                       -1   \n",
       "6                  0  ...             -1                       -1   \n",
       "\n",
       "   LF_GG_BICLUSTER_ENHANCES  LF_GG_BICLUSTER_ACTIVATES  \\\n",
       "0                        -1                          1   \n",
       "3                        -1                         -1   \n",
       "4                        -1                          1   \n",
       "5                        -1                         -1   \n",
       "6                        -1                          1   \n",
       "\n",
       "   LF_GG_BICLUSTER_AFFECTS_EXPRESSION  LF_GG_BICLUSTER_INCREASES_EXPRESSION  \\\n",
       "0                                  -1                                    -1   \n",
       "3                                  -1                                    -1   \n",
       "4                                  -1                                    -1   \n",
       "5                                  -1                                    -1   \n",
       "6                                  -1                                    -1   \n",
       "\n",
       "   LF_GG_BICLUSTER_SIGNALING  LF_GG_BICLUSTER_IDENTICAL_PROTEIN  \\\n",
       "0                         -1                                 -1   \n",
       "3                         -1                                 -1   \n",
       "4                         -1                                 -1   \n",
       "5                         -1                                 -1   \n",
       "6                         -1                                 -1   \n",
       "\n",
       "   LF_GG_BICLUSTER_CELL_PRODUCTION  candidate_id  \n",
       "0                               -1            52  \n",
       "3                               -1           408  \n",
       "4                               -1           409  \n",
       "5                               -1           410  \n",
       "6                               -1           413  \n",
       "\n",
       "[5 rows x 103 columns]"
      ]
     },
     "execution_count": 12,
     "metadata": {},
     "output_type": "execute_result"
    }
   ],
   "source": [
    "filtered_L_abstracts = L_abstracts >> ply.query(\n",
    "    f\"candidate_id in {list(trained_documents)}\"\n",
    ")\n",
    "print(filtered_L_abstracts.shape)\n",
    "filtered_L_abstracts.head()"
   ]
  },
  {
   "cell_type": "code",
   "execution_count": 13,
   "metadata": {
    "ExecuteTime": {
     "end_time": "2021-12-22T23:58:30.660943Z",
     "start_time": "2021-12-22T23:58:05.322072Z"
    }
   },
   "outputs": [
    {
     "name": "stdout",
     "output_type": "stream",
     "text": [
      "(873241, 103)\n"
     ]
    },
    {
     "data": {
      "text/html": [
       "<div>\n",
       "<style scoped>\n",
       "    .dataframe tbody tr th:only-of-type {\n",
       "        vertical-align: middle;\n",
       "    }\n",
       "\n",
       "    .dataframe tbody tr th {\n",
       "        vertical-align: top;\n",
       "    }\n",
       "\n",
       "    .dataframe thead th {\n",
       "        text-align: right;\n",
       "    }\n",
       "</style>\n",
       "<table border=\"1\" class=\"dataframe\">\n",
       "  <thead>\n",
       "    <tr style=\"text-align: right;\">\n",
       "      <th></th>\n",
       "      <th>LF_HETNET_PHARMACOTHERAPYDB</th>\n",
       "      <th>LF_HETNET_CD_ABSENT</th>\n",
       "      <th>LF_CD_CHECK_DISEASE_TAG</th>\n",
       "      <th>LF_DG_IS_BIOMARKER</th>\n",
       "      <th>LF_DaG_ASSOCIATION</th>\n",
       "      <th>LF_DaG_WEAK_ASSOCIATION</th>\n",
       "      <th>LF_DaG_NO_ASSOCIATION</th>\n",
       "      <th>LF_DaG_CELLULAR_ACTIVITY</th>\n",
       "      <th>LF_DaG_DISEASE_SAMPLE</th>\n",
       "      <th>LF_DG_METHOD_DESC</th>\n",
       "      <th>...</th>\n",
       "      <th>LF_GG_NO_VERB</th>\n",
       "      <th>LF_GG_BICLUSTER_BINDING</th>\n",
       "      <th>LF_GG_BICLUSTER_ENHANCES</th>\n",
       "      <th>LF_GG_BICLUSTER_ACTIVATES</th>\n",
       "      <th>LF_GG_BICLUSTER_AFFECTS_EXPRESSION</th>\n",
       "      <th>LF_GG_BICLUSTER_INCREASES_EXPRESSION</th>\n",
       "      <th>LF_GG_BICLUSTER_SIGNALING</th>\n",
       "      <th>LF_GG_BICLUSTER_IDENTICAL_PROTEIN</th>\n",
       "      <th>LF_GG_BICLUSTER_CELL_PRODUCTION</th>\n",
       "      <th>candidate_id</th>\n",
       "    </tr>\n",
       "  </thead>\n",
       "  <tbody>\n",
       "    <tr>\n",
       "      <th>30</th>\n",
       "      <td>-1</td>\n",
       "      <td>0</td>\n",
       "      <td>0</td>\n",
       "      <td>-1</td>\n",
       "      <td>1</td>\n",
       "      <td>-1</td>\n",
       "      <td>-1</td>\n",
       "      <td>-1</td>\n",
       "      <td>-1</td>\n",
       "      <td>-1</td>\n",
       "      <td>...</td>\n",
       "      <td>-1</td>\n",
       "      <td>-1</td>\n",
       "      <td>-1</td>\n",
       "      <td>-1</td>\n",
       "      <td>-1</td>\n",
       "      <td>-1</td>\n",
       "      <td>-1</td>\n",
       "      <td>-1</td>\n",
       "      <td>-1</td>\n",
       "      <td>233</td>\n",
       "    </tr>\n",
       "    <tr>\n",
       "      <th>31</th>\n",
       "      <td>-1</td>\n",
       "      <td>0</td>\n",
       "      <td>-1</td>\n",
       "      <td>-1</td>\n",
       "      <td>-1</td>\n",
       "      <td>-1</td>\n",
       "      <td>-1</td>\n",
       "      <td>-1</td>\n",
       "      <td>-1</td>\n",
       "      <td>-1</td>\n",
       "      <td>...</td>\n",
       "      <td>-1</td>\n",
       "      <td>-1</td>\n",
       "      <td>-1</td>\n",
       "      <td>-1</td>\n",
       "      <td>-1</td>\n",
       "      <td>-1</td>\n",
       "      <td>-1</td>\n",
       "      <td>-1</td>\n",
       "      <td>-1</td>\n",
       "      <td>234</td>\n",
       "    </tr>\n",
       "    <tr>\n",
       "      <th>32</th>\n",
       "      <td>-1</td>\n",
       "      <td>0</td>\n",
       "      <td>0</td>\n",
       "      <td>-1</td>\n",
       "      <td>-1</td>\n",
       "      <td>-1</td>\n",
       "      <td>-1</td>\n",
       "      <td>-1</td>\n",
       "      <td>-1</td>\n",
       "      <td>-1</td>\n",
       "      <td>...</td>\n",
       "      <td>-1</td>\n",
       "      <td>-1</td>\n",
       "      <td>-1</td>\n",
       "      <td>-1</td>\n",
       "      <td>-1</td>\n",
       "      <td>-1</td>\n",
       "      <td>-1</td>\n",
       "      <td>-1</td>\n",
       "      <td>-1</td>\n",
       "      <td>420</td>\n",
       "    </tr>\n",
       "    <tr>\n",
       "      <th>33</th>\n",
       "      <td>-1</td>\n",
       "      <td>0</td>\n",
       "      <td>0</td>\n",
       "      <td>-1</td>\n",
       "      <td>-1</td>\n",
       "      <td>-1</td>\n",
       "      <td>-1</td>\n",
       "      <td>-1</td>\n",
       "      <td>-1</td>\n",
       "      <td>-1</td>\n",
       "      <td>...</td>\n",
       "      <td>-1</td>\n",
       "      <td>-1</td>\n",
       "      <td>-1</td>\n",
       "      <td>-1</td>\n",
       "      <td>-1</td>\n",
       "      <td>-1</td>\n",
       "      <td>-1</td>\n",
       "      <td>-1</td>\n",
       "      <td>-1</td>\n",
       "      <td>422</td>\n",
       "    </tr>\n",
       "    <tr>\n",
       "      <th>34</th>\n",
       "      <td>-1</td>\n",
       "      <td>0</td>\n",
       "      <td>0</td>\n",
       "      <td>-1</td>\n",
       "      <td>-1</td>\n",
       "      <td>-1</td>\n",
       "      <td>-1</td>\n",
       "      <td>-1</td>\n",
       "      <td>-1</td>\n",
       "      <td>-1</td>\n",
       "      <td>...</td>\n",
       "      <td>-1</td>\n",
       "      <td>-1</td>\n",
       "      <td>-1</td>\n",
       "      <td>-1</td>\n",
       "      <td>-1</td>\n",
       "      <td>-1</td>\n",
       "      <td>-1</td>\n",
       "      <td>-1</td>\n",
       "      <td>-1</td>\n",
       "      <td>424</td>\n",
       "    </tr>\n",
       "  </tbody>\n",
       "</table>\n",
       "<p>5 rows × 103 columns</p>\n",
       "</div>"
      ],
      "text/plain": [
       "    LF_HETNET_PHARMACOTHERAPYDB  LF_HETNET_CD_ABSENT  LF_CD_CHECK_DISEASE_TAG  \\\n",
       "30                           -1                    0                        0   \n",
       "31                           -1                    0                       -1   \n",
       "32                           -1                    0                        0   \n",
       "33                           -1                    0                        0   \n",
       "34                           -1                    0                        0   \n",
       "\n",
       "    LF_DG_IS_BIOMARKER  LF_DaG_ASSOCIATION  LF_DaG_WEAK_ASSOCIATION  \\\n",
       "30                  -1                   1                       -1   \n",
       "31                  -1                  -1                       -1   \n",
       "32                  -1                  -1                       -1   \n",
       "33                  -1                  -1                       -1   \n",
       "34                  -1                  -1                       -1   \n",
       "\n",
       "    LF_DaG_NO_ASSOCIATION  LF_DaG_CELLULAR_ACTIVITY  LF_DaG_DISEASE_SAMPLE  \\\n",
       "30                     -1                        -1                     -1   \n",
       "31                     -1                        -1                     -1   \n",
       "32                     -1                        -1                     -1   \n",
       "33                     -1                        -1                     -1   \n",
       "34                     -1                        -1                     -1   \n",
       "\n",
       "    LF_DG_METHOD_DESC  ...  LF_GG_NO_VERB  LF_GG_BICLUSTER_BINDING  \\\n",
       "30                 -1  ...             -1                       -1   \n",
       "31                 -1  ...             -1                       -1   \n",
       "32                 -1  ...             -1                       -1   \n",
       "33                 -1  ...             -1                       -1   \n",
       "34                 -1  ...             -1                       -1   \n",
       "\n",
       "    LF_GG_BICLUSTER_ENHANCES  LF_GG_BICLUSTER_ACTIVATES  \\\n",
       "30                        -1                         -1   \n",
       "31                        -1                         -1   \n",
       "32                        -1                         -1   \n",
       "33                        -1                         -1   \n",
       "34                        -1                         -1   \n",
       "\n",
       "    LF_GG_BICLUSTER_AFFECTS_EXPRESSION  LF_GG_BICLUSTER_INCREASES_EXPRESSION  \\\n",
       "30                                  -1                                    -1   \n",
       "31                                  -1                                    -1   \n",
       "32                                  -1                                    -1   \n",
       "33                                  -1                                    -1   \n",
       "34                                  -1                                    -1   \n",
       "\n",
       "    LF_GG_BICLUSTER_SIGNALING  LF_GG_BICLUSTER_IDENTICAL_PROTEIN  \\\n",
       "30                         -1                                 -1   \n",
       "31                         -1                                 -1   \n",
       "32                         -1                                 -1   \n",
       "33                         -1                                 -1   \n",
       "34                         -1                                 -1   \n",
       "\n",
       "    LF_GG_BICLUSTER_CELL_PRODUCTION  candidate_id  \n",
       "30                               -1           233  \n",
       "31                               -1           234  \n",
       "32                               -1           420  \n",
       "33                               -1           422  \n",
       "34                               -1           424  \n",
       "\n",
       "[5 rows x 103 columns]"
      ]
     },
     "execution_count": 13,
     "metadata": {},
     "output_type": "execute_result"
    }
   ],
   "source": [
    "filtered_L_full_text = L_full_text >> ply.query(\n",
    "    f\"candidate_id in {list(trained_documents)}\"\n",
    ")\n",
    "print(filtered_L_full_text.shape)\n",
    "filtered_L_full_text.head()"
   ]
  },
  {
   "cell_type": "markdown",
   "metadata": {},
   "source": [
    "## Construct the Grid Search"
   ]
  },
  {
   "cell_type": "code",
   "execution_count": 14,
   "metadata": {
    "ExecuteTime": {
     "end_time": "2021-12-22T23:58:30.664749Z",
     "start_time": "2021-12-22T23:58:30.662155Z"
    }
   },
   "outputs": [],
   "source": [
    "# Global Grid\n",
    "epochs_grid = [250]\n",
    "l2_param_grid = np.linspace(0.01, 5, num=5)\n",
    "lr_grid = [1e-3]\n",
    "grid = list(\n",
    "    zip(epochs_grid * len(l2_param_grid), l2_param_grid, lr_grid * len(l2_param_grid))\n",
    ")"
   ]
  },
  {
   "cell_type": "markdown",
   "metadata": {},
   "source": [
    "# Abstracts"
   ]
  },
  {
   "cell_type": "code",
   "execution_count": 15,
   "metadata": {
    "ExecuteTime": {
     "end_time": "2021-12-22T23:58:38.787547Z",
     "start_time": "2021-12-22T23:58:30.666155Z"
    }
   },
   "outputs": [
    {
     "data": {
      "text/html": [
       "<div>\n",
       "<style scoped>\n",
       "    .dataframe tbody tr th:only-of-type {\n",
       "        vertical-align: middle;\n",
       "    }\n",
       "\n",
       "    .dataframe tbody tr th {\n",
       "        vertical-align: top;\n",
       "    }\n",
       "\n",
       "    .dataframe thead th {\n",
       "        text-align: right;\n",
       "    }\n",
       "</style>\n",
       "<table border=\"1\" class=\"dataframe\">\n",
       "  <thead>\n",
       "    <tr style=\"text-align: right;\">\n",
       "      <th></th>\n",
       "      <th>Polarity</th>\n",
       "      <th>Coverage</th>\n",
       "      <th>Overlaps</th>\n",
       "      <th>Conflicts</th>\n",
       "    </tr>\n",
       "  </thead>\n",
       "  <tbody>\n",
       "    <tr>\n",
       "      <th>LF_HETNET_PHARMACOTHERAPYDB</th>\n",
       "      <td>[1]</td>\n",
       "      <td>0.263468</td>\n",
       "      <td>0.263468</td>\n",
       "      <td>0.263468</td>\n",
       "    </tr>\n",
       "    <tr>\n",
       "      <th>LF_HETNET_CD_ABSENT</th>\n",
       "      <td>[0]</td>\n",
       "      <td>0.736532</td>\n",
       "      <td>0.736532</td>\n",
       "      <td>0.736532</td>\n",
       "    </tr>\n",
       "    <tr>\n",
       "      <th>LF_CD_CHECK_DISEASE_TAG</th>\n",
       "      <td>[0]</td>\n",
       "      <td>0.736955</td>\n",
       "      <td>0.736955</td>\n",
       "      <td>0.736955</td>\n",
       "    </tr>\n",
       "    <tr>\n",
       "      <th>LF_DG_IS_BIOMARKER</th>\n",
       "      <td>[1]</td>\n",
       "      <td>0.070260</td>\n",
       "      <td>0.070260</td>\n",
       "      <td>0.070260</td>\n",
       "    </tr>\n",
       "    <tr>\n",
       "      <th>LF_DaG_ASSOCIATION</th>\n",
       "      <td>[1]</td>\n",
       "      <td>0.091335</td>\n",
       "      <td>0.091335</td>\n",
       "      <td>0.091335</td>\n",
       "    </tr>\n",
       "    <tr>\n",
       "      <th>...</th>\n",
       "      <td>...</td>\n",
       "      <td>...</td>\n",
       "      <td>...</td>\n",
       "      <td>...</td>\n",
       "    </tr>\n",
       "    <tr>\n",
       "      <th>LF_GG_BICLUSTER_AFFECTS_EXPRESSION</th>\n",
       "      <td>[1]</td>\n",
       "      <td>0.014528</td>\n",
       "      <td>0.014528</td>\n",
       "      <td>0.014528</td>\n",
       "    </tr>\n",
       "    <tr>\n",
       "      <th>LF_GG_BICLUSTER_INCREASES_EXPRESSION</th>\n",
       "      <td>[0]</td>\n",
       "      <td>0.033060</td>\n",
       "      <td>0.033060</td>\n",
       "      <td>0.033060</td>\n",
       "    </tr>\n",
       "    <tr>\n",
       "      <th>LF_GG_BICLUSTER_SIGNALING</th>\n",
       "      <td>[1]</td>\n",
       "      <td>0.033065</td>\n",
       "      <td>0.033065</td>\n",
       "      <td>0.033065</td>\n",
       "    </tr>\n",
       "    <tr>\n",
       "      <th>LF_GG_BICLUSTER_IDENTICAL_PROTEIN</th>\n",
       "      <td>[0]</td>\n",
       "      <td>0.019811</td>\n",
       "      <td>0.019811</td>\n",
       "      <td>0.019811</td>\n",
       "    </tr>\n",
       "    <tr>\n",
       "      <th>LF_GG_BICLUSTER_CELL_PRODUCTION</th>\n",
       "      <td>[0]</td>\n",
       "      <td>0.028524</td>\n",
       "      <td>0.028524</td>\n",
       "      <td>0.028524</td>\n",
       "    </tr>\n",
       "  </tbody>\n",
       "</table>\n",
       "<p>102 rows × 4 columns</p>\n",
       "</div>"
      ],
      "text/plain": [
       "                                     Polarity  Coverage  Overlaps  Conflicts\n",
       "LF_HETNET_PHARMACOTHERAPYDB               [1]  0.263468  0.263468   0.263468\n",
       "LF_HETNET_CD_ABSENT                       [0]  0.736532  0.736532   0.736532\n",
       "LF_CD_CHECK_DISEASE_TAG                   [0]  0.736955  0.736955   0.736955\n",
       "LF_DG_IS_BIOMARKER                        [1]  0.070260  0.070260   0.070260\n",
       "LF_DaG_ASSOCIATION                        [1]  0.091335  0.091335   0.091335\n",
       "...                                       ...       ...       ...        ...\n",
       "LF_GG_BICLUSTER_AFFECTS_EXPRESSION        [1]  0.014528  0.014528   0.014528\n",
       "LF_GG_BICLUSTER_INCREASES_EXPRESSION      [0]  0.033060  0.033060   0.033060\n",
       "LF_GG_BICLUSTER_SIGNALING                 [1]  0.033065  0.033065   0.033065\n",
       "LF_GG_BICLUSTER_IDENTICAL_PROTEIN         [0]  0.019811  0.019811   0.019811\n",
       "LF_GG_BICLUSTER_CELL_PRODUCTION           [0]  0.028524  0.028524   0.028524\n",
       "\n",
       "[102 rows x 4 columns]"
      ]
     },
     "execution_count": 15,
     "metadata": {},
     "output_type": "execute_result"
    }
   ],
   "source": [
    "analysis_module = LFAnalysis(\n",
    "    filtered_L_abstracts >> ply.select(\"candidate_id\", drop=True)\n",
    ")\n",
    "\n",
    "abstract_lf_summary = analysis_module.lf_summary()\n",
    "abstract_lf_summary.index = (\n",
    "    filtered_L_abstracts >> ply.select(\"candidate_id\", drop=True)\n",
    ").columns.tolist()\n",
    "\n",
    "abstract_lf_summary"
   ]
  },
  {
   "cell_type": "markdown",
   "metadata": {},
   "source": [
    "# Set up fields for resampling"
   ]
  },
  {
   "cell_type": "code",
   "execution_count": 16,
   "metadata": {
    "ExecuteTime": {
     "end_time": "2021-12-22T23:58:38.790810Z",
     "start_time": "2021-12-22T23:58:38.788651Z"
    }
   },
   "outputs": [],
   "source": [
    "lf_columns_base = list(L_abstracts.columns[0:3])\n",
    "data_columns = []"
   ]
  },
  {
   "cell_type": "markdown",
   "metadata": {},
   "source": [
    "# Abstracts"
   ]
  },
  {
   "cell_type": "markdown",
   "metadata": {},
   "source": [
    "## baseline"
   ]
  },
  {
   "cell_type": "code",
   "execution_count": 17,
   "metadata": {
    "ExecuteTime": {
     "end_time": "2021-12-22T23:58:38.830613Z",
     "start_time": "2021-12-22T23:58:38.791900Z"
    }
   },
   "outputs": [],
   "source": [
    "ctd_start = 0\n",
    "ctd_end = 3\n",
    "number_of_samples = 1\n",
    "\n",
    "ctd_lf_range = range(ctd_start, ctd_end)\n",
    "size_of_samples = [len(ctd_lf_range)]"
   ]
  },
  {
   "cell_type": "code",
   "execution_count": 18,
   "metadata": {
    "ExecuteTime": {
     "end_time": "2021-12-22T23:58:38.859991Z",
     "start_time": "2021-12-22T23:58:38.831859Z"
    }
   },
   "outputs": [],
   "source": [
    "sampled_lfs_dict = {\n",
    "    sample_size: (\n",
    "        sample_lfs(\n",
    "            list(ctd_lf_range),\n",
    "            len(list(ctd_lf_range)),\n",
    "            sample_size,\n",
    "            number_of_samples,\n",
    "            random_state=100,\n",
    "        )\n",
    "    )\n",
    "    for sample_size in size_of_samples\n",
    "}"
   ]
  },
  {
   "cell_type": "code",
   "execution_count": 19,
   "metadata": {
    "ExecuteTime": {
     "end_time": "2021-12-22T23:58:44.111166Z",
     "start_time": "2021-12-22T23:58:38.862779Z"
    }
   },
   "outputs": [
    {
     "name": "stderr",
     "output_type": "stream",
     "text": [
      "100%|██████████| 1/1 [00:05<00:00,  5.04s/it]\n"
     ]
    }
   ],
   "source": [
    "data_columns += run_generative_label_function_sampler(\n",
    "    filtered_L_abstracts,\n",
    "    L_dev,\n",
    "    L_test,\n",
    "    sampled_lfs_dict,\n",
    "    lf_columns_base=lf_columns_base,\n",
    "    grid_param=grid,\n",
    "    marginals_df_file=str(\n",
    "        notebook_output_dir / Path(\"ctd_training_marginals_baseline.tsv\")\n",
    "    ),\n",
    "    curated_label=\"curated_ctd\",\n",
    "    entity_label=\"CtD_baseline\",\n",
    "    data_source=\"abstract\",\n",
    ")"
   ]
  },
  {
   "cell_type": "markdown",
   "metadata": {},
   "source": [
    "## DaG"
   ]
  },
  {
   "cell_type": "code",
   "execution_count": 20,
   "metadata": {
    "ExecuteTime": {
     "end_time": "2021-12-22T23:58:44.118764Z",
     "start_time": "2021-12-22T23:58:44.116398Z"
    }
   },
   "outputs": [],
   "source": [
    "dag_start = 3\n",
    "dag_end = 32\n",
    "\n",
    "# Spaced out number of sampels including total\n",
    "size_of_samples = [1, 6, 11, 16, dag_end - dag_start]\n",
    "number_of_samples = 50\n",
    "dag_lf_range = range(dag_start, dag_end)"
   ]
  },
  {
   "cell_type": "code",
   "execution_count": 21,
   "metadata": {
    "ExecuteTime": {
     "end_time": "2021-12-22T23:58:44.214166Z",
     "start_time": "2021-12-22T23:58:44.120002Z"
    }
   },
   "outputs": [],
   "source": [
    "sampled_lfs_dict = {\n",
    "    sample_size: (\n",
    "        sample_lfs(\n",
    "            list(dag_lf_range),\n",
    "            len(list(dag_lf_range)),\n",
    "            sample_size,\n",
    "            number_of_samples,\n",
    "            random_state=100,\n",
    "        )\n",
    "    )\n",
    "    for sample_size in size_of_samples\n",
    "}"
   ]
  },
  {
   "cell_type": "code",
   "execution_count": 22,
   "metadata": {
    "ExecuteTime": {
     "end_time": "2021-12-23T00:14:44.131526Z",
     "start_time": "2021-12-22T23:58:44.219063Z"
    },
    "scrolled": true
   },
   "outputs": [
    {
     "name": "stderr",
     "output_type": "stream",
     "text": [
      "100%|██████████| 50/50 [01:45<00:00,  2.10s/it]\n",
      "100%|██████████| 50/50 [02:13<00:00,  2.68s/it]\n",
      "100%|██████████| 50/50 [02:48<00:00,  3.36s/it]\n",
      "100%|██████████| 50/50 [03:42<00:00,  4.44s/it]\n",
      "100%|██████████| 50/50 [05:30<00:00,  6.61s/it]\n"
     ]
    }
   ],
   "source": [
    "data_columns += run_generative_label_function_sampler(\n",
    "    filtered_L_abstracts,\n",
    "    L_dev,\n",
    "    L_test,\n",
    "    sampled_lfs_dict,\n",
    "    lf_columns_base=lf_columns_base,\n",
    "    grid_param=grid,\n",
    "    marginals_df_file=\"\",\n",
    "    curated_label=\"curated_ctd\",\n",
    "    entity_label=\"DaG\",\n",
    "    data_source=\"abstract\",\n",
    ")"
   ]
  },
  {
   "cell_type": "markdown",
   "metadata": {
    "ExecuteTime": {
     "end_time": "2021-05-23T01:13:03.897741Z",
     "start_time": "2021-05-23T01:13:03.887610Z"
    }
   },
   "source": [
    "## CtD"
   ]
  },
  {
   "cell_type": "code",
   "execution_count": 23,
   "metadata": {
    "ExecuteTime": {
     "end_time": "2021-12-23T00:14:44.136761Z",
     "start_time": "2021-12-23T00:14:44.134304Z"
    }
   },
   "outputs": [],
   "source": [
    "ctd_start = 32\n",
    "ctd_end = 54\n",
    "\n",
    "# Spaced out number of sampels including total\n",
    "size_of_samples = [1, 6, 11, 16, ctd_end - ctd_start]\n",
    "number_of_samples = 50\n",
    "ctd_lf_range = range(ctd_start, ctd_end)"
   ]
  },
  {
   "cell_type": "code",
   "execution_count": 24,
   "metadata": {
    "ExecuteTime": {
     "end_time": "2021-12-23T00:14:44.180026Z",
     "start_time": "2021-12-23T00:14:44.138377Z"
    }
   },
   "outputs": [],
   "source": [
    "sampled_lfs_dict = {\n",
    "    sample_size: (\n",
    "        sample_lfs(\n",
    "            list(ctd_lf_range),\n",
    "            len(list(ctd_lf_range)),\n",
    "            sample_size,\n",
    "            number_of_samples,\n",
    "            random_state=100,\n",
    "        )\n",
    "    )\n",
    "    for sample_size in size_of_samples\n",
    "}"
   ]
  },
  {
   "cell_type": "code",
   "execution_count": 25,
   "metadata": {
    "ExecuteTime": {
     "end_time": "2021-12-23T00:41:56.159212Z",
     "start_time": "2021-12-23T00:14:44.181325Z"
    },
    "scrolled": true
   },
   "outputs": [
    {
     "name": "stderr",
     "output_type": "stream",
     "text": [
      "100%|██████████| 50/50 [04:07<00:00,  4.95s/it]\n",
      "100%|██████████| 50/50 [04:37<00:00,  5.56s/it]\n",
      "100%|██████████| 50/50 [05:16<00:00,  6.32s/it]\n",
      "100%|██████████| 50/50 [06:10<00:00,  7.40s/it]\n",
      "100%|██████████| 50/50 [06:59<00:00,  8.40s/it]\n"
     ]
    }
   ],
   "source": [
    "data_columns += run_generative_label_function_sampler(\n",
    "    filtered_L_abstracts,\n",
    "    L_dev,\n",
    "    L_test,\n",
    "    sampled_lfs_dict,\n",
    "    lf_columns_base=lf_columns_base,\n",
    "    grid_param=grid,\n",
    "    marginals_df_file=str(\n",
    "        notebook_output_dir / Path(\"ctd_predicts_ctd_training_marginals.tsv\")\n",
    "    ),\n",
    "    curated_label=\"curated_ctd\",\n",
    "    entity_label=\"CtD\",\n",
    "    data_source=\"abstract\",\n",
    ")"
   ]
  },
  {
   "cell_type": "markdown",
   "metadata": {
    "ExecuteTime": {
     "end_time": "2021-05-23T01:15:48.612320Z",
     "start_time": "2021-05-23T01:15:48.602105Z"
    }
   },
   "source": [
    "## CbG"
   ]
  },
  {
   "cell_type": "code",
   "execution_count": 26,
   "metadata": {
    "ExecuteTime": {
     "end_time": "2021-12-23T00:41:56.171209Z",
     "start_time": "2021-12-23T00:41:56.163548Z"
    }
   },
   "outputs": [],
   "source": [
    "cbg_start = 54\n",
    "cbg_end = 74\n",
    "\n",
    "# Spaced out number of sampels including total\n",
    "size_of_samples = [1, 6, 11, 16, cbg_end - cbg_start]\n",
    "number_of_samples = 50\n",
    "cbg_lf_range = range(cbg_start, cbg_end)"
   ]
  },
  {
   "cell_type": "code",
   "execution_count": 27,
   "metadata": {
    "ExecuteTime": {
     "end_time": "2021-12-23T00:41:56.338088Z",
     "start_time": "2021-12-23T00:41:56.174415Z"
    }
   },
   "outputs": [],
   "source": [
    "sampled_lfs_dict = {\n",
    "    sample_size: (\n",
    "        sample_lfs(\n",
    "            list(cbg_lf_range),\n",
    "            len(list(cbg_lf_range)),\n",
    "            sample_size,\n",
    "            number_of_samples,\n",
    "            random_state=100,\n",
    "        )\n",
    "    )\n",
    "    for sample_size in size_of_samples\n",
    "}"
   ]
  },
  {
   "cell_type": "code",
   "execution_count": 28,
   "metadata": {
    "ExecuteTime": {
     "end_time": "2021-12-23T00:56:35.712013Z",
     "start_time": "2021-12-23T00:41:56.339332Z"
    },
    "scrolled": true
   },
   "outputs": [
    {
     "name": "stderr",
     "output_type": "stream",
     "text": [
      "100%|██████████| 50/50 [01:46<00:00,  2.13s/it]\n",
      "100%|██████████| 50/50 [02:13<00:00,  2.68s/it]\n",
      "100%|██████████| 50/50 [02:48<00:00,  3.37s/it]\n",
      "100%|██████████| 50/50 [03:40<00:00,  4.40s/it]\n",
      "100%|██████████| 50/50 [04:10<00:00,  5.01s/it]\n"
     ]
    }
   ],
   "source": [
    "data_columns += run_generative_label_function_sampler(\n",
    "    filtered_L_abstracts,\n",
    "    L_dev,\n",
    "    L_test,\n",
    "    sampled_lfs_dict,\n",
    "    lf_columns_base=lf_columns_base,\n",
    "    grid_param=grid,\n",
    "    marginals_df_file=\"\",\n",
    "    curated_label=\"curated_ctd\",\n",
    "    entity_label=\"CbG\",\n",
    "    data_source=\"abstract\",\n",
    ")"
   ]
  },
  {
   "cell_type": "markdown",
   "metadata": {
    "ExecuteTime": {
     "end_time": "2021-05-23T01:23:19.004580Z",
     "start_time": "2021-05-23T01:23:18.991250Z"
    },
    "scrolled": false
   },
   "source": [
    "## GiG"
   ]
  },
  {
   "cell_type": "code",
   "execution_count": 29,
   "metadata": {
    "ExecuteTime": {
     "end_time": "2021-12-23T00:56:35.715449Z",
     "start_time": "2021-12-23T00:56:35.713185Z"
    }
   },
   "outputs": [],
   "source": [
    "gig_start = 74\n",
    "gig_end = 102\n",
    "\n",
    "# Spaced out number of sampels including total\n",
    "size_of_samples = [1, 6, 11, 16, gig_end - gig_start]\n",
    "number_of_samples = 50\n",
    "gig_lf_range = range(gig_start, gig_end)"
   ]
  },
  {
   "cell_type": "code",
   "execution_count": 30,
   "metadata": {
    "ExecuteTime": {
     "end_time": "2021-12-23T00:56:35.768066Z",
     "start_time": "2021-12-23T00:56:35.716686Z"
    }
   },
   "outputs": [],
   "source": [
    "sampled_lfs_dict = {\n",
    "    sample_size: (\n",
    "        sample_lfs(\n",
    "            list(gig_lf_range),\n",
    "            len(list(gig_lf_range)),\n",
    "            sample_size,\n",
    "            number_of_samples,\n",
    "            random_state=100,\n",
    "        )\n",
    "    )\n",
    "    for sample_size in size_of_samples\n",
    "}"
   ]
  },
  {
   "cell_type": "code",
   "execution_count": 31,
   "metadata": {
    "ExecuteTime": {
     "end_time": "2021-12-23T01:12:34.222730Z",
     "start_time": "2021-12-23T00:56:35.772723Z"
    },
    "scrolled": true
   },
   "outputs": [
    {
     "name": "stderr",
     "output_type": "stream",
     "text": [
      "100%|██████████| 50/50 [01:46<00:00,  2.12s/it]\n",
      "100%|██████████| 50/50 [02:14<00:00,  2.69s/it]\n",
      "100%|██████████| 50/50 [02:49<00:00,  3.38s/it]\n",
      "100%|██████████| 50/50 [03:42<00:00,  4.44s/it]\n",
      "100%|██████████| 50/50 [05:26<00:00,  6.53s/it]\n"
     ]
    }
   ],
   "source": [
    "data_columns += run_generative_label_function_sampler(\n",
    "    filtered_L_abstracts,\n",
    "    L_dev,\n",
    "    L_test,\n",
    "    sampled_lfs_dict,\n",
    "    lf_columns_base=lf_columns_base,\n",
    "    grid_param=grid,\n",
    "    marginals_df_file=\"\",\n",
    "    curated_label=\"curated_ctd\",\n",
    "    entity_label=\"GiG\",\n",
    "    data_source=\"abstract\",\n",
    ")"
   ]
  },
  {
   "cell_type": "markdown",
   "metadata": {},
   "source": [
    "# Full Text"
   ]
  },
  {
   "cell_type": "markdown",
   "metadata": {},
   "source": [
    "## DaG"
   ]
  },
  {
   "cell_type": "code",
   "execution_count": 32,
   "metadata": {
    "ExecuteTime": {
     "end_time": "2021-12-23T01:12:34.228085Z",
     "start_time": "2021-12-23T01:12:34.224062Z"
    }
   },
   "outputs": [],
   "source": [
    "dag_start = 2\n",
    "dag_end = 32\n",
    "\n",
    "# Spaced out number of sampels including total\n",
    "size_of_samples = [1, 6, 11, 16, dag_end - dag_start]\n",
    "number_of_samples = 50\n",
    "dag_lf_range = range(dag_start, dag_end)"
   ]
  },
  {
   "cell_type": "code",
   "execution_count": 33,
   "metadata": {
    "ExecuteTime": {
     "end_time": "2021-12-23T01:12:34.269177Z",
     "start_time": "2021-12-23T01:12:34.230567Z"
    }
   },
   "outputs": [],
   "source": [
    "sampled_lfs_dict = {\n",
    "    sample_size: (\n",
    "        sample_lfs(\n",
    "            list(dag_lf_range),\n",
    "            len(list(dag_lf_range)),\n",
    "            sample_size,\n",
    "            number_of_samples,\n",
    "            random_state=100,\n",
    "        )\n",
    "    )\n",
    "    for sample_size in size_of_samples\n",
    "}"
   ]
  },
  {
   "cell_type": "code",
   "execution_count": 34,
   "metadata": {
    "ExecuteTime": {
     "end_time": "2021-12-23T01:32:01.828183Z",
     "start_time": "2021-12-23T01:12:34.270311Z"
    },
    "scrolled": true
   },
   "outputs": [
    {
     "name": "stderr",
     "output_type": "stream",
     "text": [
      "100%|██████████| 50/50 [02:02<00:00,  2.44s/it]\n",
      "100%|██████████| 50/50 [02:36<00:00,  3.14s/it]\n",
      "100%|██████████| 50/50 [03:37<00:00,  4.36s/it]\n",
      "100%|██████████| 50/50 [04:24<00:00,  5.28s/it]\n",
      "100%|██████████| 50/50 [06:46<00:00,  8.13s/it]\n"
     ]
    }
   ],
   "source": [
    "data_columns += run_generative_label_function_sampler(\n",
    "    filtered_L_full_text,\n",
    "    L_dev,\n",
    "    L_test,\n",
    "    sampled_lfs_dict,\n",
    "    lf_columns_base=lf_columns_base,\n",
    "    grid_param=grid,\n",
    "    marginals_df_file=\"\",\n",
    "    curated_label=\"curated_ctd\",\n",
    "    entity_label=\"DaG\",\n",
    "    data_source=\"full_text\",\n",
    ")"
   ]
  },
  {
   "cell_type": "markdown",
   "metadata": {
    "ExecuteTime": {
     "end_time": "2021-05-23T01:13:03.897741Z",
     "start_time": "2021-05-23T01:13:03.887610Z"
    }
   },
   "source": [
    "## CtD"
   ]
  },
  {
   "cell_type": "code",
   "execution_count": 35,
   "metadata": {
    "ExecuteTime": {
     "end_time": "2021-12-23T01:32:01.831622Z",
     "start_time": "2021-12-23T01:32:01.829211Z"
    }
   },
   "outputs": [],
   "source": [
    "ctd_start = 32\n",
    "ctd_end = 54\n",
    "\n",
    "# Spaced out number of sampels including total\n",
    "size_of_samples = [1, 6, 11, 16, ctd_end - ctd_start]\n",
    "number_of_samples = 50\n",
    "ctd_lf_range = range(ctd_start, ctd_end)"
   ]
  },
  {
   "cell_type": "code",
   "execution_count": 36,
   "metadata": {
    "ExecuteTime": {
     "end_time": "2021-12-23T01:32:01.881478Z",
     "start_time": "2021-12-23T01:32:01.832795Z"
    }
   },
   "outputs": [],
   "source": [
    "sampled_lfs_dict = {\n",
    "    sample_size: (\n",
    "        sample_lfs(\n",
    "            list(ctd_lf_range),\n",
    "            len(list(ctd_lf_range)),\n",
    "            sample_size,\n",
    "            number_of_samples,\n",
    "            random_state=100,\n",
    "        )\n",
    "    )\n",
    "    for sample_size in size_of_samples\n",
    "}"
   ]
  },
  {
   "cell_type": "code",
   "execution_count": 37,
   "metadata": {
    "ExecuteTime": {
     "end_time": "2021-12-23T01:50:42.102559Z",
     "start_time": "2021-12-23T01:32:01.886334Z"
    },
    "scrolled": true
   },
   "outputs": [
    {
     "name": "stderr",
     "output_type": "stream",
     "text": [
      "100%|██████████| 50/50 [02:02<00:00,  2.45s/it]\n",
      "100%|██████████| 50/50 [02:40<00:00,  3.21s/it]\n",
      "100%|██████████| 50/50 [03:44<00:00,  4.49s/it]\n",
      "100%|██████████| 50/50 [04:34<00:00,  5.49s/it]\n",
      "100%|██████████| 50/50 [05:37<00:00,  6.75s/it]\n"
     ]
    }
   ],
   "source": [
    "data_columns += run_generative_label_function_sampler(\n",
    "    filtered_L_full_text,\n",
    "    L_dev,\n",
    "    L_test,\n",
    "    sampled_lfs_dict,\n",
    "    lf_columns_base=lf_columns_base,\n",
    "    grid_param=grid,\n",
    "    marginals_df_file=\"\",\n",
    "    curated_label=\"curated_ctd\",\n",
    "    entity_label=\"CtD\",\n",
    "    data_source=\"full_text\",\n",
    ")"
   ]
  },
  {
   "cell_type": "markdown",
   "metadata": {
    "ExecuteTime": {
     "end_time": "2021-05-23T01:15:48.612320Z",
     "start_time": "2021-05-23T01:15:48.602105Z"
    }
   },
   "source": [
    "## CbG"
   ]
  },
  {
   "cell_type": "code",
   "execution_count": 38,
   "metadata": {
    "ExecuteTime": {
     "end_time": "2021-12-23T01:50:42.106188Z",
     "start_time": "2021-12-23T01:50:42.103679Z"
    }
   },
   "outputs": [],
   "source": [
    "cbg_start = 54\n",
    "cbg_end = 74\n",
    "\n",
    "# Spaced out number of sampels including total\n",
    "size_of_samples = [1, 6, 11, 16, cbg_end - cbg_start]\n",
    "number_of_samples = 50\n",
    "cbg_lf_range = range(cbg_start, cbg_end)"
   ]
  },
  {
   "cell_type": "code",
   "execution_count": 39,
   "metadata": {
    "ExecuteTime": {
     "end_time": "2021-12-23T01:50:42.161030Z",
     "start_time": "2021-12-23T01:50:42.107318Z"
    }
   },
   "outputs": [],
   "source": [
    "sampled_lfs_dict = {\n",
    "    sample_size: (\n",
    "        sample_lfs(\n",
    "            list(cbg_lf_range),\n",
    "            len(list(cbg_lf_range)),\n",
    "            sample_size,\n",
    "            number_of_samples,\n",
    "            random_state=100,\n",
    "        )\n",
    "    )\n",
    "    for sample_size in size_of_samples\n",
    "}"
   ]
  },
  {
   "cell_type": "code",
   "execution_count": 40,
   "metadata": {
    "ExecuteTime": {
     "end_time": "2021-12-23T02:08:39.653976Z",
     "start_time": "2021-12-23T01:50:42.162735Z"
    },
    "scrolled": true
   },
   "outputs": [
    {
     "name": "stderr",
     "output_type": "stream",
     "text": [
      "100%|██████████| 50/50 [02:01<00:00,  2.43s/it]\n",
      "100%|██████████| 50/50 [02:37<00:00,  3.15s/it]\n",
      "100%|██████████| 50/50 [03:39<00:00,  4.40s/it]\n",
      "100%|██████████| 50/50 [04:28<00:00,  5.37s/it]\n",
      "100%|██████████| 50/50 [05:10<00:00,  6.21s/it]\n"
     ]
    }
   ],
   "source": [
    "data_columns += run_generative_label_function_sampler(\n",
    "    filtered_L_full_text,\n",
    "    L_dev,\n",
    "    L_test,\n",
    "    sampled_lfs_dict,\n",
    "    lf_columns_base=lf_columns_base,\n",
    "    grid_param=grid,\n",
    "    marginals_df_file=\"\",\n",
    "    curated_label=\"curated_ctd\",\n",
    "    entity_label=\"CbG\",\n",
    "    data_source=\"full_text\",\n",
    ")"
   ]
  },
  {
   "cell_type": "markdown",
   "metadata": {
    "ExecuteTime": {
     "end_time": "2021-05-23T01:23:19.004580Z",
     "start_time": "2021-05-23T01:23:18.991250Z"
    },
    "scrolled": false
   },
   "source": [
    "## GiG"
   ]
  },
  {
   "cell_type": "code",
   "execution_count": 41,
   "metadata": {
    "ExecuteTime": {
     "end_time": "2021-12-23T02:08:39.657490Z",
     "start_time": "2021-12-23T02:08:39.655036Z"
    }
   },
   "outputs": [],
   "source": [
    "gig_start = 74\n",
    "gig_end = 102\n",
    "\n",
    "# Spaced out number of sampels including total\n",
    "size_of_samples = [1, 6, 11, 16, gig_end - gig_start]\n",
    "number_of_samples = 50\n",
    "gig_lf_range = range(gig_start, gig_end)"
   ]
  },
  {
   "cell_type": "code",
   "execution_count": 42,
   "metadata": {
    "ExecuteTime": {
     "end_time": "2021-12-23T02:08:39.709440Z",
     "start_time": "2021-12-23T02:08:39.658579Z"
    }
   },
   "outputs": [],
   "source": [
    "sampled_lfs_dict = {\n",
    "    sample_size: (\n",
    "        sample_lfs(\n",
    "            list(gig_lf_range),\n",
    "            len(list(gig_lf_range)),\n",
    "            sample_size,\n",
    "            number_of_samples,\n",
    "            random_state=100,\n",
    "        )\n",
    "    )\n",
    "    for sample_size in size_of_samples\n",
    "}"
   ]
  },
  {
   "cell_type": "code",
   "execution_count": 43,
   "metadata": {
    "ExecuteTime": {
     "end_time": "2021-12-23T02:28:09.929837Z",
     "start_time": "2021-12-23T02:08:39.714211Z"
    },
    "scrolled": true
   },
   "outputs": [
    {
     "name": "stderr",
     "output_type": "stream",
     "text": [
      "100%|██████████| 50/50 [02:01<00:00,  2.43s/it]\n",
      "100%|██████████| 50/50 [02:37<00:00,  3.16s/it]\n",
      "100%|██████████| 50/50 [03:40<00:00,  4.41s/it]\n",
      "100%|██████████| 50/50 [04:29<00:00,  5.39s/it]\n",
      "100%|██████████| 50/50 [06:40<00:00,  8.02s/it]\n"
     ]
    }
   ],
   "source": [
    "data_columns += run_generative_label_function_sampler(\n",
    "    filtered_L_full_text,\n",
    "    L_dev,\n",
    "    L_test,\n",
    "    sampled_lfs_dict,\n",
    "    lf_columns_base=lf_columns_base,\n",
    "    grid_param=grid,\n",
    "    marginals_df_file=\"\",\n",
    "    curated_label=\"curated_ctd\",\n",
    "    entity_label=\"GiG\",\n",
    "    data_source=\"full_text\",\n",
    ")"
   ]
  },
  {
   "cell_type": "markdown",
   "metadata": {},
   "source": [
    "# Write Performance to File"
   ]
  },
  {
   "cell_type": "code",
   "execution_count": 44,
   "metadata": {
    "ExecuteTime": {
     "end_time": "2021-12-23T02:28:09.953943Z",
     "start_time": "2021-12-23T02:28:09.930966Z"
    }
   },
   "outputs": [
    {
     "data": {
      "text/html": [
       "<div>\n",
       "<style scoped>\n",
       "    .dataframe tbody tr th:only-of-type {\n",
       "        vertical-align: middle;\n",
       "    }\n",
       "\n",
       "    .dataframe tbody tr th {\n",
       "        vertical-align: top;\n",
       "    }\n",
       "\n",
       "    .dataframe thead th {\n",
       "        text-align: right;\n",
       "    }\n",
       "</style>\n",
       "<table border=\"1\" class=\"dataframe\">\n",
       "  <thead>\n",
       "    <tr style=\"text-align: right;\">\n",
       "      <th></th>\n",
       "      <th>lf_num</th>\n",
       "      <th>auroc</th>\n",
       "      <th>aupr</th>\n",
       "      <th>bce_loss</th>\n",
       "      <th>sampled_lf_name</th>\n",
       "      <th>label_source</th>\n",
       "      <th>data_source</th>\n",
       "      <th>model</th>\n",
       "      <th>epochs</th>\n",
       "      <th>l2_param</th>\n",
       "      <th>lr_param</th>\n",
       "    </tr>\n",
       "  </thead>\n",
       "  <tbody>\n",
       "    <tr>\n",
       "      <th>0</th>\n",
       "      <td>3</td>\n",
       "      <td>0.674569</td>\n",
       "      <td>0.475489</td>\n",
       "      <td>0.544531</td>\n",
       "      <td>LF_HETNET_PHARMACOTHERAPYDB,LF_HETNET_CD_ABSEN...</td>\n",
       "      <td>CtD_baseline</td>\n",
       "      <td>abstract</td>\n",
       "      <td>tune</td>\n",
       "      <td>250</td>\n",
       "      <td>0.01</td>\n",
       "      <td>0.001</td>\n",
       "    </tr>\n",
       "    <tr>\n",
       "      <th>1</th>\n",
       "      <td>3</td>\n",
       "      <td>0.538901</td>\n",
       "      <td>0.299052</td>\n",
       "      <td>0.563438</td>\n",
       "      <td>LF_HETNET_PHARMACOTHERAPYDB,LF_HETNET_CD_ABSEN...</td>\n",
       "      <td>CtD_baseline</td>\n",
       "      <td>abstract</td>\n",
       "      <td>test</td>\n",
       "      <td>250</td>\n",
       "      <td>0.01</td>\n",
       "      <td>0.001</td>\n",
       "    </tr>\n",
       "    <tr>\n",
       "      <th>2</th>\n",
       "      <td>1</td>\n",
       "      <td>0.677612</td>\n",
       "      <td>0.476133</td>\n",
       "      <td>0.543084</td>\n",
       "      <td>LF_HETNET_PHARMACOTHERAPYDB,LF_HETNET_CD_ABSEN...</td>\n",
       "      <td>DaG</td>\n",
       "      <td>abstract</td>\n",
       "      <td>tune</td>\n",
       "      <td>250</td>\n",
       "      <td>0.01</td>\n",
       "      <td>0.001</td>\n",
       "    </tr>\n",
       "    <tr>\n",
       "      <th>3</th>\n",
       "      <td>1</td>\n",
       "      <td>0.538211</td>\n",
       "      <td>0.298225</td>\n",
       "      <td>0.564514</td>\n",
       "      <td>LF_HETNET_PHARMACOTHERAPYDB,LF_HETNET_CD_ABSEN...</td>\n",
       "      <td>DaG</td>\n",
       "      <td>abstract</td>\n",
       "      <td>test</td>\n",
       "      <td>250</td>\n",
       "      <td>0.01</td>\n",
       "      <td>0.001</td>\n",
       "    </tr>\n",
       "    <tr>\n",
       "      <th>4</th>\n",
       "      <td>1</td>\n",
       "      <td>0.675459</td>\n",
       "      <td>0.464090</td>\n",
       "      <td>0.544241</td>\n",
       "      <td>LF_HETNET_PHARMACOTHERAPYDB,LF_HETNET_CD_ABSEN...</td>\n",
       "      <td>DaG</td>\n",
       "      <td>abstract</td>\n",
       "      <td>tune</td>\n",
       "      <td>250</td>\n",
       "      <td>0.01</td>\n",
       "      <td>0.001</td>\n",
       "    </tr>\n",
       "    <tr>\n",
       "      <th>...</th>\n",
       "      <td>...</td>\n",
       "      <td>...</td>\n",
       "      <td>...</td>\n",
       "      <td>...</td>\n",
       "      <td>...</td>\n",
       "      <td>...</td>\n",
       "      <td>...</td>\n",
       "      <td>...</td>\n",
       "      <td>...</td>\n",
       "      <td>...</td>\n",
       "      <td>...</td>\n",
       "    </tr>\n",
       "    <tr>\n",
       "      <th>3997</th>\n",
       "      <td>28</td>\n",
       "      <td>0.586490</td>\n",
       "      <td>0.282289</td>\n",
       "      <td>1.255202</td>\n",
       "      <td>LF_HETNET_PHARMACOTHERAPYDB,LF_HETNET_CD_ABSEN...</td>\n",
       "      <td>GiG</td>\n",
       "      <td>full_text</td>\n",
       "      <td>test</td>\n",
       "      <td>250</td>\n",
       "      <td>0.01</td>\n",
       "      <td>0.001</td>\n",
       "    </tr>\n",
       "    <tr>\n",
       "      <th>3998</th>\n",
       "      <td>28</td>\n",
       "      <td>0.678914</td>\n",
       "      <td>0.382293</td>\n",
       "      <td>0.877900</td>\n",
       "      <td>LF_HETNET_PHARMACOTHERAPYDB,LF_HETNET_CD_ABSEN...</td>\n",
       "      <td>GiG</td>\n",
       "      <td>full_text</td>\n",
       "      <td>tune</td>\n",
       "      <td>250</td>\n",
       "      <td>0.01</td>\n",
       "      <td>0.001</td>\n",
       "    </tr>\n",
       "    <tr>\n",
       "      <th>3999</th>\n",
       "      <td>28</td>\n",
       "      <td>0.586490</td>\n",
       "      <td>0.282289</td>\n",
       "      <td>1.255202</td>\n",
       "      <td>LF_HETNET_PHARMACOTHERAPYDB,LF_HETNET_CD_ABSEN...</td>\n",
       "      <td>GiG</td>\n",
       "      <td>full_text</td>\n",
       "      <td>test</td>\n",
       "      <td>250</td>\n",
       "      <td>0.01</td>\n",
       "      <td>0.001</td>\n",
       "    </tr>\n",
       "    <tr>\n",
       "      <th>4000</th>\n",
       "      <td>28</td>\n",
       "      <td>0.678914</td>\n",
       "      <td>0.382293</td>\n",
       "      <td>0.877900</td>\n",
       "      <td>LF_HETNET_PHARMACOTHERAPYDB,LF_HETNET_CD_ABSEN...</td>\n",
       "      <td>GiG</td>\n",
       "      <td>full_text</td>\n",
       "      <td>tune</td>\n",
       "      <td>250</td>\n",
       "      <td>0.01</td>\n",
       "      <td>0.001</td>\n",
       "    </tr>\n",
       "    <tr>\n",
       "      <th>4001</th>\n",
       "      <td>28</td>\n",
       "      <td>0.586490</td>\n",
       "      <td>0.282289</td>\n",
       "      <td>1.255202</td>\n",
       "      <td>LF_HETNET_PHARMACOTHERAPYDB,LF_HETNET_CD_ABSEN...</td>\n",
       "      <td>GiG</td>\n",
       "      <td>full_text</td>\n",
       "      <td>test</td>\n",
       "      <td>250</td>\n",
       "      <td>0.01</td>\n",
       "      <td>0.001</td>\n",
       "    </tr>\n",
       "  </tbody>\n",
       "</table>\n",
       "<p>4002 rows × 11 columns</p>\n",
       "</div>"
      ],
      "text/plain": [
       "      lf_num     auroc      aupr  bce_loss  \\\n",
       "0          3  0.674569  0.475489  0.544531   \n",
       "1          3  0.538901  0.299052  0.563438   \n",
       "2          1  0.677612  0.476133  0.543084   \n",
       "3          1  0.538211  0.298225  0.564514   \n",
       "4          1  0.675459  0.464090  0.544241   \n",
       "...      ...       ...       ...       ...   \n",
       "3997      28  0.586490  0.282289  1.255202   \n",
       "3998      28  0.678914  0.382293  0.877900   \n",
       "3999      28  0.586490  0.282289  1.255202   \n",
       "4000      28  0.678914  0.382293  0.877900   \n",
       "4001      28  0.586490  0.282289  1.255202   \n",
       "\n",
       "                                        sampled_lf_name  label_source  \\\n",
       "0     LF_HETNET_PHARMACOTHERAPYDB,LF_HETNET_CD_ABSEN...  CtD_baseline   \n",
       "1     LF_HETNET_PHARMACOTHERAPYDB,LF_HETNET_CD_ABSEN...  CtD_baseline   \n",
       "2     LF_HETNET_PHARMACOTHERAPYDB,LF_HETNET_CD_ABSEN...           DaG   \n",
       "3     LF_HETNET_PHARMACOTHERAPYDB,LF_HETNET_CD_ABSEN...           DaG   \n",
       "4     LF_HETNET_PHARMACOTHERAPYDB,LF_HETNET_CD_ABSEN...           DaG   \n",
       "...                                                 ...           ...   \n",
       "3997  LF_HETNET_PHARMACOTHERAPYDB,LF_HETNET_CD_ABSEN...           GiG   \n",
       "3998  LF_HETNET_PHARMACOTHERAPYDB,LF_HETNET_CD_ABSEN...           GiG   \n",
       "3999  LF_HETNET_PHARMACOTHERAPYDB,LF_HETNET_CD_ABSEN...           GiG   \n",
       "4000  LF_HETNET_PHARMACOTHERAPYDB,LF_HETNET_CD_ABSEN...           GiG   \n",
       "4001  LF_HETNET_PHARMACOTHERAPYDB,LF_HETNET_CD_ABSEN...           GiG   \n",
       "\n",
       "     data_source model  epochs  l2_param  lr_param  \n",
       "0       abstract  tune     250      0.01     0.001  \n",
       "1       abstract  test     250      0.01     0.001  \n",
       "2       abstract  tune     250      0.01     0.001  \n",
       "3       abstract  test     250      0.01     0.001  \n",
       "4       abstract  tune     250      0.01     0.001  \n",
       "...          ...   ...     ...       ...       ...  \n",
       "3997   full_text  test     250      0.01     0.001  \n",
       "3998   full_text  tune     250      0.01     0.001  \n",
       "3999   full_text  test     250      0.01     0.001  \n",
       "4000   full_text  tune     250      0.01     0.001  \n",
       "4001   full_text  test     250      0.01     0.001  \n",
       "\n",
       "[4002 rows x 11 columns]"
      ]
     },
     "execution_count": 44,
     "metadata": {},
     "output_type": "execute_result"
    }
   ],
   "source": [
    "performance_df = pd.DataFrame.from_records(data_columns)\n",
    "performance_df"
   ]
  },
  {
   "cell_type": "code",
   "execution_count": 45,
   "metadata": {
    "ExecuteTime": {
     "end_time": "2021-12-23T02:28:10.090364Z",
     "start_time": "2021-12-23T02:28:09.955315Z"
    }
   },
   "outputs": [],
   "source": [
    "(\n",
    "    performance_df\n",
    "    >> ply.call(\n",
    "        \"to_csv\",\n",
    "        str(Path(\"output/performance\") / Path(\"CtD_performance.tsv\")),\n",
    "        index=False,\n",
    "        sep=\"\\t\",\n",
    "    )\n",
    ")"
   ]
  }
 ],
 "metadata": {
  "jupytext": {
   "formats": "ipynb,py:light"
  },
  "kernelspec": {
   "display_name": "Python [conda env:snorkeling_full_text]",
   "language": "python",
   "name": "conda-env-snorkeling_full_text-py"
  },
  "language_info": {
   "codemirror_mode": {
    "name": "ipython",
    "version": 3
   },
   "file_extension": ".py",
   "mimetype": "text/x-python",
   "name": "python",
   "nbconvert_exporter": "python",
   "pygments_lexer": "ipython3",
   "version": "3.7.2"
  },
  "toc": {
   "base_numbering": 1,
   "nav_menu": {},
   "number_sections": true,
   "sideBar": true,
   "skip_h1_title": false,
   "title_cell": "Table of Contents",
   "title_sidebar": "Contents",
   "toc_cell": false,
   "toc_position": {},
   "toc_section_display": true,
   "toc_window_display": false
  }
 },
 "nbformat": 4,
 "nbformat_minor": 2
}
