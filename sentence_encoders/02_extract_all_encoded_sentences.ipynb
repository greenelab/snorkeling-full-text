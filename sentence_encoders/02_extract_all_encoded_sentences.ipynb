{
 "cells": [
  {
   "cell_type": "markdown",
   "metadata": {},
   "source": [
    "# Extract All Sentences for Final Evaluation"
   ]
  },
  {
   "cell_type": "markdown",
   "metadata": {},
   "source": [
    "This notebook is designed to output all sentences for BioBERT so that we can predict the existence of edge types downstream."
   ]
  },
  {
   "cell_type": "code",
   "execution_count": 1,
   "metadata": {
    "ExecuteTime": {
     "end_time": "2021-11-05T16:38:02.195514Z",
     "start_time": "2021-11-05T16:37:56.914884Z"
    }
   },
   "outputs": [],
   "source": [
    "import warnings\n",
    "\n",
    "import pandas as pd\n",
    "import plydata as ply\n",
    "import spacy\n",
    "from sqlalchemy import create_engine\n",
    "\n",
    "from snorkeling_helper.candidates_helper import encode_lemmas\n",
    "\n",
    "warnings.filterwarnings(\"ignore\")"
   ]
  },
  {
   "cell_type": "code",
   "execution_count": 2,
   "metadata": {
    "ExecuteTime": {
     "end_time": "2021-11-05T16:38:02.385557Z",
     "start_time": "2021-11-05T16:38:02.196767Z"
    }
   },
   "outputs": [],
   "source": [
    "username = \"danich1\"\n",
    "password = \"snorkel\"\n",
    "dbname = \"pubmed_central_db\"\n",
    "database_str = (\n",
    "    f\"postgresql+psycopg2://{username}:{password}@/{dbname}?host=/var/run/postgresql\"\n",
    ")\n",
    "conn = create_engine(database_str)"
   ]
  },
  {
   "cell_type": "code",
   "execution_count": 3,
   "metadata": {
    "ExecuteTime": {
     "end_time": "2021-11-05T16:38:04.211131Z",
     "start_time": "2021-11-05T16:38:02.386900Z"
    }
   },
   "outputs": [],
   "source": [
    "nlp = spacy.load(\"en_core_web_sm\")\n",
    "stopwords = nlp.Defaults.stop_words"
   ]
  },
  {
   "cell_type": "markdown",
   "metadata": {},
   "source": [
    "# DaG"
   ]
  },
  {
   "cell_type": "code",
   "execution_count": 4,
   "metadata": {
    "ExecuteTime": {
     "end_time": "2021-11-05T16:44:38.012185Z",
     "start_time": "2021-11-05T16:38:04.215934Z"
    }
   },
   "outputs": [
    {
     "name": "stdout",
     "output_type": "stream",
     "text": [
      "(1539670, 8)\n"
     ]
    },
    {
     "data": {
      "text/html": [
       "<div>\n",
       "<style scoped>\n",
       "    .dataframe tbody tr th:only-of-type {\n",
       "        vertical-align: middle;\n",
       "    }\n",
       "\n",
       "    .dataframe tbody tr th {\n",
       "        vertical-align: top;\n",
       "    }\n",
       "\n",
       "    .dataframe thead th {\n",
       "        text-align: right;\n",
       "    }\n",
       "</style>\n",
       "<table border=\"1\" class=\"dataframe\">\n",
       "  <thead>\n",
       "    <tr style=\"text-align: right;\">\n",
       "      <th></th>\n",
       "      <th>candidate_id</th>\n",
       "      <th>document_id</th>\n",
       "      <th>text</th>\n",
       "      <th>lemma</th>\n",
       "      <th>disease_start</th>\n",
       "      <th>disease_end</th>\n",
       "      <th>gene_start</th>\n",
       "      <th>gene_end</th>\n",
       "    </tr>\n",
       "  </thead>\n",
       "  <tbody>\n",
       "    <tr>\n",
       "      <th>0</th>\n",
       "      <td>121</td>\n",
       "      <td>29029454</td>\n",
       "      <td>In conclusion, the findings demonstrated that ...</td>\n",
       "      <td>[in, conclusion, ,, the, finding, demonstrate,...</td>\n",
       "      <td>12</td>\n",
       "      <td>13</td>\n",
       "      <td>21</td>\n",
       "      <td>24</td>\n",
       "    </tr>\n",
       "    <tr>\n",
       "      <th>1</th>\n",
       "      <td>122</td>\n",
       "      <td>29029454</td>\n",
       "      <td>In conclusion, the findings demonstrated that ...</td>\n",
       "      <td>[in, conclusion, ,, the, finding, demonstrate,...</td>\n",
       "      <td>21</td>\n",
       "      <td>24</td>\n",
       "      <td>42</td>\n",
       "      <td>43</td>\n",
       "    </tr>\n",
       "    <tr>\n",
       "      <th>2</th>\n",
       "      <td>124</td>\n",
       "      <td>29029454</td>\n",
       "      <td>Long noncoding RNA AB073614 promotes the malig...</td>\n",
       "      <td>[long, noncode, rna, ab073614, promote, the, m...</td>\n",
       "      <td>8</td>\n",
       "      <td>9</td>\n",
       "      <td>13</td>\n",
       "      <td>16</td>\n",
       "    </tr>\n",
       "    <tr>\n",
       "      <th>3</th>\n",
       "      <td>148</td>\n",
       "      <td>19448163</td>\n",
       "      <td>As a result, the methylenetetrahydrofolate red...</td>\n",
       "      <td>[as, a, result, ,, the, methylenetetrahydrofol...</td>\n",
       "      <td>5</td>\n",
       "      <td>7</td>\n",
       "      <td>46</td>\n",
       "      <td>49</td>\n",
       "    </tr>\n",
       "    <tr>\n",
       "      <th>4</th>\n",
       "      <td>190</td>\n",
       "      <td>23145009</td>\n",
       "      <td>The waist circumference cut points for diagnos...</td>\n",
       "      <td>[the, waist, circumference, cut, point, for, d...</td>\n",
       "      <td>24</td>\n",
       "      <td>27</td>\n",
       "      <td>19</td>\n",
       "      <td>20</td>\n",
       "    </tr>\n",
       "  </tbody>\n",
       "</table>\n",
       "</div>"
      ],
      "text/plain": [
       "   candidate_id  document_id  \\\n",
       "0           121     29029454   \n",
       "1           122     29029454   \n",
       "2           124     29029454   \n",
       "3           148     19448163   \n",
       "4           190     23145009   \n",
       "\n",
       "                                                text  \\\n",
       "0  In conclusion, the findings demonstrated that ...   \n",
       "1  In conclusion, the findings demonstrated that ...   \n",
       "2  Long noncoding RNA AB073614 promotes the malig...   \n",
       "3  As a result, the methylenetetrahydrofolate red...   \n",
       "4  The waist circumference cut points for diagnos...   \n",
       "\n",
       "                                               lemma  disease_start  \\\n",
       "0  [in, conclusion, ,, the, finding, demonstrate,...             12   \n",
       "1  [in, conclusion, ,, the, finding, demonstrate,...             21   \n",
       "2  [long, noncode, rna, ab073614, promote, the, m...              8   \n",
       "3  [as, a, result, ,, the, methylenetetrahydrofol...              5   \n",
       "4  [the, waist, circumference, cut, point, for, d...             24   \n",
       "\n",
       "   disease_end  gene_start  gene_end  \n",
       "0           13          21        24  \n",
       "1           24          42        43  \n",
       "2            9          13        16  \n",
       "3            7          46        49  \n",
       "4           27          19        20  "
      ]
     },
     "execution_count": 4,
     "metadata": {},
     "output_type": "execute_result"
    }
   ],
   "source": [
    "sql = \"\"\"\n",
    "select candidate_id, document_id, text, lemma, disease_start, disease_end, gene_start, gene_end\n",
    "from disease_gene inner join (\n",
    "    select sentence_id, document_id\n",
    "    from sentence\n",
    ") as sentence_map\n",
    "on disease_gene.sentence_id = sentence_map.sentence_id\n",
    "where section = 'title' or section ='abstract'\n",
    "\"\"\"\n",
    "\n",
    "candidate = pd.read_sql(sql, database_str) >> ply.define(\n",
    "    lemma=lambda x: x.lemma.apply(lambda y: y.replace(\"'\", \"\").split(\"|\"))\n",
    ")\n",
    "print(candidate.shape)\n",
    "candidate.head()"
   ]
  },
  {
   "cell_type": "code",
   "execution_count": 6,
   "metadata": {
    "ExecuteTime": {
     "end_time": "2021-11-05T16:50:01.645487Z",
     "start_time": "2021-11-05T16:50:01.643300Z"
    }
   },
   "outputs": [],
   "source": [
    "fieldnames = [\"disease_start\", \"disease_end\", \"gene_start\", \"gene_end\"]"
   ]
  },
  {
   "cell_type": "code",
   "execution_count": 7,
   "metadata": {
    "ExecuteTime": {
     "end_time": "2021-11-05T16:54:20.246259Z",
     "start_time": "2021-11-05T16:50:02.486885Z"
    }
   },
   "outputs": [
    {
     "name": "stderr",
     "output_type": "stream",
     "text": [
      "1539670it [04:15, 6027.31it/s]\n"
     ]
    },
    {
     "name": "stdout",
     "output_type": "stream",
     "text": [
      "(1539670, 2)\n"
     ]
    },
    {
     "data": {
      "text/html": [
       "<div>\n",
       "<style scoped>\n",
       "    .dataframe tbody tr th:only-of-type {\n",
       "        vertical-align: middle;\n",
       "    }\n",
       "\n",
       "    .dataframe tbody tr th {\n",
       "        vertical-align: top;\n",
       "    }\n",
       "\n",
       "    .dataframe thead th {\n",
       "        text-align: right;\n",
       "    }\n",
       "</style>\n",
       "<table border=\"1\" class=\"dataframe\">\n",
       "  <thead>\n",
       "    <tr style=\"text-align: right;\">\n",
       "      <th></th>\n",
       "      <th>parsed_lemmas</th>\n",
       "      <th>candidate_id</th>\n",
       "    </tr>\n",
       "  </thead>\n",
       "  <tbody>\n",
       "    <tr>\n",
       "      <th>0</th>\n",
       "      <td>conclusion|,|finding|demonstrate|ab073614|prom...</td>\n",
       "      <td>121</td>\n",
       "    </tr>\n",
       "    <tr>\n",
       "      <th>1</th>\n",
       "      <td>conclusion|,|finding|demonstrate|ab073614|prom...</td>\n",
       "      <td>122</td>\n",
       "    </tr>\n",
       "    <tr>\n",
       "      <th>2</th>\n",
       "      <td>long|noncode|rna|ab073614|promote|malignance|D...</td>\n",
       "      <td>124</td>\n",
       "    </tr>\n",
       "    <tr>\n",
       "      <th>3</th>\n",
       "      <td>result|,|DISEASE_ENTITY|677tt|genotype|prevale...</td>\n",
       "      <td>148</td>\n",
       "    </tr>\n",
       "    <tr>\n",
       "      <th>4</th>\n",
       "      <td>waist|circumference|cut|point|diagnose|metabol...</td>\n",
       "      <td>190</td>\n",
       "    </tr>\n",
       "  </tbody>\n",
       "</table>\n",
       "</div>"
      ],
      "text/plain": [
       "                                       parsed_lemmas  candidate_id\n",
       "0  conclusion|,|finding|demonstrate|ab073614|prom...           121\n",
       "1  conclusion|,|finding|demonstrate|ab073614|prom...           122\n",
       "2  long|noncode|rna|ab073614|promote|malignance|D...           124\n",
       "3  result|,|DISEASE_ENTITY|677tt|genotype|prevale...           148\n",
       "4  waist|circumference|cut|point|diagnose|metabol...           190"
      ]
     },
     "execution_count": 7,
     "metadata": {},
     "output_type": "execute_result"
    }
   ],
   "source": [
    "encoded_abstracts = pd.DataFrame.from_records(\n",
    "    encode_lemmas(\n",
    "        candidate,\n",
    "        stopwords,\n",
    "        dict(),\n",
    "        entity_fieldnames=fieldnames,\n",
    "        entity_one=\"DISEASE_ENTITY\",\n",
    "        entity_two=\"GENE_ENTITY\",\n",
    "    )\n",
    ")\n",
    "\n",
    "print(encoded_abstracts.shape)\n",
    "encoded_abstracts.head()"
   ]
  },
  {
   "cell_type": "code",
   "execution_count": 9,
   "metadata": {
    "ExecuteTime": {
     "end_time": "2021-11-05T16:54:48.039220Z",
     "start_time": "2021-11-05T16:54:38.166793Z"
    }
   },
   "outputs": [],
   "source": [
    "(\n",
    "    encoded_abstracts\n",
    "    >> ply.call(\n",
    "        \"to_csv\", \"output/all_dg_abstract_encoded_lemmas.tsv\", sep=\"\\t\", index=False\n",
    "    )\n",
    ")"
   ]
  },
  {
   "cell_type": "markdown",
   "metadata": {},
   "source": [
    "# CtD"
   ]
  },
  {
   "cell_type": "code",
   "execution_count": 10,
   "metadata": {
    "ExecuteTime": {
     "end_time": "2021-11-05T17:00:15.652404Z",
     "start_time": "2021-11-05T16:56:32.912254Z"
    }
   },
   "outputs": [
    {
     "name": "stdout",
     "output_type": "stream",
     "text": [
      "(971820, 8)\n"
     ]
    },
    {
     "data": {
      "text/html": [
       "<div>\n",
       "<style scoped>\n",
       "    .dataframe tbody tr th:only-of-type {\n",
       "        vertical-align: middle;\n",
       "    }\n",
       "\n",
       "    .dataframe tbody tr th {\n",
       "        vertical-align: top;\n",
       "    }\n",
       "\n",
       "    .dataframe thead th {\n",
       "        text-align: right;\n",
       "    }\n",
       "</style>\n",
       "<table border=\"1\" class=\"dataframe\">\n",
       "  <thead>\n",
       "    <tr style=\"text-align: right;\">\n",
       "      <th></th>\n",
       "      <th>candidate_id</th>\n",
       "      <th>document_id</th>\n",
       "      <th>text</th>\n",
       "      <th>lemma</th>\n",
       "      <th>compound_start</th>\n",
       "      <th>compound_end</th>\n",
       "      <th>disease_start</th>\n",
       "      <th>disease_end</th>\n",
       "    </tr>\n",
       "  </thead>\n",
       "  <tbody>\n",
       "    <tr>\n",
       "      <th>0</th>\n",
       "      <td>52</td>\n",
       "      <td>18165652</td>\n",
       "      <td>Thalidomide in small-cell lung cancer: is it a...</td>\n",
       "      <td>[thalidomide, in, small, -, cell, lung, cancer...</td>\n",
       "      <td>2</td>\n",
       "      <td>5</td>\n",
       "      <td>0</td>\n",
       "      <td>1</td>\n",
       "    </tr>\n",
       "    <tr>\n",
       "      <th>1</th>\n",
       "      <td>175</td>\n",
       "      <td>21623267</td>\n",
       "      <td>Patients with advanced nonsquamous non-small c...</td>\n",
       "      <td>[patient, with, advanced, nonsquamous, non, -,...</td>\n",
       "      <td>4</td>\n",
       "      <td>10</td>\n",
       "      <td>17</td>\n",
       "      <td>18</td>\n",
       "    </tr>\n",
       "    <tr>\n",
       "      <th>2</th>\n",
       "      <td>176</td>\n",
       "      <td>21623267</td>\n",
       "      <td>Erlotinib has prolonged survival in unselected...</td>\n",
       "      <td>[erlotinib, have, prolong, survival, in, unsel...</td>\n",
       "      <td>9</td>\n",
       "      <td>15</td>\n",
       "      <td>17</td>\n",
       "      <td>18</td>\n",
       "    </tr>\n",
       "    <tr>\n",
       "      <th>3</th>\n",
       "      <td>408</td>\n",
       "      <td>9392537</td>\n",
       "      <td>Although the influence of the higher LET depos...</td>\n",
       "      <td>[although, the, influence, of, the, high, let,...</td>\n",
       "      <td>9</td>\n",
       "      <td>10</td>\n",
       "      <td>31</td>\n",
       "      <td>32</td>\n",
       "    </tr>\n",
       "    <tr>\n",
       "      <th>4</th>\n",
       "      <td>409</td>\n",
       "      <td>9392537</td>\n",
       "      <td>CONCLUSION: The development of NVG after heliu...</td>\n",
       "      <td>[conclusion, :, the, development, of, nvg, aft...</td>\n",
       "      <td>7</td>\n",
       "      <td>8</td>\n",
       "      <td>5</td>\n",
       "      <td>6</td>\n",
       "    </tr>\n",
       "  </tbody>\n",
       "</table>\n",
       "</div>"
      ],
      "text/plain": [
       "   candidate_id  document_id  \\\n",
       "0            52     18165652   \n",
       "1           175     21623267   \n",
       "2           176     21623267   \n",
       "3           408      9392537   \n",
       "4           409      9392537   \n",
       "\n",
       "                                                text  \\\n",
       "0  Thalidomide in small-cell lung cancer: is it a...   \n",
       "1  Patients with advanced nonsquamous non-small c...   \n",
       "2  Erlotinib has prolonged survival in unselected...   \n",
       "3  Although the influence of the higher LET depos...   \n",
       "4  CONCLUSION: The development of NVG after heliu...   \n",
       "\n",
       "                                               lemma  compound_start  \\\n",
       "0  [thalidomide, in, small, -, cell, lung, cancer...               2   \n",
       "1  [patient, with, advanced, nonsquamous, non, -,...               4   \n",
       "2  [erlotinib, have, prolong, survival, in, unsel...               9   \n",
       "3  [although, the, influence, of, the, high, let,...               9   \n",
       "4  [conclusion, :, the, development, of, nvg, aft...               7   \n",
       "\n",
       "   compound_end  disease_start  disease_end  \n",
       "0             5              0            1  \n",
       "1            10             17           18  \n",
       "2            15             17           18  \n",
       "3            10             31           32  \n",
       "4             8              5            6  "
      ]
     },
     "execution_count": 10,
     "metadata": {},
     "output_type": "execute_result"
    }
   ],
   "source": [
    "sql = \"\"\"\n",
    "select candidate_id, document_id, text, lemma, compound_start, compound_end, disease_start, disease_end\n",
    "from compound_disease inner join (\n",
    "    select sentence_id, document_id\n",
    "    from sentence\n",
    ") as sentence_map\n",
    "on compound_disease.sentence_id = sentence_map.sentence_id\n",
    "where section = 'title' or section ='abstract'\n",
    "\"\"\"\n",
    "\n",
    "candidate = pd.read_sql(sql, database_str) >> ply.define(\n",
    "    lemma=lambda x: x.lemma.apply(lambda y: y.replace(\"'\", \"\").split(\"|\"))\n",
    ")\n",
    "print(candidate.shape)\n",
    "candidate.head()"
   ]
  },
  {
   "cell_type": "code",
   "execution_count": 11,
   "metadata": {
    "ExecuteTime": {
     "end_time": "2021-11-05T17:00:15.656093Z",
     "start_time": "2021-11-05T17:00:15.653850Z"
    }
   },
   "outputs": [],
   "source": [
    "fieldnames = [\n",
    "    \"compound_start\",\n",
    "    \"compound_end\",\n",
    "    \"disease_start\",\n",
    "    \"disease_end\",\n",
    "]"
   ]
  },
  {
   "cell_type": "code",
   "execution_count": 12,
   "metadata": {
    "ExecuteTime": {
     "end_time": "2021-11-05T17:02:59.838371Z",
     "start_time": "2021-11-05T17:00:15.657695Z"
    }
   },
   "outputs": [
    {
     "name": "stderr",
     "output_type": "stream",
     "text": [
      "971820it [02:42, 5962.68it/s]\n"
     ]
    },
    {
     "name": "stdout",
     "output_type": "stream",
     "text": [
      "(971820, 2)\n"
     ]
    },
    {
     "data": {
      "text/html": [
       "<div>\n",
       "<style scoped>\n",
       "    .dataframe tbody tr th:only-of-type {\n",
       "        vertical-align: middle;\n",
       "    }\n",
       "\n",
       "    .dataframe tbody tr th {\n",
       "        vertical-align: top;\n",
       "    }\n",
       "\n",
       "    .dataframe thead th {\n",
       "        text-align: right;\n",
       "    }\n",
       "</style>\n",
       "<table border=\"1\" class=\"dataframe\">\n",
       "  <thead>\n",
       "    <tr style=\"text-align: right;\">\n",
       "      <th></th>\n",
       "      <th>parsed_lemmas</th>\n",
       "      <th>candidate_id</th>\n",
       "    </tr>\n",
       "  </thead>\n",
       "  <tbody>\n",
       "    <tr>\n",
       "      <th>0</th>\n",
       "      <td>DISEASE_ENTITY|COMPOUND_ENTITY|lung|cancer|:|-...</td>\n",
       "      <td>52</td>\n",
       "    </tr>\n",
       "    <tr>\n",
       "      <th>1</th>\n",
       "      <td>patient|advanced|nonsquamous|COMPOUND_ENTITY|t...</td>\n",
       "      <td>175</td>\n",
       "    </tr>\n",
       "    <tr>\n",
       "      <th>2</th>\n",
       "      <td>erlotinib|prolong|survival|unselected|patient|...</td>\n",
       "      <td>176</td>\n",
       "    </tr>\n",
       "    <tr>\n",
       "      <th>3</th>\n",
       "      <td>influence|high|let|deposition|COMPOUND_ENTITY|...</td>\n",
       "      <td>408</td>\n",
       "    </tr>\n",
       "    <tr>\n",
       "      <th>4</th>\n",
       "      <td>conclusion|:|development|DISEASE_ENTITY|COMPOU...</td>\n",
       "      <td>409</td>\n",
       "    </tr>\n",
       "  </tbody>\n",
       "</table>\n",
       "</div>"
      ],
      "text/plain": [
       "                                       parsed_lemmas  candidate_id\n",
       "0  DISEASE_ENTITY|COMPOUND_ENTITY|lung|cancer|:|-...            52\n",
       "1  patient|advanced|nonsquamous|COMPOUND_ENTITY|t...           175\n",
       "2  erlotinib|prolong|survival|unselected|patient|...           176\n",
       "3  influence|high|let|deposition|COMPOUND_ENTITY|...           408\n",
       "4  conclusion|:|development|DISEASE_ENTITY|COMPOU...           409"
      ]
     },
     "execution_count": 12,
     "metadata": {},
     "output_type": "execute_result"
    }
   ],
   "source": [
    "encoded_abstracts = pd.DataFrame.from_records(\n",
    "    encode_lemmas(\n",
    "        candidate,\n",
    "        stopwords,\n",
    "        dict(),\n",
    "        entity_fieldnames=fieldnames,\n",
    "        entity_one=\"COMPOUND_ENTITY\",\n",
    "        entity_two=\"DISEASE_ENTITY\",\n",
    "    )\n",
    ")\n",
    "\n",
    "print(encoded_abstracts.shape)\n",
    "encoded_abstracts.head()"
   ]
  },
  {
   "cell_type": "code",
   "execution_count": 13,
   "metadata": {
    "ExecuteTime": {
     "end_time": "2021-11-05T17:03:04.963096Z",
     "start_time": "2021-11-05T17:02:59.839659Z"
    }
   },
   "outputs": [],
   "source": [
    "(\n",
    "    encoded_abstracts\n",
    "    >> ply.call(\n",
    "        \"to_csv\", \"output/all_cd_abstract_encoded_lemmas.tsv\", sep=\"\\t\", index=False\n",
    "    )\n",
    ")"
   ]
  },
  {
   "cell_type": "markdown",
   "metadata": {},
   "source": [
    "# CbG"
   ]
  },
  {
   "cell_type": "code",
   "execution_count": 14,
   "metadata": {
    "ExecuteTime": {
     "end_time": "2021-11-05T17:09:40.619461Z",
     "start_time": "2021-11-05T17:04:43.023205Z"
    }
   },
   "outputs": [
    {
     "name": "stdout",
     "output_type": "stream",
     "text": [
      "(1292772, 8)\n"
     ]
    },
    {
     "data": {
      "text/html": [
       "<div>\n",
       "<style scoped>\n",
       "    .dataframe tbody tr th:only-of-type {\n",
       "        vertical-align: middle;\n",
       "    }\n",
       "\n",
       "    .dataframe tbody tr th {\n",
       "        vertical-align: top;\n",
       "    }\n",
       "\n",
       "    .dataframe thead th {\n",
       "        text-align: right;\n",
       "    }\n",
       "</style>\n",
       "<table border=\"1\" class=\"dataframe\">\n",
       "  <thead>\n",
       "    <tr style=\"text-align: right;\">\n",
       "      <th></th>\n",
       "      <th>candidate_id</th>\n",
       "      <th>document_id</th>\n",
       "      <th>text</th>\n",
       "      <th>lemma</th>\n",
       "      <th>compound_start</th>\n",
       "      <th>compound_end</th>\n",
       "      <th>gene_start</th>\n",
       "      <th>gene_end</th>\n",
       "    </tr>\n",
       "  </thead>\n",
       "  <tbody>\n",
       "    <tr>\n",
       "      <th>0</th>\n",
       "      <td>186</td>\n",
       "      <td>29473265</td>\n",
       "      <td>34-kDa translocase of the outer mitochondrial ...</td>\n",
       "      <td>[34-kda, translocase, of, the, outer, mitochon...</td>\n",
       "      <td>12</td>\n",
       "      <td>15</td>\n",
       "      <td>8</td>\n",
       "      <td>9</td>\n",
       "    </tr>\n",
       "    <tr>\n",
       "      <th>1</th>\n",
       "      <td>191</td>\n",
       "      <td>23145009</td>\n",
       "      <td>Anthropometry and fasting lipid, glucose and i...</td>\n",
       "      <td>[anthropometry, and, fast, lipid, ,, glucose, ...</td>\n",
       "      <td>7</td>\n",
       "      <td>8</td>\n",
       "      <td>5</td>\n",
       "      <td>6</td>\n",
       "    </tr>\n",
       "    <tr>\n",
       "      <th>2</th>\n",
       "      <td>277</td>\n",
       "      <td>28077915</td>\n",
       "      <td>Glucose, nonesterified free fatty acids (NEFAs...</td>\n",
       "      <td>[glucose, ,, nonesterifie, free, fatty, acid, ...</td>\n",
       "      <td>10</td>\n",
       "      <td>11</td>\n",
       "      <td>0</td>\n",
       "      <td>1</td>\n",
       "    </tr>\n",
       "    <tr>\n",
       "      <th>3</th>\n",
       "      <td>279</td>\n",
       "      <td>28077915</td>\n",
       "      <td>Glucose, nonesterified free fatty acids (NEFAs...</td>\n",
       "      <td>[glucose, ,, nonesterifie, free, fatty, acid, ...</td>\n",
       "      <td>38</td>\n",
       "      <td>39</td>\n",
       "      <td>0</td>\n",
       "      <td>1</td>\n",
       "    </tr>\n",
       "    <tr>\n",
       "      <th>4</th>\n",
       "      <td>281</td>\n",
       "      <td>28077915</td>\n",
       "      <td>Glucose, nonesterified free fatty acids (NEFAs...</td>\n",
       "      <td>[glucose, ,, nonesterifie, free, fatty, acid, ...</td>\n",
       "      <td>0</td>\n",
       "      <td>1</td>\n",
       "      <td>21</td>\n",
       "      <td>28</td>\n",
       "    </tr>\n",
       "  </tbody>\n",
       "</table>\n",
       "</div>"
      ],
      "text/plain": [
       "   candidate_id  document_id  \\\n",
       "0           186     29473265   \n",
       "1           191     23145009   \n",
       "2           277     28077915   \n",
       "3           279     28077915   \n",
       "4           281     28077915   \n",
       "\n",
       "                                                text  \\\n",
       "0  34-kDa translocase of the outer mitochondrial ...   \n",
       "1  Anthropometry and fasting lipid, glucose and i...   \n",
       "2  Glucose, nonesterified free fatty acids (NEFAs...   \n",
       "3  Glucose, nonesterified free fatty acids (NEFAs...   \n",
       "4  Glucose, nonesterified free fatty acids (NEFAs...   \n",
       "\n",
       "                                               lemma  compound_start  \\\n",
       "0  [34-kda, translocase, of, the, outer, mitochon...              12   \n",
       "1  [anthropometry, and, fast, lipid, ,, glucose, ...               7   \n",
       "2  [glucose, ,, nonesterifie, free, fatty, acid, ...              10   \n",
       "3  [glucose, ,, nonesterifie, free, fatty, acid, ...              38   \n",
       "4  [glucose, ,, nonesterifie, free, fatty, acid, ...               0   \n",
       "\n",
       "   compound_end  gene_start  gene_end  \n",
       "0            15           8         9  \n",
       "1             8           5         6  \n",
       "2            11           0         1  \n",
       "3            39           0         1  \n",
       "4             1          21        28  "
      ]
     },
     "execution_count": 14,
     "metadata": {},
     "output_type": "execute_result"
    }
   ],
   "source": [
    "sql = \"\"\"\n",
    "select candidate_id, document_id, text, lemma, compound_start, compound_end, gene_start, gene_end\n",
    "from compound_gene inner join (\n",
    "    select sentence_id, document_id\n",
    "    from sentence\n",
    ") as sentence_map\n",
    "on compound_gene.sentence_id = sentence_map.sentence_id\n",
    "where section = 'title' or section ='abstract'\n",
    "\"\"\"\n",
    "\n",
    "candidate = pd.read_sql(sql, database_str) >> ply.define(\n",
    "    lemma=lambda x: x.lemma.apply(lambda y: y.replace(\"'\", \"\").split(\"|\"))\n",
    ")\n",
    "print(candidate.shape)\n",
    "candidate.head()"
   ]
  },
  {
   "cell_type": "code",
   "execution_count": 15,
   "metadata": {
    "ExecuteTime": {
     "end_time": "2021-11-05T17:09:40.624005Z",
     "start_time": "2021-11-05T17:09:40.621360Z"
    }
   },
   "outputs": [],
   "source": [
    "fieldnames = [\n",
    "    \"compound_start\",\n",
    "    \"compound_end\",\n",
    "    \"gene_start\",\n",
    "    \"gene_end\",\n",
    "]"
   ]
  },
  {
   "cell_type": "code",
   "execution_count": 16,
   "metadata": {
    "ExecuteTime": {
     "end_time": "2021-11-05T17:13:15.103149Z",
     "start_time": "2021-11-05T17:09:40.625885Z"
    }
   },
   "outputs": [
    {
     "name": "stderr",
     "output_type": "stream",
     "text": [
      "1292772it [03:32, 6080.27it/s]\n"
     ]
    },
    {
     "name": "stdout",
     "output_type": "stream",
     "text": [
      "(1292772, 2)\n"
     ]
    },
    {
     "data": {
      "text/html": [
       "<div>\n",
       "<style scoped>\n",
       "    .dataframe tbody tr th:only-of-type {\n",
       "        vertical-align: middle;\n",
       "    }\n",
       "\n",
       "    .dataframe tbody tr th {\n",
       "        vertical-align: top;\n",
       "    }\n",
       "\n",
       "    .dataframe thead th {\n",
       "        text-align: right;\n",
       "    }\n",
       "</style>\n",
       "<table border=\"1\" class=\"dataframe\">\n",
       "  <thead>\n",
       "    <tr style=\"text-align: right;\">\n",
       "      <th></th>\n",
       "      <th>parsed_lemmas</th>\n",
       "      <th>candidate_id</th>\n",
       "    </tr>\n",
       "  </thead>\n",
       "  <tbody>\n",
       "    <tr>\n",
       "      <th>0</th>\n",
       "      <td>34-kda|translocase|outer|mitochondrial|membran...</td>\n",
       "      <td>186</td>\n",
       "    </tr>\n",
       "    <tr>\n",
       "      <th>1</th>\n",
       "      <td>anthropometry|fast|lipid|,|GENE_ENTITY|COMPOUN...</td>\n",
       "      <td>191</td>\n",
       "    </tr>\n",
       "    <tr>\n",
       "      <th>2</th>\n",
       "      <td>GENE_ENTITY|,|nonesterifie|free|fatty|acid|(|n...</td>\n",
       "      <td>277</td>\n",
       "    </tr>\n",
       "    <tr>\n",
       "      <th>3</th>\n",
       "      <td>GENE_ENTITY|,|nonesterifie|free|fatty|acid|(|n...</td>\n",
       "      <td>279</td>\n",
       "    </tr>\n",
       "    <tr>\n",
       "      <th>4</th>\n",
       "      <td>COMPOUND_ENTITY|,|nonesterifie|free|fatty|acid...</td>\n",
       "      <td>281</td>\n",
       "    </tr>\n",
       "  </tbody>\n",
       "</table>\n",
       "</div>"
      ],
      "text/plain": [
       "                                       parsed_lemmas  candidate_id\n",
       "0  34-kda|translocase|outer|mitochondrial|membran...           186\n",
       "1  anthropometry|fast|lipid|,|GENE_ENTITY|COMPOUN...           191\n",
       "2  GENE_ENTITY|,|nonesterifie|free|fatty|acid|(|n...           277\n",
       "3  GENE_ENTITY|,|nonesterifie|free|fatty|acid|(|n...           279\n",
       "4  COMPOUND_ENTITY|,|nonesterifie|free|fatty|acid...           281"
      ]
     },
     "execution_count": 16,
     "metadata": {},
     "output_type": "execute_result"
    }
   ],
   "source": [
    "encoded_abstracts = pd.DataFrame.from_records(\n",
    "    encode_lemmas(\n",
    "        candidate,\n",
    "        stopwords,\n",
    "        dict(),\n",
    "        entity_fieldnames=fieldnames,\n",
    "        entity_one=\"COMPOUND_ENTITY\",\n",
    "        entity_two=\"GENE_ENTITY\",\n",
    "    )\n",
    ")\n",
    "\n",
    "print(encoded_abstracts.shape)\n",
    "encoded_abstracts.head()"
   ]
  },
  {
   "cell_type": "code",
   "execution_count": 17,
   "metadata": {
    "ExecuteTime": {
     "end_time": "2021-11-05T17:13:22.497237Z",
     "start_time": "2021-11-05T17:13:15.107665Z"
    }
   },
   "outputs": [],
   "source": [
    "(\n",
    "    encoded_abstracts\n",
    "    >> ply.call(\n",
    "        \"to_csv\", \"output/all_cg_abstract_encoded_lemmas.tsv\", sep=\"\\t\", index=False\n",
    "    )\n",
    ")"
   ]
  },
  {
   "cell_type": "markdown",
   "metadata": {},
   "source": [
    "# GiG"
   ]
  },
  {
   "cell_type": "code",
   "execution_count": 18,
   "metadata": {
    "ExecuteTime": {
     "end_time": "2021-11-05T17:37:16.762897Z",
     "start_time": "2021-11-05T17:13:22.502175Z"
    }
   },
   "outputs": [
    {
     "name": "stdout",
     "output_type": "stream",
     "text": [
      "(5420798, 8)\n"
     ]
    },
    {
     "data": {
      "text/html": [
       "<div>\n",
       "<style scoped>\n",
       "    .dataframe tbody tr th:only-of-type {\n",
       "        vertical-align: middle;\n",
       "    }\n",
       "\n",
       "    .dataframe tbody tr th {\n",
       "        vertical-align: top;\n",
       "    }\n",
       "\n",
       "    .dataframe thead th {\n",
       "        text-align: right;\n",
       "    }\n",
       "</style>\n",
       "<table border=\"1\" class=\"dataframe\">\n",
       "  <thead>\n",
       "    <tr style=\"text-align: right;\">\n",
       "      <th></th>\n",
       "      <th>candidate_id</th>\n",
       "      <th>document_id</th>\n",
       "      <th>text</th>\n",
       "      <th>lemma</th>\n",
       "      <th>gene1_start</th>\n",
       "      <th>gene1_end</th>\n",
       "      <th>gene2_start</th>\n",
       "      <th>gene2_end</th>\n",
       "    </tr>\n",
       "  </thead>\n",
       "  <tbody>\n",
       "    <tr>\n",
       "      <th>0</th>\n",
       "      <td>38967952</td>\n",
       "      <td>18728748</td>\n",
       "      <td>This review examines the physiological role of...</td>\n",
       "      <td>[this, review, examine, the, physiological, ro...</td>\n",
       "      <td>7</td>\n",
       "      <td>8</td>\n",
       "      <td>17</td>\n",
       "      <td>18</td>\n",
       "    </tr>\n",
       "    <tr>\n",
       "      <th>1</th>\n",
       "      <td>40608212</td>\n",
       "      <td>29615870</td>\n",
       "      <td>Previously, we showed that superficially locat...</td>\n",
       "      <td>[previously, ,, -pron-, show, that, superficia...</td>\n",
       "      <td>16</td>\n",
       "      <td>21</td>\n",
       "      <td>22</td>\n",
       "      <td>23</td>\n",
       "    </tr>\n",
       "    <tr>\n",
       "      <th>2</th>\n",
       "      <td>16688148</td>\n",
       "      <td>18475569</td>\n",
       "      <td>Although the ultimate effect was often donor d...</td>\n",
       "      <td>[although, the, ultimate, effect, be, often, d...</td>\n",
       "      <td>9</td>\n",
       "      <td>10</td>\n",
       "      <td>21</td>\n",
       "      <td>22</td>\n",
       "    </tr>\n",
       "    <tr>\n",
       "      <th>3</th>\n",
       "      <td>16517196</td>\n",
       "      <td>27196066</td>\n",
       "      <td>Quaking (QKI), which belongs to the STAR famil...</td>\n",
       "      <td>[quake, (, qki, ), ,, which, belong, to, the, ...</td>\n",
       "      <td>0</td>\n",
       "      <td>1</td>\n",
       "      <td>2</td>\n",
       "      <td>3</td>\n",
       "    </tr>\n",
       "    <tr>\n",
       "      <th>4</th>\n",
       "      <td>16517195</td>\n",
       "      <td>27196066</td>\n",
       "      <td>QKI plays critical roles in myelinogenesis in ...</td>\n",
       "      <td>[qki, play, critical, role, in, myelinogenesis...</td>\n",
       "      <td>0</td>\n",
       "      <td>1</td>\n",
       "      <td>34</td>\n",
       "      <td>35</td>\n",
       "    </tr>\n",
       "  </tbody>\n",
       "</table>\n",
       "</div>"
      ],
      "text/plain": [
       "   candidate_id  document_id  \\\n",
       "0      38967952     18728748   \n",
       "1      40608212     29615870   \n",
       "2      16688148     18475569   \n",
       "3      16517196     27196066   \n",
       "4      16517195     27196066   \n",
       "\n",
       "                                                text  \\\n",
       "0  This review examines the physiological role of...   \n",
       "1  Previously, we showed that superficially locat...   \n",
       "2  Although the ultimate effect was often donor d...   \n",
       "3  Quaking (QKI), which belongs to the STAR famil...   \n",
       "4  QKI plays critical roles in myelinogenesis in ...   \n",
       "\n",
       "                                               lemma  gene1_start  gene1_end  \\\n",
       "0  [this, review, examine, the, physiological, ro...            7          8   \n",
       "1  [previously, ,, -pron-, show, that, superficia...           16         21   \n",
       "2  [although, the, ultimate, effect, be, often, d...            9         10   \n",
       "3  [quake, (, qki, ), ,, which, belong, to, the, ...            0          1   \n",
       "4  [qki, play, critical, role, in, myelinogenesis...            0          1   \n",
       "\n",
       "   gene2_start  gene2_end  \n",
       "0           17         18  \n",
       "1           22         23  \n",
       "2           21         22  \n",
       "3            2          3  \n",
       "4           34         35  "
      ]
     },
     "execution_count": 18,
     "metadata": {},
     "output_type": "execute_result"
    }
   ],
   "source": [
    "sql = \"\"\"\n",
    "select candidate_id, document_id, text, lemma, gene1_start, gene1_end, gene2_start, gene2_end\n",
    "from gene_gene inner join (\n",
    "    select sentence_id, document_id\n",
    "    from sentence\n",
    ") as sentence_map\n",
    "on gene_gene.sentence_id = sentence_map.sentence_id\n",
    "where section = 'title' or section ='abstract'\n",
    "\"\"\"\n",
    "\n",
    "candidate = pd.read_sql(sql, database_str) >> ply.define(\n",
    "    lemma=lambda x: x.lemma.apply(lambda y: y.replace(\"'\", \"\").split(\"|\"))\n",
    ")\n",
    "print(candidate.shape)\n",
    "candidate.head()"
   ]
  },
  {
   "cell_type": "code",
   "execution_count": 19,
   "metadata": {
    "ExecuteTime": {
     "end_time": "2021-11-05T17:37:16.804934Z",
     "start_time": "2021-11-05T17:37:16.785145Z"
    }
   },
   "outputs": [],
   "source": [
    "fieldnames = [\"gene1_start\", \"gene1_end\", \"gene2_start\", \"gene2_end\"]"
   ]
  },
  {
   "cell_type": "code",
   "execution_count": 20,
   "metadata": {
    "ExecuteTime": {
     "end_time": "2021-11-05T17:52:14.684227Z",
     "start_time": "2021-11-05T17:37:16.806866Z"
    }
   },
   "outputs": [
    {
     "name": "stderr",
     "output_type": "stream",
     "text": [
      "5420798it [14:48, 6101.26it/s]\n"
     ]
    },
    {
     "name": "stdout",
     "output_type": "stream",
     "text": [
      "(5420798, 2)\n"
     ]
    },
    {
     "data": {
      "text/html": [
       "<div>\n",
       "<style scoped>\n",
       "    .dataframe tbody tr th:only-of-type {\n",
       "        vertical-align: middle;\n",
       "    }\n",
       "\n",
       "    .dataframe tbody tr th {\n",
       "        vertical-align: top;\n",
       "    }\n",
       "\n",
       "    .dataframe thead th {\n",
       "        text-align: right;\n",
       "    }\n",
       "</style>\n",
       "<table border=\"1\" class=\"dataframe\">\n",
       "  <thead>\n",
       "    <tr style=\"text-align: right;\">\n",
       "      <th></th>\n",
       "      <th>parsed_lemmas</th>\n",
       "      <th>candidate_id</th>\n",
       "    </tr>\n",
       "  </thead>\n",
       "  <tbody>\n",
       "    <tr>\n",
       "      <th>0</th>\n",
       "      <td>review|examine|physiological|role|GENE1_ENTITY...</td>\n",
       "      <td>38967952</td>\n",
       "    </tr>\n",
       "    <tr>\n",
       "      <th>1</th>\n",
       "      <td>previously|,|-pron-|superficially|locate|micro...</td>\n",
       "      <td>40608212</td>\n",
       "    </tr>\n",
       "    <tr>\n",
       "      <th>2</th>\n",
       "      <td>ultimate|effect|donor|dependent|,|GENE1_ENTITY...</td>\n",
       "      <td>16688148</td>\n",
       "    </tr>\n",
       "    <tr>\n",
       "      <th>3</th>\n",
       "      <td>GENE1_ENTITY|(|GENE2_ENTITY|qki|)|,|belong|sta...</td>\n",
       "      <td>16517196</td>\n",
       "    </tr>\n",
       "    <tr>\n",
       "      <th>4</th>\n",
       "      <td>GENE1_ENTITY|play|critical|role|myelinogenesis...</td>\n",
       "      <td>16517195</td>\n",
       "    </tr>\n",
       "  </tbody>\n",
       "</table>\n",
       "</div>"
      ],
      "text/plain": [
       "                                       parsed_lemmas  candidate_id\n",
       "0  review|examine|physiological|role|GENE1_ENTITY...      38967952\n",
       "1  previously|,|-pron-|superficially|locate|micro...      40608212\n",
       "2  ultimate|effect|donor|dependent|,|GENE1_ENTITY...      16688148\n",
       "3  GENE1_ENTITY|(|GENE2_ENTITY|qki|)|,|belong|sta...      16517196\n",
       "4  GENE1_ENTITY|play|critical|role|myelinogenesis...      16517195"
      ]
     },
     "execution_count": 20,
     "metadata": {},
     "output_type": "execute_result"
    }
   ],
   "source": [
    "encoded_abstracts = pd.DataFrame.from_records(\n",
    "    encode_lemmas(\n",
    "        candidate,\n",
    "        stopwords,\n",
    "        dict(),\n",
    "        entity_fieldnames=fieldnames,\n",
    "        entity_one=\"GENE1_ENTITY\",\n",
    "        entity_two=\"GENE2_ENTITY\",\n",
    "    )\n",
    ")\n",
    "\n",
    "print(encoded_abstracts.shape)\n",
    "encoded_abstracts.head()"
   ]
  },
  {
   "cell_type": "code",
   "execution_count": 21,
   "metadata": {
    "ExecuteTime": {
     "end_time": "2021-11-05T17:52:49.339623Z",
     "start_time": "2021-11-05T17:52:14.685590Z"
    }
   },
   "outputs": [],
   "source": [
    "(\n",
    "    encoded_abstracts\n",
    "    >> ply.call(\n",
    "        \"to_csv\", \"output/all_gg_abstract_encoded_lemmas.tsv\", sep=\"\\t\", index=False\n",
    "    )\n",
    ")"
   ]
  }
 ],
 "metadata": {
  "jupytext": {
   "formats": "ipynb,py:light"
  },
  "kernelspec": {
   "display_name": "Python [conda env:snorkeling_full_text]",
   "language": "python",
   "name": "conda-env-snorkeling_full_text-py"
  },
  "language_info": {
   "codemirror_mode": {
    "name": "ipython",
    "version": 3
   },
   "file_extension": ".py",
   "mimetype": "text/x-python",
   "name": "python",
   "nbconvert_exporter": "python",
   "pygments_lexer": "ipython3",
   "version": "3.7.2"
  },
  "toc": {
   "base_numbering": 1,
   "nav_menu": {},
   "number_sections": true,
   "sideBar": true,
   "skip_h1_title": false,
   "title_cell": "Table of Contents",
   "title_sidebar": "Contents",
   "toc_cell": false,
   "toc_position": {},
   "toc_section_display": true,
   "toc_window_display": false
  }
 },
 "nbformat": 4,
 "nbformat_minor": 2
}
