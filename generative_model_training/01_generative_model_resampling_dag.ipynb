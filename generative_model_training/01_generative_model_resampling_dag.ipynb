{
 "cells": [
  {
   "cell_type": "markdown",
   "metadata": {},
   "source": [
    "# Does resampling experiment help with predicting DaG sentences?"
   ]
  },
  {
   "cell_type": "code",
   "execution_count": 1,
   "metadata": {
    "ExecuteTime": {
     "end_time": "2022-01-05T18:40:26.646837Z",
     "start_time": "2022-01-05T18:40:25.755760Z"
    }
   },
   "outputs": [],
   "source": [
    "from pathlib import Path\n",
    "import warnings\n",
    "\n",
    "import pandas as pd\n",
    "import numpy as np\n",
    "import plydata as ply\n",
    "from sqlalchemy import create_engine\n",
    "\n",
    "from snorkel.labeling.analysis import LFAnalysis\n",
    "from snorkeling_helper.generative_model_helper import (\n",
    "    sample_lfs,\n",
    "    run_generative_label_function_sampler,\n",
    ")\n",
    "\n",
    "warnings.filterwarnings(\"ignore\")"
   ]
  },
  {
   "cell_type": "code",
   "execution_count": 2,
   "metadata": {
    "ExecuteTime": {
     "end_time": "2022-01-05T18:40:26.672103Z",
     "start_time": "2022-01-05T18:40:26.648319Z"
    }
   },
   "outputs": [],
   "source": [
    "username = \"danich1\"\n",
    "password = \"snorkel\"\n",
    "dbname = \"pubmed_central_db\"\n",
    "database_str = (\n",
    "    f\"postgresql+psycopg2://{username}:{password}@/{dbname}?host=/var/run/postgresql\"\n",
    ")\n",
    "conn = create_engine(database_str)"
   ]
  },
  {
   "cell_type": "markdown",
   "metadata": {},
   "source": [
    "## Load the data"
   ]
  },
  {
   "cell_type": "code",
   "execution_count": 3,
   "metadata": {
    "ExecuteTime": {
     "end_time": "2022-01-05T18:40:26.684990Z",
     "start_time": "2022-01-05T18:40:26.673755Z"
    }
   },
   "outputs": [],
   "source": [
    "label_candidates_dir = Path(\"../label_candidates/output\")\n",
    "notebook_output_dir = Path(\"output/DaG\")"
   ]
  },
  {
   "cell_type": "code",
   "execution_count": 4,
   "metadata": {
    "ExecuteTime": {
     "end_time": "2022-01-05T18:40:33.091447Z",
     "start_time": "2022-01-05T18:40:26.686584Z"
    }
   },
   "outputs": [
    {
     "name": "stdout",
     "output_type": "stream",
     "text": [
      "(1539670, 105)\n"
     ]
    },
    {
     "data": {
      "text/html": [
       "<div>\n",
       "<style scoped>\n",
       "    .dataframe tbody tr th:only-of-type {\n",
       "        vertical-align: middle;\n",
       "    }\n",
       "\n",
       "    .dataframe tbody tr th {\n",
       "        vertical-align: top;\n",
       "    }\n",
       "\n",
       "    .dataframe thead th {\n",
       "        text-align: right;\n",
       "    }\n",
       "</style>\n",
       "<table border=\"1\" class=\"dataframe\">\n",
       "  <thead>\n",
       "    <tr style=\"text-align: right;\">\n",
       "      <th></th>\n",
       "      <th>0</th>\n",
       "      <th>1</th>\n",
       "      <th>2</th>\n",
       "      <th>3</th>\n",
       "      <th>4</th>\n",
       "    </tr>\n",
       "  </thead>\n",
       "  <tbody>\n",
       "    <tr>\n",
       "      <th>LF_HETNET_DISEASES</th>\n",
       "      <td>-1</td>\n",
       "      <td>-1</td>\n",
       "      <td>-1</td>\n",
       "      <td>-1</td>\n",
       "      <td>-1</td>\n",
       "    </tr>\n",
       "    <tr>\n",
       "      <th>LF_HETNET_DOAF</th>\n",
       "      <td>-1</td>\n",
       "      <td>-1</td>\n",
       "      <td>-1</td>\n",
       "      <td>-1</td>\n",
       "      <td>-1</td>\n",
       "    </tr>\n",
       "    <tr>\n",
       "      <th>LF_HETNET_DisGeNET</th>\n",
       "      <td>-1</td>\n",
       "      <td>-1</td>\n",
       "      <td>-1</td>\n",
       "      <td>1</td>\n",
       "      <td>-1</td>\n",
       "    </tr>\n",
       "    <tr>\n",
       "      <th>LF_HETNET_GWAS</th>\n",
       "      <td>-1</td>\n",
       "      <td>-1</td>\n",
       "      <td>-1</td>\n",
       "      <td>-1</td>\n",
       "      <td>-1</td>\n",
       "    </tr>\n",
       "    <tr>\n",
       "      <th>LF_HETNET_DaG_ABSENT</th>\n",
       "      <td>0</td>\n",
       "      <td>0</td>\n",
       "      <td>0</td>\n",
       "      <td>-1</td>\n",
       "      <td>0</td>\n",
       "    </tr>\n",
       "    <tr>\n",
       "      <th>...</th>\n",
       "      <td>...</td>\n",
       "      <td>...</td>\n",
       "      <td>...</td>\n",
       "      <td>...</td>\n",
       "      <td>...</td>\n",
       "    </tr>\n",
       "    <tr>\n",
       "      <th>LF_GG_BICLUSTER_INCREASES_EXPRESSION</th>\n",
       "      <td>-1</td>\n",
       "      <td>-1</td>\n",
       "      <td>-1</td>\n",
       "      <td>-1</td>\n",
       "      <td>-1</td>\n",
       "    </tr>\n",
       "    <tr>\n",
       "      <th>LF_GG_BICLUSTER_SIGNALING</th>\n",
       "      <td>-1</td>\n",
       "      <td>-1</td>\n",
       "      <td>1</td>\n",
       "      <td>-1</td>\n",
       "      <td>-1</td>\n",
       "    </tr>\n",
       "    <tr>\n",
       "      <th>LF_GG_BICLUSTER_IDENTICAL_PROTEIN</th>\n",
       "      <td>-1</td>\n",
       "      <td>-1</td>\n",
       "      <td>-1</td>\n",
       "      <td>-1</td>\n",
       "      <td>-1</td>\n",
       "    </tr>\n",
       "    <tr>\n",
       "      <th>LF_GG_BICLUSTER_CELL_PRODUCTION</th>\n",
       "      <td>-1</td>\n",
       "      <td>-1</td>\n",
       "      <td>-1</td>\n",
       "      <td>-1</td>\n",
       "      <td>-1</td>\n",
       "    </tr>\n",
       "    <tr>\n",
       "      <th>candidate_id</th>\n",
       "      <td>121</td>\n",
       "      <td>122</td>\n",
       "      <td>124</td>\n",
       "      <td>148</td>\n",
       "      <td>190</td>\n",
       "    </tr>\n",
       "  </tbody>\n",
       "</table>\n",
       "<p>105 rows × 5 columns</p>\n",
       "</div>"
      ],
      "text/plain": [
       "                                        0    1    2    3    4\n",
       "LF_HETNET_DISEASES                     -1   -1   -1   -1   -1\n",
       "LF_HETNET_DOAF                         -1   -1   -1   -1   -1\n",
       "LF_HETNET_DisGeNET                     -1   -1   -1    1   -1\n",
       "LF_HETNET_GWAS                         -1   -1   -1   -1   -1\n",
       "LF_HETNET_DaG_ABSENT                    0    0    0   -1    0\n",
       "...                                   ...  ...  ...  ...  ...\n",
       "LF_GG_BICLUSTER_INCREASES_EXPRESSION   -1   -1   -1   -1   -1\n",
       "LF_GG_BICLUSTER_SIGNALING              -1   -1    1   -1   -1\n",
       "LF_GG_BICLUSTER_IDENTICAL_PROTEIN      -1   -1   -1   -1   -1\n",
       "LF_GG_BICLUSTER_CELL_PRODUCTION        -1   -1   -1   -1   -1\n",
       "candidate_id                          121  122  124  148  190\n",
       "\n",
       "[105 rows x 5 columns]"
      ]
     },
     "execution_count": 4,
     "metadata": {},
     "output_type": "execute_result"
    }
   ],
   "source": [
    "L_abstracts = pd.read_csv(\n",
    "    str(label_candidates_dir / Path(\"dg_abstract_train_candidates_resampling.tsv\")),\n",
    "    sep=\"\\t\",\n",
    ")\n",
    "\n",
    "print(L_abstracts.shape)\n",
    "L_abstracts.head().T"
   ]
  },
  {
   "cell_type": "code",
   "execution_count": 5,
   "metadata": {
    "ExecuteTime": {
     "end_time": "2022-01-05T18:40:41.615456Z",
     "start_time": "2022-01-05T18:40:33.092918Z"
    }
   },
   "outputs": [
    {
     "name": "stdout",
     "output_type": "stream",
     "text": [
      "(1956984, 105)\n"
     ]
    },
    {
     "data": {
      "text/html": [
       "<div>\n",
       "<style scoped>\n",
       "    .dataframe tbody tr th:only-of-type {\n",
       "        vertical-align: middle;\n",
       "    }\n",
       "\n",
       "    .dataframe tbody tr th {\n",
       "        vertical-align: top;\n",
       "    }\n",
       "\n",
       "    .dataframe thead th {\n",
       "        text-align: right;\n",
       "    }\n",
       "</style>\n",
       "<table border=\"1\" class=\"dataframe\">\n",
       "  <thead>\n",
       "    <tr style=\"text-align: right;\">\n",
       "      <th></th>\n",
       "      <th>0</th>\n",
       "      <th>1</th>\n",
       "      <th>2</th>\n",
       "      <th>3</th>\n",
       "      <th>4</th>\n",
       "    </tr>\n",
       "  </thead>\n",
       "  <tbody>\n",
       "    <tr>\n",
       "      <th>LF_HETNET_DISEASES</th>\n",
       "      <td>-1</td>\n",
       "      <td>-1</td>\n",
       "      <td>-1</td>\n",
       "      <td>-1</td>\n",
       "      <td>-1</td>\n",
       "    </tr>\n",
       "    <tr>\n",
       "      <th>LF_HETNET_DOAF</th>\n",
       "      <td>-1</td>\n",
       "      <td>-1</td>\n",
       "      <td>-1</td>\n",
       "      <td>-1</td>\n",
       "      <td>-1</td>\n",
       "    </tr>\n",
       "    <tr>\n",
       "      <th>LF_HETNET_DisGeNET</th>\n",
       "      <td>-1</td>\n",
       "      <td>-1</td>\n",
       "      <td>-1</td>\n",
       "      <td>-1</td>\n",
       "      <td>-1</td>\n",
       "    </tr>\n",
       "    <tr>\n",
       "      <th>LF_HETNET_GWAS</th>\n",
       "      <td>-1</td>\n",
       "      <td>-1</td>\n",
       "      <td>-1</td>\n",
       "      <td>-1</td>\n",
       "      <td>-1</td>\n",
       "    </tr>\n",
       "    <tr>\n",
       "      <th>LF_HETNET_DaG_ABSENT</th>\n",
       "      <td>0</td>\n",
       "      <td>0</td>\n",
       "      <td>0</td>\n",
       "      <td>0</td>\n",
       "      <td>0</td>\n",
       "    </tr>\n",
       "    <tr>\n",
       "      <th>...</th>\n",
       "      <td>...</td>\n",
       "      <td>...</td>\n",
       "      <td>...</td>\n",
       "      <td>...</td>\n",
       "      <td>...</td>\n",
       "    </tr>\n",
       "    <tr>\n",
       "      <th>LF_GG_BICLUSTER_INCREASES_EXPRESSION</th>\n",
       "      <td>-1</td>\n",
       "      <td>-1</td>\n",
       "      <td>-1</td>\n",
       "      <td>-1</td>\n",
       "      <td>-1</td>\n",
       "    </tr>\n",
       "    <tr>\n",
       "      <th>LF_GG_BICLUSTER_SIGNALING</th>\n",
       "      <td>-1</td>\n",
       "      <td>-1</td>\n",
       "      <td>-1</td>\n",
       "      <td>-1</td>\n",
       "      <td>-1</td>\n",
       "    </tr>\n",
       "    <tr>\n",
       "      <th>LF_GG_BICLUSTER_IDENTICAL_PROTEIN</th>\n",
       "      <td>-1</td>\n",
       "      <td>-1</td>\n",
       "      <td>-1</td>\n",
       "      <td>-1</td>\n",
       "      <td>-1</td>\n",
       "    </tr>\n",
       "    <tr>\n",
       "      <th>LF_GG_BICLUSTER_CELL_PRODUCTION</th>\n",
       "      <td>-1</td>\n",
       "      <td>0</td>\n",
       "      <td>-1</td>\n",
       "      <td>-1</td>\n",
       "      <td>-1</td>\n",
       "    </tr>\n",
       "    <tr>\n",
       "      <th>candidate_id</th>\n",
       "      <td>97</td>\n",
       "      <td>98</td>\n",
       "      <td>100</td>\n",
       "      <td>101</td>\n",
       "      <td>102</td>\n",
       "    </tr>\n",
       "  </tbody>\n",
       "</table>\n",
       "<p>105 rows × 5 columns</p>\n",
       "</div>"
      ],
      "text/plain": [
       "                                       0   1    2    3    4\n",
       "LF_HETNET_DISEASES                    -1  -1   -1   -1   -1\n",
       "LF_HETNET_DOAF                        -1  -1   -1   -1   -1\n",
       "LF_HETNET_DisGeNET                    -1  -1   -1   -1   -1\n",
       "LF_HETNET_GWAS                        -1  -1   -1   -1   -1\n",
       "LF_HETNET_DaG_ABSENT                   0   0    0    0    0\n",
       "...                                   ..  ..  ...  ...  ...\n",
       "LF_GG_BICLUSTER_INCREASES_EXPRESSION  -1  -1   -1   -1   -1\n",
       "LF_GG_BICLUSTER_SIGNALING             -1  -1   -1   -1   -1\n",
       "LF_GG_BICLUSTER_IDENTICAL_PROTEIN     -1  -1   -1   -1   -1\n",
       "LF_GG_BICLUSTER_CELL_PRODUCTION       -1   0   -1   -1   -1\n",
       "candidate_id                          97  98  100  101  102\n",
       "\n",
       "[105 rows x 5 columns]"
      ]
     },
     "execution_count": 5,
     "metadata": {},
     "output_type": "execute_result"
    }
   ],
   "source": [
    "L_full_text = pd.read_csv(\n",
    "    str(label_candidates_dir / Path(\"dg_full_text_train_candidates_resampling.tsv\")),\n",
    "    sep=\"\\t\",\n",
    ")\n",
    "\n",
    "print(L_full_text.shape)\n",
    "L_full_text.head().T"
   ]
  },
  {
   "cell_type": "code",
   "execution_count": 6,
   "metadata": {
    "ExecuteTime": {
     "end_time": "2022-01-05T18:40:41.650276Z",
     "start_time": "2022-01-05T18:40:41.616765Z"
    }
   },
   "outputs": [
    {
     "name": "stdout",
     "output_type": "stream",
     "text": [
      "(975, 107)\n"
     ]
    },
    {
     "data": {
      "text/html": [
       "<div>\n",
       "<style scoped>\n",
       "    .dataframe tbody tr th:only-of-type {\n",
       "        vertical-align: middle;\n",
       "    }\n",
       "\n",
       "    .dataframe tbody tr th {\n",
       "        vertical-align: top;\n",
       "    }\n",
       "\n",
       "    .dataframe thead th {\n",
       "        text-align: right;\n",
       "    }\n",
       "</style>\n",
       "<table border=\"1\" class=\"dataframe\">\n",
       "  <thead>\n",
       "    <tr style=\"text-align: right;\">\n",
       "      <th></th>\n",
       "      <th>0</th>\n",
       "      <th>8</th>\n",
       "      <th>25</th>\n",
       "      <th>33</th>\n",
       "      <th>50</th>\n",
       "    </tr>\n",
       "  </thead>\n",
       "  <tbody>\n",
       "    <tr>\n",
       "      <th>LF_HETNET_DISEASES</th>\n",
       "      <td>-1.0</td>\n",
       "      <td>1.0</td>\n",
       "      <td>1.0</td>\n",
       "      <td>1.0</td>\n",
       "      <td>1.0</td>\n",
       "    </tr>\n",
       "    <tr>\n",
       "      <th>LF_HETNET_DOAF</th>\n",
       "      <td>-1.0</td>\n",
       "      <td>1.0</td>\n",
       "      <td>-1.0</td>\n",
       "      <td>-1.0</td>\n",
       "      <td>-1.0</td>\n",
       "    </tr>\n",
       "    <tr>\n",
       "      <th>LF_HETNET_DisGeNET</th>\n",
       "      <td>1.0</td>\n",
       "      <td>1.0</td>\n",
       "      <td>-1.0</td>\n",
       "      <td>-1.0</td>\n",
       "      <td>-1.0</td>\n",
       "    </tr>\n",
       "    <tr>\n",
       "      <th>LF_HETNET_GWAS</th>\n",
       "      <td>-1.0</td>\n",
       "      <td>-1.0</td>\n",
       "      <td>-1.0</td>\n",
       "      <td>-1.0</td>\n",
       "      <td>-1.0</td>\n",
       "    </tr>\n",
       "    <tr>\n",
       "      <th>LF_HETNET_DaG_ABSENT</th>\n",
       "      <td>-1.0</td>\n",
       "      <td>-1.0</td>\n",
       "      <td>-1.0</td>\n",
       "      <td>-1.0</td>\n",
       "      <td>-1.0</td>\n",
       "    </tr>\n",
       "    <tr>\n",
       "      <th>...</th>\n",
       "      <td>...</td>\n",
       "      <td>...</td>\n",
       "      <td>...</td>\n",
       "      <td>...</td>\n",
       "      <td>...</td>\n",
       "    </tr>\n",
       "    <tr>\n",
       "      <th>LF_GG_BICLUSTER_IDENTICAL_PROTEIN</th>\n",
       "      <td>-1.0</td>\n",
       "      <td>-1.0</td>\n",
       "      <td>-1.0</td>\n",
       "      <td>-1.0</td>\n",
       "      <td>-1.0</td>\n",
       "    </tr>\n",
       "    <tr>\n",
       "      <th>LF_GG_BICLUSTER_CELL_PRODUCTION</th>\n",
       "      <td>-1.0</td>\n",
       "      <td>-1.0</td>\n",
       "      <td>-1.0</td>\n",
       "      <td>-1.0</td>\n",
       "      <td>-1.0</td>\n",
       "    </tr>\n",
       "    <tr>\n",
       "      <th>split</th>\n",
       "      <td>1.0</td>\n",
       "      <td>1.0</td>\n",
       "      <td>1.0</td>\n",
       "      <td>1.0</td>\n",
       "      <td>1.0</td>\n",
       "    </tr>\n",
       "    <tr>\n",
       "      <th>document_id</th>\n",
       "      <td>23520.0</td>\n",
       "      <td>629602.0</td>\n",
       "      <td>993337.0</td>\n",
       "      <td>1434797.0</td>\n",
       "      <td>1350353.0</td>\n",
       "    </tr>\n",
       "    <tr>\n",
       "      <th>curated_dsh</th>\n",
       "      <td>1.0</td>\n",
       "      <td>0.0</td>\n",
       "      <td>1.0</td>\n",
       "      <td>1.0</td>\n",
       "      <td>1.0</td>\n",
       "    </tr>\n",
       "  </tbody>\n",
       "</table>\n",
       "<p>107 rows × 5 columns</p>\n",
       "</div>"
      ],
      "text/plain": [
       "                                        0         8         25         33  \\\n",
       "LF_HETNET_DISEASES                    -1.0       1.0       1.0        1.0   \n",
       "LF_HETNET_DOAF                        -1.0       1.0      -1.0       -1.0   \n",
       "LF_HETNET_DisGeNET                     1.0       1.0      -1.0       -1.0   \n",
       "LF_HETNET_GWAS                        -1.0      -1.0      -1.0       -1.0   \n",
       "LF_HETNET_DaG_ABSENT                  -1.0      -1.0      -1.0       -1.0   \n",
       "...                                    ...       ...       ...        ...   \n",
       "LF_GG_BICLUSTER_IDENTICAL_PROTEIN     -1.0      -1.0      -1.0       -1.0   \n",
       "LF_GG_BICLUSTER_CELL_PRODUCTION       -1.0      -1.0      -1.0       -1.0   \n",
       "split                                  1.0       1.0       1.0        1.0   \n",
       "document_id                        23520.0  629602.0  993337.0  1434797.0   \n",
       "curated_dsh                            1.0       0.0       1.0        1.0   \n",
       "\n",
       "                                          50  \n",
       "LF_HETNET_DISEASES                       1.0  \n",
       "LF_HETNET_DOAF                          -1.0  \n",
       "LF_HETNET_DisGeNET                      -1.0  \n",
       "LF_HETNET_GWAS                          -1.0  \n",
       "LF_HETNET_DaG_ABSENT                    -1.0  \n",
       "...                                      ...  \n",
       "LF_GG_BICLUSTER_IDENTICAL_PROTEIN       -1.0  \n",
       "LF_GG_BICLUSTER_CELL_PRODUCTION         -1.0  \n",
       "split                                    1.0  \n",
       "document_id                        1350353.0  \n",
       "curated_dsh                              1.0  \n",
       "\n",
       "[107 rows x 5 columns]"
      ]
     },
     "execution_count": 6,
     "metadata": {},
     "output_type": "execute_result"
    }
   ],
   "source": [
    "L_dev = pd.read_csv(\n",
    "    str(label_candidates_dir / Path(\"dg_dev_test_candidates_resampling.tsv\")), sep=\"\\t\"\n",
    ") >> ply.query(\"split==1\")\n",
    "print(L_dev.shape)\n",
    "L_dev.head().T"
   ]
  },
  {
   "cell_type": "code",
   "execution_count": 7,
   "metadata": {
    "ExecuteTime": {
     "end_time": "2022-01-05T18:40:41.736670Z",
     "start_time": "2022-01-05T18:40:41.651800Z"
    }
   },
   "outputs": [
    {
     "name": "stdout",
     "output_type": "stream",
     "text": [
      "(1000, 107)\n"
     ]
    },
    {
     "data": {
      "text/html": [
       "<div>\n",
       "<style scoped>\n",
       "    .dataframe tbody tr th:only-of-type {\n",
       "        vertical-align: middle;\n",
       "    }\n",
       "\n",
       "    .dataframe tbody tr th {\n",
       "        vertical-align: top;\n",
       "    }\n",
       "\n",
       "    .dataframe thead th {\n",
       "        text-align: right;\n",
       "    }\n",
       "</style>\n",
       "<table border=\"1\" class=\"dataframe\">\n",
       "  <thead>\n",
       "    <tr style=\"text-align: right;\">\n",
       "      <th></th>\n",
       "      <th>1</th>\n",
       "      <th>2</th>\n",
       "      <th>3</th>\n",
       "      <th>4</th>\n",
       "      <th>5</th>\n",
       "    </tr>\n",
       "  </thead>\n",
       "  <tbody>\n",
       "    <tr>\n",
       "      <th>LF_HETNET_DISEASES</th>\n",
       "      <td>1.0</td>\n",
       "      <td>-1.0</td>\n",
       "      <td>1.0</td>\n",
       "      <td>-1.0</td>\n",
       "      <td>-1.0</td>\n",
       "    </tr>\n",
       "    <tr>\n",
       "      <th>LF_HETNET_DOAF</th>\n",
       "      <td>-1.0</td>\n",
       "      <td>-1.0</td>\n",
       "      <td>-1.0</td>\n",
       "      <td>-1.0</td>\n",
       "      <td>-1.0</td>\n",
       "    </tr>\n",
       "    <tr>\n",
       "      <th>LF_HETNET_DisGeNET</th>\n",
       "      <td>-1.0</td>\n",
       "      <td>-1.0</td>\n",
       "      <td>-1.0</td>\n",
       "      <td>-1.0</td>\n",
       "      <td>-1.0</td>\n",
       "    </tr>\n",
       "    <tr>\n",
       "      <th>LF_HETNET_GWAS</th>\n",
       "      <td>-1.0</td>\n",
       "      <td>-1.0</td>\n",
       "      <td>-1.0</td>\n",
       "      <td>-1.0</td>\n",
       "      <td>-1.0</td>\n",
       "    </tr>\n",
       "    <tr>\n",
       "      <th>LF_HETNET_DaG_ABSENT</th>\n",
       "      <td>-1.0</td>\n",
       "      <td>0.0</td>\n",
       "      <td>-1.0</td>\n",
       "      <td>0.0</td>\n",
       "      <td>0.0</td>\n",
       "    </tr>\n",
       "    <tr>\n",
       "      <th>...</th>\n",
       "      <td>...</td>\n",
       "      <td>...</td>\n",
       "      <td>...</td>\n",
       "      <td>...</td>\n",
       "      <td>...</td>\n",
       "    </tr>\n",
       "    <tr>\n",
       "      <th>LF_GG_BICLUSTER_IDENTICAL_PROTEIN</th>\n",
       "      <td>-1.0</td>\n",
       "      <td>-1.0</td>\n",
       "      <td>0.0</td>\n",
       "      <td>-1.0</td>\n",
       "      <td>-1.0</td>\n",
       "    </tr>\n",
       "    <tr>\n",
       "      <th>LF_GG_BICLUSTER_CELL_PRODUCTION</th>\n",
       "      <td>-1.0</td>\n",
       "      <td>-1.0</td>\n",
       "      <td>0.0</td>\n",
       "      <td>0.0</td>\n",
       "      <td>-1.0</td>\n",
       "    </tr>\n",
       "    <tr>\n",
       "      <th>split</th>\n",
       "      <td>2.0</td>\n",
       "      <td>2.0</td>\n",
       "      <td>2.0</td>\n",
       "      <td>2.0</td>\n",
       "      <td>2.0</td>\n",
       "    </tr>\n",
       "    <tr>\n",
       "      <th>document_id</th>\n",
       "      <td>217570.0</td>\n",
       "      <td>31141.0</td>\n",
       "      <td>266209.0</td>\n",
       "      <td>201631.0</td>\n",
       "      <td>394935.0</td>\n",
       "    </tr>\n",
       "    <tr>\n",
       "      <th>curated_dsh</th>\n",
       "      <td>0.0</td>\n",
       "      <td>1.0</td>\n",
       "      <td>1.0</td>\n",
       "      <td>0.0</td>\n",
       "      <td>0.0</td>\n",
       "    </tr>\n",
       "  </tbody>\n",
       "</table>\n",
       "<p>107 rows × 5 columns</p>\n",
       "</div>"
      ],
      "text/plain": [
       "                                          1        2         3         4  \\\n",
       "LF_HETNET_DISEASES                      1.0     -1.0       1.0      -1.0   \n",
       "LF_HETNET_DOAF                         -1.0     -1.0      -1.0      -1.0   \n",
       "LF_HETNET_DisGeNET                     -1.0     -1.0      -1.0      -1.0   \n",
       "LF_HETNET_GWAS                         -1.0     -1.0      -1.0      -1.0   \n",
       "LF_HETNET_DaG_ABSENT                   -1.0      0.0      -1.0       0.0   \n",
       "...                                     ...      ...       ...       ...   \n",
       "LF_GG_BICLUSTER_IDENTICAL_PROTEIN      -1.0     -1.0       0.0      -1.0   \n",
       "LF_GG_BICLUSTER_CELL_PRODUCTION        -1.0     -1.0       0.0       0.0   \n",
       "split                                   2.0      2.0       2.0       2.0   \n",
       "document_id                        217570.0  31141.0  266209.0  201631.0   \n",
       "curated_dsh                             0.0      1.0       1.0       0.0   \n",
       "\n",
       "                                          5  \n",
       "LF_HETNET_DISEASES                     -1.0  \n",
       "LF_HETNET_DOAF                         -1.0  \n",
       "LF_HETNET_DisGeNET                     -1.0  \n",
       "LF_HETNET_GWAS                         -1.0  \n",
       "LF_HETNET_DaG_ABSENT                    0.0  \n",
       "...                                     ...  \n",
       "LF_GG_BICLUSTER_IDENTICAL_PROTEIN      -1.0  \n",
       "LF_GG_BICLUSTER_CELL_PRODUCTION        -1.0  \n",
       "split                                   2.0  \n",
       "document_id                        394935.0  \n",
       "curated_dsh                             0.0  \n",
       "\n",
       "[107 rows x 5 columns]"
      ]
     },
     "execution_count": 7,
     "metadata": {},
     "output_type": "execute_result"
    }
   ],
   "source": [
    "L_test = pd.read_csv(\n",
    "    str(label_candidates_dir / Path(\"dg_dev_test_candidates_resampling.tsv\")), sep=\"\\t\"\n",
    ") >> ply.query(\"split==2\")\n",
    "print(L_test.shape)\n",
    "L_test.head().T"
   ]
  },
  {
   "cell_type": "markdown",
   "metadata": {},
   "source": [
    "## Resort the Candidates Based on Abstract"
   ]
  },
  {
   "cell_type": "code",
   "execution_count": 8,
   "metadata": {
    "ExecuteTime": {
     "end_time": "2022-01-05T18:46:52.855811Z",
     "start_time": "2022-01-05T18:40:41.738758Z"
    }
   },
   "outputs": [
    {
     "data": {
      "text/html": [
       "<div>\n",
       "<style scoped>\n",
       "    .dataframe tbody tr th:only-of-type {\n",
       "        vertical-align: middle;\n",
       "    }\n",
       "\n",
       "    .dataframe tbody tr th {\n",
       "        vertical-align: top;\n",
       "    }\n",
       "\n",
       "    .dataframe thead th {\n",
       "        text-align: right;\n",
       "    }\n",
       "</style>\n",
       "<table border=\"1\" class=\"dataframe\">\n",
       "  <thead>\n",
       "    <tr style=\"text-align: right;\">\n",
       "      <th></th>\n",
       "      <th>sentence_id</th>\n",
       "      <th>document_id</th>\n",
       "      <th>candidate_id</th>\n",
       "    </tr>\n",
       "  </thead>\n",
       "  <tbody>\n",
       "    <tr>\n",
       "      <th>0</th>\n",
       "      <td>577814033</td>\n",
       "      <td>8168034</td>\n",
       "      <td>3623</td>\n",
       "    </tr>\n",
       "    <tr>\n",
       "      <th>1</th>\n",
       "      <td>592544979</td>\n",
       "      <td>12960042</td>\n",
       "      <td>11812</td>\n",
       "    </tr>\n",
       "    <tr>\n",
       "      <th>2</th>\n",
       "      <td>298670465</td>\n",
       "      <td>26635731</td>\n",
       "      <td>33796</td>\n",
       "    </tr>\n",
       "    <tr>\n",
       "      <th>3</th>\n",
       "      <td>409575187</td>\n",
       "      <td>23452434</td>\n",
       "      <td>51810</td>\n",
       "    </tr>\n",
       "    <tr>\n",
       "      <th>4</th>\n",
       "      <td>588478777</td>\n",
       "      <td>18324346</td>\n",
       "      <td>57316</td>\n",
       "    </tr>\n",
       "  </tbody>\n",
       "</table>\n",
       "</div>"
      ],
      "text/plain": [
       "   sentence_id  document_id  candidate_id\n",
       "0    577814033      8168034          3623\n",
       "1    592544979     12960042         11812\n",
       "2    298670465     26635731         33796\n",
       "3    409575187     23452434         51810\n",
       "4    588478777     18324346         57316"
      ]
     },
     "execution_count": 8,
     "metadata": {},
     "output_type": "execute_result"
    }
   ],
   "source": [
    "# Grab the document ids for resampling\n",
    "sql = \"\"\"\n",
    "select dg_candidates.sentence_id, document_id, dg_candidates.candidate_id from sentence\n",
    "inner join (\n",
    "  select candidate.candidate_id, disease_gene.sentence_id from disease_gene\n",
    "  inner join candidate on candidate.candidate_id=disease_gene.candidate_id\n",
    "  ) as dg_candidates\n",
    "on sentence.sentence_id = dg_candidates.sentence_id\n",
    "\"\"\"\n",
    "candidate_doc_df = pd.read_sql(sql, database_str)\n",
    "candidate_doc_df.head()"
   ]
  },
  {
   "cell_type": "code",
   "execution_count": 9,
   "metadata": {
    "ExecuteTime": {
     "end_time": "2022-01-05T18:46:52.937535Z",
     "start_time": "2022-01-05T18:46:52.857764Z"
    }
   },
   "outputs": [],
   "source": [
    "dev_test_ids = (\n",
    "    L_dev >> ply.select(\"document_id\") >> ply.distinct() >> ply.pull(\"document_id\")\n",
    ")\n",
    "\n",
    "filtered_candidate_id = (\n",
    "    candidate_doc_df\n",
    "    >> ply.query(f\"document_id in {list(dev_test_ids)}\")\n",
    "    >> ply.pull(\"candidate_id\")\n",
    ")"
   ]
  },
  {
   "cell_type": "code",
   "execution_count": 10,
   "metadata": {
    "ExecuteTime": {
     "end_time": "2022-01-05T18:46:53.131284Z",
     "start_time": "2022-01-05T18:46:52.939042Z"
    }
   },
   "outputs": [
    {
     "data": {
      "text/html": [
       "<div>\n",
       "<style scoped>\n",
       "    .dataframe tbody tr th:only-of-type {\n",
       "        vertical-align: middle;\n",
       "    }\n",
       "\n",
       "    .dataframe tbody tr th {\n",
       "        vertical-align: top;\n",
       "    }\n",
       "\n",
       "    .dataframe thead th {\n",
       "        text-align: right;\n",
       "    }\n",
       "</style>\n",
       "<table border=\"1\" class=\"dataframe\">\n",
       "  <thead>\n",
       "    <tr style=\"text-align: right;\">\n",
       "      <th></th>\n",
       "      <th>document_id</th>\n",
       "      <th>dataset</th>\n",
       "    </tr>\n",
       "  </thead>\n",
       "  <tbody>\n",
       "    <tr>\n",
       "      <th>0</th>\n",
       "      <td>8168034</td>\n",
       "      <td>train</td>\n",
       "    </tr>\n",
       "    <tr>\n",
       "      <th>1</th>\n",
       "      <td>12960042</td>\n",
       "      <td>train</td>\n",
       "    </tr>\n",
       "    <tr>\n",
       "      <th>2</th>\n",
       "      <td>26635731</td>\n",
       "      <td>train</td>\n",
       "    </tr>\n",
       "    <tr>\n",
       "      <th>3</th>\n",
       "      <td>23452434</td>\n",
       "      <td>tune</td>\n",
       "    </tr>\n",
       "    <tr>\n",
       "      <th>4</th>\n",
       "      <td>18324346</td>\n",
       "      <td>train</td>\n",
       "    </tr>\n",
       "  </tbody>\n",
       "</table>\n",
       "</div>"
      ],
      "text/plain": [
       "   document_id dataset\n",
       "0      8168034   train\n",
       "1     12960042   train\n",
       "2     26635731   train\n",
       "3     23452434    tune\n",
       "4     18324346   train"
      ]
     },
     "execution_count": 10,
     "metadata": {},
     "output_type": "execute_result"
    }
   ],
   "source": [
    "sorted_train_df = pd.read_csv(\n",
    "    str(notebook_output_dir / Path(\"dag_dataset_mapper.tsv\")), sep=\"\\t\"\n",
    ")\n",
    "sorted_train_df.head()"
   ]
  },
  {
   "cell_type": "code",
   "execution_count": 11,
   "metadata": {
    "ExecuteTime": {
     "end_time": "2022-01-05T18:46:53.780813Z",
     "start_time": "2022-01-05T18:46:53.132466Z"
    }
   },
   "outputs": [],
   "source": [
    "trained_documents = (\n",
    "    sorted_train_df\n",
    "    >> ply.inner_join(candidate_doc_df, on=\"document_id\")\n",
    "    >> ply.query(\"dataset=='train'\")\n",
    "    >> ply.pull(\"candidate_id\")\n",
    ")"
   ]
  },
  {
   "cell_type": "code",
   "execution_count": 12,
   "metadata": {
    "ExecuteTime": {
     "end_time": "2022-01-05T18:47:33.699353Z",
     "start_time": "2022-01-05T18:46:53.782055Z"
    }
   },
   "outputs": [
    {
     "name": "stdout",
     "output_type": "stream",
     "text": [
      "(1076965, 105)\n"
     ]
    },
    {
     "data": {
      "text/html": [
       "<div>\n",
       "<style scoped>\n",
       "    .dataframe tbody tr th:only-of-type {\n",
       "        vertical-align: middle;\n",
       "    }\n",
       "\n",
       "    .dataframe tbody tr th {\n",
       "        vertical-align: top;\n",
       "    }\n",
       "\n",
       "    .dataframe thead th {\n",
       "        text-align: right;\n",
       "    }\n",
       "</style>\n",
       "<table border=\"1\" class=\"dataframe\">\n",
       "  <thead>\n",
       "    <tr style=\"text-align: right;\">\n",
       "      <th></th>\n",
       "      <th>LF_HETNET_DISEASES</th>\n",
       "      <th>LF_HETNET_DOAF</th>\n",
       "      <th>LF_HETNET_DisGeNET</th>\n",
       "      <th>LF_HETNET_GWAS</th>\n",
       "      <th>LF_HETNET_DaG_ABSENT</th>\n",
       "      <th>LF_DG_IS_BIOMARKER</th>\n",
       "      <th>LF_DaG_ASSOCIATION</th>\n",
       "      <th>LF_DaG_WEAK_ASSOCIATION</th>\n",
       "      <th>LF_DaG_NO_ASSOCIATION</th>\n",
       "      <th>LF_DaG_CELLULAR_ACTIVITY</th>\n",
       "      <th>...</th>\n",
       "      <th>LF_GG_NO_VERB</th>\n",
       "      <th>LF_GG_BICLUSTER_BINDING</th>\n",
       "      <th>LF_GG_BICLUSTER_ENHANCES</th>\n",
       "      <th>LF_GG_BICLUSTER_ACTIVATES</th>\n",
       "      <th>LF_GG_BICLUSTER_AFFECTS_EXPRESSION</th>\n",
       "      <th>LF_GG_BICLUSTER_INCREASES_EXPRESSION</th>\n",
       "      <th>LF_GG_BICLUSTER_SIGNALING</th>\n",
       "      <th>LF_GG_BICLUSTER_IDENTICAL_PROTEIN</th>\n",
       "      <th>LF_GG_BICLUSTER_CELL_PRODUCTION</th>\n",
       "      <th>candidate_id</th>\n",
       "    </tr>\n",
       "  </thead>\n",
       "  <tbody>\n",
       "    <tr>\n",
       "      <th>0</th>\n",
       "      <td>-1</td>\n",
       "      <td>-1</td>\n",
       "      <td>-1</td>\n",
       "      <td>-1</td>\n",
       "      <td>0</td>\n",
       "      <td>-1</td>\n",
       "      <td>-1</td>\n",
       "      <td>-1</td>\n",
       "      <td>-1</td>\n",
       "      <td>-1</td>\n",
       "      <td>...</td>\n",
       "      <td>-1</td>\n",
       "      <td>-1</td>\n",
       "      <td>-1</td>\n",
       "      <td>-1</td>\n",
       "      <td>-1</td>\n",
       "      <td>-1</td>\n",
       "      <td>-1</td>\n",
       "      <td>-1</td>\n",
       "      <td>-1</td>\n",
       "      <td>121</td>\n",
       "    </tr>\n",
       "    <tr>\n",
       "      <th>1</th>\n",
       "      <td>-1</td>\n",
       "      <td>-1</td>\n",
       "      <td>-1</td>\n",
       "      <td>-1</td>\n",
       "      <td>0</td>\n",
       "      <td>-1</td>\n",
       "      <td>-1</td>\n",
       "      <td>-1</td>\n",
       "      <td>-1</td>\n",
       "      <td>-1</td>\n",
       "      <td>...</td>\n",
       "      <td>-1</td>\n",
       "      <td>-1</td>\n",
       "      <td>-1</td>\n",
       "      <td>-1</td>\n",
       "      <td>-1</td>\n",
       "      <td>-1</td>\n",
       "      <td>-1</td>\n",
       "      <td>-1</td>\n",
       "      <td>-1</td>\n",
       "      <td>122</td>\n",
       "    </tr>\n",
       "    <tr>\n",
       "      <th>2</th>\n",
       "      <td>-1</td>\n",
       "      <td>-1</td>\n",
       "      <td>-1</td>\n",
       "      <td>-1</td>\n",
       "      <td>0</td>\n",
       "      <td>-1</td>\n",
       "      <td>-1</td>\n",
       "      <td>-1</td>\n",
       "      <td>-1</td>\n",
       "      <td>-1</td>\n",
       "      <td>...</td>\n",
       "      <td>-1</td>\n",
       "      <td>1</td>\n",
       "      <td>-1</td>\n",
       "      <td>-1</td>\n",
       "      <td>-1</td>\n",
       "      <td>-1</td>\n",
       "      <td>1</td>\n",
       "      <td>-1</td>\n",
       "      <td>-1</td>\n",
       "      <td>124</td>\n",
       "    </tr>\n",
       "    <tr>\n",
       "      <th>3</th>\n",
       "      <td>-1</td>\n",
       "      <td>-1</td>\n",
       "      <td>1</td>\n",
       "      <td>-1</td>\n",
       "      <td>-1</td>\n",
       "      <td>-1</td>\n",
       "      <td>-1</td>\n",
       "      <td>-1</td>\n",
       "      <td>-1</td>\n",
       "      <td>-1</td>\n",
       "      <td>...</td>\n",
       "      <td>-1</td>\n",
       "      <td>-1</td>\n",
       "      <td>-1</td>\n",
       "      <td>-1</td>\n",
       "      <td>-1</td>\n",
       "      <td>-1</td>\n",
       "      <td>-1</td>\n",
       "      <td>-1</td>\n",
       "      <td>-1</td>\n",
       "      <td>148</td>\n",
       "    </tr>\n",
       "    <tr>\n",
       "      <th>4</th>\n",
       "      <td>-1</td>\n",
       "      <td>-1</td>\n",
       "      <td>-1</td>\n",
       "      <td>-1</td>\n",
       "      <td>0</td>\n",
       "      <td>-1</td>\n",
       "      <td>-1</td>\n",
       "      <td>-1</td>\n",
       "      <td>-1</td>\n",
       "      <td>-1</td>\n",
       "      <td>...</td>\n",
       "      <td>-1</td>\n",
       "      <td>-1</td>\n",
       "      <td>-1</td>\n",
       "      <td>-1</td>\n",
       "      <td>-1</td>\n",
       "      <td>-1</td>\n",
       "      <td>-1</td>\n",
       "      <td>-1</td>\n",
       "      <td>-1</td>\n",
       "      <td>190</td>\n",
       "    </tr>\n",
       "  </tbody>\n",
       "</table>\n",
       "<p>5 rows × 105 columns</p>\n",
       "</div>"
      ],
      "text/plain": [
       "   LF_HETNET_DISEASES  LF_HETNET_DOAF  LF_HETNET_DisGeNET  LF_HETNET_GWAS  \\\n",
       "0                  -1              -1                  -1              -1   \n",
       "1                  -1              -1                  -1              -1   \n",
       "2                  -1              -1                  -1              -1   \n",
       "3                  -1              -1                   1              -1   \n",
       "4                  -1              -1                  -1              -1   \n",
       "\n",
       "   LF_HETNET_DaG_ABSENT  LF_DG_IS_BIOMARKER  LF_DaG_ASSOCIATION  \\\n",
       "0                     0                  -1                  -1   \n",
       "1                     0                  -1                  -1   \n",
       "2                     0                  -1                  -1   \n",
       "3                    -1                  -1                  -1   \n",
       "4                     0                  -1                  -1   \n",
       "\n",
       "   LF_DaG_WEAK_ASSOCIATION  LF_DaG_NO_ASSOCIATION  LF_DaG_CELLULAR_ACTIVITY  \\\n",
       "0                       -1                     -1                        -1   \n",
       "1                       -1                     -1                        -1   \n",
       "2                       -1                     -1                        -1   \n",
       "3                       -1                     -1                        -1   \n",
       "4                       -1                     -1                        -1   \n",
       "\n",
       "   ...  LF_GG_NO_VERB  LF_GG_BICLUSTER_BINDING  LF_GG_BICLUSTER_ENHANCES  \\\n",
       "0  ...             -1                       -1                        -1   \n",
       "1  ...             -1                       -1                        -1   \n",
       "2  ...             -1                        1                        -1   \n",
       "3  ...             -1                       -1                        -1   \n",
       "4  ...             -1                       -1                        -1   \n",
       "\n",
       "   LF_GG_BICLUSTER_ACTIVATES  LF_GG_BICLUSTER_AFFECTS_EXPRESSION  \\\n",
       "0                         -1                                  -1   \n",
       "1                         -1                                  -1   \n",
       "2                         -1                                  -1   \n",
       "3                         -1                                  -1   \n",
       "4                         -1                                  -1   \n",
       "\n",
       "   LF_GG_BICLUSTER_INCREASES_EXPRESSION  LF_GG_BICLUSTER_SIGNALING  \\\n",
       "0                                    -1                         -1   \n",
       "1                                    -1                         -1   \n",
       "2                                    -1                          1   \n",
       "3                                    -1                         -1   \n",
       "4                                    -1                         -1   \n",
       "\n",
       "   LF_GG_BICLUSTER_IDENTICAL_PROTEIN  LF_GG_BICLUSTER_CELL_PRODUCTION  \\\n",
       "0                                 -1                               -1   \n",
       "1                                 -1                               -1   \n",
       "2                                 -1                               -1   \n",
       "3                                 -1                               -1   \n",
       "4                                 -1                               -1   \n",
       "\n",
       "   candidate_id  \n",
       "0           121  \n",
       "1           122  \n",
       "2           124  \n",
       "3           148  \n",
       "4           190  \n",
       "\n",
       "[5 rows x 105 columns]"
      ]
     },
     "execution_count": 12,
     "metadata": {},
     "output_type": "execute_result"
    }
   ],
   "source": [
    "filtered_L_abstracts = L_abstracts >> ply.query(\n",
    "    f\"candidate_id in {list(trained_documents)}\"\n",
    ")\n",
    "print(filtered_L_abstracts.shape)\n",
    "filtered_L_abstracts.head()"
   ]
  },
  {
   "cell_type": "code",
   "execution_count": 13,
   "metadata": {
    "ExecuteTime": {
     "end_time": "2022-01-05T18:48:13.376752Z",
     "start_time": "2022-01-05T18:47:33.700511Z"
    }
   },
   "outputs": [
    {
     "name": "stdout",
     "output_type": "stream",
     "text": [
      "(1372364, 105)\n"
     ]
    },
    {
     "data": {
      "text/html": [
       "<div>\n",
       "<style scoped>\n",
       "    .dataframe tbody tr th:only-of-type {\n",
       "        vertical-align: middle;\n",
       "    }\n",
       "\n",
       "    .dataframe tbody tr th {\n",
       "        vertical-align: top;\n",
       "    }\n",
       "\n",
       "    .dataframe thead th {\n",
       "        text-align: right;\n",
       "    }\n",
       "</style>\n",
       "<table border=\"1\" class=\"dataframe\">\n",
       "  <thead>\n",
       "    <tr style=\"text-align: right;\">\n",
       "      <th></th>\n",
       "      <th>LF_HETNET_DISEASES</th>\n",
       "      <th>LF_HETNET_DOAF</th>\n",
       "      <th>LF_HETNET_DisGeNET</th>\n",
       "      <th>LF_HETNET_GWAS</th>\n",
       "      <th>LF_HETNET_DaG_ABSENT</th>\n",
       "      <th>LF_DG_IS_BIOMARKER</th>\n",
       "      <th>LF_DaG_ASSOCIATION</th>\n",
       "      <th>LF_DaG_WEAK_ASSOCIATION</th>\n",
       "      <th>LF_DaG_NO_ASSOCIATION</th>\n",
       "      <th>LF_DaG_CELLULAR_ACTIVITY</th>\n",
       "      <th>...</th>\n",
       "      <th>LF_GG_NO_VERB</th>\n",
       "      <th>LF_GG_BICLUSTER_BINDING</th>\n",
       "      <th>LF_GG_BICLUSTER_ENHANCES</th>\n",
       "      <th>LF_GG_BICLUSTER_ACTIVATES</th>\n",
       "      <th>LF_GG_BICLUSTER_AFFECTS_EXPRESSION</th>\n",
       "      <th>LF_GG_BICLUSTER_INCREASES_EXPRESSION</th>\n",
       "      <th>LF_GG_BICLUSTER_SIGNALING</th>\n",
       "      <th>LF_GG_BICLUSTER_IDENTICAL_PROTEIN</th>\n",
       "      <th>LF_GG_BICLUSTER_CELL_PRODUCTION</th>\n",
       "      <th>candidate_id</th>\n",
       "    </tr>\n",
       "  </thead>\n",
       "  <tbody>\n",
       "    <tr>\n",
       "      <th>0</th>\n",
       "      <td>-1</td>\n",
       "      <td>-1</td>\n",
       "      <td>-1</td>\n",
       "      <td>-1</td>\n",
       "      <td>0</td>\n",
       "      <td>1</td>\n",
       "      <td>1</td>\n",
       "      <td>-1</td>\n",
       "      <td>-1</td>\n",
       "      <td>-1</td>\n",
       "      <td>...</td>\n",
       "      <td>-1</td>\n",
       "      <td>-1</td>\n",
       "      <td>-1</td>\n",
       "      <td>-1</td>\n",
       "      <td>-1</td>\n",
       "      <td>-1</td>\n",
       "      <td>-1</td>\n",
       "      <td>-1</td>\n",
       "      <td>-1</td>\n",
       "      <td>97</td>\n",
       "    </tr>\n",
       "    <tr>\n",
       "      <th>1</th>\n",
       "      <td>-1</td>\n",
       "      <td>-1</td>\n",
       "      <td>-1</td>\n",
       "      <td>-1</td>\n",
       "      <td>0</td>\n",
       "      <td>-1</td>\n",
       "      <td>1</td>\n",
       "      <td>-1</td>\n",
       "      <td>-1</td>\n",
       "      <td>-1</td>\n",
       "      <td>...</td>\n",
       "      <td>-1</td>\n",
       "      <td>1</td>\n",
       "      <td>-1</td>\n",
       "      <td>-1</td>\n",
       "      <td>-1</td>\n",
       "      <td>-1</td>\n",
       "      <td>-1</td>\n",
       "      <td>-1</td>\n",
       "      <td>0</td>\n",
       "      <td>98</td>\n",
       "    </tr>\n",
       "    <tr>\n",
       "      <th>2</th>\n",
       "      <td>-1</td>\n",
       "      <td>-1</td>\n",
       "      <td>-1</td>\n",
       "      <td>-1</td>\n",
       "      <td>0</td>\n",
       "      <td>1</td>\n",
       "      <td>1</td>\n",
       "      <td>-1</td>\n",
       "      <td>-1</td>\n",
       "      <td>-1</td>\n",
       "      <td>...</td>\n",
       "      <td>-1</td>\n",
       "      <td>-1</td>\n",
       "      <td>-1</td>\n",
       "      <td>-1</td>\n",
       "      <td>-1</td>\n",
       "      <td>-1</td>\n",
       "      <td>-1</td>\n",
       "      <td>-1</td>\n",
       "      <td>-1</td>\n",
       "      <td>100</td>\n",
       "    </tr>\n",
       "    <tr>\n",
       "      <th>3</th>\n",
       "      <td>-1</td>\n",
       "      <td>-1</td>\n",
       "      <td>-1</td>\n",
       "      <td>-1</td>\n",
       "      <td>0</td>\n",
       "      <td>-1</td>\n",
       "      <td>-1</td>\n",
       "      <td>-1</td>\n",
       "      <td>-1</td>\n",
       "      <td>-1</td>\n",
       "      <td>...</td>\n",
       "      <td>-1</td>\n",
       "      <td>-1</td>\n",
       "      <td>-1</td>\n",
       "      <td>-1</td>\n",
       "      <td>-1</td>\n",
       "      <td>-1</td>\n",
       "      <td>-1</td>\n",
       "      <td>-1</td>\n",
       "      <td>-1</td>\n",
       "      <td>101</td>\n",
       "    </tr>\n",
       "    <tr>\n",
       "      <th>4</th>\n",
       "      <td>-1</td>\n",
       "      <td>-1</td>\n",
       "      <td>-1</td>\n",
       "      <td>-1</td>\n",
       "      <td>0</td>\n",
       "      <td>-1</td>\n",
       "      <td>1</td>\n",
       "      <td>-1</td>\n",
       "      <td>-1</td>\n",
       "      <td>-1</td>\n",
       "      <td>...</td>\n",
       "      <td>-1</td>\n",
       "      <td>-1</td>\n",
       "      <td>-1</td>\n",
       "      <td>-1</td>\n",
       "      <td>-1</td>\n",
       "      <td>-1</td>\n",
       "      <td>-1</td>\n",
       "      <td>-1</td>\n",
       "      <td>-1</td>\n",
       "      <td>102</td>\n",
       "    </tr>\n",
       "  </tbody>\n",
       "</table>\n",
       "<p>5 rows × 105 columns</p>\n",
       "</div>"
      ],
      "text/plain": [
       "   LF_HETNET_DISEASES  LF_HETNET_DOAF  LF_HETNET_DisGeNET  LF_HETNET_GWAS  \\\n",
       "0                  -1              -1                  -1              -1   \n",
       "1                  -1              -1                  -1              -1   \n",
       "2                  -1              -1                  -1              -1   \n",
       "3                  -1              -1                  -1              -1   \n",
       "4                  -1              -1                  -1              -1   \n",
       "\n",
       "   LF_HETNET_DaG_ABSENT  LF_DG_IS_BIOMARKER  LF_DaG_ASSOCIATION  \\\n",
       "0                     0                   1                   1   \n",
       "1                     0                  -1                   1   \n",
       "2                     0                   1                   1   \n",
       "3                     0                  -1                  -1   \n",
       "4                     0                  -1                   1   \n",
       "\n",
       "   LF_DaG_WEAK_ASSOCIATION  LF_DaG_NO_ASSOCIATION  LF_DaG_CELLULAR_ACTIVITY  \\\n",
       "0                       -1                     -1                        -1   \n",
       "1                       -1                     -1                        -1   \n",
       "2                       -1                     -1                        -1   \n",
       "3                       -1                     -1                        -1   \n",
       "4                       -1                     -1                        -1   \n",
       "\n",
       "   ...  LF_GG_NO_VERB  LF_GG_BICLUSTER_BINDING  LF_GG_BICLUSTER_ENHANCES  \\\n",
       "0  ...             -1                       -1                        -1   \n",
       "1  ...             -1                        1                        -1   \n",
       "2  ...             -1                       -1                        -1   \n",
       "3  ...             -1                       -1                        -1   \n",
       "4  ...             -1                       -1                        -1   \n",
       "\n",
       "   LF_GG_BICLUSTER_ACTIVATES  LF_GG_BICLUSTER_AFFECTS_EXPRESSION  \\\n",
       "0                         -1                                  -1   \n",
       "1                         -1                                  -1   \n",
       "2                         -1                                  -1   \n",
       "3                         -1                                  -1   \n",
       "4                         -1                                  -1   \n",
       "\n",
       "   LF_GG_BICLUSTER_INCREASES_EXPRESSION  LF_GG_BICLUSTER_SIGNALING  \\\n",
       "0                                    -1                         -1   \n",
       "1                                    -1                         -1   \n",
       "2                                    -1                         -1   \n",
       "3                                    -1                         -1   \n",
       "4                                    -1                         -1   \n",
       "\n",
       "   LF_GG_BICLUSTER_IDENTICAL_PROTEIN  LF_GG_BICLUSTER_CELL_PRODUCTION  \\\n",
       "0                                 -1                               -1   \n",
       "1                                 -1                                0   \n",
       "2                                 -1                               -1   \n",
       "3                                 -1                               -1   \n",
       "4                                 -1                               -1   \n",
       "\n",
       "   candidate_id  \n",
       "0            97  \n",
       "1            98  \n",
       "2           100  \n",
       "3           101  \n",
       "4           102  \n",
       "\n",
       "[5 rows x 105 columns]"
      ]
     },
     "execution_count": 13,
     "metadata": {},
     "output_type": "execute_result"
    }
   ],
   "source": [
    "filtered_L_full_text = L_full_text >> ply.query(\n",
    "    f\"candidate_id in {list(trained_documents)}\"\n",
    ")\n",
    "print(filtered_L_full_text.shape)\n",
    "filtered_L_full_text.head()"
   ]
  },
  {
   "cell_type": "markdown",
   "metadata": {},
   "source": [
    "## Construct the Grid Search"
   ]
  },
  {
   "cell_type": "code",
   "execution_count": 14,
   "metadata": {
    "ExecuteTime": {
     "end_time": "2022-01-05T18:48:13.380931Z",
     "start_time": "2022-01-05T18:48:13.378083Z"
    }
   },
   "outputs": [],
   "source": [
    "# Global Grid\n",
    "epochs_grid = [250]\n",
    "l2_param_grid = np.linspace(0.01, 5, num=5)\n",
    "lr_grid = [1e-3]\n",
    "grid = list(\n",
    "    zip(epochs_grid * len(l2_param_grid), l2_param_grid, lr_grid * len(l2_param_grid))\n",
    ")"
   ]
  },
  {
   "cell_type": "markdown",
   "metadata": {},
   "source": [
    "# Abstracts"
   ]
  },
  {
   "cell_type": "code",
   "execution_count": 15,
   "metadata": {
    "ExecuteTime": {
     "end_time": "2022-01-05T18:48:26.539027Z",
     "start_time": "2022-01-05T18:48:13.382162Z"
    }
   },
   "outputs": [
    {
     "data": {
      "text/html": [
       "<div>\n",
       "<style scoped>\n",
       "    .dataframe tbody tr th:only-of-type {\n",
       "        vertical-align: middle;\n",
       "    }\n",
       "\n",
       "    .dataframe tbody tr th {\n",
       "        vertical-align: top;\n",
       "    }\n",
       "\n",
       "    .dataframe thead th {\n",
       "        text-align: right;\n",
       "    }\n",
       "</style>\n",
       "<table border=\"1\" class=\"dataframe\">\n",
       "  <thead>\n",
       "    <tr style=\"text-align: right;\">\n",
       "      <th></th>\n",
       "      <th>Polarity</th>\n",
       "      <th>Coverage</th>\n",
       "      <th>Overlaps</th>\n",
       "      <th>Conflicts</th>\n",
       "    </tr>\n",
       "  </thead>\n",
       "  <tbody>\n",
       "    <tr>\n",
       "      <th>LF_HETNET_DISEASES</th>\n",
       "      <td>[1]</td>\n",
       "      <td>0.325606</td>\n",
       "      <td>0.325606</td>\n",
       "      <td>0.325606</td>\n",
       "    </tr>\n",
       "    <tr>\n",
       "      <th>LF_HETNET_DOAF</th>\n",
       "      <td>[1]</td>\n",
       "      <td>0.145826</td>\n",
       "      <td>0.145826</td>\n",
       "      <td>0.145826</td>\n",
       "    </tr>\n",
       "    <tr>\n",
       "      <th>LF_HETNET_DisGeNET</th>\n",
       "      <td>[1]</td>\n",
       "      <td>0.299600</td>\n",
       "      <td>0.299600</td>\n",
       "      <td>0.299600</td>\n",
       "    </tr>\n",
       "    <tr>\n",
       "      <th>LF_HETNET_GWAS</th>\n",
       "      <td>[1]</td>\n",
       "      <td>0.036476</td>\n",
       "      <td>0.036476</td>\n",
       "      <td>0.036476</td>\n",
       "    </tr>\n",
       "    <tr>\n",
       "      <th>LF_HETNET_DaG_ABSENT</th>\n",
       "      <td>[0]</td>\n",
       "      <td>0.574512</td>\n",
       "      <td>0.574512</td>\n",
       "      <td>0.574512</td>\n",
       "    </tr>\n",
       "    <tr>\n",
       "      <th>...</th>\n",
       "      <td>...</td>\n",
       "      <td>...</td>\n",
       "      <td>...</td>\n",
       "      <td>...</td>\n",
       "    </tr>\n",
       "    <tr>\n",
       "      <th>LF_GG_BICLUSTER_AFFECTS_EXPRESSION</th>\n",
       "      <td>[1]</td>\n",
       "      <td>0.020184</td>\n",
       "      <td>0.020184</td>\n",
       "      <td>0.020184</td>\n",
       "    </tr>\n",
       "    <tr>\n",
       "      <th>LF_GG_BICLUSTER_INCREASES_EXPRESSION</th>\n",
       "      <td>[0]</td>\n",
       "      <td>0.042169</td>\n",
       "      <td>0.042169</td>\n",
       "      <td>0.042169</td>\n",
       "    </tr>\n",
       "    <tr>\n",
       "      <th>LF_GG_BICLUSTER_SIGNALING</th>\n",
       "      <td>[1]</td>\n",
       "      <td>0.046558</td>\n",
       "      <td>0.046558</td>\n",
       "      <td>0.046558</td>\n",
       "    </tr>\n",
       "    <tr>\n",
       "      <th>LF_GG_BICLUSTER_IDENTICAL_PROTEIN</th>\n",
       "      <td>[0]</td>\n",
       "      <td>0.023896</td>\n",
       "      <td>0.023896</td>\n",
       "      <td>0.023896</td>\n",
       "    </tr>\n",
       "    <tr>\n",
       "      <th>LF_GG_BICLUSTER_CELL_PRODUCTION</th>\n",
       "      <td>[0]</td>\n",
       "      <td>0.042517</td>\n",
       "      <td>0.042517</td>\n",
       "      <td>0.042517</td>\n",
       "    </tr>\n",
       "  </tbody>\n",
       "</table>\n",
       "<p>104 rows × 4 columns</p>\n",
       "</div>"
      ],
      "text/plain": [
       "                                     Polarity  Coverage  Overlaps  Conflicts\n",
       "LF_HETNET_DISEASES                        [1]  0.325606  0.325606   0.325606\n",
       "LF_HETNET_DOAF                            [1]  0.145826  0.145826   0.145826\n",
       "LF_HETNET_DisGeNET                        [1]  0.299600  0.299600   0.299600\n",
       "LF_HETNET_GWAS                            [1]  0.036476  0.036476   0.036476\n",
       "LF_HETNET_DaG_ABSENT                      [0]  0.574512  0.574512   0.574512\n",
       "...                                       ...       ...       ...        ...\n",
       "LF_GG_BICLUSTER_AFFECTS_EXPRESSION        [1]  0.020184  0.020184   0.020184\n",
       "LF_GG_BICLUSTER_INCREASES_EXPRESSION      [0]  0.042169  0.042169   0.042169\n",
       "LF_GG_BICLUSTER_SIGNALING                 [1]  0.046558  0.046558   0.046558\n",
       "LF_GG_BICLUSTER_IDENTICAL_PROTEIN         [0]  0.023896  0.023896   0.023896\n",
       "LF_GG_BICLUSTER_CELL_PRODUCTION           [0]  0.042517  0.042517   0.042517\n",
       "\n",
       "[104 rows x 4 columns]"
      ]
     },
     "execution_count": 15,
     "metadata": {},
     "output_type": "execute_result"
    }
   ],
   "source": [
    "analysis_module = LFAnalysis(\n",
    "    filtered_L_abstracts >> ply.select(\"candidate_id\", drop=True)\n",
    ")\n",
    "\n",
    "abstract_lf_summary = analysis_module.lf_summary()\n",
    "abstract_lf_summary.index = (\n",
    "    filtered_L_abstracts >> ply.select(\"candidate_id\", drop=True)\n",
    ").columns.tolist()\n",
    "abstract_lf_summary"
   ]
  },
  {
   "cell_type": "markdown",
   "metadata": {},
   "source": [
    "# Set up For Resampling"
   ]
  },
  {
   "cell_type": "code",
   "execution_count": 16,
   "metadata": {
    "ExecuteTime": {
     "end_time": "2022-01-05T18:48:26.542275Z",
     "start_time": "2022-01-05T18:48:26.540195Z"
    }
   },
   "outputs": [],
   "source": [
    "lf_columns_base = list(L_abstracts.columns[0:5])\n",
    "data_columns = []"
   ]
  },
  {
   "cell_type": "markdown",
   "metadata": {},
   "source": [
    "# Abstracts"
   ]
  },
  {
   "cell_type": "markdown",
   "metadata": {},
   "source": [
    "## Baseline"
   ]
  },
  {
   "cell_type": "code",
   "execution_count": 17,
   "metadata": {
    "ExecuteTime": {
     "end_time": "2022-01-05T18:48:26.575587Z",
     "start_time": "2022-01-05T18:48:26.543609Z"
    }
   },
   "outputs": [],
   "source": [
    "dag_start = 0\n",
    "dag_end = 5\n",
    "number_of_samples = 1\n",
    "\n",
    "dag_lf_range = range(dag_start, dag_end)\n",
    "size_of_samples = [len(dag_lf_range)]"
   ]
  },
  {
   "cell_type": "code",
   "execution_count": 18,
   "metadata": {
    "ExecuteTime": {
     "end_time": "2022-01-05T18:48:26.602643Z",
     "start_time": "2022-01-05T18:48:26.576714Z"
    }
   },
   "outputs": [],
   "source": [
    "sampled_lfs_dict = {\n",
    "    sample_size: (\n",
    "        sample_lfs(\n",
    "            list(dag_lf_range),\n",
    "            len(list(dag_lf_range)),\n",
    "            sample_size,\n",
    "            number_of_samples,\n",
    "            random_state=100,\n",
    "        )\n",
    "    )\n",
    "    for sample_size in size_of_samples\n",
    "}"
   ]
  },
  {
   "cell_type": "code",
   "execution_count": 19,
   "metadata": {
    "ExecuteTime": {
     "end_time": "2022-01-05T18:48:35.242662Z",
     "start_time": "2022-01-05T18:48:26.607552Z"
    },
    "lines_to_next_cell": 2
   },
   "outputs": [
    {
     "name": "stderr",
     "output_type": "stream",
     "text": [
      "100%|██████████| 1/1 [00:08<00:00,  8.36s/it]\n"
     ]
    }
   ],
   "source": [
    "data_columns += run_generative_label_function_sampler(\n",
    "    filtered_L_abstracts,\n",
    "    L_dev,\n",
    "    L_test,\n",
    "    sampled_lfs_dict,\n",
    "    lf_columns_base=[],\n",
    "    grid_param=grid,\n",
    "    marginals_df_file=str(\n",
    "        notebook_output_dir / Path(\"dag_training_marginals_baseline.tsv\")\n",
    "    ),\n",
    "    curated_label=\"curated_dsh\",\n",
    "    entity_label=\"DaG_baseline\",\n",
    "    data_source=\"abstract\",\n",
    ")"
   ]
  },
  {
   "cell_type": "code",
   "execution_count": 20,
   "metadata": {
    "ExecuteTime": {
     "end_time": "2022-01-05T18:48:38.750111Z",
     "start_time": "2022-01-05T18:48:35.248004Z"
    }
   },
   "outputs": [
    {
     "name": "stderr",
     "output_type": "stream",
     "text": [
      "100%|██████████| 1/1 [00:03<00:00,  3.49s/it]\n"
     ]
    }
   ],
   "source": [
    "data_columns += run_generative_label_function_sampler(\n",
    "    filtered_L_full_text,\n",
    "    L_dev,\n",
    "    L_test,\n",
    "    sampled_lfs_dict,\n",
    "    lf_columns_base=[],\n",
    "    grid_param=grid,\n",
    "    marginals_df_file=\"\",\n",
    "    curated_label=\"curated_dsh\",\n",
    "    entity_label=\"DaG_baseline\",\n",
    "    data_source=\"full_text\",\n",
    ")"
   ]
  },
  {
   "cell_type": "markdown",
   "metadata": {},
   "source": [
    "## DaG"
   ]
  },
  {
   "cell_type": "code",
   "execution_count": 20,
   "metadata": {
    "ExecuteTime": {
     "end_time": "2021-12-22T20:01:10.623361Z",
     "start_time": "2021-12-22T20:01:10.620343Z"
    }
   },
   "outputs": [],
   "source": [
    "dag_start = 5\n",
    "dag_end = 34\n",
    "\n",
    "# Spaced out number of sampels including total\n",
    "size_of_samples = [1, 6, 11, 16, dag_end - dag_start]\n",
    "number_of_samples = 50\n",
    "dag_lf_range = range(dag_start, dag_end)"
   ]
  },
  {
   "cell_type": "code",
   "execution_count": 21,
   "metadata": {
    "ExecuteTime": {
     "end_time": "2021-12-22T20:01:10.722503Z",
     "start_time": "2021-12-22T20:01:10.624711Z"
    }
   },
   "outputs": [],
   "source": [
    "sampled_lfs_dict = {\n",
    "    sample_size: (\n",
    "        sample_lfs(\n",
    "            list(dag_lf_range),\n",
    "            len(list(dag_lf_range)),\n",
    "            sample_size,\n",
    "            number_of_samples,\n",
    "            random_state=100,\n",
    "        )\n",
    "    )\n",
    "    for sample_size in size_of_samples\n",
    "}"
   ]
  },
  {
   "cell_type": "code",
   "execution_count": 22,
   "metadata": {
    "ExecuteTime": {
     "end_time": "2021-12-22T20:44:49.795752Z",
     "start_time": "2021-12-22T20:01:10.727735Z"
    },
    "scrolled": true
   },
   "outputs": [
    {
     "name": "stderr",
     "output_type": "stream",
     "text": [
      "100%|██████████| 50/50 [06:12<00:00,  7.44s/it]\n",
      "100%|██████████| 50/50 [07:06<00:00,  8.52s/it]\n",
      "100%|██████████| 50/50 [08:18<00:00,  9.97s/it]\n",
      "100%|██████████| 50/50 [09:33<00:00, 11.47s/it]\n",
      "100%|██████████| 50/50 [12:28<00:00, 14.97s/it]\n"
     ]
    }
   ],
   "source": [
    "data_columns += run_generative_label_function_sampler(\n",
    "    filtered_L_abstracts,\n",
    "    L_dev,\n",
    "    L_test,\n",
    "    sampled_lfs_dict,\n",
    "    lf_columns_base=lf_columns_base,\n",
    "    grid_param=grid,\n",
    "    marginals_df_file=str(\n",
    "        notebook_output_dir / Path(\"dag_predicts_dag_training_marginals.tsv\")\n",
    "    ),\n",
    "    curated_label=\"curated_dsh\",\n",
    "    entity_label=\"DaG\",\n",
    "    data_source=\"abstract\",\n",
    ")"
   ]
  },
  {
   "cell_type": "markdown",
   "metadata": {},
   "source": [
    "## CtD"
   ]
  },
  {
   "cell_type": "code",
   "execution_count": 23,
   "metadata": {
    "ExecuteTime": {
     "end_time": "2021-12-22T20:44:49.806595Z",
     "start_time": "2021-12-22T20:44:49.804354Z"
    }
   },
   "outputs": [],
   "source": [
    "ctd_start = 34\n",
    "ctd_end = 56\n",
    "\n",
    "# Spaced out number of sampels including total\n",
    "size_of_samples = [1, 6, 11, 16, ctd_end - ctd_start]\n",
    "number_of_samples = 50\n",
    "ctd_lf_range = range(ctd_start, ctd_end)"
   ]
  },
  {
   "cell_type": "code",
   "execution_count": 24,
   "metadata": {
    "ExecuteTime": {
     "end_time": "2021-12-22T20:44:49.905936Z",
     "start_time": "2021-12-22T20:44:49.808101Z"
    }
   },
   "outputs": [],
   "source": [
    "sampled_lfs_dict = {\n",
    "    sample_size: (\n",
    "        sample_lfs(\n",
    "            list(ctd_lf_range),\n",
    "            len(list(ctd_lf_range)),\n",
    "            sample_size,\n",
    "            number_of_samples,\n",
    "            random_state=100,\n",
    "        )\n",
    "    )\n",
    "    for sample_size in size_of_samples\n",
    "}"
   ]
  },
  {
   "cell_type": "code",
   "execution_count": 25,
   "metadata": {
    "ExecuteTime": {
     "end_time": "2021-12-22T21:08:14.680775Z",
     "start_time": "2021-12-22T20:44:49.910632Z"
    }
   },
   "outputs": [
    {
     "name": "stderr",
     "output_type": "stream",
     "text": [
      "100%|██████████| 50/50 [02:31<00:00,  3.03s/it]\n",
      "100%|██████████| 50/50 [03:22<00:00,  4.05s/it]\n",
      "100%|██████████| 50/50 [04:32<00:00,  5.45s/it]\n",
      "100%|██████████| 50/50 [05:47<00:00,  6.95s/it]\n",
      "100%|██████████| 50/50 [07:10<00:00,  8.61s/it]\n"
     ]
    }
   ],
   "source": [
    "data_columns += run_generative_label_function_sampler(\n",
    "    filtered_L_abstracts,\n",
    "    L_dev,\n",
    "    L_test,\n",
    "    sampled_lfs_dict,\n",
    "    lf_columns_base=lf_columns_base,\n",
    "    grid_param=grid,\n",
    "    marginals_df_file=\"\",\n",
    "    curated_label=\"curated_dsh\",\n",
    "    entity_label=\"CtD\",\n",
    "    data_source=\"abstract\",\n",
    ")"
   ]
  },
  {
   "cell_type": "markdown",
   "metadata": {},
   "source": [
    "## CbG"
   ]
  },
  {
   "cell_type": "code",
   "execution_count": 26,
   "metadata": {
    "ExecuteTime": {
     "end_time": "2021-12-22T21:08:14.684002Z",
     "start_time": "2021-12-22T21:08:14.681775Z"
    }
   },
   "outputs": [],
   "source": [
    "cbg_start = 56\n",
    "cbg_end = 76\n",
    "\n",
    "# Spaced out number of sampels including total\n",
    "size_of_samples = [1, 6, 11, 16, cbg_end - cbg_start]\n",
    "number_of_samples = 50\n",
    "cbg_lf_range = range(cbg_start, cbg_end)"
   ]
  },
  {
   "cell_type": "code",
   "execution_count": 27,
   "metadata": {
    "ExecuteTime": {
     "end_time": "2021-12-22T21:08:14.707590Z",
     "start_time": "2021-12-22T21:08:14.685325Z"
    }
   },
   "outputs": [],
   "source": [
    "sampled_lfs_dict = {\n",
    "    sample_size: (\n",
    "        sample_lfs(\n",
    "            list(cbg_lf_range),\n",
    "            len(list(cbg_lf_range)),\n",
    "            sample_size,\n",
    "            number_of_samples,\n",
    "            random_state=100,\n",
    "        )\n",
    "    )\n",
    "    for sample_size in size_of_samples\n",
    "}"
   ]
  },
  {
   "cell_type": "code",
   "execution_count": 28,
   "metadata": {
    "ExecuteTime": {
     "end_time": "2021-12-22T21:30:59.241973Z",
     "start_time": "2021-12-22T21:08:14.710902Z"
    }
   },
   "outputs": [
    {
     "name": "stderr",
     "output_type": "stream",
     "text": [
      "100%|██████████| 50/50 [02:31<00:00,  3.02s/it]\n",
      "100%|██████████| 50/50 [03:21<00:00,  4.03s/it]\n",
      "100%|██████████| 50/50 [04:31<00:00,  5.43s/it]\n",
      "100%|██████████| 50/50 [05:44<00:00,  6.90s/it]\n",
      "100%|██████████| 50/50 [06:35<00:00,  7.92s/it]\n"
     ]
    }
   ],
   "source": [
    "data_columns += run_generative_label_function_sampler(\n",
    "    filtered_L_abstracts,\n",
    "    L_dev,\n",
    "    L_test,\n",
    "    sampled_lfs_dict,\n",
    "    lf_columns_base=lf_columns_base,\n",
    "    grid_param=grid,\n",
    "    marginals_df_file=\"\",\n",
    "    curated_label=\"curated_dsh\",\n",
    "    entity_label=\"CbG\",\n",
    "    data_source=\"abstract\",\n",
    ")"
   ]
  },
  {
   "cell_type": "markdown",
   "metadata": {},
   "source": [
    "## GiG"
   ]
  },
  {
   "cell_type": "code",
   "execution_count": 29,
   "metadata": {
    "ExecuteTime": {
     "end_time": "2021-12-22T21:30:59.245607Z",
     "start_time": "2021-12-22T21:30:59.243211Z"
    }
   },
   "outputs": [],
   "source": [
    "gig_start = 76\n",
    "gig_end = 104\n",
    "\n",
    "# Spaced out number of sampels including total\n",
    "size_of_samples = [1, 6, 11, 16, gig_end - gig_start]\n",
    "number_of_samples = 50\n",
    "gig_lf_range = range(gig_start, gig_end)"
   ]
  },
  {
   "cell_type": "code",
   "execution_count": 30,
   "metadata": {
    "ExecuteTime": {
     "end_time": "2021-12-22T21:30:59.298175Z",
     "start_time": "2021-12-22T21:30:59.246754Z"
    }
   },
   "outputs": [],
   "source": [
    "sampled_lfs_dict = {\n",
    "    sample_size: (\n",
    "        sample_lfs(\n",
    "            list(gig_lf_range),\n",
    "            len(list(gig_lf_range)),\n",
    "            sample_size,\n",
    "            number_of_samples,\n",
    "            random_state=100,\n",
    "        )\n",
    "    )\n",
    "    for sample_size in size_of_samples\n",
    "}"
   ]
  },
  {
   "cell_type": "code",
   "execution_count": 31,
   "metadata": {
    "ExecuteTime": {
     "end_time": "2021-12-22T21:55:53.373846Z",
     "start_time": "2021-12-22T21:30:59.303087Z"
    }
   },
   "outputs": [
    {
     "name": "stderr",
     "output_type": "stream",
     "text": [
      "100%|██████████| 50/50 [02:31<00:00,  3.04s/it]\n",
      "100%|██████████| 50/50 [03:21<00:00,  4.04s/it]\n",
      "100%|██████████| 50/50 [04:34<00:00,  5.49s/it]\n",
      "100%|██████████| 50/50 [05:48<00:00,  6.97s/it]\n",
      "100%|██████████| 50/50 [08:37<00:00, 10.35s/it]\n"
     ]
    }
   ],
   "source": [
    "data_columns += run_generative_label_function_sampler(\n",
    "    filtered_L_abstracts,\n",
    "    L_dev,\n",
    "    L_test,\n",
    "    sampled_lfs_dict,\n",
    "    lf_columns_base=lf_columns_base,\n",
    "    grid_param=grid,\n",
    "    marginals_df_file=\"\",\n",
    "    curated_label=\"curated_dsh\",\n",
    "    entity_label=\"GiG\",\n",
    "    data_source=\"abstract\",\n",
    ")"
   ]
  },
  {
   "cell_type": "markdown",
   "metadata": {},
   "source": [
    "# Full Text"
   ]
  },
  {
   "cell_type": "markdown",
   "metadata": {},
   "source": [
    "## DaG"
   ]
  },
  {
   "cell_type": "code",
   "execution_count": 32,
   "metadata": {
    "ExecuteTime": {
     "end_time": "2021-12-22T21:55:53.377573Z",
     "start_time": "2021-12-22T21:55:53.375264Z"
    }
   },
   "outputs": [],
   "source": [
    "dag_start = 5\n",
    "dag_end = 34\n",
    "\n",
    "# Spaced out number of sampels including total\n",
    "size_of_samples = [1, 6, 11, 16, dag_end - dag_start]\n",
    "number_of_samples = 50\n",
    "dag_lf_range = range(dag_start, dag_end)"
   ]
  },
  {
   "cell_type": "code",
   "execution_count": 33,
   "metadata": {
    "ExecuteTime": {
     "end_time": "2021-12-22T21:55:53.419750Z",
     "start_time": "2021-12-22T21:55:53.378800Z"
    }
   },
   "outputs": [],
   "source": [
    "sampled_lfs_dict = {\n",
    "    sample_size: (\n",
    "        sample_lfs(\n",
    "            list(dag_lf_range),\n",
    "            len(list(dag_lf_range)),\n",
    "            sample_size,\n",
    "            number_of_samples,\n",
    "            random_state=100,\n",
    "        )\n",
    "    )\n",
    "    for sample_size in size_of_samples\n",
    "}"
   ]
  },
  {
   "cell_type": "code",
   "execution_count": 34,
   "metadata": {
    "ExecuteTime": {
     "end_time": "2021-12-22T22:26:15.781789Z",
     "start_time": "2021-12-22T21:55:53.424713Z"
    }
   },
   "outputs": [
    {
     "name": "stderr",
     "output_type": "stream",
     "text": [
      "100%|██████████| 50/50 [02:52<00:00,  3.45s/it]\n",
      "100%|██████████| 50/50 [04:16<00:00,  5.13s/it]\n",
      "100%|██████████| 50/50 [05:38<00:00,  6.76s/it]\n",
      "100%|██████████| 50/50 [06:58<00:00,  8.37s/it]\n",
      "100%|██████████| 50/50 [10:36<00:00, 12.73s/it]\n"
     ]
    }
   ],
   "source": [
    "data_columns += run_generative_label_function_sampler(\n",
    "    filtered_L_full_text,\n",
    "    L_dev,\n",
    "    L_test,\n",
    "    sampled_lfs_dict,\n",
    "    lf_columns_base=lf_columns_base,\n",
    "    grid_param=grid,\n",
    "    marginals_df_file=\"\",\n",
    "    curated_label=\"curated_dsh\",\n",
    "    entity_label=\"DaG\",\n",
    "    data_source=\"full_text\",\n",
    ")"
   ]
  },
  {
   "cell_type": "markdown",
   "metadata": {},
   "source": [
    "## CtD"
   ]
  },
  {
   "cell_type": "code",
   "execution_count": 35,
   "metadata": {
    "ExecuteTime": {
     "end_time": "2021-12-22T22:26:15.786328Z",
     "start_time": "2021-12-22T22:26:15.783832Z"
    }
   },
   "outputs": [],
   "source": [
    "ctd_start = 34\n",
    "ctd_end = 56\n",
    "\n",
    "# Spaced out number of sampels including total\n",
    "size_of_samples = [1, 6, 11, 16, ctd_end - ctd_start]\n",
    "number_of_samples = 50\n",
    "ctd_lf_range = range(ctd_start, ctd_end)"
   ]
  },
  {
   "cell_type": "code",
   "execution_count": 36,
   "metadata": {
    "ExecuteTime": {
     "end_time": "2021-12-22T22:26:15.829721Z",
     "start_time": "2021-12-22T22:26:15.787636Z"
    }
   },
   "outputs": [],
   "source": [
    "sampled_lfs_dict = {\n",
    "    sample_size: (\n",
    "        sample_lfs(\n",
    "            list(ctd_lf_range),\n",
    "            len(list(ctd_lf_range)),\n",
    "            sample_size,\n",
    "            number_of_samples,\n",
    "            random_state=100,\n",
    "        )\n",
    "    )\n",
    "    for sample_size in size_of_samples\n",
    "}"
   ]
  },
  {
   "cell_type": "code",
   "execution_count": 37,
   "metadata": {
    "ExecuteTime": {
     "end_time": "2021-12-22T22:54:38.747637Z",
     "start_time": "2021-12-22T22:26:15.831099Z"
    }
   },
   "outputs": [
    {
     "name": "stderr",
     "output_type": "stream",
     "text": [
      "100%|██████████| 50/50 [02:52<00:00,  3.44s/it]\n",
      "100%|██████████| 50/50 [04:16<00:00,  5.12s/it]\n",
      "100%|██████████| 50/50 [05:38<00:00,  6.76s/it]\n",
      "100%|██████████| 50/50 [06:59<00:00,  8.38s/it]\n",
      "100%|██████████| 50/50 [08:37<00:00, 10.35s/it]\n"
     ]
    }
   ],
   "source": [
    "data_columns += run_generative_label_function_sampler(\n",
    "    filtered_L_full_text,\n",
    "    L_dev,\n",
    "    L_test,\n",
    "    sampled_lfs_dict,\n",
    "    lf_columns_base=lf_columns_base,\n",
    "    grid_param=grid,\n",
    "    marginals_df_file=\"\",\n",
    "    curated_label=\"curated_dsh\",\n",
    "    entity_label=\"CtD\",\n",
    "    data_source=\"full_text\",\n",
    ")"
   ]
  },
  {
   "cell_type": "markdown",
   "metadata": {},
   "source": [
    "## CbG"
   ]
  },
  {
   "cell_type": "code",
   "execution_count": 38,
   "metadata": {
    "ExecuteTime": {
     "end_time": "2021-12-22T22:54:38.751289Z",
     "start_time": "2021-12-22T22:54:38.748900Z"
    }
   },
   "outputs": [],
   "source": [
    "cbg_start = 56\n",
    "cbg_end = 76\n",
    "\n",
    "# Spaced out number of sampels including total\n",
    "size_of_samples = [1, 6, 11, 16, cbg_end - cbg_start]\n",
    "number_of_samples = 50\n",
    "cbg_lf_range = range(cbg_start, cbg_end)"
   ]
  },
  {
   "cell_type": "code",
   "execution_count": 39,
   "metadata": {
    "ExecuteTime": {
     "end_time": "2021-12-22T22:54:38.794327Z",
     "start_time": "2021-12-22T22:54:38.752665Z"
    }
   },
   "outputs": [],
   "source": [
    "sampled_lfs_dict = {\n",
    "    sample_size: (\n",
    "        sample_lfs(\n",
    "            list(cbg_lf_range),\n",
    "            len(list(cbg_lf_range)),\n",
    "            sample_size,\n",
    "            number_of_samples,\n",
    "            random_state=100,\n",
    "        )\n",
    "    )\n",
    "    for sample_size in size_of_samples\n",
    "}"
   ]
  },
  {
   "cell_type": "code",
   "execution_count": 40,
   "metadata": {
    "ExecuteTime": {
     "end_time": "2021-12-22T23:22:11.975202Z",
     "start_time": "2021-12-22T22:54:38.795650Z"
    }
   },
   "outputs": [
    {
     "name": "stderr",
     "output_type": "stream",
     "text": [
      "100%|██████████| 50/50 [02:51<00:00,  3.44s/it]\n",
      "100%|██████████| 50/50 [04:14<00:00,  5.10s/it]\n",
      "100%|██████████| 50/50 [05:35<00:00,  6.72s/it]\n",
      "100%|██████████| 50/50 [06:54<00:00,  8.29s/it]\n",
      "100%|██████████| 50/50 [07:55<00:00,  9.52s/it]\n"
     ]
    }
   ],
   "source": [
    "data_columns += run_generative_label_function_sampler(\n",
    "    filtered_L_full_text,\n",
    "    L_dev,\n",
    "    L_test,\n",
    "    sampled_lfs_dict,\n",
    "    lf_columns_base=lf_columns_base,\n",
    "    grid_param=grid,\n",
    "    marginals_df_file=\"\",\n",
    "    curated_label=\"curated_dsh\",\n",
    "    entity_label=\"CbG\",\n",
    "    data_source=\"full_text\",\n",
    ")"
   ]
  },
  {
   "cell_type": "markdown",
   "metadata": {},
   "source": [
    "## GiG"
   ]
  },
  {
   "cell_type": "code",
   "execution_count": 41,
   "metadata": {
    "ExecuteTime": {
     "end_time": "2021-12-22T23:22:11.979029Z",
     "start_time": "2021-12-22T23:22:11.976472Z"
    }
   },
   "outputs": [],
   "source": [
    "gig_start = 76\n",
    "gig_end = 104\n",
    "\n",
    "# Spaced out number of sampels including total\n",
    "size_of_samples = [1, 6, 11, 16, gig_end - gig_start]\n",
    "number_of_samples = 50\n",
    "gig_lf_range = range(gig_start, gig_end)"
   ]
  },
  {
   "cell_type": "code",
   "execution_count": 42,
   "metadata": {
    "ExecuteTime": {
     "end_time": "2021-12-22T23:22:12.013901Z",
     "start_time": "2021-12-22T23:22:11.980378Z"
    }
   },
   "outputs": [],
   "source": [
    "sampled_lfs_dict = {\n",
    "    sample_size: (\n",
    "        sample_lfs(\n",
    "            list(gig_lf_range),\n",
    "            len(list(gig_lf_range)),\n",
    "            sample_size,\n",
    "            number_of_samples,\n",
    "            random_state=100,\n",
    "        )\n",
    "    )\n",
    "    for sample_size in size_of_samples\n",
    "}"
   ]
  },
  {
   "cell_type": "code",
   "execution_count": 43,
   "metadata": {
    "ExecuteTime": {
     "end_time": "2021-12-22T23:52:24.148037Z",
     "start_time": "2021-12-22T23:22:12.015156Z"
    }
   },
   "outputs": [
    {
     "name": "stderr",
     "output_type": "stream",
     "text": [
      "100%|██████████| 50/50 [02:52<00:00,  3.45s/it]\n",
      "100%|██████████| 50/50 [04:16<00:00,  5.12s/it]\n",
      "100%|██████████| 50/50 [05:38<00:00,  6.78s/it]\n",
      "100%|██████████| 50/50 [06:58<00:00,  8.36s/it]\n",
      "100%|██████████| 50/50 [10:26<00:00, 12.52s/it]\n"
     ]
    }
   ],
   "source": [
    "data_columns += run_generative_label_function_sampler(\n",
    "    filtered_L_full_text,\n",
    "    L_dev,\n",
    "    L_test,\n",
    "    sampled_lfs_dict,\n",
    "    lf_columns_base=lf_columns_base,\n",
    "    grid_param=grid,\n",
    "    marginals_df_file=\"\",\n",
    "    curated_label=\"curated_dsh\",\n",
    "    entity_label=\"GiG\",\n",
    "    data_source=\"full_text\",\n",
    ")"
   ]
  },
  {
   "cell_type": "markdown",
   "metadata": {},
   "source": [
    "# Write Performance to File"
   ]
  },
  {
   "cell_type": "code",
   "execution_count": 44,
   "metadata": {
    "ExecuteTime": {
     "end_time": "2021-12-22T23:52:24.172045Z",
     "start_time": "2021-12-22T23:52:24.149052Z"
    }
   },
   "outputs": [
    {
     "data": {
      "text/html": [
       "<div>\n",
       "<style scoped>\n",
       "    .dataframe tbody tr th:only-of-type {\n",
       "        vertical-align: middle;\n",
       "    }\n",
       "\n",
       "    .dataframe tbody tr th {\n",
       "        vertical-align: top;\n",
       "    }\n",
       "\n",
       "    .dataframe thead th {\n",
       "        text-align: right;\n",
       "    }\n",
       "</style>\n",
       "<table border=\"1\" class=\"dataframe\">\n",
       "  <thead>\n",
       "    <tr style=\"text-align: right;\">\n",
       "      <th></th>\n",
       "      <th>lf_num</th>\n",
       "      <th>auroc</th>\n",
       "      <th>aupr</th>\n",
       "      <th>bce_loss</th>\n",
       "      <th>sampled_lf_name</th>\n",
       "      <th>label_source</th>\n",
       "      <th>data_source</th>\n",
       "      <th>model</th>\n",
       "      <th>epochs</th>\n",
       "      <th>l2_param</th>\n",
       "      <th>lr_param</th>\n",
       "    </tr>\n",
       "  </thead>\n",
       "  <tbody>\n",
       "    <tr>\n",
       "      <th>0</th>\n",
       "      <td>5</td>\n",
       "      <td>0.490327</td>\n",
       "      <td>0.398988</td>\n",
       "      <td>2.389194</td>\n",
       "      <td>LF_HETNET_DISEASES,LF_HETNET_DOAF,LF_HETNET_Di...</td>\n",
       "      <td>DaG_baseline</td>\n",
       "      <td>abstract</td>\n",
       "      <td>tune</td>\n",
       "      <td>250</td>\n",
       "      <td>1.2575</td>\n",
       "      <td>0.001</td>\n",
       "    </tr>\n",
       "    <tr>\n",
       "      <th>1</th>\n",
       "      <td>5</td>\n",
       "      <td>0.562500</td>\n",
       "      <td>0.429893</td>\n",
       "      <td>1.824956</td>\n",
       "      <td>LF_HETNET_DISEASES,LF_HETNET_DOAF,LF_HETNET_Di...</td>\n",
       "      <td>DaG_baseline</td>\n",
       "      <td>abstract</td>\n",
       "      <td>test</td>\n",
       "      <td>250</td>\n",
       "      <td>1.2575</td>\n",
       "      <td>0.001</td>\n",
       "    </tr>\n",
       "    <tr>\n",
       "      <th>2</th>\n",
       "      <td>1</td>\n",
       "      <td>0.492268</td>\n",
       "      <td>0.400680</td>\n",
       "      <td>2.377516</td>\n",
       "      <td>LF_HETNET_DISEASES,LF_HETNET_DOAF,LF_HETNET_Di...</td>\n",
       "      <td>DaG</td>\n",
       "      <td>abstract</td>\n",
       "      <td>tune</td>\n",
       "      <td>250</td>\n",
       "      <td>1.2575</td>\n",
       "      <td>0.001</td>\n",
       "    </tr>\n",
       "    <tr>\n",
       "      <th>3</th>\n",
       "      <td>1</td>\n",
       "      <td>0.563758</td>\n",
       "      <td>0.430587</td>\n",
       "      <td>1.820633</td>\n",
       "      <td>LF_HETNET_DISEASES,LF_HETNET_DOAF,LF_HETNET_Di...</td>\n",
       "      <td>DaG</td>\n",
       "      <td>abstract</td>\n",
       "      <td>test</td>\n",
       "      <td>250</td>\n",
       "      <td>1.2575</td>\n",
       "      <td>0.001</td>\n",
       "    </tr>\n",
       "    <tr>\n",
       "      <th>4</th>\n",
       "      <td>1</td>\n",
       "      <td>0.495826</td>\n",
       "      <td>0.399971</td>\n",
       "      <td>2.397358</td>\n",
       "      <td>LF_HETNET_DISEASES,LF_HETNET_DOAF,LF_HETNET_Di...</td>\n",
       "      <td>DaG</td>\n",
       "      <td>abstract</td>\n",
       "      <td>tune</td>\n",
       "      <td>250</td>\n",
       "      <td>1.2575</td>\n",
       "      <td>0.001</td>\n",
       "    </tr>\n",
       "    <tr>\n",
       "      <th>...</th>\n",
       "      <td>...</td>\n",
       "      <td>...</td>\n",
       "      <td>...</td>\n",
       "      <td>...</td>\n",
       "      <td>...</td>\n",
       "      <td>...</td>\n",
       "      <td>...</td>\n",
       "      <td>...</td>\n",
       "      <td>...</td>\n",
       "      <td>...</td>\n",
       "      <td>...</td>\n",
       "    </tr>\n",
       "    <tr>\n",
       "      <th>3997</th>\n",
       "      <td>28</td>\n",
       "      <td>0.635637</td>\n",
       "      <td>0.485309</td>\n",
       "      <td>1.572809</td>\n",
       "      <td>LF_HETNET_DISEASES,LF_HETNET_DOAF,LF_HETNET_Di...</td>\n",
       "      <td>GiG</td>\n",
       "      <td>full_text</td>\n",
       "      <td>test</td>\n",
       "      <td>250</td>\n",
       "      <td>0.0100</td>\n",
       "      <td>0.001</td>\n",
       "    </tr>\n",
       "    <tr>\n",
       "      <th>3998</th>\n",
       "      <td>28</td>\n",
       "      <td>0.552037</td>\n",
       "      <td>0.426715</td>\n",
       "      <td>1.805010</td>\n",
       "      <td>LF_HETNET_DISEASES,LF_HETNET_DOAF,LF_HETNET_Di...</td>\n",
       "      <td>GiG</td>\n",
       "      <td>full_text</td>\n",
       "      <td>tune</td>\n",
       "      <td>250</td>\n",
       "      <td>0.0100</td>\n",
       "      <td>0.001</td>\n",
       "    </tr>\n",
       "    <tr>\n",
       "      <th>3999</th>\n",
       "      <td>28</td>\n",
       "      <td>0.635637</td>\n",
       "      <td>0.485309</td>\n",
       "      <td>1.572809</td>\n",
       "      <td>LF_HETNET_DISEASES,LF_HETNET_DOAF,LF_HETNET_Di...</td>\n",
       "      <td>GiG</td>\n",
       "      <td>full_text</td>\n",
       "      <td>test</td>\n",
       "      <td>250</td>\n",
       "      <td>0.0100</td>\n",
       "      <td>0.001</td>\n",
       "    </tr>\n",
       "    <tr>\n",
       "      <th>4000</th>\n",
       "      <td>28</td>\n",
       "      <td>0.552037</td>\n",
       "      <td>0.426715</td>\n",
       "      <td>1.805010</td>\n",
       "      <td>LF_HETNET_DISEASES,LF_HETNET_DOAF,LF_HETNET_Di...</td>\n",
       "      <td>GiG</td>\n",
       "      <td>full_text</td>\n",
       "      <td>tune</td>\n",
       "      <td>250</td>\n",
       "      <td>0.0100</td>\n",
       "      <td>0.001</td>\n",
       "    </tr>\n",
       "    <tr>\n",
       "      <th>4001</th>\n",
       "      <td>28</td>\n",
       "      <td>0.635637</td>\n",
       "      <td>0.485309</td>\n",
       "      <td>1.572809</td>\n",
       "      <td>LF_HETNET_DISEASES,LF_HETNET_DOAF,LF_HETNET_Di...</td>\n",
       "      <td>GiG</td>\n",
       "      <td>full_text</td>\n",
       "      <td>test</td>\n",
       "      <td>250</td>\n",
       "      <td>0.0100</td>\n",
       "      <td>0.001</td>\n",
       "    </tr>\n",
       "  </tbody>\n",
       "</table>\n",
       "<p>4002 rows × 11 columns</p>\n",
       "</div>"
      ],
      "text/plain": [
       "      lf_num     auroc      aupr  bce_loss  \\\n",
       "0          5  0.490327  0.398988  2.389194   \n",
       "1          5  0.562500  0.429893  1.824956   \n",
       "2          1  0.492268  0.400680  2.377516   \n",
       "3          1  0.563758  0.430587  1.820633   \n",
       "4          1  0.495826  0.399971  2.397358   \n",
       "...      ...       ...       ...       ...   \n",
       "3997      28  0.635637  0.485309  1.572809   \n",
       "3998      28  0.552037  0.426715  1.805010   \n",
       "3999      28  0.635637  0.485309  1.572809   \n",
       "4000      28  0.552037  0.426715  1.805010   \n",
       "4001      28  0.635637  0.485309  1.572809   \n",
       "\n",
       "                                        sampled_lf_name  label_source  \\\n",
       "0     LF_HETNET_DISEASES,LF_HETNET_DOAF,LF_HETNET_Di...  DaG_baseline   \n",
       "1     LF_HETNET_DISEASES,LF_HETNET_DOAF,LF_HETNET_Di...  DaG_baseline   \n",
       "2     LF_HETNET_DISEASES,LF_HETNET_DOAF,LF_HETNET_Di...           DaG   \n",
       "3     LF_HETNET_DISEASES,LF_HETNET_DOAF,LF_HETNET_Di...           DaG   \n",
       "4     LF_HETNET_DISEASES,LF_HETNET_DOAF,LF_HETNET_Di...           DaG   \n",
       "...                                                 ...           ...   \n",
       "3997  LF_HETNET_DISEASES,LF_HETNET_DOAF,LF_HETNET_Di...           GiG   \n",
       "3998  LF_HETNET_DISEASES,LF_HETNET_DOAF,LF_HETNET_Di...           GiG   \n",
       "3999  LF_HETNET_DISEASES,LF_HETNET_DOAF,LF_HETNET_Di...           GiG   \n",
       "4000  LF_HETNET_DISEASES,LF_HETNET_DOAF,LF_HETNET_Di...           GiG   \n",
       "4001  LF_HETNET_DISEASES,LF_HETNET_DOAF,LF_HETNET_Di...           GiG   \n",
       "\n",
       "     data_source model  epochs  l2_param  lr_param  \n",
       "0       abstract  tune     250    1.2575     0.001  \n",
       "1       abstract  test     250    1.2575     0.001  \n",
       "2       abstract  tune     250    1.2575     0.001  \n",
       "3       abstract  test     250    1.2575     0.001  \n",
       "4       abstract  tune     250    1.2575     0.001  \n",
       "...          ...   ...     ...       ...       ...  \n",
       "3997   full_text  test     250    0.0100     0.001  \n",
       "3998   full_text  tune     250    0.0100     0.001  \n",
       "3999   full_text  test     250    0.0100     0.001  \n",
       "4000   full_text  tune     250    0.0100     0.001  \n",
       "4001   full_text  test     250    0.0100     0.001  \n",
       "\n",
       "[4002 rows x 11 columns]"
      ]
     },
     "execution_count": 44,
     "metadata": {},
     "output_type": "execute_result"
    }
   ],
   "source": [
    "performance_df = pd.DataFrame.from_records(data_columns)\n",
    "performance_df"
   ]
  },
  {
   "cell_type": "code",
   "execution_count": 45,
   "metadata": {
    "ExecuteTime": {
     "end_time": "2021-12-22T23:52:24.263959Z",
     "start_time": "2021-12-22T23:52:24.173263Z"
    }
   },
   "outputs": [],
   "source": [
    "(\n",
    "    performance_df\n",
    "    >> ply.call(\n",
    "        \"to_csv\",\n",
    "        str(Path(\"output/performance\") / Path(\"DaG_performance.tsv\")),\n",
    "        index=False,\n",
    "        sep=\"\\t\",\n",
    "    )\n",
    ")"
   ]
  }
 ],
 "metadata": {
  "jupytext": {
   "formats": "ipynb,py:light"
  },
  "kernelspec": {
   "display_name": "Python [conda env:snorkeling_full_text]",
   "language": "python",
   "name": "conda-env-snorkeling_full_text-py"
  },
  "language_info": {
   "codemirror_mode": {
    "name": "ipython",
    "version": 3
   },
   "file_extension": ".py",
   "mimetype": "text/x-python",
   "name": "python",
   "nbconvert_exporter": "python",
   "pygments_lexer": "ipython3",
   "version": "3.7.2"
  },
  "toc": {
   "base_numbering": 1,
   "nav_menu": {},
   "number_sections": true,
   "sideBar": true,
   "skip_h1_title": false,
   "title_cell": "Table of Contents",
   "title_sidebar": "Contents",
   "toc_cell": false,
   "toc_position": {},
   "toc_section_display": true,
   "toc_window_display": false
  }
 },
 "nbformat": 4,
 "nbformat_minor": 2
}
