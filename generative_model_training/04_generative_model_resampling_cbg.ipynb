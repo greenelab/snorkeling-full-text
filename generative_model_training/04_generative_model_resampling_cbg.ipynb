{
 "cells": [
  {
   "cell_type": "markdown",
   "metadata": {},
   "source": [
    "# Does resampling experiment help with predicting CbG sentences?"
   ]
  },
  {
   "cell_type": "code",
   "execution_count": 1,
   "metadata": {
    "ExecuteTime": {
     "end_time": "2021-12-23T03:26:29.385034Z",
     "start_time": "2021-12-23T03:26:25.113138Z"
    }
   },
   "outputs": [],
   "source": [
    "from pathlib import Path\n",
    "import warnings\n",
    "\n",
    "import numpy as np\n",
    "import pandas as pd\n",
    "import plydata as ply\n",
    "from sqlalchemy import create_engine\n",
    "\n",
    "from snorkel.labeling.analysis import LFAnalysis\n",
    "from snorkeling_helper.generative_model_helper import (\n",
    "    sample_lfs,\n",
    "    run_generative_label_function_sampler,\n",
    ")\n",
    "\n",
    "warnings.filterwarnings(\"ignore\")"
   ]
  },
  {
   "cell_type": "code",
   "execution_count": 2,
   "metadata": {
    "ExecuteTime": {
     "end_time": "2021-12-23T03:26:29.614657Z",
     "start_time": "2021-12-23T03:26:29.386314Z"
    }
   },
   "outputs": [],
   "source": [
    "username = \"danich1\"\n",
    "password = \"snorkel\"\n",
    "dbname = \"pubmed_central_db\"\n",
    "database_str = (\n",
    "    f\"postgresql+psycopg2://{username}:{password}@/{dbname}?host=/var/run/postgresql\"\n",
    ")\n",
    "conn = create_engine(database_str)"
   ]
  },
  {
   "cell_type": "markdown",
   "metadata": {},
   "source": [
    "## Load the data"
   ]
  },
  {
   "cell_type": "code",
   "execution_count": 3,
   "metadata": {
    "ExecuteTime": {
     "end_time": "2021-12-23T03:26:29.624601Z",
     "start_time": "2021-12-23T03:26:29.620741Z"
    }
   },
   "outputs": [],
   "source": [
    "label_candidates_dir = Path(\"../label_candidates/output\")\n",
    "notebook_output_dir = Path(\"output/CbG\")"
   ]
  },
  {
   "cell_type": "code",
   "execution_count": 4,
   "metadata": {
    "ExecuteTime": {
     "end_time": "2021-12-23T03:26:36.303927Z",
     "start_time": "2021-12-23T03:26:29.625909Z"
    }
   },
   "outputs": [
    {
     "name": "stdout",
     "output_type": "stream",
     "text": [
      "(1292772, 109)\n"
     ]
    },
    {
     "data": {
      "text/html": [
       "<div>\n",
       "<style scoped>\n",
       "    .dataframe tbody tr th:only-of-type {\n",
       "        vertical-align: middle;\n",
       "    }\n",
       "\n",
       "    .dataframe tbody tr th {\n",
       "        vertical-align: top;\n",
       "    }\n",
       "\n",
       "    .dataframe thead th {\n",
       "        text-align: right;\n",
       "    }\n",
       "</style>\n",
       "<table border=\"1\" class=\"dataframe\">\n",
       "  <thead>\n",
       "    <tr style=\"text-align: right;\">\n",
       "      <th></th>\n",
       "      <th>0</th>\n",
       "      <th>1</th>\n",
       "      <th>2</th>\n",
       "      <th>3</th>\n",
       "      <th>4</th>\n",
       "    </tr>\n",
       "  </thead>\n",
       "  <tbody>\n",
       "    <tr>\n",
       "      <th>LF_HETNET_DRUGBANK</th>\n",
       "      <td>-1</td>\n",
       "      <td>-1</td>\n",
       "      <td>-1</td>\n",
       "      <td>-1</td>\n",
       "      <td>-1</td>\n",
       "    </tr>\n",
       "    <tr>\n",
       "      <th>LF_HETNET_DRUGCENTRAL</th>\n",
       "      <td>-1</td>\n",
       "      <td>-1</td>\n",
       "      <td>-1</td>\n",
       "      <td>-1</td>\n",
       "      <td>-1</td>\n",
       "    </tr>\n",
       "    <tr>\n",
       "      <th>LF_HETNET_ChEMBL</th>\n",
       "      <td>-1</td>\n",
       "      <td>-1</td>\n",
       "      <td>-1</td>\n",
       "      <td>-1</td>\n",
       "      <td>-1</td>\n",
       "    </tr>\n",
       "    <tr>\n",
       "      <th>LF_HETNET_BINDINGDB</th>\n",
       "      <td>-1</td>\n",
       "      <td>-1</td>\n",
       "      <td>-1</td>\n",
       "      <td>-1</td>\n",
       "      <td>-1</td>\n",
       "    </tr>\n",
       "    <tr>\n",
       "      <th>LF_HETNET_PDSP_KI</th>\n",
       "      <td>-1</td>\n",
       "      <td>-1</td>\n",
       "      <td>-1</td>\n",
       "      <td>-1</td>\n",
       "      <td>-1</td>\n",
       "    </tr>\n",
       "    <tr>\n",
       "      <th>...</th>\n",
       "      <td>...</td>\n",
       "      <td>...</td>\n",
       "      <td>...</td>\n",
       "      <td>...</td>\n",
       "      <td>...</td>\n",
       "    </tr>\n",
       "    <tr>\n",
       "      <th>LF_GG_BICLUSTER_INCREASES_EXPRESSION</th>\n",
       "      <td>0</td>\n",
       "      <td>-1</td>\n",
       "      <td>-1</td>\n",
       "      <td>-1</td>\n",
       "      <td>-1</td>\n",
       "    </tr>\n",
       "    <tr>\n",
       "      <th>LF_GG_BICLUSTER_SIGNALING</th>\n",
       "      <td>1</td>\n",
       "      <td>-1</td>\n",
       "      <td>-1</td>\n",
       "      <td>-1</td>\n",
       "      <td>-1</td>\n",
       "    </tr>\n",
       "    <tr>\n",
       "      <th>LF_GG_BICLUSTER_IDENTICAL_PROTEIN</th>\n",
       "      <td>-1</td>\n",
       "      <td>-1</td>\n",
       "      <td>-1</td>\n",
       "      <td>-1</td>\n",
       "      <td>-1</td>\n",
       "    </tr>\n",
       "    <tr>\n",
       "      <th>LF_GG_BICLUSTER_CELL_PRODUCTION</th>\n",
       "      <td>0</td>\n",
       "      <td>-1</td>\n",
       "      <td>-1</td>\n",
       "      <td>-1</td>\n",
       "      <td>-1</td>\n",
       "    </tr>\n",
       "    <tr>\n",
       "      <th>candidate_id</th>\n",
       "      <td>186</td>\n",
       "      <td>191</td>\n",
       "      <td>277</td>\n",
       "      <td>279</td>\n",
       "      <td>281</td>\n",
       "    </tr>\n",
       "  </tbody>\n",
       "</table>\n",
       "<p>109 rows × 5 columns</p>\n",
       "</div>"
      ],
      "text/plain": [
       "                                        0    1    2    3    4\n",
       "LF_HETNET_DRUGBANK                     -1   -1   -1   -1   -1\n",
       "LF_HETNET_DRUGCENTRAL                  -1   -1   -1   -1   -1\n",
       "LF_HETNET_ChEMBL                       -1   -1   -1   -1   -1\n",
       "LF_HETNET_BINDINGDB                    -1   -1   -1   -1   -1\n",
       "LF_HETNET_PDSP_KI                      -1   -1   -1   -1   -1\n",
       "...                                   ...  ...  ...  ...  ...\n",
       "LF_GG_BICLUSTER_INCREASES_EXPRESSION    0   -1   -1   -1   -1\n",
       "LF_GG_BICLUSTER_SIGNALING               1   -1   -1   -1   -1\n",
       "LF_GG_BICLUSTER_IDENTICAL_PROTEIN      -1   -1   -1   -1   -1\n",
       "LF_GG_BICLUSTER_CELL_PRODUCTION         0   -1   -1   -1   -1\n",
       "candidate_id                          186  191  277  279  281\n",
       "\n",
       "[109 rows x 5 columns]"
      ]
     },
     "execution_count": 4,
     "metadata": {},
     "output_type": "execute_result"
    }
   ],
   "source": [
    "L_abstracts = pd.read_csv(\n",
    "    str(label_candidates_dir / Path(\"cg_abstract_train_candidates_resampling.tsv\")),\n",
    "    sep=\"\\t\",\n",
    ")\n",
    "\n",
    "print(L_abstracts.shape)\n",
    "L_abstracts.head().T"
   ]
  },
  {
   "cell_type": "code",
   "execution_count": 5,
   "metadata": {
    "ExecuteTime": {
     "end_time": "2021-12-23T03:26:46.560665Z",
     "start_time": "2021-12-23T03:26:36.305293Z"
    }
   },
   "outputs": [
    {
     "name": "stdout",
     "output_type": "stream",
     "text": [
      "(2121209, 109)\n"
     ]
    },
    {
     "data": {
      "text/html": [
       "<div>\n",
       "<style scoped>\n",
       "    .dataframe tbody tr th:only-of-type {\n",
       "        vertical-align: middle;\n",
       "    }\n",
       "\n",
       "    .dataframe tbody tr th {\n",
       "        vertical-align: top;\n",
       "    }\n",
       "\n",
       "    .dataframe thead th {\n",
       "        text-align: right;\n",
       "    }\n",
       "</style>\n",
       "<table border=\"1\" class=\"dataframe\">\n",
       "  <thead>\n",
       "    <tr style=\"text-align: right;\">\n",
       "      <th></th>\n",
       "      <th>0</th>\n",
       "      <th>1</th>\n",
       "      <th>2</th>\n",
       "      <th>3</th>\n",
       "      <th>4</th>\n",
       "    </tr>\n",
       "  </thead>\n",
       "  <tbody>\n",
       "    <tr>\n",
       "      <th>LF_HETNET_DRUGBANK</th>\n",
       "      <td>-1</td>\n",
       "      <td>-1</td>\n",
       "      <td>-1</td>\n",
       "      <td>-1</td>\n",
       "      <td>-1</td>\n",
       "    </tr>\n",
       "    <tr>\n",
       "      <th>LF_HETNET_DRUGCENTRAL</th>\n",
       "      <td>-1</td>\n",
       "      <td>-1</td>\n",
       "      <td>-1</td>\n",
       "      <td>-1</td>\n",
       "      <td>-1</td>\n",
       "    </tr>\n",
       "    <tr>\n",
       "      <th>LF_HETNET_ChEMBL</th>\n",
       "      <td>-1</td>\n",
       "      <td>-1</td>\n",
       "      <td>-1</td>\n",
       "      <td>-1</td>\n",
       "      <td>-1</td>\n",
       "    </tr>\n",
       "    <tr>\n",
       "      <th>LF_HETNET_BINDINGDB</th>\n",
       "      <td>-1</td>\n",
       "      <td>-1</td>\n",
       "      <td>-1</td>\n",
       "      <td>-1</td>\n",
       "      <td>-1</td>\n",
       "    </tr>\n",
       "    <tr>\n",
       "      <th>LF_HETNET_PDSP_KI</th>\n",
       "      <td>-1</td>\n",
       "      <td>-1</td>\n",
       "      <td>-1</td>\n",
       "      <td>-1</td>\n",
       "      <td>-1</td>\n",
       "    </tr>\n",
       "    <tr>\n",
       "      <th>...</th>\n",
       "      <td>...</td>\n",
       "      <td>...</td>\n",
       "      <td>...</td>\n",
       "      <td>...</td>\n",
       "      <td>...</td>\n",
       "    </tr>\n",
       "    <tr>\n",
       "      <th>LF_GG_BICLUSTER_INCREASES_EXPRESSION</th>\n",
       "      <td>-1</td>\n",
       "      <td>-1</td>\n",
       "      <td>0</td>\n",
       "      <td>-1</td>\n",
       "      <td>-1</td>\n",
       "    </tr>\n",
       "    <tr>\n",
       "      <th>LF_GG_BICLUSTER_SIGNALING</th>\n",
       "      <td>-1</td>\n",
       "      <td>-1</td>\n",
       "      <td>1</td>\n",
       "      <td>-1</td>\n",
       "      <td>-1</td>\n",
       "    </tr>\n",
       "    <tr>\n",
       "      <th>LF_GG_BICLUSTER_IDENTICAL_PROTEIN</th>\n",
       "      <td>-1</td>\n",
       "      <td>-1</td>\n",
       "      <td>-1</td>\n",
       "      <td>-1</td>\n",
       "      <td>-1</td>\n",
       "    </tr>\n",
       "    <tr>\n",
       "      <th>LF_GG_BICLUSTER_CELL_PRODUCTION</th>\n",
       "      <td>-1</td>\n",
       "      <td>-1</td>\n",
       "      <td>0</td>\n",
       "      <td>-1</td>\n",
       "      <td>-1</td>\n",
       "    </tr>\n",
       "    <tr>\n",
       "      <th>candidate_id</th>\n",
       "      <td>170</td>\n",
       "      <td>171</td>\n",
       "      <td>181</td>\n",
       "      <td>230</td>\n",
       "      <td>253</td>\n",
       "    </tr>\n",
       "  </tbody>\n",
       "</table>\n",
       "<p>109 rows × 5 columns</p>\n",
       "</div>"
      ],
      "text/plain": [
       "                                        0    1    2    3    4\n",
       "LF_HETNET_DRUGBANK                     -1   -1   -1   -1   -1\n",
       "LF_HETNET_DRUGCENTRAL                  -1   -1   -1   -1   -1\n",
       "LF_HETNET_ChEMBL                       -1   -1   -1   -1   -1\n",
       "LF_HETNET_BINDINGDB                    -1   -1   -1   -1   -1\n",
       "LF_HETNET_PDSP_KI                      -1   -1   -1   -1   -1\n",
       "...                                   ...  ...  ...  ...  ...\n",
       "LF_GG_BICLUSTER_INCREASES_EXPRESSION   -1   -1    0   -1   -1\n",
       "LF_GG_BICLUSTER_SIGNALING              -1   -1    1   -1   -1\n",
       "LF_GG_BICLUSTER_IDENTICAL_PROTEIN      -1   -1   -1   -1   -1\n",
       "LF_GG_BICLUSTER_CELL_PRODUCTION        -1   -1    0   -1   -1\n",
       "candidate_id                          170  171  181  230  253\n",
       "\n",
       "[109 rows x 5 columns]"
      ]
     },
     "execution_count": 5,
     "metadata": {},
     "output_type": "execute_result"
    }
   ],
   "source": [
    "L_full_text = pd.read_csv(\n",
    "    str(label_candidates_dir / Path(\"cg_full_text_train_candidates_resampling.tsv\")),\n",
    "    sep=\"\\t\",\n",
    ")\n",
    "\n",
    "print(L_full_text.shape)\n",
    "L_full_text.head().T"
   ]
  },
  {
   "cell_type": "code",
   "execution_count": 6,
   "metadata": {
    "ExecuteTime": {
     "end_time": "2021-12-23T03:26:46.601307Z",
     "start_time": "2021-12-23T03:26:46.561957Z"
    }
   },
   "outputs": [
    {
     "name": "stdout",
     "output_type": "stream",
     "text": [
      "(500, 111)\n"
     ]
    },
    {
     "data": {
      "text/html": [
       "<div>\n",
       "<style scoped>\n",
       "    .dataframe tbody tr th:only-of-type {\n",
       "        vertical-align: middle;\n",
       "    }\n",
       "\n",
       "    .dataframe tbody tr th {\n",
       "        vertical-align: top;\n",
       "    }\n",
       "\n",
       "    .dataframe thead th {\n",
       "        text-align: right;\n",
       "    }\n",
       "</style>\n",
       "<table border=\"1\" class=\"dataframe\">\n",
       "  <thead>\n",
       "    <tr style=\"text-align: right;\">\n",
       "      <th></th>\n",
       "      <th>0</th>\n",
       "      <th>4</th>\n",
       "      <th>9</th>\n",
       "      <th>10</th>\n",
       "      <th>11</th>\n",
       "    </tr>\n",
       "  </thead>\n",
       "  <tbody>\n",
       "    <tr>\n",
       "      <th>LF_HETNET_DRUGBANK</th>\n",
       "      <td>-1.0</td>\n",
       "      <td>-1.0</td>\n",
       "      <td>-1.0</td>\n",
       "      <td>-1.0</td>\n",
       "      <td>-1.0</td>\n",
       "    </tr>\n",
       "    <tr>\n",
       "      <th>LF_HETNET_DRUGCENTRAL</th>\n",
       "      <td>-1.0</td>\n",
       "      <td>-1.0</td>\n",
       "      <td>-1.0</td>\n",
       "      <td>-1.0</td>\n",
       "      <td>-1.0</td>\n",
       "    </tr>\n",
       "    <tr>\n",
       "      <th>LF_HETNET_ChEMBL</th>\n",
       "      <td>-1.0</td>\n",
       "      <td>-1.0</td>\n",
       "      <td>-1.0</td>\n",
       "      <td>-1.0</td>\n",
       "      <td>-1.0</td>\n",
       "    </tr>\n",
       "    <tr>\n",
       "      <th>LF_HETNET_BINDINGDB</th>\n",
       "      <td>-1.0</td>\n",
       "      <td>-1.0</td>\n",
       "      <td>-1.0</td>\n",
       "      <td>-1.0</td>\n",
       "      <td>-1.0</td>\n",
       "    </tr>\n",
       "    <tr>\n",
       "      <th>LF_HETNET_PDSP_KI</th>\n",
       "      <td>-1.0</td>\n",
       "      <td>-1.0</td>\n",
       "      <td>-1.0</td>\n",
       "      <td>-1.0</td>\n",
       "      <td>-1.0</td>\n",
       "    </tr>\n",
       "    <tr>\n",
       "      <th>...</th>\n",
       "      <td>...</td>\n",
       "      <td>...</td>\n",
       "      <td>...</td>\n",
       "      <td>...</td>\n",
       "      <td>...</td>\n",
       "    </tr>\n",
       "    <tr>\n",
       "      <th>LF_GG_BICLUSTER_IDENTICAL_PROTEIN</th>\n",
       "      <td>-1.0</td>\n",
       "      <td>-1.0</td>\n",
       "      <td>0.0</td>\n",
       "      <td>-1.0</td>\n",
       "      <td>-1.0</td>\n",
       "    </tr>\n",
       "    <tr>\n",
       "      <th>LF_GG_BICLUSTER_CELL_PRODUCTION</th>\n",
       "      <td>-1.0</td>\n",
       "      <td>-1.0</td>\n",
       "      <td>0.0</td>\n",
       "      <td>-1.0</td>\n",
       "      <td>-1.0</td>\n",
       "    </tr>\n",
       "    <tr>\n",
       "      <th>split</th>\n",
       "      <td>7.0</td>\n",
       "      <td>7.0</td>\n",
       "      <td>7.0</td>\n",
       "      <td>7.0</td>\n",
       "      <td>7.0</td>\n",
       "    </tr>\n",
       "    <tr>\n",
       "      <th>document_id</th>\n",
       "      <td>209829.0</td>\n",
       "      <td>178683.0</td>\n",
       "      <td>132454.0</td>\n",
       "      <td>19485.0</td>\n",
       "      <td>358873.0</td>\n",
       "    </tr>\n",
       "    <tr>\n",
       "      <th>curated_cbg</th>\n",
       "      <td>0.0</td>\n",
       "      <td>0.0</td>\n",
       "      <td>0.0</td>\n",
       "      <td>0.0</td>\n",
       "      <td>0.0</td>\n",
       "    </tr>\n",
       "  </tbody>\n",
       "</table>\n",
       "<p>111 rows × 5 columns</p>\n",
       "</div>"
      ],
      "text/plain": [
       "                                         0         4         9        10  \\\n",
       "LF_HETNET_DRUGBANK                     -1.0      -1.0      -1.0     -1.0   \n",
       "LF_HETNET_DRUGCENTRAL                  -1.0      -1.0      -1.0     -1.0   \n",
       "LF_HETNET_ChEMBL                       -1.0      -1.0      -1.0     -1.0   \n",
       "LF_HETNET_BINDINGDB                    -1.0      -1.0      -1.0     -1.0   \n",
       "LF_HETNET_PDSP_KI                      -1.0      -1.0      -1.0     -1.0   \n",
       "...                                     ...       ...       ...      ...   \n",
       "LF_GG_BICLUSTER_IDENTICAL_PROTEIN      -1.0      -1.0       0.0     -1.0   \n",
       "LF_GG_BICLUSTER_CELL_PRODUCTION        -1.0      -1.0       0.0     -1.0   \n",
       "split                                   7.0       7.0       7.0      7.0   \n",
       "document_id                        209829.0  178683.0  132454.0  19485.0   \n",
       "curated_cbg                             0.0       0.0       0.0      0.0   \n",
       "\n",
       "                                         11  \n",
       "LF_HETNET_DRUGBANK                     -1.0  \n",
       "LF_HETNET_DRUGCENTRAL                  -1.0  \n",
       "LF_HETNET_ChEMBL                       -1.0  \n",
       "LF_HETNET_BINDINGDB                    -1.0  \n",
       "LF_HETNET_PDSP_KI                      -1.0  \n",
       "...                                     ...  \n",
       "LF_GG_BICLUSTER_IDENTICAL_PROTEIN      -1.0  \n",
       "LF_GG_BICLUSTER_CELL_PRODUCTION        -1.0  \n",
       "split                                   7.0  \n",
       "document_id                        358873.0  \n",
       "curated_cbg                             0.0  \n",
       "\n",
       "[111 rows x 5 columns]"
      ]
     },
     "execution_count": 6,
     "metadata": {},
     "output_type": "execute_result"
    }
   ],
   "source": [
    "L_dev = pd.read_csv(\n",
    "    str(label_candidates_dir / Path(\"cg_dev_test_candidates_resampling.tsv\")), sep=\"\\t\"\n",
    ") >> ply.query(\"split==7\")\n",
    "print(L_dev.shape)\n",
    "L_dev.head().T"
   ]
  },
  {
   "cell_type": "code",
   "execution_count": 7,
   "metadata": {
    "ExecuteTime": {
     "end_time": "2021-12-23T03:26:46.667926Z",
     "start_time": "2021-12-23T03:26:46.602495Z"
    }
   },
   "outputs": [
    {
     "name": "stdout",
     "output_type": "stream",
     "text": [
      "(500, 111)\n"
     ]
    },
    {
     "data": {
      "text/html": [
       "<div>\n",
       "<style scoped>\n",
       "    .dataframe tbody tr th:only-of-type {\n",
       "        vertical-align: middle;\n",
       "    }\n",
       "\n",
       "    .dataframe tbody tr th {\n",
       "        vertical-align: top;\n",
       "    }\n",
       "\n",
       "    .dataframe thead th {\n",
       "        text-align: right;\n",
       "    }\n",
       "</style>\n",
       "<table border=\"1\" class=\"dataframe\">\n",
       "  <thead>\n",
       "    <tr style=\"text-align: right;\">\n",
       "      <th></th>\n",
       "      <th>1</th>\n",
       "      <th>2</th>\n",
       "      <th>3</th>\n",
       "      <th>5</th>\n",
       "      <th>6</th>\n",
       "    </tr>\n",
       "  </thead>\n",
       "  <tbody>\n",
       "    <tr>\n",
       "      <th>LF_HETNET_DRUGBANK</th>\n",
       "      <td>-1.0</td>\n",
       "      <td>-1.0</td>\n",
       "      <td>-1.0</td>\n",
       "      <td>-1.0</td>\n",
       "      <td>-1.0</td>\n",
       "    </tr>\n",
       "    <tr>\n",
       "      <th>LF_HETNET_DRUGCENTRAL</th>\n",
       "      <td>-1.0</td>\n",
       "      <td>-1.0</td>\n",
       "      <td>-1.0</td>\n",
       "      <td>-1.0</td>\n",
       "      <td>-1.0</td>\n",
       "    </tr>\n",
       "    <tr>\n",
       "      <th>LF_HETNET_ChEMBL</th>\n",
       "      <td>-1.0</td>\n",
       "      <td>-1.0</td>\n",
       "      <td>-1.0</td>\n",
       "      <td>-1.0</td>\n",
       "      <td>-1.0</td>\n",
       "    </tr>\n",
       "    <tr>\n",
       "      <th>LF_HETNET_BINDINGDB</th>\n",
       "      <td>-1.0</td>\n",
       "      <td>-1.0</td>\n",
       "      <td>-1.0</td>\n",
       "      <td>-1.0</td>\n",
       "      <td>-1.0</td>\n",
       "    </tr>\n",
       "    <tr>\n",
       "      <th>LF_HETNET_PDSP_KI</th>\n",
       "      <td>-1.0</td>\n",
       "      <td>-1.0</td>\n",
       "      <td>-1.0</td>\n",
       "      <td>-1.0</td>\n",
       "      <td>-1.0</td>\n",
       "    </tr>\n",
       "    <tr>\n",
       "      <th>...</th>\n",
       "      <td>...</td>\n",
       "      <td>...</td>\n",
       "      <td>...</td>\n",
       "      <td>...</td>\n",
       "      <td>...</td>\n",
       "    </tr>\n",
       "    <tr>\n",
       "      <th>LF_GG_BICLUSTER_IDENTICAL_PROTEIN</th>\n",
       "      <td>-1.0</td>\n",
       "      <td>-1.0</td>\n",
       "      <td>-1.0</td>\n",
       "      <td>-1.0</td>\n",
       "      <td>-1.0</td>\n",
       "    </tr>\n",
       "    <tr>\n",
       "      <th>LF_GG_BICLUSTER_CELL_PRODUCTION</th>\n",
       "      <td>-1.0</td>\n",
       "      <td>-1.0</td>\n",
       "      <td>-1.0</td>\n",
       "      <td>-1.0</td>\n",
       "      <td>-1.0</td>\n",
       "    </tr>\n",
       "    <tr>\n",
       "      <th>split</th>\n",
       "      <td>8.0</td>\n",
       "      <td>8.0</td>\n",
       "      <td>8.0</td>\n",
       "      <td>8.0</td>\n",
       "      <td>8.0</td>\n",
       "    </tr>\n",
       "    <tr>\n",
       "      <th>document_id</th>\n",
       "      <td>291947.0</td>\n",
       "      <td>321677.0</td>\n",
       "      <td>339647.0</td>\n",
       "      <td>213797.0</td>\n",
       "      <td>30430.0</td>\n",
       "    </tr>\n",
       "    <tr>\n",
       "      <th>curated_cbg</th>\n",
       "      <td>0.0</td>\n",
       "      <td>0.0</td>\n",
       "      <td>0.0</td>\n",
       "      <td>0.0</td>\n",
       "      <td>0.0</td>\n",
       "    </tr>\n",
       "  </tbody>\n",
       "</table>\n",
       "<p>111 rows × 5 columns</p>\n",
       "</div>"
      ],
      "text/plain": [
       "                                          1         2         3         5  \\\n",
       "LF_HETNET_DRUGBANK                     -1.0      -1.0      -1.0      -1.0   \n",
       "LF_HETNET_DRUGCENTRAL                  -1.0      -1.0      -1.0      -1.0   \n",
       "LF_HETNET_ChEMBL                       -1.0      -1.0      -1.0      -1.0   \n",
       "LF_HETNET_BINDINGDB                    -1.0      -1.0      -1.0      -1.0   \n",
       "LF_HETNET_PDSP_KI                      -1.0      -1.0      -1.0      -1.0   \n",
       "...                                     ...       ...       ...       ...   \n",
       "LF_GG_BICLUSTER_IDENTICAL_PROTEIN      -1.0      -1.0      -1.0      -1.0   \n",
       "LF_GG_BICLUSTER_CELL_PRODUCTION        -1.0      -1.0      -1.0      -1.0   \n",
       "split                                   8.0       8.0       8.0       8.0   \n",
       "document_id                        291947.0  321677.0  339647.0  213797.0   \n",
       "curated_cbg                             0.0       0.0       0.0       0.0   \n",
       "\n",
       "                                         6  \n",
       "LF_HETNET_DRUGBANK                    -1.0  \n",
       "LF_HETNET_DRUGCENTRAL                 -1.0  \n",
       "LF_HETNET_ChEMBL                      -1.0  \n",
       "LF_HETNET_BINDINGDB                   -1.0  \n",
       "LF_HETNET_PDSP_KI                     -1.0  \n",
       "...                                    ...  \n",
       "LF_GG_BICLUSTER_IDENTICAL_PROTEIN     -1.0  \n",
       "LF_GG_BICLUSTER_CELL_PRODUCTION       -1.0  \n",
       "split                                  8.0  \n",
       "document_id                        30430.0  \n",
       "curated_cbg                            0.0  \n",
       "\n",
       "[111 rows x 5 columns]"
      ]
     },
     "execution_count": 7,
     "metadata": {},
     "output_type": "execute_result"
    }
   ],
   "source": [
    "L_test = pd.read_csv(\n",
    "    str(label_candidates_dir / Path(\"cg_dev_test_candidates_resampling.tsv\")), sep=\"\\t\"\n",
    ") >> ply.query(\"split==8\")\n",
    "print(L_test.shape)\n",
    "L_test.head().T"
   ]
  },
  {
   "cell_type": "markdown",
   "metadata": {},
   "source": [
    "## Restort Based on the Candidate Abstracts"
   ]
  },
  {
   "cell_type": "code",
   "execution_count": 8,
   "metadata": {
    "ExecuteTime": {
     "end_time": "2021-12-23T03:30:18.399248Z",
     "start_time": "2021-12-23T03:26:46.670028Z"
    }
   },
   "outputs": [
    {
     "data": {
      "text/html": [
       "<div>\n",
       "<style scoped>\n",
       "    .dataframe tbody tr th:only-of-type {\n",
       "        vertical-align: middle;\n",
       "    }\n",
       "\n",
       "    .dataframe tbody tr th {\n",
       "        vertical-align: top;\n",
       "    }\n",
       "\n",
       "    .dataframe thead th {\n",
       "        text-align: right;\n",
       "    }\n",
       "</style>\n",
       "<table border=\"1\" class=\"dataframe\">\n",
       "  <thead>\n",
       "    <tr style=\"text-align: right;\">\n",
       "      <th></th>\n",
       "      <th>sentence_id</th>\n",
       "      <th>document_id</th>\n",
       "      <th>candidate_id</th>\n",
       "    </tr>\n",
       "  </thead>\n",
       "  <tbody>\n",
       "    <tr>\n",
       "      <th>0</th>\n",
       "      <td>293853012</td>\n",
       "      <td>23111736</td>\n",
       "      <td>17520</td>\n",
       "    </tr>\n",
       "    <tr>\n",
       "      <th>1</th>\n",
       "      <td>361497023</td>\n",
       "      <td>24837142</td>\n",
       "      <td>35137</td>\n",
       "    </tr>\n",
       "    <tr>\n",
       "      <th>2</th>\n",
       "      <td>395950432</td>\n",
       "      <td>24746171</td>\n",
       "      <td>35735</td>\n",
       "    </tr>\n",
       "    <tr>\n",
       "      <th>3</th>\n",
       "      <td>481487831</td>\n",
       "      <td>30853913</td>\n",
       "      <td>42182</td>\n",
       "    </tr>\n",
       "    <tr>\n",
       "      <th>4</th>\n",
       "      <td>579412852</td>\n",
       "      <td>21454644</td>\n",
       "      <td>58965</td>\n",
       "    </tr>\n",
       "  </tbody>\n",
       "</table>\n",
       "</div>"
      ],
      "text/plain": [
       "   sentence_id  document_id  candidate_id\n",
       "0    293853012     23111736         17520\n",
       "1    361497023     24837142         35137\n",
       "2    395950432     24746171         35735\n",
       "3    481487831     30853913         42182\n",
       "4    579412852     21454644         58965"
      ]
     },
     "execution_count": 8,
     "metadata": {},
     "output_type": "execute_result"
    }
   ],
   "source": [
    "# Grab the document ids for resampling\n",
    "sql = \"\"\"\n",
    "select cg_candidates.sentence_id, document_id, cg_candidates.candidate_id from sentence\n",
    "inner join (\n",
    "  select candidate.candidate_id, compound_gene.sentence_id from compound_gene\n",
    "  inner join candidate on candidate.candidate_id=compound_gene.candidate_id\n",
    "  ) as cg_candidates\n",
    "on sentence.sentence_id = cg_candidates.sentence_id\n",
    "\"\"\"\n",
    "candidate_doc_df = pd.read_sql(sql, database_str)\n",
    "candidate_doc_df.head()"
   ]
  },
  {
   "cell_type": "code",
   "execution_count": 9,
   "metadata": {
    "ExecuteTime": {
     "end_time": "2021-12-23T03:30:18.469114Z",
     "start_time": "2021-12-23T03:30:18.400810Z"
    }
   },
   "outputs": [],
   "source": [
    "dev_test_ids = (\n",
    "    L_dev >> ply.select(\"document_id\") >> ply.distinct() >> ply.pull(\"document_id\")\n",
    ")\n",
    "\n",
    "filtered_candidate_id = (\n",
    "    candidate_doc_df\n",
    "    >> ply.query(f\"document_id in {list(dev_test_ids)}\")\n",
    "    >> ply.pull(\"candidate_id\")\n",
    ")"
   ]
  },
  {
   "cell_type": "code",
   "execution_count": 10,
   "metadata": {
    "ExecuteTime": {
     "end_time": "2021-12-23T03:30:18.726536Z",
     "start_time": "2021-12-23T03:30:18.470278Z"
    }
   },
   "outputs": [
    {
     "data": {
      "text/html": [
       "<div>\n",
       "<style scoped>\n",
       "    .dataframe tbody tr th:only-of-type {\n",
       "        vertical-align: middle;\n",
       "    }\n",
       "\n",
       "    .dataframe tbody tr th {\n",
       "        vertical-align: top;\n",
       "    }\n",
       "\n",
       "    .dataframe thead th {\n",
       "        text-align: right;\n",
       "    }\n",
       "</style>\n",
       "<table border=\"1\" class=\"dataframe\">\n",
       "  <thead>\n",
       "    <tr style=\"text-align: right;\">\n",
       "      <th></th>\n",
       "      <th>document_id</th>\n",
       "      <th>dataset</th>\n",
       "    </tr>\n",
       "  </thead>\n",
       "  <tbody>\n",
       "    <tr>\n",
       "      <th>0</th>\n",
       "      <td>23111736</td>\n",
       "      <td>train</td>\n",
       "    </tr>\n",
       "    <tr>\n",
       "      <th>1</th>\n",
       "      <td>24837142</td>\n",
       "      <td>train</td>\n",
       "    </tr>\n",
       "    <tr>\n",
       "      <th>2</th>\n",
       "      <td>24746171</td>\n",
       "      <td>train</td>\n",
       "    </tr>\n",
       "    <tr>\n",
       "      <th>3</th>\n",
       "      <td>30853913</td>\n",
       "      <td>tune</td>\n",
       "    </tr>\n",
       "    <tr>\n",
       "      <th>4</th>\n",
       "      <td>21454644</td>\n",
       "      <td>train</td>\n",
       "    </tr>\n",
       "  </tbody>\n",
       "</table>\n",
       "</div>"
      ],
      "text/plain": [
       "   document_id dataset\n",
       "0     23111736   train\n",
       "1     24837142   train\n",
       "2     24746171   train\n",
       "3     30853913    tune\n",
       "4     21454644   train"
      ]
     },
     "execution_count": 10,
     "metadata": {},
     "output_type": "execute_result"
    }
   ],
   "source": [
    "sorted_train_df = pd.read_csv(\n",
    "    str(notebook_output_dir / Path(\"cbg_dataset_mapper.tsv\")), sep=\"\\t\"\n",
    ")\n",
    "sorted_train_df.head()"
   ]
  },
  {
   "cell_type": "code",
   "execution_count": 11,
   "metadata": {
    "ExecuteTime": {
     "end_time": "2021-12-23T03:30:19.339737Z",
     "start_time": "2021-12-23T03:30:18.727822Z"
    }
   },
   "outputs": [],
   "source": [
    "trained_documents = (\n",
    "    sorted_train_df\n",
    "    >> ply.inner_join(candidate_doc_df, on=\"document_id\")\n",
    "    >> ply.query(\"dataset=='train'\")\n",
    "    >> ply.pull(\"candidate_id\")\n",
    ")"
   ]
  },
  {
   "cell_type": "code",
   "execution_count": 12,
   "metadata": {
    "ExecuteTime": {
     "end_time": "2021-12-23T03:30:57.963701Z",
     "start_time": "2021-12-23T03:30:19.340906Z"
    }
   },
   "outputs": [
    {
     "name": "stdout",
     "output_type": "stream",
     "text": [
      "(904644, 109)\n"
     ]
    },
    {
     "data": {
      "text/html": [
       "<div>\n",
       "<style scoped>\n",
       "    .dataframe tbody tr th:only-of-type {\n",
       "        vertical-align: middle;\n",
       "    }\n",
       "\n",
       "    .dataframe tbody tr th {\n",
       "        vertical-align: top;\n",
       "    }\n",
       "\n",
       "    .dataframe thead th {\n",
       "        text-align: right;\n",
       "    }\n",
       "</style>\n",
       "<table border=\"1\" class=\"dataframe\">\n",
       "  <thead>\n",
       "    <tr style=\"text-align: right;\">\n",
       "      <th></th>\n",
       "      <th>LF_HETNET_DRUGBANK</th>\n",
       "      <th>LF_HETNET_DRUGCENTRAL</th>\n",
       "      <th>LF_HETNET_ChEMBL</th>\n",
       "      <th>LF_HETNET_BINDINGDB</th>\n",
       "      <th>LF_HETNET_PDSP_KI</th>\n",
       "      <th>LF_HETNET_US_PATENT</th>\n",
       "      <th>LF_HETNET_PUBCHEM</th>\n",
       "      <th>LF_HETNET_CG_ABSENT</th>\n",
       "      <th>LF_CG_CHECK_GENE_TAG</th>\n",
       "      <th>LF_DG_IS_BIOMARKER</th>\n",
       "      <th>...</th>\n",
       "      <th>LF_GG_NO_VERB</th>\n",
       "      <th>LF_GG_BICLUSTER_BINDING</th>\n",
       "      <th>LF_GG_BICLUSTER_ENHANCES</th>\n",
       "      <th>LF_GG_BICLUSTER_ACTIVATES</th>\n",
       "      <th>LF_GG_BICLUSTER_AFFECTS_EXPRESSION</th>\n",
       "      <th>LF_GG_BICLUSTER_INCREASES_EXPRESSION</th>\n",
       "      <th>LF_GG_BICLUSTER_SIGNALING</th>\n",
       "      <th>LF_GG_BICLUSTER_IDENTICAL_PROTEIN</th>\n",
       "      <th>LF_GG_BICLUSTER_CELL_PRODUCTION</th>\n",
       "      <th>candidate_id</th>\n",
       "    </tr>\n",
       "  </thead>\n",
       "  <tbody>\n",
       "    <tr>\n",
       "      <th>1</th>\n",
       "      <td>-1</td>\n",
       "      <td>-1</td>\n",
       "      <td>-1</td>\n",
       "      <td>-1</td>\n",
       "      <td>-1</td>\n",
       "      <td>-1</td>\n",
       "      <td>-1</td>\n",
       "      <td>0</td>\n",
       "      <td>0</td>\n",
       "      <td>-1</td>\n",
       "      <td>...</td>\n",
       "      <td>-1</td>\n",
       "      <td>-1</td>\n",
       "      <td>-1</td>\n",
       "      <td>1</td>\n",
       "      <td>-1</td>\n",
       "      <td>-1</td>\n",
       "      <td>-1</td>\n",
       "      <td>-1</td>\n",
       "      <td>-1</td>\n",
       "      <td>191</td>\n",
       "    </tr>\n",
       "    <tr>\n",
       "      <th>7</th>\n",
       "      <td>-1</td>\n",
       "      <td>-1</td>\n",
       "      <td>-1</td>\n",
       "      <td>-1</td>\n",
       "      <td>-1</td>\n",
       "      <td>-1</td>\n",
       "      <td>-1</td>\n",
       "      <td>0</td>\n",
       "      <td>0</td>\n",
       "      <td>1</td>\n",
       "      <td>...</td>\n",
       "      <td>-1</td>\n",
       "      <td>-1</td>\n",
       "      <td>-1</td>\n",
       "      <td>-1</td>\n",
       "      <td>-1</td>\n",
       "      <td>-1</td>\n",
       "      <td>-1</td>\n",
       "      <td>-1</td>\n",
       "      <td>-1</td>\n",
       "      <td>449</td>\n",
       "    </tr>\n",
       "    <tr>\n",
       "      <th>8</th>\n",
       "      <td>-1</td>\n",
       "      <td>-1</td>\n",
       "      <td>-1</td>\n",
       "      <td>-1</td>\n",
       "      <td>-1</td>\n",
       "      <td>-1</td>\n",
       "      <td>-1</td>\n",
       "      <td>0</td>\n",
       "      <td>0</td>\n",
       "      <td>-1</td>\n",
       "      <td>...</td>\n",
       "      <td>-1</td>\n",
       "      <td>-1</td>\n",
       "      <td>-1</td>\n",
       "      <td>-1</td>\n",
       "      <td>-1</td>\n",
       "      <td>-1</td>\n",
       "      <td>-1</td>\n",
       "      <td>-1</td>\n",
       "      <td>-1</td>\n",
       "      <td>450</td>\n",
       "    </tr>\n",
       "    <tr>\n",
       "      <th>10</th>\n",
       "      <td>-1</td>\n",
       "      <td>-1</td>\n",
       "      <td>-1</td>\n",
       "      <td>-1</td>\n",
       "      <td>-1</td>\n",
       "      <td>-1</td>\n",
       "      <td>-1</td>\n",
       "      <td>0</td>\n",
       "      <td>0</td>\n",
       "      <td>-1</td>\n",
       "      <td>...</td>\n",
       "      <td>-1</td>\n",
       "      <td>-1</td>\n",
       "      <td>-1</td>\n",
       "      <td>-1</td>\n",
       "      <td>-1</td>\n",
       "      <td>-1</td>\n",
       "      <td>-1</td>\n",
       "      <td>-1</td>\n",
       "      <td>-1</td>\n",
       "      <td>897</td>\n",
       "    </tr>\n",
       "    <tr>\n",
       "      <th>11</th>\n",
       "      <td>-1</td>\n",
       "      <td>-1</td>\n",
       "      <td>-1</td>\n",
       "      <td>-1</td>\n",
       "      <td>-1</td>\n",
       "      <td>-1</td>\n",
       "      <td>-1</td>\n",
       "      <td>0</td>\n",
       "      <td>0</td>\n",
       "      <td>-1</td>\n",
       "      <td>...</td>\n",
       "      <td>-1</td>\n",
       "      <td>-1</td>\n",
       "      <td>-1</td>\n",
       "      <td>-1</td>\n",
       "      <td>-1</td>\n",
       "      <td>-1</td>\n",
       "      <td>-1</td>\n",
       "      <td>-1</td>\n",
       "      <td>-1</td>\n",
       "      <td>898</td>\n",
       "    </tr>\n",
       "  </tbody>\n",
       "</table>\n",
       "<p>5 rows × 109 columns</p>\n",
       "</div>"
      ],
      "text/plain": [
       "    LF_HETNET_DRUGBANK  LF_HETNET_DRUGCENTRAL  LF_HETNET_ChEMBL  \\\n",
       "1                   -1                     -1                -1   \n",
       "7                   -1                     -1                -1   \n",
       "8                   -1                     -1                -1   \n",
       "10                  -1                     -1                -1   \n",
       "11                  -1                     -1                -1   \n",
       "\n",
       "    LF_HETNET_BINDINGDB  LF_HETNET_PDSP_KI  LF_HETNET_US_PATENT  \\\n",
       "1                    -1                 -1                   -1   \n",
       "7                    -1                 -1                   -1   \n",
       "8                    -1                 -1                   -1   \n",
       "10                   -1                 -1                   -1   \n",
       "11                   -1                 -1                   -1   \n",
       "\n",
       "    LF_HETNET_PUBCHEM  LF_HETNET_CG_ABSENT  LF_CG_CHECK_GENE_TAG  \\\n",
       "1                  -1                    0                     0   \n",
       "7                  -1                    0                     0   \n",
       "8                  -1                    0                     0   \n",
       "10                 -1                    0                     0   \n",
       "11                 -1                    0                     0   \n",
       "\n",
       "    LF_DG_IS_BIOMARKER  ...  LF_GG_NO_VERB  LF_GG_BICLUSTER_BINDING  \\\n",
       "1                   -1  ...             -1                       -1   \n",
       "7                    1  ...             -1                       -1   \n",
       "8                   -1  ...             -1                       -1   \n",
       "10                  -1  ...             -1                       -1   \n",
       "11                  -1  ...             -1                       -1   \n",
       "\n",
       "    LF_GG_BICLUSTER_ENHANCES  LF_GG_BICLUSTER_ACTIVATES  \\\n",
       "1                         -1                          1   \n",
       "7                         -1                         -1   \n",
       "8                         -1                         -1   \n",
       "10                        -1                         -1   \n",
       "11                        -1                         -1   \n",
       "\n",
       "    LF_GG_BICLUSTER_AFFECTS_EXPRESSION  LF_GG_BICLUSTER_INCREASES_EXPRESSION  \\\n",
       "1                                   -1                                    -1   \n",
       "7                                   -1                                    -1   \n",
       "8                                   -1                                    -1   \n",
       "10                                  -1                                    -1   \n",
       "11                                  -1                                    -1   \n",
       "\n",
       "    LF_GG_BICLUSTER_SIGNALING  LF_GG_BICLUSTER_IDENTICAL_PROTEIN  \\\n",
       "1                          -1                                 -1   \n",
       "7                          -1                                 -1   \n",
       "8                          -1                                 -1   \n",
       "10                         -1                                 -1   \n",
       "11                         -1                                 -1   \n",
       "\n",
       "    LF_GG_BICLUSTER_CELL_PRODUCTION  candidate_id  \n",
       "1                                -1           191  \n",
       "7                                -1           449  \n",
       "8                                -1           450  \n",
       "10                               -1           897  \n",
       "11                               -1           898  \n",
       "\n",
       "[5 rows x 109 columns]"
      ]
     },
     "execution_count": 12,
     "metadata": {},
     "output_type": "execute_result"
    }
   ],
   "source": [
    "filtered_L_abstracts = L_abstracts >> ply.query(\n",
    "    f\"candidate_id in {list(trained_documents)}\"\n",
    ")\n",
    "print(filtered_L_abstracts.shape)\n",
    "filtered_L_abstracts.head()"
   ]
  },
  {
   "cell_type": "code",
   "execution_count": 13,
   "metadata": {
    "ExecuteTime": {
     "end_time": "2021-12-23T03:31:36.290433Z",
     "start_time": "2021-12-23T03:30:57.964917Z"
    }
   },
   "outputs": [
    {
     "name": "stdout",
     "output_type": "stream",
     "text": [
      "(1483352, 109)\n"
     ]
    },
    {
     "data": {
      "text/html": [
       "<div>\n",
       "<style scoped>\n",
       "    .dataframe tbody tr th:only-of-type {\n",
       "        vertical-align: middle;\n",
       "    }\n",
       "\n",
       "    .dataframe tbody tr th {\n",
       "        vertical-align: top;\n",
       "    }\n",
       "\n",
       "    .dataframe thead th {\n",
       "        text-align: right;\n",
       "    }\n",
       "</style>\n",
       "<table border=\"1\" class=\"dataframe\">\n",
       "  <thead>\n",
       "    <tr style=\"text-align: right;\">\n",
       "      <th></th>\n",
       "      <th>LF_HETNET_DRUGBANK</th>\n",
       "      <th>LF_HETNET_DRUGCENTRAL</th>\n",
       "      <th>LF_HETNET_ChEMBL</th>\n",
       "      <th>LF_HETNET_BINDINGDB</th>\n",
       "      <th>LF_HETNET_PDSP_KI</th>\n",
       "      <th>LF_HETNET_US_PATENT</th>\n",
       "      <th>LF_HETNET_PUBCHEM</th>\n",
       "      <th>LF_HETNET_CG_ABSENT</th>\n",
       "      <th>LF_CG_CHECK_GENE_TAG</th>\n",
       "      <th>LF_DG_IS_BIOMARKER</th>\n",
       "      <th>...</th>\n",
       "      <th>LF_GG_NO_VERB</th>\n",
       "      <th>LF_GG_BICLUSTER_BINDING</th>\n",
       "      <th>LF_GG_BICLUSTER_ENHANCES</th>\n",
       "      <th>LF_GG_BICLUSTER_ACTIVATES</th>\n",
       "      <th>LF_GG_BICLUSTER_AFFECTS_EXPRESSION</th>\n",
       "      <th>LF_GG_BICLUSTER_INCREASES_EXPRESSION</th>\n",
       "      <th>LF_GG_BICLUSTER_SIGNALING</th>\n",
       "      <th>LF_GG_BICLUSTER_IDENTICAL_PROTEIN</th>\n",
       "      <th>LF_GG_BICLUSTER_CELL_PRODUCTION</th>\n",
       "      <th>candidate_id</th>\n",
       "    </tr>\n",
       "  </thead>\n",
       "  <tbody>\n",
       "    <tr>\n",
       "      <th>0</th>\n",
       "      <td>-1</td>\n",
       "      <td>-1</td>\n",
       "      <td>-1</td>\n",
       "      <td>-1</td>\n",
       "      <td>-1</td>\n",
       "      <td>-1</td>\n",
       "      <td>-1</td>\n",
       "      <td>0</td>\n",
       "      <td>0</td>\n",
       "      <td>1</td>\n",
       "      <td>...</td>\n",
       "      <td>-1</td>\n",
       "      <td>-1</td>\n",
       "      <td>-1</td>\n",
       "      <td>-1</td>\n",
       "      <td>-1</td>\n",
       "      <td>-1</td>\n",
       "      <td>-1</td>\n",
       "      <td>-1</td>\n",
       "      <td>-1</td>\n",
       "      <td>170</td>\n",
       "    </tr>\n",
       "    <tr>\n",
       "      <th>1</th>\n",
       "      <td>-1</td>\n",
       "      <td>-1</td>\n",
       "      <td>-1</td>\n",
       "      <td>-1</td>\n",
       "      <td>-1</td>\n",
       "      <td>-1</td>\n",
       "      <td>-1</td>\n",
       "      <td>0</td>\n",
       "      <td>0</td>\n",
       "      <td>-1</td>\n",
       "      <td>...</td>\n",
       "      <td>-1</td>\n",
       "      <td>-1</td>\n",
       "      <td>-1</td>\n",
       "      <td>-1</td>\n",
       "      <td>-1</td>\n",
       "      <td>-1</td>\n",
       "      <td>-1</td>\n",
       "      <td>-1</td>\n",
       "      <td>-1</td>\n",
       "      <td>171</td>\n",
       "    </tr>\n",
       "    <tr>\n",
       "      <th>8</th>\n",
       "      <td>-1</td>\n",
       "      <td>-1</td>\n",
       "      <td>-1</td>\n",
       "      <td>-1</td>\n",
       "      <td>-1</td>\n",
       "      <td>-1</td>\n",
       "      <td>-1</td>\n",
       "      <td>0</td>\n",
       "      <td>0</td>\n",
       "      <td>-1</td>\n",
       "      <td>...</td>\n",
       "      <td>-1</td>\n",
       "      <td>-1</td>\n",
       "      <td>-1</td>\n",
       "      <td>-1</td>\n",
       "      <td>-1</td>\n",
       "      <td>-1</td>\n",
       "      <td>-1</td>\n",
       "      <td>-1</td>\n",
       "      <td>-1</td>\n",
       "      <td>360</td>\n",
       "    </tr>\n",
       "    <tr>\n",
       "      <th>9</th>\n",
       "      <td>-1</td>\n",
       "      <td>-1</td>\n",
       "      <td>-1</td>\n",
       "      <td>-1</td>\n",
       "      <td>-1</td>\n",
       "      <td>-1</td>\n",
       "      <td>-1</td>\n",
       "      <td>0</td>\n",
       "      <td>0</td>\n",
       "      <td>-1</td>\n",
       "      <td>...</td>\n",
       "      <td>-1</td>\n",
       "      <td>-1</td>\n",
       "      <td>-1</td>\n",
       "      <td>-1</td>\n",
       "      <td>-1</td>\n",
       "      <td>-1</td>\n",
       "      <td>-1</td>\n",
       "      <td>-1</td>\n",
       "      <td>-1</td>\n",
       "      <td>361</td>\n",
       "    </tr>\n",
       "    <tr>\n",
       "      <th>10</th>\n",
       "      <td>-1</td>\n",
       "      <td>-1</td>\n",
       "      <td>-1</td>\n",
       "      <td>-1</td>\n",
       "      <td>-1</td>\n",
       "      <td>-1</td>\n",
       "      <td>-1</td>\n",
       "      <td>0</td>\n",
       "      <td>0</td>\n",
       "      <td>-1</td>\n",
       "      <td>...</td>\n",
       "      <td>-1</td>\n",
       "      <td>-1</td>\n",
       "      <td>-1</td>\n",
       "      <td>-1</td>\n",
       "      <td>-1</td>\n",
       "      <td>-1</td>\n",
       "      <td>-1</td>\n",
       "      <td>-1</td>\n",
       "      <td>-1</td>\n",
       "      <td>362</td>\n",
       "    </tr>\n",
       "  </tbody>\n",
       "</table>\n",
       "<p>5 rows × 109 columns</p>\n",
       "</div>"
      ],
      "text/plain": [
       "    LF_HETNET_DRUGBANK  LF_HETNET_DRUGCENTRAL  LF_HETNET_ChEMBL  \\\n",
       "0                   -1                     -1                -1   \n",
       "1                   -1                     -1                -1   \n",
       "8                   -1                     -1                -1   \n",
       "9                   -1                     -1                -1   \n",
       "10                  -1                     -1                -1   \n",
       "\n",
       "    LF_HETNET_BINDINGDB  LF_HETNET_PDSP_KI  LF_HETNET_US_PATENT  \\\n",
       "0                    -1                 -1                   -1   \n",
       "1                    -1                 -1                   -1   \n",
       "8                    -1                 -1                   -1   \n",
       "9                    -1                 -1                   -1   \n",
       "10                   -1                 -1                   -1   \n",
       "\n",
       "    LF_HETNET_PUBCHEM  LF_HETNET_CG_ABSENT  LF_CG_CHECK_GENE_TAG  \\\n",
       "0                  -1                    0                     0   \n",
       "1                  -1                    0                     0   \n",
       "8                  -1                    0                     0   \n",
       "9                  -1                    0                     0   \n",
       "10                 -1                    0                     0   \n",
       "\n",
       "    LF_DG_IS_BIOMARKER  ...  LF_GG_NO_VERB  LF_GG_BICLUSTER_BINDING  \\\n",
       "0                    1  ...             -1                       -1   \n",
       "1                   -1  ...             -1                       -1   \n",
       "8                   -1  ...             -1                       -1   \n",
       "9                   -1  ...             -1                       -1   \n",
       "10                  -1  ...             -1                       -1   \n",
       "\n",
       "    LF_GG_BICLUSTER_ENHANCES  LF_GG_BICLUSTER_ACTIVATES  \\\n",
       "0                         -1                         -1   \n",
       "1                         -1                         -1   \n",
       "8                         -1                         -1   \n",
       "9                         -1                         -1   \n",
       "10                        -1                         -1   \n",
       "\n",
       "    LF_GG_BICLUSTER_AFFECTS_EXPRESSION  LF_GG_BICLUSTER_INCREASES_EXPRESSION  \\\n",
       "0                                   -1                                    -1   \n",
       "1                                   -1                                    -1   \n",
       "8                                   -1                                    -1   \n",
       "9                                   -1                                    -1   \n",
       "10                                  -1                                    -1   \n",
       "\n",
       "    LF_GG_BICLUSTER_SIGNALING  LF_GG_BICLUSTER_IDENTICAL_PROTEIN  \\\n",
       "0                          -1                                 -1   \n",
       "1                          -1                                 -1   \n",
       "8                          -1                                 -1   \n",
       "9                          -1                                 -1   \n",
       "10                         -1                                 -1   \n",
       "\n",
       "    LF_GG_BICLUSTER_CELL_PRODUCTION  candidate_id  \n",
       "0                                -1           170  \n",
       "1                                -1           171  \n",
       "8                                -1           360  \n",
       "9                                -1           361  \n",
       "10                               -1           362  \n",
       "\n",
       "[5 rows x 109 columns]"
      ]
     },
     "execution_count": 13,
     "metadata": {},
     "output_type": "execute_result"
    }
   ],
   "source": [
    "filtered_L_full_text = L_full_text >> ply.query(\n",
    "    f\"candidate_id in {list(trained_documents)}\"\n",
    ")\n",
    "print(filtered_L_full_text.shape)\n",
    "filtered_L_full_text.head()"
   ]
  },
  {
   "cell_type": "markdown",
   "metadata": {},
   "source": [
    "## Construct the Grid Search"
   ]
  },
  {
   "cell_type": "code",
   "execution_count": 14,
   "metadata": {
    "ExecuteTime": {
     "end_time": "2021-12-23T03:31:36.296233Z",
     "start_time": "2021-12-23T03:31:36.291671Z"
    }
   },
   "outputs": [],
   "source": [
    "# Global Grid\n",
    "epochs_grid = [250]\n",
    "l2_param_grid = np.linspace(0.01, 5, num=5)\n",
    "lr_grid = [1e-3]\n",
    "grid = list(\n",
    "    zip(epochs_grid * len(l2_param_grid), l2_param_grid, lr_grid * len(l2_param_grid))\n",
    ")"
   ]
  },
  {
   "cell_type": "markdown",
   "metadata": {},
   "source": [
    "# Abstracts"
   ]
  },
  {
   "cell_type": "code",
   "execution_count": 15,
   "metadata": {
    "ExecuteTime": {
     "end_time": "2021-12-23T03:31:47.078032Z",
     "start_time": "2021-12-23T03:31:36.297449Z"
    }
   },
   "outputs": [
    {
     "data": {
      "text/html": [
       "<div>\n",
       "<style scoped>\n",
       "    .dataframe tbody tr th:only-of-type {\n",
       "        vertical-align: middle;\n",
       "    }\n",
       "\n",
       "    .dataframe tbody tr th {\n",
       "        vertical-align: top;\n",
       "    }\n",
       "\n",
       "    .dataframe thead th {\n",
       "        text-align: right;\n",
       "    }\n",
       "</style>\n",
       "<table border=\"1\" class=\"dataframe\">\n",
       "  <thead>\n",
       "    <tr style=\"text-align: right;\">\n",
       "      <th></th>\n",
       "      <th>Polarity</th>\n",
       "      <th>Coverage</th>\n",
       "      <th>Overlaps</th>\n",
       "      <th>Conflicts</th>\n",
       "    </tr>\n",
       "  </thead>\n",
       "  <tbody>\n",
       "    <tr>\n",
       "      <th>LF_HETNET_DRUGBANK</th>\n",
       "      <td>[1]</td>\n",
       "      <td>0.080205</td>\n",
       "      <td>0.080205</td>\n",
       "      <td>0.080205</td>\n",
       "    </tr>\n",
       "    <tr>\n",
       "      <th>LF_HETNET_DRUGCENTRAL</th>\n",
       "      <td>[1]</td>\n",
       "      <td>0.026783</td>\n",
       "      <td>0.026783</td>\n",
       "      <td>0.026783</td>\n",
       "    </tr>\n",
       "    <tr>\n",
       "      <th>LF_HETNET_ChEMBL</th>\n",
       "      <td>[1]</td>\n",
       "      <td>0.030188</td>\n",
       "      <td>0.030188</td>\n",
       "      <td>0.030188</td>\n",
       "    </tr>\n",
       "    <tr>\n",
       "      <th>LF_HETNET_BINDINGDB</th>\n",
       "      <td>[1]</td>\n",
       "      <td>0.004332</td>\n",
       "      <td>0.004332</td>\n",
       "      <td>0.004332</td>\n",
       "    </tr>\n",
       "    <tr>\n",
       "      <th>LF_HETNET_PDSP_KI</th>\n",
       "      <td>[1]</td>\n",
       "      <td>0.003062</td>\n",
       "      <td>0.003062</td>\n",
       "      <td>0.003062</td>\n",
       "    </tr>\n",
       "    <tr>\n",
       "      <th>...</th>\n",
       "      <td>...</td>\n",
       "      <td>...</td>\n",
       "      <td>...</td>\n",
       "      <td>...</td>\n",
       "    </tr>\n",
       "    <tr>\n",
       "      <th>LF_GG_BICLUSTER_AFFECTS_EXPRESSION</th>\n",
       "      <td>[1]</td>\n",
       "      <td>0.022110</td>\n",
       "      <td>0.022110</td>\n",
       "      <td>0.022110</td>\n",
       "    </tr>\n",
       "    <tr>\n",
       "      <th>LF_GG_BICLUSTER_INCREASES_EXPRESSION</th>\n",
       "      <td>[0]</td>\n",
       "      <td>0.039291</td>\n",
       "      <td>0.039291</td>\n",
       "      <td>0.039291</td>\n",
       "    </tr>\n",
       "    <tr>\n",
       "      <th>LF_GG_BICLUSTER_SIGNALING</th>\n",
       "      <td>[1]</td>\n",
       "      <td>0.045772</td>\n",
       "      <td>0.045772</td>\n",
       "      <td>0.045772</td>\n",
       "    </tr>\n",
       "    <tr>\n",
       "      <th>LF_GG_BICLUSTER_IDENTICAL_PROTEIN</th>\n",
       "      <td>[0]</td>\n",
       "      <td>0.027517</td>\n",
       "      <td>0.027517</td>\n",
       "      <td>0.027517</td>\n",
       "    </tr>\n",
       "    <tr>\n",
       "      <th>LF_GG_BICLUSTER_CELL_PRODUCTION</th>\n",
       "      <td>[0]</td>\n",
       "      <td>0.039701</td>\n",
       "      <td>0.039701</td>\n",
       "      <td>0.039701</td>\n",
       "    </tr>\n",
       "  </tbody>\n",
       "</table>\n",
       "<p>108 rows × 4 columns</p>\n",
       "</div>"
      ],
      "text/plain": [
       "                                     Polarity  Coverage  Overlaps  Conflicts\n",
       "LF_HETNET_DRUGBANK                        [1]  0.080205  0.080205   0.080205\n",
       "LF_HETNET_DRUGCENTRAL                     [1]  0.026783  0.026783   0.026783\n",
       "LF_HETNET_ChEMBL                          [1]  0.030188  0.030188   0.030188\n",
       "LF_HETNET_BINDINGDB                       [1]  0.004332  0.004332   0.004332\n",
       "LF_HETNET_PDSP_KI                         [1]  0.003062  0.003062   0.003062\n",
       "...                                       ...       ...       ...        ...\n",
       "LF_GG_BICLUSTER_AFFECTS_EXPRESSION        [1]  0.022110  0.022110   0.022110\n",
       "LF_GG_BICLUSTER_INCREASES_EXPRESSION      [0]  0.039291  0.039291   0.039291\n",
       "LF_GG_BICLUSTER_SIGNALING                 [1]  0.045772  0.045772   0.045772\n",
       "LF_GG_BICLUSTER_IDENTICAL_PROTEIN         [0]  0.027517  0.027517   0.027517\n",
       "LF_GG_BICLUSTER_CELL_PRODUCTION           [0]  0.039701  0.039701   0.039701\n",
       "\n",
       "[108 rows x 4 columns]"
      ]
     },
     "execution_count": 15,
     "metadata": {},
     "output_type": "execute_result"
    }
   ],
   "source": [
    "analysis_module = LFAnalysis(\n",
    "    filtered_L_abstracts >> ply.select(\"candidate_id\", drop=True)\n",
    ")\n",
    "\n",
    "abstract_lf_summary = analysis_module.lf_summary()\n",
    "abstract_lf_summary.index = (\n",
    "    filtered_L_abstracts >> ply.select(\"candidate_id\", drop=True)\n",
    ").columns.tolist()\n",
    "\n",
    "abstract_lf_summary"
   ]
  },
  {
   "cell_type": "markdown",
   "metadata": {},
   "source": [
    "# Set up fields for resampling"
   ]
  },
  {
   "cell_type": "code",
   "execution_count": 16,
   "metadata": {
    "ExecuteTime": {
     "end_time": "2021-12-23T03:31:47.081308Z",
     "start_time": "2021-12-23T03:31:47.079146Z"
    }
   },
   "outputs": [],
   "source": [
    "lf_columns_base = list(L_abstracts.columns[0:9])\n",
    "data_columns = []"
   ]
  },
  {
   "cell_type": "markdown",
   "metadata": {},
   "source": [
    "# Abstracts"
   ]
  },
  {
   "cell_type": "markdown",
   "metadata": {},
   "source": [
    "## Baseline"
   ]
  },
  {
   "cell_type": "code",
   "execution_count": 17,
   "metadata": {
    "ExecuteTime": {
     "end_time": "2021-12-23T03:31:47.126179Z",
     "start_time": "2021-12-23T03:31:47.082531Z"
    }
   },
   "outputs": [],
   "source": [
    "cbg_start = 0\n",
    "cbg_end = 9\n",
    "number_of_samples = 1\n",
    "\n",
    "cbg_lf_range = range(cbg_start, cbg_end)\n",
    "size_of_samples = [len(cbg_lf_range)]"
   ]
  },
  {
   "cell_type": "code",
   "execution_count": 18,
   "metadata": {
    "ExecuteTime": {
     "end_time": "2021-12-23T03:31:47.169262Z",
     "start_time": "2021-12-23T03:31:47.130858Z"
    }
   },
   "outputs": [],
   "source": [
    "sampled_lfs_dict = {\n",
    "    sample_size: (\n",
    "        sample_lfs(\n",
    "            list(cbg_lf_range),\n",
    "            len(list(cbg_lf_range)),\n",
    "            sample_size,\n",
    "            number_of_samples,\n",
    "            random_state=100,\n",
    "        )\n",
    "    )\n",
    "    for sample_size in size_of_samples\n",
    "}"
   ]
  },
  {
   "cell_type": "code",
   "execution_count": 19,
   "metadata": {
    "ExecuteTime": {
     "end_time": "2021-12-23T03:31:54.880328Z",
     "start_time": "2021-12-23T03:31:47.174053Z"
    }
   },
   "outputs": [
    {
     "name": "stderr",
     "output_type": "stream",
     "text": [
      "100%|██████████| 1/1 [00:07<00:00,  7.66s/it]\n"
     ]
    }
   ],
   "source": [
    "data_columns += run_generative_label_function_sampler(\n",
    "    filtered_L_abstracts,\n",
    "    L_dev,\n",
    "    L_test,\n",
    "    sampled_lfs_dict,\n",
    "    lf_columns_base=lf_columns_base,\n",
    "    grid_param=grid,\n",
    "    marginals_df_file=str(\n",
    "        notebook_output_dir / Path(\"cbg_training_marginals_baseline.tsv\")\n",
    "    ),\n",
    "    curated_label=\"curated_cbg\",\n",
    "    entity_label=\"CbG_baseline\",\n",
    "    data_source=\"abstract\",\n",
    ")"
   ]
  },
  {
   "cell_type": "markdown",
   "metadata": {},
   "source": [
    "## DaG"
   ]
  },
  {
   "cell_type": "code",
   "execution_count": 20,
   "metadata": {
    "ExecuteTime": {
     "end_time": "2021-12-23T03:31:54.883775Z",
     "start_time": "2021-12-23T03:31:54.881383Z"
    }
   },
   "outputs": [],
   "source": [
    "dag_start = 9\n",
    "dag_end = 38\n",
    "\n",
    "# Spaced out number of sampels including total\n",
    "size_of_samples = [1, 6, 11, 16, dag_end - dag_start]\n",
    "number_of_samples = 50\n",
    "dag_lf_range = range(dag_start, dag_end)"
   ]
  },
  {
   "cell_type": "code",
   "execution_count": 21,
   "metadata": {
    "ExecuteTime": {
     "end_time": "2021-12-23T03:31:54.927026Z",
     "start_time": "2021-12-23T03:31:54.885171Z"
    }
   },
   "outputs": [],
   "source": [
    "sampled_lfs_dict = {\n",
    "    sample_size: (\n",
    "        sample_lfs(\n",
    "            list(dag_lf_range),\n",
    "            len(list(dag_lf_range)),\n",
    "            sample_size,\n",
    "            number_of_samples,\n",
    "            random_state=100,\n",
    "        )\n",
    "    )\n",
    "    for sample_size in size_of_samples\n",
    "}"
   ]
  },
  {
   "cell_type": "code",
   "execution_count": 22,
   "metadata": {
    "ExecuteTime": {
     "end_time": "2021-12-23T03:56:07.267123Z",
     "start_time": "2021-12-23T03:31:54.928431Z"
    },
    "scrolled": true
   },
   "outputs": [
    {
     "name": "stderr",
     "output_type": "stream",
     "text": [
      "100%|██████████| 50/50 [02:42<00:00,  3.25s/it]\n",
      "100%|██████████| 50/50 [03:25<00:00,  4.11s/it]\n",
      "100%|██████████| 50/50 [04:26<00:00,  5.34s/it]\n",
      "100%|██████████| 50/50 [05:32<00:00,  6.65s/it]\n",
      "100%|██████████| 50/50 [08:04<00:00,  9.70s/it]\n"
     ]
    }
   ],
   "source": [
    "data_columns += run_generative_label_function_sampler(\n",
    "    filtered_L_abstracts,\n",
    "    L_dev,\n",
    "    L_test,\n",
    "    sampled_lfs_dict,\n",
    "    lf_columns_base=lf_columns_base,\n",
    "    grid_param=grid,\n",
    "    marginals_df_file=\"\",\n",
    "    curated_label=\"curated_cbg\",\n",
    "    entity_label=\"DaG\",\n",
    "    data_source=\"abstract\",\n",
    ")"
   ]
  },
  {
   "cell_type": "markdown",
   "metadata": {
    "ExecuteTime": {
     "end_time": "2021-05-23T01:13:03.897741Z",
     "start_time": "2021-05-23T01:13:03.887610Z"
    }
   },
   "source": [
    "## CtD"
   ]
  },
  {
   "cell_type": "code",
   "execution_count": 23,
   "metadata": {
    "ExecuteTime": {
     "end_time": "2021-12-23T03:56:07.271938Z",
     "start_time": "2021-12-23T03:56:07.269715Z"
    }
   },
   "outputs": [],
   "source": [
    "ctd_start = 38\n",
    "ctd_end = 60\n",
    "\n",
    "# Spaced out number of sampels including total\n",
    "size_of_samples = [1, 6, 11, 16, ctd_end - ctd_start]\n",
    "number_of_samples = 50\n",
    "ctd_lf_range = range(ctd_start, ctd_end)"
   ]
  },
  {
   "cell_type": "code",
   "execution_count": 24,
   "metadata": {
    "ExecuteTime": {
     "end_time": "2021-12-23T03:56:07.315148Z",
     "start_time": "2021-12-23T03:56:07.273571Z"
    }
   },
   "outputs": [],
   "source": [
    "sampled_lfs_dict = {\n",
    "    sample_size: (\n",
    "        sample_lfs(\n",
    "            list(ctd_lf_range),\n",
    "            len(list(ctd_lf_range)),\n",
    "            sample_size,\n",
    "            number_of_samples,\n",
    "            random_state=100,\n",
    "        )\n",
    "    )\n",
    "    for sample_size in size_of_samples\n",
    "}"
   ]
  },
  {
   "cell_type": "code",
   "execution_count": 25,
   "metadata": {
    "ExecuteTime": {
     "end_time": "2021-12-23T04:19:09.116772Z",
     "start_time": "2021-12-23T03:56:07.316531Z"
    },
    "scrolled": true
   },
   "outputs": [
    {
     "name": "stderr",
     "output_type": "stream",
     "text": [
      "100%|██████████| 50/50 [02:41<00:00,  3.24s/it]\n",
      "100%|██████████| 50/50 [03:26<00:00,  4.13s/it]\n",
      "100%|██████████| 50/50 [04:28<00:00,  5.38s/it]\n",
      "100%|██████████| 50/50 [05:36<00:00,  6.73s/it]\n",
      "100%|██████████| 50/50 [06:48<00:00,  8.16s/it]\n"
     ]
    }
   ],
   "source": [
    "data_columns += run_generative_label_function_sampler(\n",
    "    filtered_L_abstracts,\n",
    "    L_dev,\n",
    "    L_test,\n",
    "    sampled_lfs_dict,\n",
    "    lf_columns_base=lf_columns_base,\n",
    "    grid_param=grid,\n",
    "    marginals_df_file=\"\",\n",
    "    curated_label=\"curated_cbg\",\n",
    "    entity_label=\"CtD\",\n",
    "    data_source=\"abstract\",\n",
    ")"
   ]
  },
  {
   "cell_type": "markdown",
   "metadata": {
    "ExecuteTime": {
     "end_time": "2021-05-23T01:15:48.612320Z",
     "start_time": "2021-05-23T01:15:48.602105Z"
    }
   },
   "source": [
    "## CbG"
   ]
  },
  {
   "cell_type": "code",
   "execution_count": 26,
   "metadata": {
    "ExecuteTime": {
     "end_time": "2021-12-23T04:19:09.120171Z",
     "start_time": "2021-12-23T04:19:09.117828Z"
    }
   },
   "outputs": [],
   "source": [
    "cbg_start = 60\n",
    "cbg_end = 80\n",
    "\n",
    "# Spaced out number of sampels including total\n",
    "size_of_samples = [1, 6, 11, 16, cbg_end - cbg_start]\n",
    "number_of_samples = 50\n",
    "cbg_lf_range = range(cbg_start, cbg_end)"
   ]
  },
  {
   "cell_type": "code",
   "execution_count": 27,
   "metadata": {
    "ExecuteTime": {
     "end_time": "2021-12-23T04:19:09.163123Z",
     "start_time": "2021-12-23T04:19:09.121216Z"
    }
   },
   "outputs": [],
   "source": [
    "sampled_lfs_dict = {\n",
    "    sample_size: (\n",
    "        sample_lfs(\n",
    "            list(cbg_lf_range),\n",
    "            len(list(cbg_lf_range)),\n",
    "            sample_size,\n",
    "            number_of_samples,\n",
    "            random_state=100,\n",
    "        )\n",
    "    )\n",
    "    for sample_size in size_of_samples\n",
    "}"
   ]
  },
  {
   "cell_type": "code",
   "execution_count": 28,
   "metadata": {
    "ExecuteTime": {
     "end_time": "2021-12-23T04:57:47.049027Z",
     "start_time": "2021-12-23T04:19:09.164435Z"
    },
    "scrolled": true
   },
   "outputs": [
    {
     "name": "stderr",
     "output_type": "stream",
     "text": [
      "100%|██████████| 50/50 [05:49<00:00,  6.99s/it]\n",
      "100%|██████████| 50/50 [06:38<00:00,  7.96s/it]\n",
      "100%|██████████| 50/50 [07:42<00:00,  9.25s/it]\n",
      "100%|██████████| 50/50 [08:52<00:00, 10.64s/it]\n",
      "100%|██████████| 50/50 [09:35<00:00, 11.51s/it]\n"
     ]
    }
   ],
   "source": [
    "data_columns += run_generative_label_function_sampler(\n",
    "    filtered_L_abstracts,\n",
    "    L_dev,\n",
    "    L_test,\n",
    "    sampled_lfs_dict,\n",
    "    lf_columns_base=lf_columns_base,\n",
    "    grid_param=grid,\n",
    "    marginals_df_file=str(\n",
    "        notebook_output_dir / Path(\"cbg_predicts_cbg_training_marginals.tsv\")\n",
    "    ),\n",
    "    curated_label=\"curated_cbg\",\n",
    "    entity_label=\"CbG\",\n",
    "    data_source=\"abstract\",\n",
    ")"
   ]
  },
  {
   "cell_type": "markdown",
   "metadata": {
    "ExecuteTime": {
     "end_time": "2021-05-23T01:23:19.004580Z",
     "start_time": "2021-05-23T01:23:18.991250Z"
    },
    "scrolled": false
   },
   "source": [
    "## GiG"
   ]
  },
  {
   "cell_type": "code",
   "execution_count": 29,
   "metadata": {
    "ExecuteTime": {
     "end_time": "2021-12-23T04:57:47.052390Z",
     "start_time": "2021-12-23T04:57:47.050073Z"
    }
   },
   "outputs": [],
   "source": [
    "gig_start = 80\n",
    "gig_end = 108\n",
    "\n",
    "# Spaced out number of sampels including total\n",
    "size_of_samples = [1, 6, 11, 16, gig_end - gig_start]\n",
    "number_of_samples = 50\n",
    "gig_lf_range = range(gig_start, gig_end)"
   ]
  },
  {
   "cell_type": "code",
   "execution_count": 30,
   "metadata": {
    "ExecuteTime": {
     "end_time": "2021-12-23T04:57:47.097890Z",
     "start_time": "2021-12-23T04:57:47.053620Z"
    }
   },
   "outputs": [],
   "source": [
    "sampled_lfs_dict = {\n",
    "    sample_size: (\n",
    "        sample_lfs(\n",
    "            list(gig_lf_range),\n",
    "            len(list(gig_lf_range)),\n",
    "            sample_size,\n",
    "            number_of_samples,\n",
    "            random_state=100,\n",
    "        )\n",
    "    )\n",
    "    for sample_size in size_of_samples\n",
    "}"
   ]
  },
  {
   "cell_type": "code",
   "execution_count": 31,
   "metadata": {
    "ExecuteTime": {
     "end_time": "2021-12-23T05:22:02.522383Z",
     "start_time": "2021-12-23T04:57:47.099454Z"
    },
    "scrolled": true
   },
   "outputs": [
    {
     "name": "stderr",
     "output_type": "stream",
     "text": [
      "100%|██████████| 50/50 [02:43<00:00,  3.27s/it]\n",
      "100%|██████████| 50/50 [04:28<00:00,  5.37s/it]\n",
      "100%|██████████| 50/50 [05:34<00:00,  6.70s/it]\n",
      "100%|██████████| 50/50 [08:00<00:00,  9.62s/it]\n"
     ]
    }
   ],
   "source": [
    "data_columns += run_generative_label_function_sampler(\n",
    "    filtered_L_abstracts,\n",
    "    L_dev,\n",
    "    L_test,\n",
    "    sampled_lfs_dict,\n",
    "    lf_columns_base=lf_columns_base,\n",
    "    grid_param=grid,\n",
    "    marginals_df_file=\"\",\n",
    "    curated_label=\"curated_cbg\",\n",
    "    entity_label=\"GiG\",\n",
    "    data_source=\"abstract\",\n",
    ")"
   ]
  },
  {
   "cell_type": "markdown",
   "metadata": {},
   "source": [
    "# Full Text"
   ]
  },
  {
   "cell_type": "markdown",
   "metadata": {},
   "source": [
    "## DaG"
   ]
  },
  {
   "cell_type": "code",
   "execution_count": 32,
   "metadata": {
    "ExecuteTime": {
     "end_time": "2021-12-23T05:22:02.525765Z",
     "start_time": "2021-12-23T05:22:02.523405Z"
    }
   },
   "outputs": [],
   "source": [
    "dag_start = 9\n",
    "dag_end = 38\n",
    "\n",
    "# Spaced out number of sampels including total\n",
    "size_of_samples = [1, 6, 11, 16, dag_end - dag_start]\n",
    "number_of_samples = 50\n",
    "dag_lf_range = range(dag_start, dag_end)"
   ]
  },
  {
   "cell_type": "code",
   "execution_count": 33,
   "metadata": {
    "ExecuteTime": {
     "end_time": "2021-12-23T05:22:02.568326Z",
     "start_time": "2021-12-23T05:22:02.526950Z"
    }
   },
   "outputs": [],
   "source": [
    "sampled_lfs_dict = {\n",
    "    sample_size: (\n",
    "        sample_lfs(\n",
    "            list(dag_lf_range),\n",
    "            len(list(dag_lf_range)),\n",
    "            sample_size,\n",
    "            number_of_samples,\n",
    "            random_state=100,\n",
    "        )\n",
    "    )\n",
    "    for sample_size in size_of_samples\n",
    "}"
   ]
  },
  {
   "cell_type": "code",
   "execution_count": 34,
   "metadata": {
    "ExecuteTime": {
     "end_time": "2021-12-23T05:59:22.231398Z",
     "start_time": "2021-12-23T05:22:02.569588Z"
    },
    "scrolled": true
   },
   "outputs": [
    {
     "name": "stderr",
     "output_type": "stream",
     "text": [
      "100%|██████████| 50/50 [03:57<00:00,  4.75s/it]\n",
      "100%|██████████| 50/50 [05:44<00:00,  6.89s/it]\n",
      "100%|██████████| 50/50 [06:56<00:00,  8.33s/it]\n",
      "100%|██████████| 50/50 [08:22<00:00, 10.06s/it]\n",
      "100%|██████████| 50/50 [12:18<00:00, 14.76s/it]\n"
     ]
    }
   ],
   "source": [
    "data_columns += run_generative_label_function_sampler(\n",
    "    filtered_L_full_text,\n",
    "    L_dev,\n",
    "    L_test,\n",
    "    sampled_lfs_dict,\n",
    "    lf_columns_base=lf_columns_base,\n",
    "    grid_param=grid,\n",
    "    marginals_df_file=\"\",\n",
    "    curated_label=\"curated_cbg\",\n",
    "    entity_label=\"DaG\",\n",
    "    data_source=\"full_text\",\n",
    ")"
   ]
  },
  {
   "cell_type": "markdown",
   "metadata": {
    "ExecuteTime": {
     "end_time": "2021-05-23T01:13:03.897741Z",
     "start_time": "2021-05-23T01:13:03.887610Z"
    }
   },
   "source": [
    "## CtD"
   ]
  },
  {
   "cell_type": "code",
   "execution_count": 35,
   "metadata": {
    "ExecuteTime": {
     "end_time": "2021-12-23T05:59:22.234796Z",
     "start_time": "2021-12-23T05:59:22.232436Z"
    }
   },
   "outputs": [],
   "source": [
    "ctd_start = 38\n",
    "ctd_end = 60\n",
    "\n",
    "# Spaced out number of sampels including total\n",
    "size_of_samples = [1, 6, 11, 16, ctd_end - ctd_start]\n",
    "number_of_samples = 50\n",
    "ctd_lf_range = range(ctd_start, ctd_end)"
   ]
  },
  {
   "cell_type": "code",
   "execution_count": 36,
   "metadata": {
    "ExecuteTime": {
     "end_time": "2021-12-23T05:59:22.284753Z",
     "start_time": "2021-12-23T05:59:22.235905Z"
    }
   },
   "outputs": [],
   "source": [
    "sampled_lfs_dict = {\n",
    "    sample_size: (\n",
    "        sample_lfs(\n",
    "            list(ctd_lf_range),\n",
    "            len(list(ctd_lf_range)),\n",
    "            sample_size,\n",
    "            number_of_samples,\n",
    "            random_state=100,\n",
    "        )\n",
    "    )\n",
    "    for sample_size in size_of_samples\n",
    "}"
   ]
  },
  {
   "cell_type": "code",
   "execution_count": 37,
   "metadata": {
    "ExecuteTime": {
     "end_time": "2021-12-23T06:34:58.432990Z",
     "start_time": "2021-12-23T05:59:22.289192Z"
    },
    "scrolled": true
   },
   "outputs": [
    {
     "name": "stderr",
     "output_type": "stream",
     "text": [
      "100%|██████████| 50/50 [03:54<00:00,  4.69s/it]\n",
      "100%|██████████| 50/50 [05:46<00:00,  6.92s/it]\n",
      "100%|██████████| 50/50 [07:00<00:00,  8.42s/it]\n",
      "100%|██████████| 50/50 [08:29<00:00, 10.20s/it]\n",
      "100%|██████████| 50/50 [10:24<00:00, 12.50s/it]\n"
     ]
    }
   ],
   "source": [
    "data_columns += run_generative_label_function_sampler(\n",
    "    filtered_L_full_text,\n",
    "    L_dev,\n",
    "    L_test,\n",
    "    sampled_lfs_dict,\n",
    "    lf_columns_base=lf_columns_base,\n",
    "    grid_param=grid,\n",
    "    marginals_df_file=\"\",\n",
    "    curated_label=\"curated_cbg\",\n",
    "    entity_label=\"CtD\",\n",
    "    data_source=\"full_text\",\n",
    ")"
   ]
  },
  {
   "cell_type": "markdown",
   "metadata": {
    "ExecuteTime": {
     "end_time": "2021-05-23T01:15:48.612320Z",
     "start_time": "2021-05-23T01:15:48.602105Z"
    }
   },
   "source": [
    "## CbG"
   ]
  },
  {
   "cell_type": "code",
   "execution_count": 38,
   "metadata": {
    "ExecuteTime": {
     "end_time": "2021-12-23T06:34:58.436333Z",
     "start_time": "2021-12-23T06:34:58.434020Z"
    }
   },
   "outputs": [],
   "source": [
    "cbg_start = 60\n",
    "cbg_end = 80\n",
    "\n",
    "# Spaced out number of sampels including total\n",
    "size_of_samples = [1, 6, 11, 16, cbg_end - cbg_start]\n",
    "number_of_samples = 50\n",
    "cbg_lf_range = range(cbg_start, cbg_end)"
   ]
  },
  {
   "cell_type": "code",
   "execution_count": 39,
   "metadata": {
    "ExecuteTime": {
     "end_time": "2021-12-23T06:34:58.484593Z",
     "start_time": "2021-12-23T06:34:58.437351Z"
    }
   },
   "outputs": [],
   "source": [
    "sampled_lfs_dict = {\n",
    "    sample_size: (\n",
    "        sample_lfs(\n",
    "            list(cbg_lf_range),\n",
    "            len(list(cbg_lf_range)),\n",
    "            sample_size,\n",
    "            number_of_samples,\n",
    "            random_state=100,\n",
    "        )\n",
    "    )\n",
    "    for sample_size in size_of_samples\n",
    "}"
   ]
  },
  {
   "cell_type": "code",
   "execution_count": 40,
   "metadata": {
    "ExecuteTime": {
     "end_time": "2021-12-23T07:09:48.606424Z",
     "start_time": "2021-12-23T06:34:58.489041Z"
    },
    "scrolled": true
   },
   "outputs": [
    {
     "name": "stderr",
     "output_type": "stream",
     "text": [
      "100%|██████████| 50/50 [03:55<00:00,  4.70s/it]\n",
      "100%|██████████| 50/50 [05:46<00:00,  6.93s/it]\n",
      "100%|██████████| 50/50 [07:01<00:00,  8.43s/it]\n",
      "100%|██████████| 50/50 [08:27<00:00, 10.15s/it]\n",
      "100%|██████████| 50/50 [09:39<00:00, 11.59s/it]\n"
     ]
    }
   ],
   "source": [
    "data_columns += run_generative_label_function_sampler(\n",
    "    filtered_L_full_text,\n",
    "    L_dev,\n",
    "    L_test,\n",
    "    sampled_lfs_dict,\n",
    "    lf_columns_base=lf_columns_base,\n",
    "    grid_param=grid,\n",
    "    marginals_df_file=\"\",\n",
    "    curated_label=\"curated_cbg\",\n",
    "    entity_label=\"CbG\",\n",
    "    data_source=\"full_text\",\n",
    ")"
   ]
  },
  {
   "cell_type": "markdown",
   "metadata": {
    "ExecuteTime": {
     "end_time": "2021-05-23T01:23:19.004580Z",
     "start_time": "2021-05-23T01:23:18.991250Z"
    },
    "scrolled": false
   },
   "source": [
    "## GiG"
   ]
  },
  {
   "cell_type": "code",
   "execution_count": 41,
   "metadata": {
    "ExecuteTime": {
     "end_time": "2021-12-23T07:09:48.610020Z",
     "start_time": "2021-12-23T07:09:48.607698Z"
    }
   },
   "outputs": [],
   "source": [
    "gig_start = 80\n",
    "gig_end = 108\n",
    "\n",
    "# Spaced out number of sampels including total\n",
    "size_of_samples = [1, 6, 11, 16, gig_end - gig_start]\n",
    "number_of_samples = 50\n",
    "gig_lf_range = range(gig_start, gig_end)"
   ]
  },
  {
   "cell_type": "code",
   "execution_count": 42,
   "metadata": {
    "ExecuteTime": {
     "end_time": "2021-12-23T07:09:48.653074Z",
     "start_time": "2021-12-23T07:09:48.611239Z"
    }
   },
   "outputs": [],
   "source": [
    "sampled_lfs_dict = {\n",
    "    sample_size: (\n",
    "        sample_lfs(\n",
    "            list(gig_lf_range),\n",
    "            len(list(gig_lf_range)),\n",
    "            sample_size,\n",
    "            number_of_samples,\n",
    "            random_state=100,\n",
    "        )\n",
    "    )\n",
    "    for sample_size in size_of_samples\n",
    "}"
   ]
  },
  {
   "cell_type": "code",
   "execution_count": 43,
   "metadata": {
    "ExecuteTime": {
     "end_time": "2021-12-23T07:47:27.402817Z",
     "start_time": "2021-12-23T07:09:48.654484Z"
    },
    "scrolled": true
   },
   "outputs": [
    {
     "name": "stderr",
     "output_type": "stream",
     "text": [
      "100%|██████████| 50/50 [03:54<00:00,  4.69s/it]\n",
      "100%|██████████| 50/50 [05:48<00:00,  6.97s/it]\n",
      "100%|██████████| 50/50 [07:03<00:00,  8.46s/it]\n",
      "100%|██████████| 50/50 [08:30<00:00, 10.21s/it]\n",
      "100%|██████████| 50/50 [12:22<00:00, 14.84s/it]\n"
     ]
    }
   ],
   "source": [
    "data_columns += run_generative_label_function_sampler(\n",
    "    filtered_L_full_text,\n",
    "    L_dev,\n",
    "    L_test,\n",
    "    sampled_lfs_dict,\n",
    "    lf_columns_base=lf_columns_base,\n",
    "    grid_param=grid,\n",
    "    marginals_df_file=\"\",\n",
    "    curated_label=\"curated_cbg\",\n",
    "    entity_label=\"GiG\",\n",
    "    data_source=\"full_text\",\n",
    ")"
   ]
  },
  {
   "cell_type": "markdown",
   "metadata": {},
   "source": [
    "# Write Performance to File"
   ]
  },
  {
   "cell_type": "code",
   "execution_count": 44,
   "metadata": {
    "ExecuteTime": {
     "end_time": "2021-12-23T07:47:27.427170Z",
     "start_time": "2021-12-23T07:47:27.403809Z"
    }
   },
   "outputs": [
    {
     "data": {
      "text/html": [
       "<div>\n",
       "<style scoped>\n",
       "    .dataframe tbody tr th:only-of-type {\n",
       "        vertical-align: middle;\n",
       "    }\n",
       "\n",
       "    .dataframe tbody tr th {\n",
       "        vertical-align: top;\n",
       "    }\n",
       "\n",
       "    .dataframe thead th {\n",
       "        text-align: right;\n",
       "    }\n",
       "</style>\n",
       "<table border=\"1\" class=\"dataframe\">\n",
       "  <thead>\n",
       "    <tr style=\"text-align: right;\">\n",
       "      <th></th>\n",
       "      <th>lf_num</th>\n",
       "      <th>auroc</th>\n",
       "      <th>aupr</th>\n",
       "      <th>bce_loss</th>\n",
       "      <th>sampled_lf_name</th>\n",
       "      <th>label_source</th>\n",
       "      <th>data_source</th>\n",
       "      <th>model</th>\n",
       "      <th>epochs</th>\n",
       "      <th>l2_param</th>\n",
       "      <th>lr_param</th>\n",
       "    </tr>\n",
       "  </thead>\n",
       "  <tbody>\n",
       "    <tr>\n",
       "      <th>0</th>\n",
       "      <td>9</td>\n",
       "      <td>0.566458</td>\n",
       "      <td>0.162808</td>\n",
       "      <td>0.368750</td>\n",
       "      <td>LF_HETNET_DRUGBANK,LF_HETNET_DRUGCENTRAL,LF_HE...</td>\n",
       "      <td>CbG_baseline</td>\n",
       "      <td>abstract</td>\n",
       "      <td>tune</td>\n",
       "      <td>250</td>\n",
       "      <td>0.01</td>\n",
       "      <td>0.001</td>\n",
       "    </tr>\n",
       "    <tr>\n",
       "      <th>1</th>\n",
       "      <td>9</td>\n",
       "      <td>0.721370</td>\n",
       "      <td>0.269354</td>\n",
       "      <td>0.356180</td>\n",
       "      <td>LF_HETNET_DRUGBANK,LF_HETNET_DRUGCENTRAL,LF_HE...</td>\n",
       "      <td>CbG_baseline</td>\n",
       "      <td>abstract</td>\n",
       "      <td>test</td>\n",
       "      <td>250</td>\n",
       "      <td>0.01</td>\n",
       "      <td>0.001</td>\n",
       "    </tr>\n",
       "    <tr>\n",
       "      <th>2</th>\n",
       "      <td>1</td>\n",
       "      <td>0.570836</td>\n",
       "      <td>0.163111</td>\n",
       "      <td>0.367363</td>\n",
       "      <td>LF_HETNET_DRUGBANK,LF_HETNET_DRUGCENTRAL,LF_HE...</td>\n",
       "      <td>DaG</td>\n",
       "      <td>abstract</td>\n",
       "      <td>tune</td>\n",
       "      <td>250</td>\n",
       "      <td>0.01</td>\n",
       "      <td>0.001</td>\n",
       "    </tr>\n",
       "    <tr>\n",
       "      <th>3</th>\n",
       "      <td>1</td>\n",
       "      <td>0.721370</td>\n",
       "      <td>0.269354</td>\n",
       "      <td>0.356155</td>\n",
       "      <td>LF_HETNET_DRUGBANK,LF_HETNET_DRUGCENTRAL,LF_HE...</td>\n",
       "      <td>DaG</td>\n",
       "      <td>abstract</td>\n",
       "      <td>test</td>\n",
       "      <td>250</td>\n",
       "      <td>0.01</td>\n",
       "      <td>0.001</td>\n",
       "    </tr>\n",
       "    <tr>\n",
       "      <th>4</th>\n",
       "      <td>1</td>\n",
       "      <td>0.569523</td>\n",
       "      <td>0.162784</td>\n",
       "      <td>0.367401</td>\n",
       "      <td>LF_HETNET_DRUGBANK,LF_HETNET_DRUGCENTRAL,LF_HE...</td>\n",
       "      <td>DaG</td>\n",
       "      <td>abstract</td>\n",
       "      <td>tune</td>\n",
       "      <td>250</td>\n",
       "      <td>0.01</td>\n",
       "      <td>0.001</td>\n",
       "    </tr>\n",
       "    <tr>\n",
       "      <th>...</th>\n",
       "      <td>...</td>\n",
       "      <td>...</td>\n",
       "      <td>...</td>\n",
       "      <td>...</td>\n",
       "      <td>...</td>\n",
       "      <td>...</td>\n",
       "      <td>...</td>\n",
       "      <td>...</td>\n",
       "      <td>...</td>\n",
       "      <td>...</td>\n",
       "      <td>...</td>\n",
       "    </tr>\n",
       "    <tr>\n",
       "      <th>3997</th>\n",
       "      <td>28</td>\n",
       "      <td>0.815462</td>\n",
       "      <td>0.391434</td>\n",
       "      <td>2.593703</td>\n",
       "      <td>LF_HETNET_DRUGBANK,LF_HETNET_DRUGCENTRAL,LF_HE...</td>\n",
       "      <td>GiG</td>\n",
       "      <td>full_text</td>\n",
       "      <td>test</td>\n",
       "      <td>250</td>\n",
       "      <td>5.00</td>\n",
       "      <td>0.001</td>\n",
       "    </tr>\n",
       "    <tr>\n",
       "      <th>3998</th>\n",
       "      <td>28</td>\n",
       "      <td>0.632246</td>\n",
       "      <td>0.124106</td>\n",
       "      <td>4.485962</td>\n",
       "      <td>LF_HETNET_DRUGBANK,LF_HETNET_DRUGCENTRAL,LF_HE...</td>\n",
       "      <td>GiG</td>\n",
       "      <td>full_text</td>\n",
       "      <td>tune</td>\n",
       "      <td>250</td>\n",
       "      <td>5.00</td>\n",
       "      <td>0.001</td>\n",
       "    </tr>\n",
       "    <tr>\n",
       "      <th>3999</th>\n",
       "      <td>28</td>\n",
       "      <td>0.815462</td>\n",
       "      <td>0.391434</td>\n",
       "      <td>2.593703</td>\n",
       "      <td>LF_HETNET_DRUGBANK,LF_HETNET_DRUGCENTRAL,LF_HE...</td>\n",
       "      <td>GiG</td>\n",
       "      <td>full_text</td>\n",
       "      <td>test</td>\n",
       "      <td>250</td>\n",
       "      <td>5.00</td>\n",
       "      <td>0.001</td>\n",
       "    </tr>\n",
       "    <tr>\n",
       "      <th>4000</th>\n",
       "      <td>28</td>\n",
       "      <td>0.632246</td>\n",
       "      <td>0.124106</td>\n",
       "      <td>4.485962</td>\n",
       "      <td>LF_HETNET_DRUGBANK,LF_HETNET_DRUGCENTRAL,LF_HE...</td>\n",
       "      <td>GiG</td>\n",
       "      <td>full_text</td>\n",
       "      <td>tune</td>\n",
       "      <td>250</td>\n",
       "      <td>5.00</td>\n",
       "      <td>0.001</td>\n",
       "    </tr>\n",
       "    <tr>\n",
       "      <th>4001</th>\n",
       "      <td>28</td>\n",
       "      <td>0.815462</td>\n",
       "      <td>0.391434</td>\n",
       "      <td>2.593703</td>\n",
       "      <td>LF_HETNET_DRUGBANK,LF_HETNET_DRUGCENTRAL,LF_HE...</td>\n",
       "      <td>GiG</td>\n",
       "      <td>full_text</td>\n",
       "      <td>test</td>\n",
       "      <td>250</td>\n",
       "      <td>5.00</td>\n",
       "      <td>0.001</td>\n",
       "    </tr>\n",
       "  </tbody>\n",
       "</table>\n",
       "<p>4002 rows × 11 columns</p>\n",
       "</div>"
      ],
      "text/plain": [
       "      lf_num     auroc      aupr  bce_loss  \\\n",
       "0          9  0.566458  0.162808  0.368750   \n",
       "1          9  0.721370  0.269354  0.356180   \n",
       "2          1  0.570836  0.163111  0.367363   \n",
       "3          1  0.721370  0.269354  0.356155   \n",
       "4          1  0.569523  0.162784  0.367401   \n",
       "...      ...       ...       ...       ...   \n",
       "3997      28  0.815462  0.391434  2.593703   \n",
       "3998      28  0.632246  0.124106  4.485962   \n",
       "3999      28  0.815462  0.391434  2.593703   \n",
       "4000      28  0.632246  0.124106  4.485962   \n",
       "4001      28  0.815462  0.391434  2.593703   \n",
       "\n",
       "                                        sampled_lf_name  label_source  \\\n",
       "0     LF_HETNET_DRUGBANK,LF_HETNET_DRUGCENTRAL,LF_HE...  CbG_baseline   \n",
       "1     LF_HETNET_DRUGBANK,LF_HETNET_DRUGCENTRAL,LF_HE...  CbG_baseline   \n",
       "2     LF_HETNET_DRUGBANK,LF_HETNET_DRUGCENTRAL,LF_HE...           DaG   \n",
       "3     LF_HETNET_DRUGBANK,LF_HETNET_DRUGCENTRAL,LF_HE...           DaG   \n",
       "4     LF_HETNET_DRUGBANK,LF_HETNET_DRUGCENTRAL,LF_HE...           DaG   \n",
       "...                                                 ...           ...   \n",
       "3997  LF_HETNET_DRUGBANK,LF_HETNET_DRUGCENTRAL,LF_HE...           GiG   \n",
       "3998  LF_HETNET_DRUGBANK,LF_HETNET_DRUGCENTRAL,LF_HE...           GiG   \n",
       "3999  LF_HETNET_DRUGBANK,LF_HETNET_DRUGCENTRAL,LF_HE...           GiG   \n",
       "4000  LF_HETNET_DRUGBANK,LF_HETNET_DRUGCENTRAL,LF_HE...           GiG   \n",
       "4001  LF_HETNET_DRUGBANK,LF_HETNET_DRUGCENTRAL,LF_HE...           GiG   \n",
       "\n",
       "     data_source model  epochs  l2_param  lr_param  \n",
       "0       abstract  tune     250      0.01     0.001  \n",
       "1       abstract  test     250      0.01     0.001  \n",
       "2       abstract  tune     250      0.01     0.001  \n",
       "3       abstract  test     250      0.01     0.001  \n",
       "4       abstract  tune     250      0.01     0.001  \n",
       "...          ...   ...     ...       ...       ...  \n",
       "3997   full_text  test     250      5.00     0.001  \n",
       "3998   full_text  tune     250      5.00     0.001  \n",
       "3999   full_text  test     250      5.00     0.001  \n",
       "4000   full_text  tune     250      5.00     0.001  \n",
       "4001   full_text  test     250      5.00     0.001  \n",
       "\n",
       "[4002 rows x 11 columns]"
      ]
     },
     "execution_count": 44,
     "metadata": {},
     "output_type": "execute_result"
    }
   ],
   "source": [
    "performance_df = pd.DataFrame.from_records(data_columns)\n",
    "performance_df"
   ]
  },
  {
   "cell_type": "code",
   "execution_count": 45,
   "metadata": {
    "ExecuteTime": {
     "end_time": "2021-12-23T07:47:27.665486Z",
     "start_time": "2021-12-23T07:47:27.428390Z"
    }
   },
   "outputs": [],
   "source": [
    "(\n",
    "    performance_df\n",
    "    >> ply.call(\n",
    "        \"to_csv\",\n",
    "        str(Path(\"output/performance\") / Path(\"CbG_performance.tsv\")),\n",
    "        index=False,\n",
    "        sep=\"\\t\",\n",
    "    )\n",
    ")"
   ]
  }
 ],
 "metadata": {
  "jupytext": {
   "formats": "ipynb,py:light"
  },
  "kernelspec": {
   "display_name": "Python [conda env:snorkeling_full_text]",
   "language": "python",
   "name": "conda-env-snorkeling_full_text-py"
  },
  "language_info": {
   "codemirror_mode": {
    "name": "ipython",
    "version": 3
   },
   "file_extension": ".py",
   "mimetype": "text/x-python",
   "name": "python",
   "nbconvert_exporter": "python",
   "pygments_lexer": "ipython3",
   "version": "3.7.2"
  },
  "toc": {
   "base_numbering": 1,
   "nav_menu": {},
   "number_sections": true,
   "sideBar": true,
   "skip_h1_title": false,
   "title_cell": "Table of Contents",
   "title_sidebar": "Contents",
   "toc_cell": false,
   "toc_position": {},
   "toc_section_display": true,
   "toc_window_display": false
  }
 },
 "nbformat": 4,
 "nbformat_minor": 2
}
