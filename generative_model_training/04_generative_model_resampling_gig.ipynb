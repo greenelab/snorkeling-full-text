{
 "cells": [
  {
   "cell_type": "markdown",
   "metadata": {},
   "source": [
    "# Does resampling experiment help with predicting GiG sentences?"
   ]
  },
  {
   "cell_type": "code",
   "execution_count": 1,
   "metadata": {
    "ExecuteTime": {
     "end_time": "2021-12-23T16:21:53.343841Z",
     "start_time": "2021-12-23T16:21:43.567295Z"
    }
   },
   "outputs": [],
   "source": [
    "from pathlib import Path\n",
    "import warnings\n",
    "\n",
    "import numpy as np\n",
    "import pandas as pd\n",
    "import plydata as ply\n",
    "from sqlalchemy import create_engine\n",
    "\n",
    "from snorkel.labeling.analysis import LFAnalysis\n",
    "from snorkeling_helper.generative_model_helper import (\n",
    "    sample_lfs,\n",
    "    run_generative_label_function_sampler,\n",
    ")\n",
    "\n",
    "warnings.filterwarnings(\"ignore\")"
   ]
  },
  {
   "cell_type": "code",
   "execution_count": 2,
   "metadata": {
    "ExecuteTime": {
     "end_time": "2021-12-23T16:21:53.636244Z",
     "start_time": "2021-12-23T16:21:53.349638Z"
    }
   },
   "outputs": [],
   "source": [
    "username = \"danich1\"\n",
    "password = \"snorkel\"\n",
    "dbname = \"pubmed_central_db\"\n",
    "database_str = (\n",
    "    f\"postgresql+psycopg2://{username}:{password}@/{dbname}?host=/var/run/postgresql\"\n",
    ")\n",
    "conn = create_engine(database_str)"
   ]
  },
  {
   "cell_type": "markdown",
   "metadata": {},
   "source": [
    "## Load the data"
   ]
  },
  {
   "cell_type": "code",
   "execution_count": 3,
   "metadata": {
    "ExecuteTime": {
     "end_time": "2021-12-23T16:21:53.648436Z",
     "start_time": "2021-12-23T16:21:53.642221Z"
    }
   },
   "outputs": [],
   "source": [
    "label_candidates_dir = Path(\"../label_candidates/output\")\n",
    "notebook_output_dir = Path(\"output/GiG\")"
   ]
  },
  {
   "cell_type": "code",
   "execution_count": 4,
   "metadata": {
    "ExecuteTime": {
     "end_time": "2021-12-23T16:22:22.000912Z",
     "start_time": "2021-12-23T16:21:53.654117Z"
    }
   },
   "outputs": [
    {
     "name": "stdout",
     "output_type": "stream",
     "text": [
      "(5420798, 109)\n"
     ]
    },
    {
     "data": {
      "text/html": [
       "<div>\n",
       "<style scoped>\n",
       "    .dataframe tbody tr th:only-of-type {\n",
       "        vertical-align: middle;\n",
       "    }\n",
       "\n",
       "    .dataframe tbody tr th {\n",
       "        vertical-align: top;\n",
       "    }\n",
       "\n",
       "    .dataframe thead th {\n",
       "        text-align: right;\n",
       "    }\n",
       "</style>\n",
       "<table border=\"1\" class=\"dataframe\">\n",
       "  <thead>\n",
       "    <tr style=\"text-align: right;\">\n",
       "      <th></th>\n",
       "      <th>0</th>\n",
       "      <th>1</th>\n",
       "      <th>2</th>\n",
       "      <th>3</th>\n",
       "      <th>4</th>\n",
       "    </tr>\n",
       "  </thead>\n",
       "  <tbody>\n",
       "    <tr>\n",
       "      <th>LF_HETNET_HI_I_05</th>\n",
       "      <td>-1</td>\n",
       "      <td>-1</td>\n",
       "      <td>-1</td>\n",
       "      <td>-1</td>\n",
       "      <td>-1</td>\n",
       "    </tr>\n",
       "    <tr>\n",
       "      <th>LF_HETNET_VENKATESAN_09</th>\n",
       "      <td>-1</td>\n",
       "      <td>-1</td>\n",
       "      <td>-1</td>\n",
       "      <td>-1</td>\n",
       "      <td>-1</td>\n",
       "    </tr>\n",
       "    <tr>\n",
       "      <th>LF_HETNET_YU_11</th>\n",
       "      <td>-1</td>\n",
       "      <td>-1</td>\n",
       "      <td>-1</td>\n",
       "      <td>-1</td>\n",
       "      <td>-1</td>\n",
       "    </tr>\n",
       "    <tr>\n",
       "      <th>LF_HETNET_HI_II_14</th>\n",
       "      <td>-1</td>\n",
       "      <td>-1</td>\n",
       "      <td>-1</td>\n",
       "      <td>-1</td>\n",
       "      <td>-1</td>\n",
       "    </tr>\n",
       "    <tr>\n",
       "      <th>LF_HETNET_LIT_BM_13</th>\n",
       "      <td>-1</td>\n",
       "      <td>-1</td>\n",
       "      <td>-1</td>\n",
       "      <td>-1</td>\n",
       "      <td>-1</td>\n",
       "    </tr>\n",
       "    <tr>\n",
       "      <th>...</th>\n",
       "      <td>...</td>\n",
       "      <td>...</td>\n",
       "      <td>...</td>\n",
       "      <td>...</td>\n",
       "      <td>...</td>\n",
       "    </tr>\n",
       "    <tr>\n",
       "      <th>LF_GG_BICLUSTER_INCREASES_EXPRESSION</th>\n",
       "      <td>-1</td>\n",
       "      <td>-1</td>\n",
       "      <td>-1</td>\n",
       "      <td>-1</td>\n",
       "      <td>-1</td>\n",
       "    </tr>\n",
       "    <tr>\n",
       "      <th>LF_GG_BICLUSTER_SIGNALING</th>\n",
       "      <td>-1</td>\n",
       "      <td>-1</td>\n",
       "      <td>-1</td>\n",
       "      <td>-1</td>\n",
       "      <td>-1</td>\n",
       "    </tr>\n",
       "    <tr>\n",
       "      <th>LF_GG_BICLUSTER_IDENTICAL_PROTEIN</th>\n",
       "      <td>-1</td>\n",
       "      <td>-1</td>\n",
       "      <td>-1</td>\n",
       "      <td>-1</td>\n",
       "      <td>-1</td>\n",
       "    </tr>\n",
       "    <tr>\n",
       "      <th>LF_GG_BICLUSTER_CELL_PRODUCTION</th>\n",
       "      <td>-1</td>\n",
       "      <td>-1</td>\n",
       "      <td>-1</td>\n",
       "      <td>-1</td>\n",
       "      <td>-1</td>\n",
       "    </tr>\n",
       "    <tr>\n",
       "      <th>candidate_id</th>\n",
       "      <td>273</td>\n",
       "      <td>274</td>\n",
       "      <td>275</td>\n",
       "      <td>276</td>\n",
       "      <td>278</td>\n",
       "    </tr>\n",
       "  </tbody>\n",
       "</table>\n",
       "<p>109 rows × 5 columns</p>\n",
       "</div>"
      ],
      "text/plain": [
       "                                        0    1    2    3    4\n",
       "LF_HETNET_HI_I_05                      -1   -1   -1   -1   -1\n",
       "LF_HETNET_VENKATESAN_09                -1   -1   -1   -1   -1\n",
       "LF_HETNET_YU_11                        -1   -1   -1   -1   -1\n",
       "LF_HETNET_HI_II_14                     -1   -1   -1   -1   -1\n",
       "LF_HETNET_LIT_BM_13                    -1   -1   -1   -1   -1\n",
       "...                                   ...  ...  ...  ...  ...\n",
       "LF_GG_BICLUSTER_INCREASES_EXPRESSION   -1   -1   -1   -1   -1\n",
       "LF_GG_BICLUSTER_SIGNALING              -1   -1   -1   -1   -1\n",
       "LF_GG_BICLUSTER_IDENTICAL_PROTEIN      -1   -1   -1   -1   -1\n",
       "LF_GG_BICLUSTER_CELL_PRODUCTION        -1   -1   -1   -1   -1\n",
       "candidate_id                          273  274  275  276  278\n",
       "\n",
       "[109 rows x 5 columns]"
      ]
     },
     "execution_count": 4,
     "metadata": {},
     "output_type": "execute_result"
    }
   ],
   "source": [
    "L_abstracts = pd.read_csv(\n",
    "    str(label_candidates_dir / Path(\"gg_abstract_train_candidates_resampling.tsv\")),\n",
    "    sep=\"\\t\",\n",
    ")\n",
    "\n",
    "print(L_abstracts.shape)\n",
    "L_abstracts.head().T"
   ]
  },
  {
   "cell_type": "code",
   "execution_count": 5,
   "metadata": {
    "ExecuteTime": {
     "end_time": "2021-12-23T16:22:22.149817Z",
     "start_time": "2021-12-23T16:22:22.002147Z"
    }
   },
   "outputs": [
    {
     "name": "stdout",
     "output_type": "stream",
     "text": [
      "(500, 111)\n"
     ]
    },
    {
     "data": {
      "text/html": [
       "<div>\n",
       "<style scoped>\n",
       "    .dataframe tbody tr th:only-of-type {\n",
       "        vertical-align: middle;\n",
       "    }\n",
       "\n",
       "    .dataframe tbody tr th {\n",
       "        vertical-align: top;\n",
       "    }\n",
       "\n",
       "    .dataframe thead th {\n",
       "        text-align: right;\n",
       "    }\n",
       "</style>\n",
       "<table border=\"1\" class=\"dataframe\">\n",
       "  <thead>\n",
       "    <tr style=\"text-align: right;\">\n",
       "      <th></th>\n",
       "      <th>0</th>\n",
       "      <th>1</th>\n",
       "      <th>2</th>\n",
       "      <th>6</th>\n",
       "      <th>7</th>\n",
       "    </tr>\n",
       "  </thead>\n",
       "  <tbody>\n",
       "    <tr>\n",
       "      <th>LF_HETNET_HI_I_05</th>\n",
       "      <td>-1.0</td>\n",
       "      <td>-1.0</td>\n",
       "      <td>-1.0</td>\n",
       "      <td>-1.0</td>\n",
       "      <td>-1.0</td>\n",
       "    </tr>\n",
       "    <tr>\n",
       "      <th>LF_HETNET_VENKATESAN_09</th>\n",
       "      <td>-1.0</td>\n",
       "      <td>-1.0</td>\n",
       "      <td>-1.0</td>\n",
       "      <td>-1.0</td>\n",
       "      <td>-1.0</td>\n",
       "    </tr>\n",
       "    <tr>\n",
       "      <th>LF_HETNET_YU_11</th>\n",
       "      <td>-1.0</td>\n",
       "      <td>-1.0</td>\n",
       "      <td>-1.0</td>\n",
       "      <td>-1.0</td>\n",
       "      <td>-1.0</td>\n",
       "    </tr>\n",
       "    <tr>\n",
       "      <th>LF_HETNET_HI_II_14</th>\n",
       "      <td>-1.0</td>\n",
       "      <td>-1.0</td>\n",
       "      <td>-1.0</td>\n",
       "      <td>-1.0</td>\n",
       "      <td>-1.0</td>\n",
       "    </tr>\n",
       "    <tr>\n",
       "      <th>LF_HETNET_LIT_BM_13</th>\n",
       "      <td>-1.0</td>\n",
       "      <td>-1.0</td>\n",
       "      <td>-1.0</td>\n",
       "      <td>-1.0</td>\n",
       "      <td>-1.0</td>\n",
       "    </tr>\n",
       "    <tr>\n",
       "      <th>...</th>\n",
       "      <td>...</td>\n",
       "      <td>...</td>\n",
       "      <td>...</td>\n",
       "      <td>...</td>\n",
       "      <td>...</td>\n",
       "    </tr>\n",
       "    <tr>\n",
       "      <th>LF_GG_BICLUSTER_IDENTICAL_PROTEIN</th>\n",
       "      <td>-1.0</td>\n",
       "      <td>-1.0</td>\n",
       "      <td>-1.0</td>\n",
       "      <td>-1.0</td>\n",
       "      <td>0.0</td>\n",
       "    </tr>\n",
       "    <tr>\n",
       "      <th>LF_GG_BICLUSTER_CELL_PRODUCTION</th>\n",
       "      <td>-1.0</td>\n",
       "      <td>-1.0</td>\n",
       "      <td>-1.0</td>\n",
       "      <td>-1.0</td>\n",
       "      <td>0.0</td>\n",
       "    </tr>\n",
       "    <tr>\n",
       "      <th>split</th>\n",
       "      <td>4.0</td>\n",
       "      <td>4.0</td>\n",
       "      <td>4.0</td>\n",
       "      <td>4.0</td>\n",
       "      <td>4.0</td>\n",
       "    </tr>\n",
       "    <tr>\n",
       "      <th>document_id</th>\n",
       "      <td>304472.0</td>\n",
       "      <td>221544.0</td>\n",
       "      <td>225351.0</td>\n",
       "      <td>404727.0</td>\n",
       "      <td>38292.0</td>\n",
       "    </tr>\n",
       "    <tr>\n",
       "      <th>curated_gig</th>\n",
       "      <td>0.0</td>\n",
       "      <td>0.0</td>\n",
       "      <td>0.0</td>\n",
       "      <td>0.0</td>\n",
       "      <td>0.0</td>\n",
       "    </tr>\n",
       "  </tbody>\n",
       "</table>\n",
       "<p>111 rows × 5 columns</p>\n",
       "</div>"
      ],
      "text/plain": [
       "                                          0         1         2         6  \\\n",
       "LF_HETNET_HI_I_05                      -1.0      -1.0      -1.0      -1.0   \n",
       "LF_HETNET_VENKATESAN_09                -1.0      -1.0      -1.0      -1.0   \n",
       "LF_HETNET_YU_11                        -1.0      -1.0      -1.0      -1.0   \n",
       "LF_HETNET_HI_II_14                     -1.0      -1.0      -1.0      -1.0   \n",
       "LF_HETNET_LIT_BM_13                    -1.0      -1.0      -1.0      -1.0   \n",
       "...                                     ...       ...       ...       ...   \n",
       "LF_GG_BICLUSTER_IDENTICAL_PROTEIN      -1.0      -1.0      -1.0      -1.0   \n",
       "LF_GG_BICLUSTER_CELL_PRODUCTION        -1.0      -1.0      -1.0      -1.0   \n",
       "split                                   4.0       4.0       4.0       4.0   \n",
       "document_id                        304472.0  221544.0  225351.0  404727.0   \n",
       "curated_gig                             0.0       0.0       0.0       0.0   \n",
       "\n",
       "                                         7  \n",
       "LF_HETNET_HI_I_05                     -1.0  \n",
       "LF_HETNET_VENKATESAN_09               -1.0  \n",
       "LF_HETNET_YU_11                       -1.0  \n",
       "LF_HETNET_HI_II_14                    -1.0  \n",
       "LF_HETNET_LIT_BM_13                   -1.0  \n",
       "...                                    ...  \n",
       "LF_GG_BICLUSTER_IDENTICAL_PROTEIN      0.0  \n",
       "LF_GG_BICLUSTER_CELL_PRODUCTION        0.0  \n",
       "split                                  4.0  \n",
       "document_id                        38292.0  \n",
       "curated_gig                            0.0  \n",
       "\n",
       "[111 rows x 5 columns]"
      ]
     },
     "execution_count": 5,
     "metadata": {},
     "output_type": "execute_result"
    }
   ],
   "source": [
    "L_dev = pd.read_csv(\n",
    "    str(label_candidates_dir / Path(\"gg_dev_test_candidates_resampling.tsv\")), sep=\"\\t\"\n",
    ") >> ply.query(\"split==4\")\n",
    "print(L_dev.shape)\n",
    "L_dev.head().T"
   ]
  },
  {
   "cell_type": "code",
   "execution_count": 6,
   "metadata": {
    "ExecuteTime": {
     "end_time": "2021-12-23T16:22:22.183770Z",
     "start_time": "2021-12-23T16:22:22.152173Z"
    }
   },
   "outputs": [
    {
     "name": "stdout",
     "output_type": "stream",
     "text": [
      "(500, 111)\n"
     ]
    },
    {
     "data": {
      "text/html": [
       "<div>\n",
       "<style scoped>\n",
       "    .dataframe tbody tr th:only-of-type {\n",
       "        vertical-align: middle;\n",
       "    }\n",
       "\n",
       "    .dataframe tbody tr th {\n",
       "        vertical-align: top;\n",
       "    }\n",
       "\n",
       "    .dataframe thead th {\n",
       "        text-align: right;\n",
       "    }\n",
       "</style>\n",
       "<table border=\"1\" class=\"dataframe\">\n",
       "  <thead>\n",
       "    <tr style=\"text-align: right;\">\n",
       "      <th></th>\n",
       "      <th>3</th>\n",
       "      <th>4</th>\n",
       "      <th>5</th>\n",
       "      <th>13</th>\n",
       "      <th>14</th>\n",
       "    </tr>\n",
       "  </thead>\n",
       "  <tbody>\n",
       "    <tr>\n",
       "      <th>LF_HETNET_HI_I_05</th>\n",
       "      <td>-1.0</td>\n",
       "      <td>-1.0</td>\n",
       "      <td>-1.0</td>\n",
       "      <td>-1.0</td>\n",
       "      <td>-1.0</td>\n",
       "    </tr>\n",
       "    <tr>\n",
       "      <th>LF_HETNET_VENKATESAN_09</th>\n",
       "      <td>-1.0</td>\n",
       "      <td>-1.0</td>\n",
       "      <td>-1.0</td>\n",
       "      <td>-1.0</td>\n",
       "      <td>-1.0</td>\n",
       "    </tr>\n",
       "    <tr>\n",
       "      <th>LF_HETNET_YU_11</th>\n",
       "      <td>-1.0</td>\n",
       "      <td>-1.0</td>\n",
       "      <td>-1.0</td>\n",
       "      <td>-1.0</td>\n",
       "      <td>-1.0</td>\n",
       "    </tr>\n",
       "    <tr>\n",
       "      <th>LF_HETNET_HI_II_14</th>\n",
       "      <td>-1.0</td>\n",
       "      <td>-1.0</td>\n",
       "      <td>-1.0</td>\n",
       "      <td>-1.0</td>\n",
       "      <td>-1.0</td>\n",
       "    </tr>\n",
       "    <tr>\n",
       "      <th>LF_HETNET_LIT_BM_13</th>\n",
       "      <td>-1.0</td>\n",
       "      <td>-1.0</td>\n",
       "      <td>-1.0</td>\n",
       "      <td>-1.0</td>\n",
       "      <td>-1.0</td>\n",
       "    </tr>\n",
       "    <tr>\n",
       "      <th>...</th>\n",
       "      <td>...</td>\n",
       "      <td>...</td>\n",
       "      <td>...</td>\n",
       "      <td>...</td>\n",
       "      <td>...</td>\n",
       "    </tr>\n",
       "    <tr>\n",
       "      <th>LF_GG_BICLUSTER_IDENTICAL_PROTEIN</th>\n",
       "      <td>-1.0</td>\n",
       "      <td>-1.0</td>\n",
       "      <td>-1.0</td>\n",
       "      <td>-1.0</td>\n",
       "      <td>-1.0</td>\n",
       "    </tr>\n",
       "    <tr>\n",
       "      <th>LF_GG_BICLUSTER_CELL_PRODUCTION</th>\n",
       "      <td>-1.0</td>\n",
       "      <td>-1.0</td>\n",
       "      <td>-1.0</td>\n",
       "      <td>-1.0</td>\n",
       "      <td>-1.0</td>\n",
       "    </tr>\n",
       "    <tr>\n",
       "      <th>split</th>\n",
       "      <td>5.0</td>\n",
       "      <td>5.0</td>\n",
       "      <td>5.0</td>\n",
       "      <td>5.0</td>\n",
       "      <td>5.0</td>\n",
       "    </tr>\n",
       "    <tr>\n",
       "      <th>document_id</th>\n",
       "      <td>35240.0</td>\n",
       "      <td>185144.0</td>\n",
       "      <td>140314.0</td>\n",
       "      <td>495305.0</td>\n",
       "      <td>447650.0</td>\n",
       "    </tr>\n",
       "    <tr>\n",
       "      <th>curated_gig</th>\n",
       "      <td>0.0</td>\n",
       "      <td>0.0</td>\n",
       "      <td>0.0</td>\n",
       "      <td>0.0</td>\n",
       "      <td>0.0</td>\n",
       "    </tr>\n",
       "  </tbody>\n",
       "</table>\n",
       "<p>111 rows × 5 columns</p>\n",
       "</div>"
      ],
      "text/plain": [
       "                                        3         4         5         13  \\\n",
       "LF_HETNET_HI_I_05                     -1.0      -1.0      -1.0      -1.0   \n",
       "LF_HETNET_VENKATESAN_09               -1.0      -1.0      -1.0      -1.0   \n",
       "LF_HETNET_YU_11                       -1.0      -1.0      -1.0      -1.0   \n",
       "LF_HETNET_HI_II_14                    -1.0      -1.0      -1.0      -1.0   \n",
       "LF_HETNET_LIT_BM_13                   -1.0      -1.0      -1.0      -1.0   \n",
       "...                                    ...       ...       ...       ...   \n",
       "LF_GG_BICLUSTER_IDENTICAL_PROTEIN     -1.0      -1.0      -1.0      -1.0   \n",
       "LF_GG_BICLUSTER_CELL_PRODUCTION       -1.0      -1.0      -1.0      -1.0   \n",
       "split                                  5.0       5.0       5.0       5.0   \n",
       "document_id                        35240.0  185144.0  140314.0  495305.0   \n",
       "curated_gig                            0.0       0.0       0.0       0.0   \n",
       "\n",
       "                                         14  \n",
       "LF_HETNET_HI_I_05                      -1.0  \n",
       "LF_HETNET_VENKATESAN_09                -1.0  \n",
       "LF_HETNET_YU_11                        -1.0  \n",
       "LF_HETNET_HI_II_14                     -1.0  \n",
       "LF_HETNET_LIT_BM_13                    -1.0  \n",
       "...                                     ...  \n",
       "LF_GG_BICLUSTER_IDENTICAL_PROTEIN      -1.0  \n",
       "LF_GG_BICLUSTER_CELL_PRODUCTION        -1.0  \n",
       "split                                   5.0  \n",
       "document_id                        447650.0  \n",
       "curated_gig                             0.0  \n",
       "\n",
       "[111 rows x 5 columns]"
      ]
     },
     "execution_count": 6,
     "metadata": {},
     "output_type": "execute_result"
    }
   ],
   "source": [
    "L_test = pd.read_csv(\n",
    "    str(label_candidates_dir / Path(\"gg_dev_test_candidates_resampling.tsv\")), sep=\"\\t\"\n",
    ") >> ply.query(\"split==5\")\n",
    "print(L_test.shape)\n",
    "L_test.head().T"
   ]
  },
  {
   "cell_type": "markdown",
   "metadata": {},
   "source": [
    "## Resort Based on the Candidate Abstracts"
   ]
  },
  {
   "cell_type": "code",
   "execution_count": 7,
   "metadata": {
    "ExecuteTime": {
     "end_time": "2021-12-23T16:47:21.214304Z",
     "start_time": "2021-12-23T16:22:22.184953Z"
    }
   },
   "outputs": [
    {
     "data": {
      "text/html": [
       "<div>\n",
       "<style scoped>\n",
       "    .dataframe tbody tr th:only-of-type {\n",
       "        vertical-align: middle;\n",
       "    }\n",
       "\n",
       "    .dataframe tbody tr th {\n",
       "        vertical-align: top;\n",
       "    }\n",
       "\n",
       "    .dataframe thead th {\n",
       "        text-align: right;\n",
       "    }\n",
       "</style>\n",
       "<table border=\"1\" class=\"dataframe\">\n",
       "  <thead>\n",
       "    <tr style=\"text-align: right;\">\n",
       "      <th></th>\n",
       "      <th>sentence_id</th>\n",
       "      <th>document_id</th>\n",
       "      <th>candidate_id</th>\n",
       "    </tr>\n",
       "  </thead>\n",
       "  <tbody>\n",
       "    <tr>\n",
       "      <th>0</th>\n",
       "      <td>243</td>\n",
       "      <td>18728748</td>\n",
       "      <td>38967952</td>\n",
       "    </tr>\n",
       "    <tr>\n",
       "      <th>1</th>\n",
       "      <td>284</td>\n",
       "      <td>18728748</td>\n",
       "      <td>38967951</td>\n",
       "    </tr>\n",
       "    <tr>\n",
       "      <th>2</th>\n",
       "      <td>290</td>\n",
       "      <td>18728748</td>\n",
       "      <td>38967950</td>\n",
       "    </tr>\n",
       "    <tr>\n",
       "      <th>3</th>\n",
       "      <td>295</td>\n",
       "      <td>18728748</td>\n",
       "      <td>38967949</td>\n",
       "    </tr>\n",
       "    <tr>\n",
       "      <th>4</th>\n",
       "      <td>299</td>\n",
       "      <td>18728748</td>\n",
       "      <td>38967948</td>\n",
       "    </tr>\n",
       "  </tbody>\n",
       "</table>\n",
       "</div>"
      ],
      "text/plain": [
       "   sentence_id  document_id  candidate_id\n",
       "0          243     18728748      38967952\n",
       "1          284     18728748      38967951\n",
       "2          290     18728748      38967950\n",
       "3          295     18728748      38967949\n",
       "4          299     18728748      38967948"
      ]
     },
     "execution_count": 7,
     "metadata": {},
     "output_type": "execute_result"
    }
   ],
   "source": [
    "# Grab the document ids for resampling\n",
    "sql = \"\"\"\n",
    "select gg_candidates.sentence_id, document_id, gg_candidates.candidate_id from sentence\n",
    "inner join (\n",
    "  select candidate.candidate_id, gene_gene.sentence_id from gene_gene\n",
    "  inner join candidate on candidate.candidate_id=gene_gene.candidate_id\n",
    "  ) as gg_candidates\n",
    "on sentence.sentence_id = gg_candidates.sentence_id\n",
    "\"\"\"\n",
    "candidate_doc_df = pd.read_sql(sql, database_str)\n",
    "candidate_doc_df.head()"
   ]
  },
  {
   "cell_type": "code",
   "execution_count": 8,
   "metadata": {
    "ExecuteTime": {
     "end_time": "2021-12-23T16:47:21.591687Z",
     "start_time": "2021-12-23T16:47:21.260560Z"
    }
   },
   "outputs": [],
   "source": [
    "dev_test_ids = (\n",
    "    L_dev >> ply.select(\"document_id\") >> ply.distinct() >> ply.pull(\"document_id\")\n",
    ")\n",
    "\n",
    "filtered_candidate_id = (\n",
    "    candidate_doc_df\n",
    "    >> ply.query(f\"document_id in {list(dev_test_ids)}\")\n",
    "    >> ply.pull(\"candidate_id\")\n",
    ")"
   ]
  },
  {
   "cell_type": "code",
   "execution_count": 9,
   "metadata": {
    "ExecuteTime": {
     "end_time": "2021-12-23T16:47:22.099904Z",
     "start_time": "2021-12-23T16:47:21.593218Z"
    },
    "scrolled": false
   },
   "outputs": [
    {
     "data": {
      "text/html": [
       "<div>\n",
       "<style scoped>\n",
       "    .dataframe tbody tr th:only-of-type {\n",
       "        vertical-align: middle;\n",
       "    }\n",
       "\n",
       "    .dataframe tbody tr th {\n",
       "        vertical-align: top;\n",
       "    }\n",
       "\n",
       "    .dataframe thead th {\n",
       "        text-align: right;\n",
       "    }\n",
       "</style>\n",
       "<table border=\"1\" class=\"dataframe\">\n",
       "  <thead>\n",
       "    <tr style=\"text-align: right;\">\n",
       "      <th></th>\n",
       "      <th>document_id</th>\n",
       "      <th>dataset</th>\n",
       "    </tr>\n",
       "  </thead>\n",
       "  <tbody>\n",
       "    <tr>\n",
       "      <th>0</th>\n",
       "      <td>18728748</td>\n",
       "      <td>train</td>\n",
       "    </tr>\n",
       "    <tr>\n",
       "      <th>1</th>\n",
       "      <td>24496597</td>\n",
       "      <td>train</td>\n",
       "    </tr>\n",
       "    <tr>\n",
       "      <th>2</th>\n",
       "      <td>29615870</td>\n",
       "      <td>train</td>\n",
       "    </tr>\n",
       "    <tr>\n",
       "      <th>3</th>\n",
       "      <td>26338040</td>\n",
       "      <td>tune</td>\n",
       "    </tr>\n",
       "    <tr>\n",
       "      <th>4</th>\n",
       "      <td>27224915</td>\n",
       "      <td>train</td>\n",
       "    </tr>\n",
       "  </tbody>\n",
       "</table>\n",
       "</div>"
      ],
      "text/plain": [
       "   document_id dataset\n",
       "0     18728748   train\n",
       "1     24496597   train\n",
       "2     29615870   train\n",
       "3     26338040    tune\n",
       "4     27224915   train"
      ]
     },
     "execution_count": 9,
     "metadata": {},
     "output_type": "execute_result"
    }
   ],
   "source": [
    "sorted_train_df = pd.read_csv(\n",
    "    str(notebook_output_dir / Path(\"gig_dataset_mapper.tsv\")), sep=\"\\t\"\n",
    ")\n",
    "sorted_train_df.head()"
   ]
  },
  {
   "cell_type": "markdown",
   "metadata": {},
   "source": [
    "## Load full text after document sorting"
   ]
  },
  {
   "cell_type": "code",
   "execution_count": 10,
   "metadata": {
    "ExecuteTime": {
     "end_time": "2021-12-23T16:47:24.131827Z",
     "start_time": "2021-12-23T16:47:22.101080Z"
    }
   },
   "outputs": [],
   "source": [
    "trained_documents = (\n",
    "    sorted_train_df\n",
    "    >> ply.inner_join(candidate_doc_df, on=\"document_id\")\n",
    "    >> ply.query(\"dataset=='train'\")\n",
    "    >> ply.pull(\"candidate_id\")\n",
    ")"
   ]
  },
  {
   "cell_type": "markdown",
   "metadata": {},
   "source": [
    "## Update the data based on sorting"
   ]
  },
  {
   "cell_type": "code",
   "execution_count": 11,
   "metadata": {
    "ExecuteTime": {
     "end_time": "2021-12-23T16:50:25.381854Z",
     "start_time": "2021-12-23T16:47:24.133058Z"
    }
   },
   "outputs": [
    {
     "name": "stdout",
     "output_type": "stream",
     "text": [
      "(3792568, 109)\n"
     ]
    },
    {
     "data": {
      "text/html": [
       "<div>\n",
       "<style scoped>\n",
       "    .dataframe tbody tr th:only-of-type {\n",
       "        vertical-align: middle;\n",
       "    }\n",
       "\n",
       "    .dataframe tbody tr th {\n",
       "        vertical-align: top;\n",
       "    }\n",
       "\n",
       "    .dataframe thead th {\n",
       "        text-align: right;\n",
       "    }\n",
       "</style>\n",
       "<table border=\"1\" class=\"dataframe\">\n",
       "  <thead>\n",
       "    <tr style=\"text-align: right;\">\n",
       "      <th></th>\n",
       "      <th>LF_HETNET_HI_I_05</th>\n",
       "      <th>LF_HETNET_VENKATESAN_09</th>\n",
       "      <th>LF_HETNET_YU_11</th>\n",
       "      <th>LF_HETNET_HI_II_14</th>\n",
       "      <th>LF_HETNET_LIT_BM_13</th>\n",
       "      <th>LF_HETNET_II_BINARY</th>\n",
       "      <th>LF_HETNET_II_LITERATURE</th>\n",
       "      <th>LF_HETNET_HETIO_DAG</th>\n",
       "      <th>LF_HETNET_GiG_ABSENT</th>\n",
       "      <th>LF_DG_IS_BIOMARKER</th>\n",
       "      <th>...</th>\n",
       "      <th>LF_GG_NO_VERB</th>\n",
       "      <th>LF_GG_BICLUSTER_BINDING</th>\n",
       "      <th>LF_GG_BICLUSTER_ENHANCES</th>\n",
       "      <th>LF_GG_BICLUSTER_ACTIVATES</th>\n",
       "      <th>LF_GG_BICLUSTER_AFFECTS_EXPRESSION</th>\n",
       "      <th>LF_GG_BICLUSTER_INCREASES_EXPRESSION</th>\n",
       "      <th>LF_GG_BICLUSTER_SIGNALING</th>\n",
       "      <th>LF_GG_BICLUSTER_IDENTICAL_PROTEIN</th>\n",
       "      <th>LF_GG_BICLUSTER_CELL_PRODUCTION</th>\n",
       "      <th>candidate_id</th>\n",
       "    </tr>\n",
       "  </thead>\n",
       "  <tbody>\n",
       "    <tr>\n",
       "      <th>0</th>\n",
       "      <td>-1</td>\n",
       "      <td>-1</td>\n",
       "      <td>-1</td>\n",
       "      <td>-1</td>\n",
       "      <td>-1</td>\n",
       "      <td>-1</td>\n",
       "      <td>-1</td>\n",
       "      <td>-1</td>\n",
       "      <td>0</td>\n",
       "      <td>1</td>\n",
       "      <td>...</td>\n",
       "      <td>-1</td>\n",
       "      <td>-1</td>\n",
       "      <td>-1</td>\n",
       "      <td>-1</td>\n",
       "      <td>-1</td>\n",
       "      <td>-1</td>\n",
       "      <td>-1</td>\n",
       "      <td>-1</td>\n",
       "      <td>-1</td>\n",
       "      <td>273</td>\n",
       "    </tr>\n",
       "    <tr>\n",
       "      <th>1</th>\n",
       "      <td>-1</td>\n",
       "      <td>-1</td>\n",
       "      <td>-1</td>\n",
       "      <td>-1</td>\n",
       "      <td>-1</td>\n",
       "      <td>-1</td>\n",
       "      <td>-1</td>\n",
       "      <td>-1</td>\n",
       "      <td>0</td>\n",
       "      <td>1</td>\n",
       "      <td>...</td>\n",
       "      <td>-1</td>\n",
       "      <td>-1</td>\n",
       "      <td>-1</td>\n",
       "      <td>-1</td>\n",
       "      <td>-1</td>\n",
       "      <td>-1</td>\n",
       "      <td>-1</td>\n",
       "      <td>-1</td>\n",
       "      <td>-1</td>\n",
       "      <td>274</td>\n",
       "    </tr>\n",
       "    <tr>\n",
       "      <th>2</th>\n",
       "      <td>-1</td>\n",
       "      <td>-1</td>\n",
       "      <td>-1</td>\n",
       "      <td>-1</td>\n",
       "      <td>-1</td>\n",
       "      <td>-1</td>\n",
       "      <td>-1</td>\n",
       "      <td>-1</td>\n",
       "      <td>0</td>\n",
       "      <td>1</td>\n",
       "      <td>...</td>\n",
       "      <td>-1</td>\n",
       "      <td>-1</td>\n",
       "      <td>-1</td>\n",
       "      <td>-1</td>\n",
       "      <td>-1</td>\n",
       "      <td>-1</td>\n",
       "      <td>-1</td>\n",
       "      <td>-1</td>\n",
       "      <td>-1</td>\n",
       "      <td>275</td>\n",
       "    </tr>\n",
       "    <tr>\n",
       "      <th>3</th>\n",
       "      <td>-1</td>\n",
       "      <td>-1</td>\n",
       "      <td>-1</td>\n",
       "      <td>-1</td>\n",
       "      <td>-1</td>\n",
       "      <td>-1</td>\n",
       "      <td>-1</td>\n",
       "      <td>-1</td>\n",
       "      <td>0</td>\n",
       "      <td>1</td>\n",
       "      <td>...</td>\n",
       "      <td>-1</td>\n",
       "      <td>-1</td>\n",
       "      <td>-1</td>\n",
       "      <td>-1</td>\n",
       "      <td>-1</td>\n",
       "      <td>-1</td>\n",
       "      <td>-1</td>\n",
       "      <td>-1</td>\n",
       "      <td>-1</td>\n",
       "      <td>276</td>\n",
       "    </tr>\n",
       "    <tr>\n",
       "      <th>4</th>\n",
       "      <td>-1</td>\n",
       "      <td>-1</td>\n",
       "      <td>-1</td>\n",
       "      <td>-1</td>\n",
       "      <td>-1</td>\n",
       "      <td>-1</td>\n",
       "      <td>-1</td>\n",
       "      <td>-1</td>\n",
       "      <td>0</td>\n",
       "      <td>1</td>\n",
       "      <td>...</td>\n",
       "      <td>-1</td>\n",
       "      <td>-1</td>\n",
       "      <td>-1</td>\n",
       "      <td>-1</td>\n",
       "      <td>-1</td>\n",
       "      <td>-1</td>\n",
       "      <td>-1</td>\n",
       "      <td>-1</td>\n",
       "      <td>-1</td>\n",
       "      <td>278</td>\n",
       "    </tr>\n",
       "  </tbody>\n",
       "</table>\n",
       "<p>5 rows × 109 columns</p>\n",
       "</div>"
      ],
      "text/plain": [
       "   LF_HETNET_HI_I_05  LF_HETNET_VENKATESAN_09  LF_HETNET_YU_11  \\\n",
       "0                 -1                       -1               -1   \n",
       "1                 -1                       -1               -1   \n",
       "2                 -1                       -1               -1   \n",
       "3                 -1                       -1               -1   \n",
       "4                 -1                       -1               -1   \n",
       "\n",
       "   LF_HETNET_HI_II_14  LF_HETNET_LIT_BM_13  LF_HETNET_II_BINARY  \\\n",
       "0                  -1                   -1                   -1   \n",
       "1                  -1                   -1                   -1   \n",
       "2                  -1                   -1                   -1   \n",
       "3                  -1                   -1                   -1   \n",
       "4                  -1                   -1                   -1   \n",
       "\n",
       "   LF_HETNET_II_LITERATURE  LF_HETNET_HETIO_DAG  LF_HETNET_GiG_ABSENT  \\\n",
       "0                       -1                   -1                     0   \n",
       "1                       -1                   -1                     0   \n",
       "2                       -1                   -1                     0   \n",
       "3                       -1                   -1                     0   \n",
       "4                       -1                   -1                     0   \n",
       "\n",
       "   LF_DG_IS_BIOMARKER  ...  LF_GG_NO_VERB  LF_GG_BICLUSTER_BINDING  \\\n",
       "0                   1  ...             -1                       -1   \n",
       "1                   1  ...             -1                       -1   \n",
       "2                   1  ...             -1                       -1   \n",
       "3                   1  ...             -1                       -1   \n",
       "4                   1  ...             -1                       -1   \n",
       "\n",
       "   LF_GG_BICLUSTER_ENHANCES  LF_GG_BICLUSTER_ACTIVATES  \\\n",
       "0                        -1                         -1   \n",
       "1                        -1                         -1   \n",
       "2                        -1                         -1   \n",
       "3                        -1                         -1   \n",
       "4                        -1                         -1   \n",
       "\n",
       "   LF_GG_BICLUSTER_AFFECTS_EXPRESSION  LF_GG_BICLUSTER_INCREASES_EXPRESSION  \\\n",
       "0                                  -1                                    -1   \n",
       "1                                  -1                                    -1   \n",
       "2                                  -1                                    -1   \n",
       "3                                  -1                                    -1   \n",
       "4                                  -1                                    -1   \n",
       "\n",
       "   LF_GG_BICLUSTER_SIGNALING  LF_GG_BICLUSTER_IDENTICAL_PROTEIN  \\\n",
       "0                         -1                                 -1   \n",
       "1                         -1                                 -1   \n",
       "2                         -1                                 -1   \n",
       "3                         -1                                 -1   \n",
       "4                         -1                                 -1   \n",
       "\n",
       "   LF_GG_BICLUSTER_CELL_PRODUCTION  candidate_id  \n",
       "0                               -1           273  \n",
       "1                               -1           274  \n",
       "2                               -1           275  \n",
       "3                               -1           276  \n",
       "4                               -1           278  \n",
       "\n",
       "[5 rows x 109 columns]"
      ]
     },
     "execution_count": 11,
     "metadata": {},
     "output_type": "execute_result"
    }
   ],
   "source": [
    "filtered_L_abstracts = L_abstracts >> ply.query(\n",
    "    f\"candidate_id in {list(trained_documents)}\"\n",
    ")\n",
    "print(filtered_L_abstracts.shape)\n",
    "filtered_L_abstracts.head()"
   ]
  },
  {
   "cell_type": "markdown",
   "metadata": {},
   "source": [
    "## Construct the Grid Search"
   ]
  },
  {
   "cell_type": "code",
   "execution_count": 12,
   "metadata": {
    "ExecuteTime": {
     "end_time": "2021-12-23T16:50:25.421766Z",
     "start_time": "2021-12-23T16:50:25.382984Z"
    }
   },
   "outputs": [],
   "source": [
    "# Global Grid\n",
    "epochs_grid = [250]\n",
    "l2_param_grid = np.linspace(0.01, 5, num=5)\n",
    "lr_grid = [1e-3]\n",
    "grid = list(\n",
    "    zip(epochs_grid * len(l2_param_grid), l2_param_grid, lr_grid * len(l2_param_grid))\n",
    ")"
   ]
  },
  {
   "cell_type": "markdown",
   "metadata": {},
   "source": [
    "# Abstracts"
   ]
  },
  {
   "cell_type": "code",
   "execution_count": 13,
   "metadata": {
    "ExecuteTime": {
     "end_time": "2021-12-23T16:51:09.295790Z",
     "start_time": "2021-12-23T16:50:25.422987Z"
    }
   },
   "outputs": [
    {
     "data": {
      "text/html": [
       "<div>\n",
       "<style scoped>\n",
       "    .dataframe tbody tr th:only-of-type {\n",
       "        vertical-align: middle;\n",
       "    }\n",
       "\n",
       "    .dataframe tbody tr th {\n",
       "        vertical-align: top;\n",
       "    }\n",
       "\n",
       "    .dataframe thead th {\n",
       "        text-align: right;\n",
       "    }\n",
       "</style>\n",
       "<table border=\"1\" class=\"dataframe\">\n",
       "  <thead>\n",
       "    <tr style=\"text-align: right;\">\n",
       "      <th></th>\n",
       "      <th>Polarity</th>\n",
       "      <th>Coverage</th>\n",
       "      <th>Overlaps</th>\n",
       "      <th>Conflicts</th>\n",
       "    </tr>\n",
       "  </thead>\n",
       "  <tbody>\n",
       "    <tr>\n",
       "      <th>LF_HETNET_HI_I_05</th>\n",
       "      <td>[1]</td>\n",
       "      <td>0.002701</td>\n",
       "      <td>0.002701</td>\n",
       "      <td>0.002701</td>\n",
       "    </tr>\n",
       "    <tr>\n",
       "      <th>LF_HETNET_VENKATESAN_09</th>\n",
       "      <td>[1]</td>\n",
       "      <td>0.000101</td>\n",
       "      <td>0.000101</td>\n",
       "      <td>0.000101</td>\n",
       "    </tr>\n",
       "    <tr>\n",
       "      <th>LF_HETNET_YU_11</th>\n",
       "      <td>[1]</td>\n",
       "      <td>0.000617</td>\n",
       "      <td>0.000617</td>\n",
       "      <td>0.000617</td>\n",
       "    </tr>\n",
       "    <tr>\n",
       "      <th>LF_HETNET_HI_II_14</th>\n",
       "      <td>[1]</td>\n",
       "      <td>0.008483</td>\n",
       "      <td>0.008483</td>\n",
       "      <td>0.008483</td>\n",
       "    </tr>\n",
       "    <tr>\n",
       "      <th>LF_HETNET_LIT_BM_13</th>\n",
       "      <td>[1]</td>\n",
       "      <td>0.140026</td>\n",
       "      <td>0.140026</td>\n",
       "      <td>0.140026</td>\n",
       "    </tr>\n",
       "    <tr>\n",
       "      <th>...</th>\n",
       "      <td>...</td>\n",
       "      <td>...</td>\n",
       "      <td>...</td>\n",
       "      <td>...</td>\n",
       "    </tr>\n",
       "    <tr>\n",
       "      <th>LF_GG_BICLUSTER_AFFECTS_EXPRESSION</th>\n",
       "      <td>[1]</td>\n",
       "      <td>0.026010</td>\n",
       "      <td>0.026010</td>\n",
       "      <td>0.026010</td>\n",
       "    </tr>\n",
       "    <tr>\n",
       "      <th>LF_GG_BICLUSTER_INCREASES_EXPRESSION</th>\n",
       "      <td>[0]</td>\n",
       "      <td>0.043327</td>\n",
       "      <td>0.043327</td>\n",
       "      <td>0.043327</td>\n",
       "    </tr>\n",
       "    <tr>\n",
       "      <th>LF_GG_BICLUSTER_SIGNALING</th>\n",
       "      <td>[1]</td>\n",
       "      <td>0.054802</td>\n",
       "      <td>0.054802</td>\n",
       "      <td>0.054802</td>\n",
       "    </tr>\n",
       "    <tr>\n",
       "      <th>LF_GG_BICLUSTER_IDENTICAL_PROTEIN</th>\n",
       "      <td>[0]</td>\n",
       "      <td>0.031499</td>\n",
       "      <td>0.031499</td>\n",
       "      <td>0.031499</td>\n",
       "    </tr>\n",
       "    <tr>\n",
       "      <th>LF_GG_BICLUSTER_CELL_PRODUCTION</th>\n",
       "      <td>[0]</td>\n",
       "      <td>0.047036</td>\n",
       "      <td>0.047036</td>\n",
       "      <td>0.047036</td>\n",
       "    </tr>\n",
       "  </tbody>\n",
       "</table>\n",
       "<p>108 rows × 4 columns</p>\n",
       "</div>"
      ],
      "text/plain": [
       "                                     Polarity  Coverage  Overlaps  Conflicts\n",
       "LF_HETNET_HI_I_05                         [1]  0.002701  0.002701   0.002701\n",
       "LF_HETNET_VENKATESAN_09                   [1]  0.000101  0.000101   0.000101\n",
       "LF_HETNET_YU_11                           [1]  0.000617  0.000617   0.000617\n",
       "LF_HETNET_HI_II_14                        [1]  0.008483  0.008483   0.008483\n",
       "LF_HETNET_LIT_BM_13                       [1]  0.140026  0.140026   0.140026\n",
       "...                                       ...       ...       ...        ...\n",
       "LF_GG_BICLUSTER_AFFECTS_EXPRESSION        [1]  0.026010  0.026010   0.026010\n",
       "LF_GG_BICLUSTER_INCREASES_EXPRESSION      [0]  0.043327  0.043327   0.043327\n",
       "LF_GG_BICLUSTER_SIGNALING                 [1]  0.054802  0.054802   0.054802\n",
       "LF_GG_BICLUSTER_IDENTICAL_PROTEIN         [0]  0.031499  0.031499   0.031499\n",
       "LF_GG_BICLUSTER_CELL_PRODUCTION           [0]  0.047036  0.047036   0.047036\n",
       "\n",
       "[108 rows x 4 columns]"
      ]
     },
     "execution_count": 13,
     "metadata": {},
     "output_type": "execute_result"
    }
   ],
   "source": [
    "analysis_module = LFAnalysis(\n",
    "    filtered_L_abstracts >> ply.select(\"candidate_id\", drop=True)\n",
    ")\n",
    "\n",
    "abstract_lf_summary = analysis_module.lf_summary()\n",
    "abstract_lf_summary.index = (\n",
    "    filtered_L_abstracts >> ply.select(\"candidate_id\", drop=True)\n",
    ").columns.tolist()\n",
    "\n",
    "abstract_lf_summary"
   ]
  },
  {
   "cell_type": "markdown",
   "metadata": {},
   "source": [
    "# Set up fields for resampling"
   ]
  },
  {
   "cell_type": "code",
   "execution_count": 14,
   "metadata": {
    "ExecuteTime": {
     "end_time": "2021-12-23T16:51:09.299337Z",
     "start_time": "2021-12-23T16:51:09.296925Z"
    }
   },
   "outputs": [],
   "source": [
    "lf_columns_base = list(L_abstracts.columns[0:9])\n",
    "candidate_id_field = list(L_abstracts.columns[-1:])\n",
    "dev_column_base = [\"split\", \"curated_gig\", \"document_id\"]\n",
    "data_columns = []"
   ]
  },
  {
   "cell_type": "markdown",
   "metadata": {},
   "source": [
    "# Abstracts"
   ]
  },
  {
   "cell_type": "markdown",
   "metadata": {},
   "source": [
    "## Baseline"
   ]
  },
  {
   "cell_type": "code",
   "execution_count": 15,
   "metadata": {
    "ExecuteTime": {
     "end_time": "2021-12-23T16:51:09.342954Z",
     "start_time": "2021-12-23T16:51:09.300698Z"
    }
   },
   "outputs": [],
   "source": [
    "gig_start = 0\n",
    "gig_end = 9\n",
    "number_of_samples = 1\n",
    "\n",
    "gig_lf_range = range(gig_start, gig_end)\n",
    "size_of_samples = [len(gig_lf_range)]"
   ]
  },
  {
   "cell_type": "code",
   "execution_count": 16,
   "metadata": {
    "ExecuteTime": {
     "end_time": "2021-12-23T16:51:09.458500Z",
     "start_time": "2021-12-23T16:51:09.344202Z"
    }
   },
   "outputs": [],
   "source": [
    "sampled_lfs_dict = {\n",
    "    sample_size: (\n",
    "        sample_lfs(\n",
    "            list(gig_lf_range),\n",
    "            len(list(gig_lf_range)),\n",
    "            sample_size,\n",
    "            number_of_samples,\n",
    "            random_state=100,\n",
    "        )\n",
    "    )\n",
    "    for sample_size in size_of_samples\n",
    "}"
   ]
  },
  {
   "cell_type": "code",
   "execution_count": 17,
   "metadata": {
    "ExecuteTime": {
     "end_time": "2021-12-23T16:51:42.094437Z",
     "start_time": "2021-12-23T16:51:09.462975Z"
    }
   },
   "outputs": [
    {
     "name": "stderr",
     "output_type": "stream",
     "text": [
      "100%|██████████| 1/1 [00:32<00:00, 32.49s/it]\n"
     ]
    }
   ],
   "source": [
    "data_columns += run_generative_label_function_sampler(\n",
    "    filtered_L_abstracts,\n",
    "    L_dev,\n",
    "    L_test,\n",
    "    sampled_lfs_dict,\n",
    "    lf_columns_base=lf_columns_base,\n",
    "    grid_param=grid,\n",
    "    marginals_df_file=str(\n",
    "        notebook_output_dir / Path(\"gig_training_marginals_baseline.tsv\")\n",
    "    ),\n",
    "    curated_label=\"curated_gig\",\n",
    "    entity_label=\"GiG_baseline\",\n",
    "    data_source=\"abstract\",\n",
    ")"
   ]
  },
  {
   "cell_type": "markdown",
   "metadata": {},
   "source": [
    "## DaG"
   ]
  },
  {
   "cell_type": "code",
   "execution_count": 18,
   "metadata": {
    "ExecuteTime": {
     "end_time": "2021-12-23T16:51:42.098868Z",
     "start_time": "2021-12-23T16:51:42.095651Z"
    }
   },
   "outputs": [],
   "source": [
    "dag_start = 9\n",
    "dag_end = 38\n",
    "\n",
    "# Spaced out number of sampels including total\n",
    "size_of_samples = [1, 6, 11, 16, dag_end - dag_start]\n",
    "number_of_samples = 50\n",
    "dag_lf_range = range(dag_start, dag_end)"
   ]
  },
  {
   "cell_type": "code",
   "execution_count": 19,
   "metadata": {
    "ExecuteTime": {
     "end_time": "2021-12-23T16:51:42.133621Z",
     "start_time": "2021-12-23T16:51:42.100213Z"
    }
   },
   "outputs": [],
   "source": [
    "sampled_lfs_dict = {\n",
    "    sample_size: (\n",
    "        sample_lfs(\n",
    "            list(dag_lf_range),\n",
    "            len(list(dag_lf_range)),\n",
    "            sample_size,\n",
    "            number_of_samples,\n",
    "            random_state=100,\n",
    "        )\n",
    "    )\n",
    "    for sample_size in size_of_samples\n",
    "}"
   ]
  },
  {
   "cell_type": "code",
   "execution_count": 20,
   "metadata": {
    "ExecuteTime": {
     "end_time": "2021-12-23T18:30:40.375518Z",
     "start_time": "2021-12-23T16:51:42.134755Z"
    },
    "scrolled": true
   },
   "outputs": [
    {
     "name": "stderr",
     "output_type": "stream",
     "text": [
      "100%|██████████| 50/50 [10:38<00:00, 12.77s/it]\n",
      "100%|██████████| 50/50 [18:38<00:00, 22.36s/it]\n",
      "100%|██████████| 50/50 [22:18<00:00, 26.77s/it]\n",
      "100%|██████████| 50/50 [32:02<00:00, 38.44s/it]\n"
     ]
    }
   ],
   "source": [
    "data_columns += run_generative_label_function_sampler(\n",
    "    filtered_L_abstracts,\n",
    "    L_dev,\n",
    "    L_test,\n",
    "    sampled_lfs_dict,\n",
    "    lf_columns_base=lf_columns_base,\n",
    "    grid_param=grid,\n",
    "    marginals_df_file=\"\",\n",
    "    curated_label=\"curated_gig\",\n",
    "    entity_label=\"DaG\",\n",
    "    data_source=\"abstract\",\n",
    ")"
   ]
  },
  {
   "cell_type": "markdown",
   "metadata": {
    "ExecuteTime": {
     "end_time": "2021-05-23T01:13:03.897741Z",
     "start_time": "2021-05-23T01:13:03.887610Z"
    }
   },
   "source": [
    "## CtD"
   ]
  },
  {
   "cell_type": "code",
   "execution_count": 21,
   "metadata": {
    "ExecuteTime": {
     "end_time": "2021-12-23T18:30:40.379053Z",
     "start_time": "2021-12-23T18:30:40.376689Z"
    }
   },
   "outputs": [],
   "source": [
    "ctd_start = 38\n",
    "ctd_end = 60\n",
    "\n",
    "# Spaced out number of sampels including total\n",
    "size_of_samples = [1, 6, 11, 16, ctd_end - ctd_start]\n",
    "number_of_samples = 50\n",
    "ctd_lf_range = range(ctd_start, ctd_end)"
   ]
  },
  {
   "cell_type": "code",
   "execution_count": 22,
   "metadata": {
    "ExecuteTime": {
     "end_time": "2021-12-23T18:30:40.428131Z",
     "start_time": "2021-12-23T18:30:40.380225Z"
    }
   },
   "outputs": [],
   "source": [
    "sampled_lfs_dict = {\n",
    "    sample_size: (\n",
    "        sample_lfs(\n",
    "            list(ctd_lf_range),\n",
    "            len(list(ctd_lf_range)),\n",
    "            sample_size,\n",
    "            number_of_samples,\n",
    "            random_state=100,\n",
    "        )\n",
    "    )\n",
    "    for sample_size in size_of_samples\n",
    "}"
   ]
  },
  {
   "cell_type": "code",
   "execution_count": 23,
   "metadata": {
    "ExecuteTime": {
     "end_time": "2021-12-23T20:05:33.024121Z",
     "start_time": "2021-12-23T18:30:40.437218Z"
    },
    "scrolled": true
   },
   "outputs": [
    {
     "name": "stderr",
     "output_type": "stream",
     "text": [
      "100%|██████████| 50/50 [10:34<00:00, 12.69s/it]\n",
      "100%|██████████| 50/50 [15:23<00:00, 18.48s/it]\n",
      "100%|██████████| 50/50 [18:47<00:00, 22.55s/it]\n",
      "100%|██████████| 50/50 [22:40<00:00, 27.21s/it]\n",
      "100%|██████████| 50/50 [27:25<00:00, 32.92s/it]\n"
     ]
    }
   ],
   "source": [
    "data_columns += run_generative_label_function_sampler(\n",
    "    filtered_L_abstracts,\n",
    "    L_dev,\n",
    "    L_test,\n",
    "    sampled_lfs_dict,\n",
    "    lf_columns_base=lf_columns_base,\n",
    "    grid_param=grid,\n",
    "    marginals_df_file=\"\",\n",
    "    curated_label=\"curated_gig\",\n",
    "    entity_label=\"CtD\",\n",
    "    data_source=\"abstract\",\n",
    ")"
   ]
  },
  {
   "cell_type": "markdown",
   "metadata": {
    "ExecuteTime": {
     "end_time": "2021-05-23T01:15:48.612320Z",
     "start_time": "2021-05-23T01:15:48.602105Z"
    }
   },
   "source": [
    "## CbG"
   ]
  },
  {
   "cell_type": "code",
   "execution_count": 24,
   "metadata": {
    "ExecuteTime": {
     "end_time": "2021-12-23T20:05:33.028257Z",
     "start_time": "2021-12-23T20:05:33.025738Z"
    }
   },
   "outputs": [],
   "source": [
    "cbg_start = 60\n",
    "cbg_end = 80\n",
    "\n",
    "# Spaced out number of sampels including total\n",
    "size_of_samples = [1, 6, 11, 16, cbg_end - cbg_start]\n",
    "number_of_samples = 50\n",
    "cbg_lf_range = range(cbg_start, cbg_end)"
   ]
  },
  {
   "cell_type": "code",
   "execution_count": 25,
   "metadata": {
    "ExecuteTime": {
     "end_time": "2021-12-23T20:05:33.066718Z",
     "start_time": "2021-12-23T20:05:33.029517Z"
    }
   },
   "outputs": [],
   "source": [
    "sampled_lfs_dict = {\n",
    "    sample_size: (\n",
    "        sample_lfs(\n",
    "            list(cbg_lf_range),\n",
    "            len(list(cbg_lf_range)),\n",
    "            sample_size,\n",
    "            number_of_samples,\n",
    "            random_state=100,\n",
    "        )\n",
    "    )\n",
    "    for sample_size in size_of_samples\n",
    "}"
   ]
  },
  {
   "cell_type": "code",
   "execution_count": 26,
   "metadata": {
    "ExecuteTime": {
     "end_time": "2021-12-23T21:38:14.605606Z",
     "start_time": "2021-12-23T20:05:33.067971Z"
    },
    "scrolled": true
   },
   "outputs": [
    {
     "name": "stderr",
     "output_type": "stream",
     "text": [
      "100%|██████████| 50/50 [10:32<00:00, 12.66s/it]\n",
      "100%|██████████| 50/50 [15:23<00:00, 18.48s/it]\n",
      "100%|██████████| 50/50 [22:28<00:00, 26.97s/it]\n",
      "100%|██████████| 50/50 [25:31<00:00, 30.64s/it]\n"
     ]
    }
   ],
   "source": [
    "data_columns += run_generative_label_function_sampler(\n",
    "    filtered_L_abstracts,\n",
    "    L_dev,\n",
    "    L_test,\n",
    "    sampled_lfs_dict,\n",
    "    lf_columns_base=lf_columns_base,\n",
    "    grid_param=grid,\n",
    "    marginals_df_file=\"\",\n",
    "    curated_label=\"curated_gig\",\n",
    "    entity_label=\"CbG\",\n",
    "    data_source=\"abstract\",\n",
    ")"
   ]
  },
  {
   "cell_type": "markdown",
   "metadata": {
    "ExecuteTime": {
     "end_time": "2021-05-23T01:23:19.004580Z",
     "start_time": "2021-05-23T01:23:18.991250Z"
    },
    "scrolled": false
   },
   "source": [
    "## GiG"
   ]
  },
  {
   "cell_type": "code",
   "execution_count": 27,
   "metadata": {
    "ExecuteTime": {
     "end_time": "2021-12-23T21:38:14.609283Z",
     "start_time": "2021-12-23T21:38:14.606858Z"
    }
   },
   "outputs": [],
   "source": [
    "gig_start = 80\n",
    "gig_end = 108\n",
    "\n",
    "# Spaced out number of sampels including total\n",
    "size_of_samples = [1, 6, 11, 16, gig_end - gig_start]\n",
    "number_of_samples = 50\n",
    "gig_lf_range = range(gig_start, gig_end)"
   ]
  },
  {
   "cell_type": "code",
   "execution_count": 28,
   "metadata": {
    "ExecuteTime": {
     "end_time": "2021-12-23T21:38:14.701156Z",
     "start_time": "2021-12-23T21:38:14.610457Z"
    }
   },
   "outputs": [],
   "source": [
    "sampled_lfs_dict = {\n",
    "    sample_size: (\n",
    "        sample_lfs(\n",
    "            list(gig_lf_range),\n",
    "            len(list(gig_lf_range)),\n",
    "            sample_size,\n",
    "            number_of_samples,\n",
    "            random_state=100,\n",
    "        )\n",
    "    )\n",
    "    for sample_size in size_of_samples\n",
    "}"
   ]
  },
  {
   "cell_type": "code",
   "execution_count": null,
   "metadata": {
    "ExecuteTime": {
     "start_time": "2021-12-23T16:21:43.814Z"
    },
    "scrolled": true
   },
   "outputs": [
    {
     "name": "stderr",
     "output_type": "stream",
     "text": [
      "100%|██████████| 50/50 [23:48<00:00, 28.57s/it]\n",
      "100%|██████████| 50/50 [28:50<00:00, 34.61s/it]\n",
      "100%|██████████| 50/50 [32:21<00:00, 38.83s/it]\n",
      "100%|██████████| 50/50 [36:09<00:00, 43.38s/it]\n",
      " 98%|█████████▊| 49/50 [44:52<00:54, 54.75s/it]"
     ]
    }
   ],
   "source": [
    "data_columns += run_generative_label_function_sampler(\n",
    "    filtered_L_abstracts,\n",
    "    L_dev,\n",
    "    L_test,\n",
    "    sampled_lfs_dict,\n",
    "    lf_columns_base=lf_columns_base,\n",
    "    grid_param=grid,\n",
    "    marginals_df_file=str(\n",
    "        notebook_output_dir / Path(\"gig_predicts_gig_training_marginals.tsv\")\n",
    "    ),\n",
    "    curated_label=\"curated_gig\",\n",
    "    entity_label=\"GiG\",\n",
    "    data_source=\"abstract\",\n",
    ")"
   ]
  },
  {
   "cell_type": "markdown",
   "metadata": {},
   "source": [
    "# Full Text"
   ]
  },
  {
   "cell_type": "markdown",
   "metadata": {},
   "source": [
    "Full text cannot load into memory on my work desktop machine (RAM:64GB).\n",
    "Would have to run it on a cluster that has more memory; however, given the fact that full text hasn't improved performance I'm electing to ignore this section and work with abstracts alone.\n",
    "Check [06_plot_labels_sampling_performance.ipynb](06_plot_labels_sampling_performance.ipynb) for full text and abstract analysis results."
   ]
  },
  {
   "cell_type": "markdown",
   "metadata": {},
   "source": [
    "# Write Performance to File"
   ]
  },
  {
   "cell_type": "code",
   "execution_count": null,
   "metadata": {
    "ExecuteTime": {
     "start_time": "2021-12-23T16:21:43.880Z"
    }
   },
   "outputs": [],
   "source": [
    "performance_df = pd.DataFrame.from_records(data_columns)\n",
    "performance_df"
   ]
  },
  {
   "cell_type": "code",
   "execution_count": null,
   "metadata": {
    "ExecuteTime": {
     "start_time": "2021-12-23T16:21:43.882Z"
    }
   },
   "outputs": [],
   "source": [
    "performance_df.to_csv(\"output/performance/GiG_performance.tsv\", index=False, sep=\"\\t\")"
   ]
  }
 ],
 "metadata": {
  "jupytext": {
   "formats": "ipynb,py:light"
  },
  "kernelspec": {
   "display_name": "Python [conda env:snorkeling_full_text]",
   "language": "python",
   "name": "conda-env-snorkeling_full_text-py"
  },
  "language_info": {
   "codemirror_mode": {
    "name": "ipython",
    "version": 3
   },
   "file_extension": ".py",
   "mimetype": "text/x-python",
   "name": "python",
   "nbconvert_exporter": "python",
   "pygments_lexer": "ipython3",
   "version": "3.7.2"
  },
  "toc": {
   "base_numbering": 1,
   "nav_menu": {},
   "number_sections": true,
   "sideBar": true,
   "skip_h1_title": false,
   "title_cell": "Table of Contents",
   "title_sidebar": "Contents",
   "toc_cell": false,
   "toc_position": {},
   "toc_section_display": true,
   "toc_window_display": false
  }
 },
 "nbformat": 4,
 "nbformat_minor": 2
}
