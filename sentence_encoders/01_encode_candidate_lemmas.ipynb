{
 "cells": [
  {
   "cell_type": "markdown",
   "metadata": {},
   "source": [
    "# Output Parsed Lemmas for Disc Model"
   ]
  },
  {
   "cell_type": "markdown",
   "metadata": {},
   "source": [
    "This notebook is designed to output sentences into forms that BioBERT can process for training."
   ]
  },
  {
   "cell_type": "code",
   "execution_count": null,
   "metadata": {
    "ExecuteTime": {
     "end_time": "2021-11-01T16:26:13.274701Z",
     "start_time": "2021-11-01T16:26:13.213810Z"
    }
   },
   "outputs": [],
   "source": [
    "import warnings\n",
    "\n",
    "import pandas as pd\n",
    "import plydata as ply\n",
    "import spacy\n",
    "from sqlalchemy import create_engine\n",
    "\n",
    "from snorkeling_helper.candidates_helper import char_to_word, encode_lemmas\n",
    "\n",
    "warnings.filterwarnings(\"ignore\")"
   ]
  },
  {
   "cell_type": "code",
   "execution_count": null,
   "metadata": {
    "ExecuteTime": {
     "end_time": "2021-11-01T16:25:59.892279Z",
     "start_time": "2021-11-01T16:25:59.854562Z"
    }
   },
   "outputs": [],
   "source": [
    "username = \"danich1\"\n",
    "password = \"snorkel\"\n",
    "dbname = \"pubmed_central_db\"\n",
    "database_str = (\n",
    "    f\"postgresql+psycopg2://{username}:{password}@/{dbname}?host=/var/run/postgresql\"\n",
    ")\n",
    "conn = create_engine(database_str)"
   ]
  },
  {
   "cell_type": "code",
   "execution_count": null,
   "metadata": {
    "ExecuteTime": {
     "end_time": "2021-11-01T16:26:02.070996Z",
     "start_time": "2021-11-01T16:25:59.893492Z"
    }
   },
   "outputs": [],
   "source": [
    "nlp = spacy.load(\"en_core_web_sm\")\n",
    "stopwords = nlp.Defaults.stop_words"
   ]
  },
  {
   "cell_type": "markdown",
   "metadata": {},
   "source": [
    "# DaG"
   ]
  },
  {
   "cell_type": "markdown",
   "metadata": {},
   "source": [
    "## Dev-Test"
   ]
  },
  {
   "cell_type": "code",
   "execution_count": null,
   "metadata": {
    "ExecuteTime": {
     "end_time": "2021-11-01T16:26:02.311035Z",
     "start_time": "2021-11-01T16:26:02.073303Z"
    }
   },
   "outputs": [],
   "source": [
    "hand_labeled_candidates_df = pd.read_csv(\n",
    "    \"../annotation_conversion/output\" \"/mapped_disease_gene_candidates.tsv\", sep=\"\\t\"\n",
    ")\n",
    "hand_labeled_candidates_df.head()"
   ]
  },
  {
   "cell_type": "code",
   "execution_count": null,
   "metadata": {
    "ExecuteTime": {
     "end_time": "2021-11-01T16:26:02.319733Z",
     "start_time": "2021-11-01T16:26:02.315220Z"
    }
   },
   "outputs": [],
   "source": [
    "fieldnames = [\"disease_start\", \"disease_end\", \"gene_start\", \"gene_end\"]"
   ]
  },
  {
   "cell_type": "code",
   "execution_count": null,
   "metadata": {
    "ExecuteTime": {
     "end_time": "2021-11-01T16:26:03.666187Z",
     "start_time": "2021-11-01T16:26:02.323198Z"
    }
   },
   "outputs": [],
   "source": [
    "candidate_index_df = pd.DataFrame.from_dict(\n",
    "    dict(\n",
    "        zip(\n",
    "            fieldnames,\n",
    "            zip(\n",
    "                *hand_labeled_candidates_df.apply(\n",
    "                    char_to_word, row_fields=fieldnames, axis=1\n",
    "                ).tolist()\n",
    "            ),\n",
    "        )\n",
    "    )\n",
    ")\n",
    "candidate_index_df.head()"
   ]
  },
  {
   "cell_type": "code",
   "execution_count": null,
   "metadata": {
    "ExecuteTime": {
     "end_time": "2021-11-01T16:28:16.630262Z",
     "start_time": "2021-11-01T16:28:16.554754Z"
    }
   },
   "outputs": [],
   "source": [
    "hand_labeled_candidates_df = (\n",
    "    hand_labeled_candidates_df\n",
    "    >> ply.rename(candidate_id=\"old_candidate_id\", lemma=\"lemmas\")\n",
    "    >> ply.define(\n",
    "        disease_start=candidate_index_df >> ply.pull(\"disease_start\"),\n",
    "        disease_end=candidate_index_df >> ply.pull(\"disease_end\"),\n",
    "        gene_start=candidate_index_df >> ply.pull(\"gene_start\"),\n",
    "        gene_end=candidate_index_df >> ply.pull(\"gene_end\"),\n",
    "        lemma=lambda x: x.lemma.apply(lambda y: y.split(\"|\")),\n",
    "    )\n",
    ")\n",
    "hand_labeled_candidates_df.head()"
   ]
  },
  {
   "cell_type": "code",
   "execution_count": null,
   "metadata": {
    "ExecuteTime": {
     "end_time": "2021-11-01T16:31:30.147374Z",
     "start_time": "2021-11-01T16:31:29.487648Z"
    }
   },
   "outputs": [],
   "source": [
    "encoded_dev_test = pd.DataFrame.from_records(\n",
    "    encode_lemmas(\n",
    "        hand_labeled_candidates_df,\n",
    "        stopwords,\n",
    "        dict(),\n",
    "        entity_fieldnames=fieldnames,\n",
    "        entity_one=\"DISEASE_ENTITY\",\n",
    "        entity_two=\"GENE_ENTITY\",\n",
    "    )\n",
    ")\n",
    "\n",
    "print(encoded_dev_test.shape)\n",
    "encoded_dev_test.head()"
   ]
  },
  {
   "cell_type": "code",
   "execution_count": null,
   "metadata": {
    "ExecuteTime": {
     "end_time": "2021-11-01T16:31:30.328039Z",
     "start_time": "2021-11-01T16:31:30.149240Z"
    }
   },
   "outputs": [],
   "source": [
    "(\n",
    "    encoded_dev_test\n",
    "    >> ply.inner_join(\n",
    "        hand_labeled_candidates_df\n",
    "        >> ply.select(\"curated_dsh\", \"split\", \"candidate_id\")\n",
    "        >> ply.query(\"split>0\"),\n",
    "        on=\"candidate_id\",\n",
    "    )\n",
    "    >> ply.call(\n",
    "        \".to_csv\", \"output/dg_dev_test_encoded_lemmas.tsv\", sep=\"\\t\", index=False\n",
    "    )\n",
    ")"
   ]
  },
  {
   "cell_type": "markdown",
   "metadata": {},
   "source": [
    "## Train"
   ]
  },
  {
   "cell_type": "code",
   "execution_count": null,
   "metadata": {
    "ExecuteTime": {
     "end_time": "2021-08-09T22:03:58.879568Z",
     "start_time": "2021-08-09T22:03:58.718340Z"
    }
   },
   "outputs": [],
   "source": [
    "dag_mapper = pd.read_csv(\n",
    "    \"../generative_model_training/output/dag_dataset_mapper.tsv\", sep=\"\\t\"\n",
    ")\n",
    "dag_mapper.head()"
   ]
  },
  {
   "cell_type": "code",
   "execution_count": null,
   "metadata": {
    "ExecuteTime": {
     "end_time": "2021-08-09T22:03:59.005623Z",
     "start_time": "2021-08-09T22:03:58.880708Z"
    }
   },
   "outputs": [],
   "source": [
    "train_docs = \",\".join(\n",
    "    map(str, dag_mapper.query(\"dataset == 'train'\").document_id.tolist())\n",
    ")\n",
    "candidates = \",\".join(map(str, hand_labeled_candidates_df.document_id.tolist()))"
   ]
  },
  {
   "cell_type": "code",
   "execution_count": null,
   "metadata": {
    "ExecuteTime": {
     "end_time": "2021-11-01T16:32:14.750205Z",
     "start_time": "2021-11-01T16:32:14.746410Z"
    }
   },
   "outputs": [],
   "source": [
    "sql = f\"\"\"\n",
    "select candidate_id, document_id, text, lemma, disease_start, disease_end, gene_start, gene_end\n",
    "from disease_gene inner join (\n",
    "    select sentence_id, document_id\n",
    "    from sentence\n",
    ") as sentence_map\n",
    "on disease_gene.sentence_id = sentence_map.sentence_id\n",
    "where document_id in ({train_docs}) and\n",
    "candidate_id not in ({candidates}) and\n",
    "section = 'title' or section ='abstract'\n",
    "\"\"\"\n",
    "\n",
    "candidate = pd.read_sql(sql, database_str) >> ply.define(\n",
    "    lemma=lambda x: x.lemma.apply(lambda y: y.replace(\"'\", \"\").split(\"|\"))\n",
    ")\n",
    "print(candidate.shape)\n",
    "candidate.head()"
   ]
  },
  {
   "cell_type": "code",
   "execution_count": null,
   "metadata": {
    "ExecuteTime": {
     "end_time": "2021-08-09T22:47:06.242145Z",
     "start_time": "2021-08-09T22:43:55.576033Z"
    }
   },
   "outputs": [],
   "source": [
    "encoded_abstracts = pd.DataFrame.from_records(\n",
    "    encode_lemmas(\n",
    "        candidate,\n",
    "        stopwords,\n",
    "        dict(),\n",
    "        entity_fieldnames=fieldnames,\n",
    "        entity_one=\"DISEASE_ENTITY\",\n",
    "        entity_two=\"GENE_ENTITY\",\n",
    "    )\n",
    ")\n",
    "\n",
    "print(encoded_abstracts.shape)\n",
    "encoded_abstracts.head()"
   ]
  },
  {
   "cell_type": "code",
   "execution_count": null,
   "metadata": {
    "ExecuteTime": {
     "end_time": "2021-08-09T22:47:13.563984Z",
     "start_time": "2021-08-09T22:47:06.243253Z"
    }
   },
   "outputs": [],
   "source": [
    "(\n",
    "    encoded_abstracts\n",
    "    >> ply.call(\n",
    "        \"to_csv\" \"output/train_dg_abstract_encoded_lemmas.tsv\", sep=\"\\t\", index=False\n",
    "    )\n",
    ")"
   ]
  },
  {
   "cell_type": "markdown",
   "metadata": {},
   "source": [
    "# CtD"
   ]
  },
  {
   "cell_type": "markdown",
   "metadata": {},
   "source": [
    "## Dev-Test"
   ]
  },
  {
   "cell_type": "code",
   "execution_count": null,
   "metadata": {
    "ExecuteTime": {
     "end_time": "2021-10-14T19:45:44.197652Z",
     "start_time": "2021-10-14T19:45:44.153326Z"
    }
   },
   "outputs": [],
   "source": [
    "hand_labeled_candidates_df = pd.read_csv(\n",
    "    \"../annotation_conversion/output\" \"/mapped_compound_disease_candidates.tsv\",\n",
    "    sep=\"\\t\",\n",
    ")\n",
    "hand_labeled_candidates_df.head()"
   ]
  },
  {
   "cell_type": "code",
   "execution_count": null,
   "metadata": {
    "ExecuteTime": {
     "end_time": "2021-10-14T19:45:44.215629Z",
     "start_time": "2021-10-14T19:45:44.198910Z"
    }
   },
   "outputs": [],
   "source": [
    "fieldnames = [\n",
    "    \"compound_start\",\n",
    "    \"compound_end\",\n",
    "    \"disease_start\",\n",
    "    \"disease_end\",\n",
    "]"
   ]
  },
  {
   "cell_type": "code",
   "execution_count": null,
   "metadata": {
    "ExecuteTime": {
     "end_time": "2021-10-14T19:45:44.857831Z",
     "start_time": "2021-10-14T19:45:44.217074Z"
    }
   },
   "outputs": [],
   "source": [
    "candidate_index_df = pd.DataFrame.from_dict(\n",
    "    dict(\n",
    "        zip(\n",
    "            fieldnames,\n",
    "            zip(\n",
    "                *hand_labeled_candidates_df.apply(\n",
    "                    char_to_word, row_fields=fieldnames, axis=1\n",
    "                ).tolist()\n",
    "            ),\n",
    "        )\n",
    "    )\n",
    ")\n",
    "candidate_index_df.head()"
   ]
  },
  {
   "cell_type": "code",
   "execution_count": null,
   "metadata": {
    "ExecuteTime": {
     "end_time": "2021-10-14T19:45:44.921970Z",
     "start_time": "2021-10-14T19:45:44.859068Z"
    }
   },
   "outputs": [],
   "source": [
    "hand_labeled_candidates_df = (\n",
    "    hand_labeled_candidates_df\n",
    "    >> ply.rename(candidate_id=\"old_candidate_id\", lemma=\"lemmas\")\n",
    "    >> ply.define(\n",
    "        compound_start=candidate_index_df >> ply.pull(\"compound_start\"),\n",
    "        compound_end=candidate_index_df >> ply.pull(\"compound_end\"),\n",
    "        disease_start=candidate_index_df >> ply.pull(\"disease_start\"),\n",
    "        disease_end=candidate_index_df >> ply.pull(\"disease_end\"),\n",
    "        lemma=lambda x: x.lemma.apply(lambda y: y.split(\"|\")),\n",
    "    )\n",
    ")\n",
    "hand_labeled_candidates_df.head()"
   ]
  },
  {
   "cell_type": "code",
   "execution_count": null,
   "metadata": {
    "ExecuteTime": {
     "end_time": "2021-10-14T19:45:45.179306Z",
     "start_time": "2021-10-14T19:45:44.923305Z"
    }
   },
   "outputs": [],
   "source": [
    "encoded_dev_test = pd.DataFrame.from_records(\n",
    "    encode_lemmas(\n",
    "        hand_labeled_candidates_df,\n",
    "        stopwords,\n",
    "        dict(),\n",
    "        entity_fieldnames=fieldnames,\n",
    "        entity_one=\"COMPOUND_ENTITY\",\n",
    "        entity_two=\"DISEASE_ENTITY\",\n",
    "    )\n",
    ")\n",
    "\n",
    "print(encoded_dev_test.shape)\n",
    "encoded_dev_test.head()"
   ]
  },
  {
   "cell_type": "code",
   "execution_count": null,
   "metadata": {
    "ExecuteTime": {
     "end_time": "2021-10-14T19:45:45.202117Z",
     "start_time": "2021-10-14T19:45:45.180648Z"
    }
   },
   "outputs": [],
   "source": [
    "(\n",
    "    encoded_dev_test\n",
    "    >> ply.inner_join(\n",
    "        hand_labeled_candidates_df\n",
    "        >> ply.select(\"curated_ctd\", \"split\", \"candidate_id\"),\n",
    "        on=\"candidate_id\",\n",
    "    )\n",
    "    >> ply.call(\n",
    "        \".to_csv\", \"output/cd_dev_test_encoded_lemmas.tsv\", sep=\"\\t\", index=False\n",
    "    )\n",
    ")"
   ]
  },
  {
   "cell_type": "markdown",
   "metadata": {},
   "source": [
    "## Train"
   ]
  },
  {
   "cell_type": "code",
   "execution_count": null,
   "metadata": {
    "ExecuteTime": {
     "end_time": "2021-08-09T22:55:09.887021Z",
     "start_time": "2021-08-09T22:55:09.581397Z"
    }
   },
   "outputs": [],
   "source": [
    "ctd_mapper = pd.read_csv(\n",
    "    \"../generative_model_training/output/ctd_dataset_mapper.tsv\", sep=\"\\t\"\n",
    ")\n",
    "ctd_mapper.head()"
   ]
  },
  {
   "cell_type": "code",
   "execution_count": null,
   "metadata": {
    "ExecuteTime": {
     "end_time": "2021-08-09T22:55:10.060646Z",
     "start_time": "2021-08-09T22:55:09.891314Z"
    }
   },
   "outputs": [],
   "source": [
    "train_docs = \",\".join(\n",
    "    map(str, ctd_mapper.query(\"dataset == 'train'\").document_id.tolist())\n",
    ")\n",
    "candidates = \",\".join(map(str, hand_labeled_candidates_df.document_id.tolist()))"
   ]
  },
  {
   "cell_type": "code",
   "execution_count": null,
   "metadata": {
    "ExecuteTime": {
     "end_time": "2021-08-09T23:20:09.803994Z",
     "start_time": "2021-08-09T22:55:10.064751Z"
    }
   },
   "outputs": [],
   "source": [
    "sql = f\"\"\"\n",
    "select candidate_id, document_id, text, lemma, compound_start, compound_end, disease_start, disease_end\n",
    "from compound_disease inner join (\n",
    "    select sentence_id, document_id\n",
    "    from sentence\n",
    ") as sentence_map\n",
    "on compound_disease.sentence_id = sentence_map.sentence_id\n",
    "where document_id in ({train_docs}) and\n",
    "candidate_id not in ({candidates}) and\n",
    "section = 'title' or section ='abstract'\n",
    "\"\"\"\n",
    "\n",
    "candidate = pd.read_sql(sql, database_str) >> ply.define(\n",
    "    lemma=lambda x: x.lemma.apply(lambda y: y.replace(\"'\", \"\").split(\"|\"))\n",
    ")\n",
    "print(candidate.shape)\n",
    "candidate.head()"
   ]
  },
  {
   "cell_type": "code",
   "execution_count": null,
   "metadata": {
    "ExecuteTime": {
     "end_time": "2021-08-09T23:22:04.878735Z",
     "start_time": "2021-08-09T23:20:09.805590Z"
    }
   },
   "outputs": [],
   "source": [
    "encoded_abstracts = pd.DataFrame.from_records(\n",
    "    encode_lemmas(\n",
    "        candidate,\n",
    "        stopwords,\n",
    "        dict(),\n",
    "        entity_fieldnames=fieldnames,\n",
    "        entity_one=\"COMPOUND_ENTITY\",\n",
    "        entity_two=\"DISEASE_ENTITY\",\n",
    "    )\n",
    ")\n",
    "\n",
    "print(encoded_abstracts.shape)\n",
    "encoded_abstracts.head()"
   ]
  },
  {
   "cell_type": "code",
   "execution_count": null,
   "metadata": {
    "ExecuteTime": {
     "end_time": "2021-08-09T23:22:08.695610Z",
     "start_time": "2021-08-09T23:22:04.880139Z"
    }
   },
   "outputs": [],
   "source": [
    "(\n",
    "    encoded_abstracts\n",
    "    >> ply.call(\n",
    "        \"to_csv\", \"output/train_cd_abstract_encoded_lemmas.tsv\", sep=\"\\t\", index=False\n",
    "    )\n",
    ")"
   ]
  },
  {
   "cell_type": "markdown",
   "metadata": {},
   "source": [
    "# CbG"
   ]
  },
  {
   "cell_type": "markdown",
   "metadata": {},
   "source": [
    "## Dev-Test"
   ]
  },
  {
   "cell_type": "code",
   "execution_count": null,
   "metadata": {
    "ExecuteTime": {
     "end_time": "2021-10-14T19:45:54.219657Z",
     "start_time": "2021-10-14T19:45:54.173526Z"
    }
   },
   "outputs": [],
   "source": [
    "hand_labeled_candidates_df = pd.read_csv(\n",
    "    \"../annotation_conversion/output\" \"/mapped_compound_gene_candidates.tsv\", sep=\"\\t\"\n",
    ")\n",
    "hand_labeled_candidates_df.head()"
   ]
  },
  {
   "cell_type": "code",
   "execution_count": null,
   "metadata": {
    "ExecuteTime": {
     "end_time": "2021-10-14T19:45:54.223059Z",
     "start_time": "2021-10-14T19:45:54.220881Z"
    }
   },
   "outputs": [],
   "source": [
    "fieldnames = [\"compound_start\", \"compound_end\", \"gene_start\", \"gene_end\"]"
   ]
  },
  {
   "cell_type": "code",
   "execution_count": null,
   "metadata": {
    "ExecuteTime": {
     "end_time": "2021-10-14T19:45:54.864275Z",
     "start_time": "2021-10-14T19:45:54.224474Z"
    }
   },
   "outputs": [],
   "source": [
    "candidate_index_df = pd.DataFrame.from_dict(\n",
    "    dict(\n",
    "        zip(\n",
    "            fieldnames,\n",
    "            zip(\n",
    "                *hand_labeled_candidates_df.apply(\n",
    "                    char_to_word, row_fields=fieldnames, axis=1\n",
    "                ).tolist()\n",
    "            ),\n",
    "        )\n",
    "    )\n",
    ")\n",
    "candidate_index_df.head()"
   ]
  },
  {
   "cell_type": "code",
   "execution_count": null,
   "metadata": {
    "ExecuteTime": {
     "end_time": "2021-10-14T19:45:54.928553Z",
     "start_time": "2021-10-14T19:45:54.865922Z"
    }
   },
   "outputs": [],
   "source": [
    "hand_labeled_candidates_df = (\n",
    "    hand_labeled_candidates_df\n",
    "    >> ply.rename(candidate_id=\"old_candidate_id\", lemma=\"lemmas\")\n",
    "    >> ply.define(\n",
    "        compound_start=candidate_index_df >> ply.pull(\"compound_start\"),\n",
    "        compound_end=candidate_index_df >> ply.pull(\"compound_end\"),\n",
    "        gene_start=candidate_index_df >> ply.pull(\"gene_start\"),\n",
    "        gene_end=candidate_index_df >> ply.pull(\"gene_end\"),\n",
    "        lemma=lambda x: x.lemma.apply(lambda y: y.split(\"|\")),\n",
    "    )\n",
    ")\n",
    "hand_labeled_candidates_df.head()"
   ]
  },
  {
   "cell_type": "code",
   "execution_count": null,
   "metadata": {
    "ExecuteTime": {
     "end_time": "2021-10-14T19:45:55.195617Z",
     "start_time": "2021-10-14T19:45:54.929863Z"
    }
   },
   "outputs": [],
   "source": [
    "encoded_dev_test = pd.DataFrame.from_records(\n",
    "    encode_lemmas(\n",
    "        hand_labeled_candidates_df,\n",
    "        stopwords,\n",
    "        dict(),\n",
    "        entity_fieldnames=fieldnames,\n",
    "        entity_one=\"COMPOUND_ENTITY\",\n",
    "        entity_two=\"GENE_ENTITY\",\n",
    "    )\n",
    ")\n",
    "\n",
    "print(encoded_dev_test.shape)\n",
    "encoded_dev_test.head()"
   ]
  },
  {
   "cell_type": "code",
   "execution_count": null,
   "metadata": {
    "ExecuteTime": {
     "end_time": "2021-10-14T19:45:55.217188Z",
     "start_time": "2021-10-14T19:45:55.196733Z"
    }
   },
   "outputs": [],
   "source": [
    "(\n",
    "    encoded_dev_test\n",
    "    >> ply.inner_join(\n",
    "        hand_labeled_candidates_df\n",
    "        >> ply.select(\"curated_cbg\", \"split\", \"candidate_id\"),\n",
    "        on=\"candidate_id\",\n",
    "    )\n",
    "    >> ply.call(\n",
    "        \".to_csv\", \"output/cg_dev_test_encoded_lemmas.tsv\", sep=\"\\t\", index=False\n",
    "    )\n",
    ")"
   ]
  },
  {
   "cell_type": "markdown",
   "metadata": {},
   "source": [
    "## Train"
   ]
  },
  {
   "cell_type": "code",
   "execution_count": null,
   "metadata": {
    "ExecuteTime": {
     "end_time": "2021-08-09T23:22:09.880583Z",
     "start_time": "2021-08-09T23:22:09.488561Z"
    }
   },
   "outputs": [],
   "source": [
    "cbg_mapper = pd.read_csv(\n",
    "    \"../generative_model_training/output/cbg_dataset_mapper.tsv\", sep=\"\\t\"\n",
    ")\n",
    "cbg_mapper.head()"
   ]
  },
  {
   "cell_type": "code",
   "execution_count": null,
   "metadata": {
    "ExecuteTime": {
     "end_time": "2021-08-09T23:22:10.000609Z",
     "start_time": "2021-08-09T23:22:09.881628Z"
    }
   },
   "outputs": [],
   "source": [
    "train_docs = \",\".join(\n",
    "    map(str, cbg_mapper.query(\"dataset == 'train'\").document_id.tolist())\n",
    ")\n",
    "candidates = \",\".join(map(str, hand_labeled_candidates_df.document_id.tolist()))"
   ]
  },
  {
   "cell_type": "code",
   "execution_count": null,
   "metadata": {
    "ExecuteTime": {
     "end_time": "2021-08-09T23:56:45.966479Z",
     "start_time": "2021-08-09T23:22:10.001807Z"
    }
   },
   "outputs": [],
   "source": [
    "sql = f\"\"\"\n",
    "select candidate_id, document_id, text, lemma, compound_start, compound_end, gene_start, gene_end\n",
    "from compound_gene inner join (\n",
    "    select sentence_id, document_id\n",
    "    from sentence\n",
    ") as sentence_map\n",
    "on compound_gene.sentence_id = sentence_map.sentence_id\n",
    "where document_id in ({train_docs}) and\n",
    "candidate_id not in ({candidates}) and\n",
    "section = 'title' or section ='abstract'\n",
    "\"\"\"\n",
    "\n",
    "candidate = pd.read_sql(sql, database_str) >> ply.define(\n",
    "    lemma=lambda x: x.lemma.apply(lambda y: y.replace(\"'\", \"\").split(\"|\"))\n",
    ")\n",
    "print(candidate.shape)\n",
    "candidate.head()"
   ]
  },
  {
   "cell_type": "code",
   "execution_count": null,
   "metadata": {
    "ExecuteTime": {
     "end_time": "2021-08-09T23:59:20.318210Z",
     "start_time": "2021-08-09T23:56:45.968331Z"
    }
   },
   "outputs": [],
   "source": [
    "encoded_abstracts = pd.DataFrame.from_records(\n",
    "    encode_lemmas(\n",
    "        candidate,\n",
    "        stopwords,\n",
    "        dict(),\n",
    "        entity_fieldnames=fieldnames,\n",
    "        entity_one=\"COMPOUND_ENTITY\",\n",
    "        entity_two=\"GENE_ENTITY\",\n",
    "    )\n",
    ")\n",
    "\n",
    "print(encoded_abstracts.shape)\n",
    "encoded_abstracts.head()"
   ]
  },
  {
   "cell_type": "code",
   "execution_count": null,
   "metadata": {
    "ExecuteTime": {
     "end_time": "2021-08-09T23:59:25.781692Z",
     "start_time": "2021-08-09T23:59:20.319446Z"
    }
   },
   "outputs": [],
   "source": [
    "(\n",
    "    encoded_abstracts\n",
    "    >> ply.call(\n",
    "        \"to_csv\", \"output/train_cg_abstract_encoded_lemmas.tsv\", sep=\"\\t\", index=False\n",
    "    )\n",
    ")"
   ]
  },
  {
   "cell_type": "markdown",
   "metadata": {},
   "source": [
    "# GiG"
   ]
  },
  {
   "cell_type": "markdown",
   "metadata": {},
   "source": [
    "## Dev-Test"
   ]
  },
  {
   "cell_type": "code",
   "execution_count": null,
   "metadata": {
    "ExecuteTime": {
     "end_time": "2021-10-14T19:46:00.787485Z",
     "start_time": "2021-10-14T19:46:00.743894Z"
    }
   },
   "outputs": [],
   "source": [
    "hand_labeled_candidates_df = pd.read_csv(\n",
    "    \"../annotation_conversion/output\" \"/mapped_gene_gene_candidates.tsv\", sep=\"\\t\"\n",
    ")\n",
    "hand_labeled_candidates_df.head()"
   ]
  },
  {
   "cell_type": "code",
   "execution_count": null,
   "metadata": {
    "ExecuteTime": {
     "end_time": "2021-10-14T19:46:00.794067Z",
     "start_time": "2021-10-14T19:46:00.791175Z"
    }
   },
   "outputs": [],
   "source": [
    "fieldnames = [\"gene1_start\", \"gene1_end\", \"gene2_start\", \"gene2_end\"]"
   ]
  },
  {
   "cell_type": "code",
   "execution_count": null,
   "metadata": {
    "ExecuteTime": {
     "end_time": "2021-10-14T19:46:01.285534Z",
     "start_time": "2021-10-14T19:46:00.797651Z"
    }
   },
   "outputs": [],
   "source": [
    "candidate_index_df = pd.DataFrame.from_dict(\n",
    "    dict(\n",
    "        zip(\n",
    "            fieldnames,\n",
    "            zip(\n",
    "                *hand_labeled_candidates_df.apply(\n",
    "                    char_to_word, row_fields=fieldnames, axis=1\n",
    "                ).tolist()\n",
    "            ),\n",
    "        )\n",
    "    )\n",
    ")\n",
    "candidate_index_df.head()"
   ]
  },
  {
   "cell_type": "code",
   "execution_count": null,
   "metadata": {
    "ExecuteTime": {
     "end_time": "2021-10-14T19:46:01.359377Z",
     "start_time": "2021-10-14T19:46:01.289865Z"
    }
   },
   "outputs": [],
   "source": [
    "hand_labeled_candidates_df = (\n",
    "    hand_labeled_candidates_df\n",
    "    >> ply.rename(candidate_id=\"old_candidate_id\", lemma=\"lemmas\")\n",
    "    >> ply.define(\n",
    "        gene1_start=candidate_index_df >> ply.pull(\"gene1_start\"),\n",
    "        gene1_end=candidate_index_df >> ply.pull(\"gene1_end\"),\n",
    "        gene2_start=candidate_index_df >> ply.pull(\"gene2_start\"),\n",
    "        gene2_end=candidate_index_df >> ply.pull(\"gene2_end\"),\n",
    "        lemma=lambda x: x.lemma.apply(lambda y: y.split(\"|\")),\n",
    "    )\n",
    ")\n",
    "hand_labeled_candidates_df.head()"
   ]
  },
  {
   "cell_type": "code",
   "execution_count": null,
   "metadata": {
    "ExecuteTime": {
     "end_time": "2021-10-14T19:46:01.522237Z",
     "start_time": "2021-10-14T19:46:01.363099Z"
    }
   },
   "outputs": [],
   "source": [
    "encoded_dev_test = pd.DataFrame.from_records(\n",
    "    encode_lemmas(\n",
    "        hand_labeled_candidates_df,\n",
    "        stopwords,\n",
    "        dict(),\n",
    "        entity_fieldnames=fieldnames,\n",
    "        entity_one=\"GENE1_ENTITY\",\n",
    "        entity_two=\"GENE2_ENTITY\",\n",
    "    )\n",
    ")\n",
    "\n",
    "print(encoded_dev_test.shape)\n",
    "encoded_dev_test.head()"
   ]
  },
  {
   "cell_type": "code",
   "execution_count": null,
   "metadata": {
    "ExecuteTime": {
     "end_time": "2021-10-14T19:46:01.538094Z",
     "start_time": "2021-10-14T19:46:01.526383Z"
    }
   },
   "outputs": [],
   "source": [
    "(\n",
    "    encoded_dev_test\n",
    "    >> ply.inner_join(\n",
    "        hand_labeled_candidates_df\n",
    "        >> ply.select(\"curated_gig\", \"split\", \"candidate_id\"),\n",
    "        on=\"candidate_id\",\n",
    "    )\n",
    "    >> ply.call(\n",
    "        \".to_csv\", \"output/gg_dev_test_encoded_lemmas.tsv\", sep=\"\\t\", index=False\n",
    "    )\n",
    ")"
   ]
  },
  {
   "cell_type": "markdown",
   "metadata": {},
   "source": [
    "## Train"
   ]
  },
  {
   "cell_type": "code",
   "execution_count": null,
   "metadata": {
    "ExecuteTime": {
     "end_time": "2021-10-07T16:05:51.395693Z",
     "start_time": "2021-10-07T16:05:51.062664Z"
    }
   },
   "outputs": [],
   "source": [
    "gig_mapper = pd.read_csv(\n",
    "    \"../generative_model_training/output/gig_dataset_mapper.tsv\", sep=\"\\t\"\n",
    ")\n",
    "gig_mapper.head()"
   ]
  },
  {
   "cell_type": "code",
   "execution_count": null,
   "metadata": {
    "ExecuteTime": {
     "end_time": "2021-10-07T16:05:51.640378Z",
     "start_time": "2021-10-07T16:05:51.397238Z"
    }
   },
   "outputs": [],
   "source": [
    "train_docs = \",\".join(\n",
    "    map(str, gig_mapper.query(\"dataset == 'train'\").document_id.tolist())\n",
    ")\n",
    "candidates = \",\".join(map(str, hand_labeled_candidates_df.document_id.tolist()))"
   ]
  },
  {
   "cell_type": "code",
   "execution_count": null,
   "metadata": {
    "ExecuteTime": {
     "end_time": "2021-10-07T22:11:20.655852Z",
     "start_time": "2021-10-07T16:05:51.641658Z"
    }
   },
   "outputs": [],
   "source": [
    "sql = f\"\"\"\n",
    "select candidate_id, document_id, text, lemma, gene1_start, gene1_end, gene2_start, gene2_end\n",
    "from gene_gene inner join (\n",
    "    select sentence_id, document_id\n",
    "    from sentence\n",
    ") as sentence_map\n",
    "on gene_gene.sentence_id = sentence_map.sentence_id\n",
    "where document_id in ({train_docs}) and\n",
    "candidate_id not in ({candidates}) and\n",
    "section = 'title' or section ='abstract'\n",
    "\"\"\"\n",
    "\n",
    "candidate = pd.read_sql(sql, database_str) >> ply.define(\n",
    "    lemma=lambda x: x.lemma.apply(lambda y: y.replace(\"'\", \"\").split(\"|\"))\n",
    ")\n",
    "print(candidate.shape)\n",
    "candidate.head()"
   ]
  },
  {
   "cell_type": "code",
   "execution_count": null,
   "metadata": {
    "ExecuteTime": {
     "end_time": "2021-10-07T22:25:08.669336Z",
     "start_time": "2021-10-07T22:11:20.668313Z"
    }
   },
   "outputs": [],
   "source": [
    "encoded_abstracts = pd.DataFrame.from_records(\n",
    "    encode_lemmas(\n",
    "        candidate,\n",
    "        stopwords,\n",
    "        dict(),\n",
    "        entity_fieldnames=fieldnames,\n",
    "        entity_one=\"GENE1_ENTITY\",\n",
    "        entity_two=\"GENE2_ENTITY\",\n",
    "    )\n",
    ")\n",
    "\n",
    "print(encoded_abstracts.shape)\n",
    "encoded_abstracts.head()"
   ]
  },
  {
   "cell_type": "code",
   "execution_count": null,
   "metadata": {
    "ExecuteTime": {
     "end_time": "2021-10-07T22:25:34.058686Z",
     "start_time": "2021-10-07T22:25:08.670618Z"
    }
   },
   "outputs": [],
   "source": [
    "(\n",
    "    encoded_abstracts\n",
    "    >> ply.call(\n",
    "        \"to_csv\", \"output/train_gg_abstract_encoded_lemmas.tsv\", sep=\"\\t\", index=False\n",
    "    )\n",
    ")"
   ]
  }
 ],
 "metadata": {
  "jupytext": {
   "formats": "ipynb,py:light"
  },
  "kernelspec": {
   "display_name": "Python [conda env:snorkeling_full_text]",
   "language": "python",
   "name": "conda-env-snorkeling_full_text-py"
  },
  "language_info": {
   "codemirror_mode": {
    "name": "ipython",
    "version": 3
   },
   "file_extension": ".py",
   "mimetype": "text/x-python",
   "name": "python",
   "nbconvert_exporter": "python",
   "pygments_lexer": "ipython3",
   "version": "3.7.2"
  },
  "toc": {
   "base_numbering": 1,
   "nav_menu": {},
   "number_sections": true,
   "sideBar": true,
   "skip_h1_title": false,
   "title_cell": "Table of Contents",
   "title_sidebar": "Contents",
   "toc_cell": false,
   "toc_position": {},
   "toc_section_display": true,
   "toc_window_display": false
  }
 },
 "nbformat": 4,
 "nbformat_minor": 2
}
