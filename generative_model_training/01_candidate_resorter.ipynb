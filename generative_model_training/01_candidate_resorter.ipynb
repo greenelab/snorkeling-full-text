{
 "cells": [
  {
   "cell_type": "markdown",
   "metadata": {},
   "source": [
    "# Resort Candidates Based on Document ID"
   ]
  },
  {
   "cell_type": "code",
   "execution_count": null,
   "metadata": {
    "ExecuteTime": {
     "end_time": "2021-11-01T16:16:20.363656Z",
     "start_time": "2021-11-01T16:16:19.271377Z"
    }
   },
   "outputs": [],
   "source": [
    "import warnings\n",
    "\n",
    "import numpy as np\n",
    "import pandas as pd\n",
    "import plydata as ply\n",
    "from sqlalchemy import create_engine\n",
    "\n",
    "warnings.filterwarnings(\"ignore\")"
   ]
  },
  {
   "cell_type": "code",
   "execution_count": null,
   "metadata": {
    "ExecuteTime": {
     "end_time": "2021-11-01T16:16:20.528474Z",
     "start_time": "2021-11-01T16:16:20.365117Z"
    }
   },
   "outputs": [],
   "source": [
    "username = \"danich1\"\n",
    "password = \"snorkel\"\n",
    "dbname = \"pubmed_central_db\"\n",
    "database_str = (\n",
    "    f\"postgresql+psycopg2://{username}:{password}@/{dbname}?host=/var/run/postgresql\"\n",
    ")\n",
    "conn = create_engine(database_str)"
   ]
  },
  {
   "cell_type": "code",
   "execution_count": null,
   "metadata": {
    "ExecuteTime": {
     "end_time": "2021-11-01T16:16:20.533795Z",
     "start_time": "2021-11-01T16:16:20.529889Z"
    }
   },
   "outputs": [],
   "source": [
    "def resample_candidates(sql: str, L_dev: pd.DataFrame) -> pd.DataFrame:\n",
    "    candidate_doc_df = pd.read_sql(sql, database_str)\n",
    "    filtered_candidate_id = (\n",
    "        candidate_doc_df\n",
    "        >> ply.query(f\"document_id in {list(L_dev.document_id.astype(int).unique())}\")\n",
    "        >> ply.pull(\"candidate_id\")\n",
    "    )\n",
    "\n",
    "    np.random.seed(100)\n",
    "    sorted_train_df = (\n",
    "        candidate_doc_df\n",
    "        >> ply.query(f\"candidate_id not in {filtered_candidate_id}\")\n",
    "        >> ply.select(\"document_id\")\n",
    "        >> ply.distinct()\n",
    "        >> ply.define(\n",
    "            dataset=lambda x: np.random.choice(\n",
    "                [\"train\", \"tune\", \"test\"], x.shape[0], p=[0.7, 0.2, 0.1]\n",
    "            )\n",
    "        )\n",
    "    )\n",
    "\n",
    "    return sorted_train_df"
   ]
  },
  {
   "cell_type": "markdown",
   "metadata": {},
   "source": [
    "## DaG"
   ]
  },
  {
   "cell_type": "code",
   "execution_count": null,
   "metadata": {
    "ExecuteTime": {
     "end_time": "2021-11-01T16:35:24.323009Z",
     "start_time": "2021-11-01T16:28:34.353143Z"
    }
   },
   "outputs": [],
   "source": [
    "# Grab the document ids for resampling\n",
    "sql = \"\"\"\n",
    "select dg_candidates.sentence_id, document_id, dg_candidates.candidate_id from sentence\n",
    "inner join (\n",
    "  select candidate.candidate_id, disease_gene.sentence_id from disease_gene\n",
    "  inner join candidate on candidate.candidate_id=disease_gene.candidate_id\n",
    "  ) as dg_candidates\n",
    "on sentence.sentence_id = dg_candidates.sentence_id\n",
    "\"\"\"\n",
    "candidate_doc_df = pd.read_sql(sql, database_str)\n",
    "candidate_doc_df.head()"
   ]
  },
  {
   "cell_type": "code",
   "execution_count": null,
   "metadata": {
    "ExecuteTime": {
     "end_time": "2021-11-01T16:35:24.428960Z",
     "start_time": "2021-11-01T16:35:24.330394Z"
    }
   },
   "outputs": [],
   "source": [
    "L_dev = pd.read_csv(\n",
    "    \"../label_candidates/output/dg_dev_test_candidates_resampling.tsv\", sep=\"\\t\"\n",
    ") >> ply.query(\"split==1\")\n",
    "print(L_dev.shape)\n",
    "L_dev.head().T"
   ]
  },
  {
   "cell_type": "code",
   "execution_count": null,
   "metadata": {
    "ExecuteTime": {
     "end_time": "2021-11-01T16:40:24.297288Z",
     "start_time": "2021-11-01T16:35:24.430274Z"
    }
   },
   "outputs": [],
   "source": [
    "sorted_train_df = resample_candidates(sql, L_dev)\n",
    "sorted_train_df.to_csv(\"output/DaG/dag_dataset_mapper.tsv\", sep=\"\\t\", index=False)\n",
    "sorted_train_df.head()"
   ]
  },
  {
   "cell_type": "markdown",
   "metadata": {},
   "source": [
    "## CtD"
   ]
  },
  {
   "cell_type": "code",
   "execution_count": null,
   "metadata": {
    "ExecuteTime": {
     "end_time": "2021-11-01T16:22:45.135843Z",
     "start_time": "2021-11-01T16:22:45.132384Z"
    }
   },
   "outputs": [],
   "source": [
    "# Grab the document ids for resampling\n",
    "sql = \"\"\"\n",
    "select cd_candidates.sentence_id, document_id, cd_candidates.candidate_id\n",
    "from sentence\n",
    "inner join (\n",
    "  select candidate.candidate_id, compound_disease.sentence_id from compound_disease\n",
    "  inner join candidate on candidate.candidate_id=compound_disease.candidate_id\n",
    "  ) as cd_candidates\n",
    "on sentence.sentence_id = cd_candidates.sentence_id\n",
    "\"\"\""
   ]
  },
  {
   "cell_type": "code",
   "execution_count": null,
   "metadata": {
    "ExecuteTime": {
     "end_time": "2021-11-01T16:22:45.298169Z",
     "start_time": "2021-11-01T16:22:45.139574Z"
    }
   },
   "outputs": [],
   "source": [
    "L_dev = pd.read_csv(\n",
    "    \"../label_candidates/output/cd_dev_test_candidates_resampling.tsv\", sep=\"\\t\"\n",
    ") >> ply.query(\"split==10\")\n",
    "print(L_dev.shape)\n",
    "L_dev.head().T"
   ]
  },
  {
   "cell_type": "code",
   "execution_count": null,
   "metadata": {
    "ExecuteTime": {
     "end_time": "2021-11-01T16:28:34.349014Z",
     "start_time": "2021-11-01T16:22:45.299733Z"
    }
   },
   "outputs": [],
   "source": [
    "sorted_train_df = resample_candidates(sql, L_dev)\n",
    "sorted_train_df.to_csv(\"output/CtD/ctd_dataset_mapper.tsv\", sep=\"\\t\", index=False)\n",
    "sorted_train_df.head()"
   ]
  },
  {
   "cell_type": "markdown",
   "metadata": {},
   "source": [
    "## CbG"
   ]
  },
  {
   "cell_type": "code",
   "execution_count": null,
   "metadata": {
    "ExecuteTime": {
     "end_time": "2021-11-01T16:16:20.600636Z",
     "start_time": "2021-11-01T16:16:20.535081Z"
    }
   },
   "outputs": [],
   "source": [
    "# Grab the document ids for resampling\n",
    "sql = \"\"\"\n",
    "select cg_candidates.sentence_id, document_id, cg_candidates.candidate_id from sentence\n",
    "inner join (\n",
    "  select candidate.candidate_id, compound_gene.sentence_id from compound_gene\n",
    "  inner join candidate on candidate.candidate_id=compound_gene.candidate_id\n",
    "  ) as cg_candidates\n",
    "on sentence.sentence_id = cg_candidates.sentence_id\n",
    "\"\"\""
   ]
  },
  {
   "cell_type": "code",
   "execution_count": null,
   "metadata": {
    "ExecuteTime": {
     "end_time": "2021-11-01T16:16:20.757503Z",
     "start_time": "2021-11-01T16:16:20.601848Z"
    }
   },
   "outputs": [],
   "source": [
    "L_dev = pd.read_csv(\n",
    "    \"../label_candidates/output/cg_dev_test_candidates_resampling.tsv\", sep=\"\\t\"\n",
    ") >> ply.query(\"split==7\")\n",
    "print(L_dev.shape)\n",
    "L_dev.head().T"
   ]
  },
  {
   "cell_type": "code",
   "execution_count": null,
   "metadata": {
    "ExecuteTime": {
     "end_time": "2021-11-01T16:22:45.127876Z",
     "start_time": "2021-11-01T16:16:20.758888Z"
    }
   },
   "outputs": [],
   "source": [
    "sorted_train_df = resample_candidates(sql, L_dev)\n",
    "sorted_train_df.to_csv(\"output/CbG/cbg_dataset_mapper.tsv\", sep=\"\\t\", index=False)\n",
    "sorted_train_df.head()"
   ]
  },
  {
   "cell_type": "markdown",
   "metadata": {},
   "source": [
    "## GiG"
   ]
  },
  {
   "cell_type": "code",
   "execution_count": null,
   "metadata": {
    "ExecuteTime": {
     "end_time": "2021-11-01T16:40:24.374068Z",
     "start_time": "2021-11-01T16:40:24.301880Z"
    }
   },
   "outputs": [],
   "source": [
    "L_dev = pd.read_csv(\n",
    "    \"../label_candidates/output/gg_dev_test_candidates_resampling.tsv\", sep=\"\\t\"\n",
    ").query(\"split==4\")\n",
    "print(L_dev.shape)\n",
    "L_dev.head().T"
   ]
  },
  {
   "cell_type": "code",
   "execution_count": null,
   "metadata": {
    "ExecuteTime": {
     "end_time": "2021-11-01T16:40:24.387677Z",
     "start_time": "2021-11-01T16:40:24.377161Z"
    }
   },
   "outputs": [],
   "source": [
    "# Grab the document ids for resampling\n",
    "sql = \"\"\"\n",
    "select gg_candidates.sentence_id, document_id, gg_candidates.candidate_id from sentence\n",
    "inner join (\n",
    "  select candidate.candidate_id, gene_gene.sentence_id from gene_gene\n",
    "  inner join candidate on candidate.candidate_id=gene_gene.candidate_id\n",
    "  ) as gg_candidates\n",
    "on sentence.sentence_id = gg_candidates.sentence_id\n",
    "\"\"\""
   ]
  },
  {
   "cell_type": "code",
   "execution_count": null,
   "metadata": {
    "ExecuteTime": {
     "start_time": "2021-11-01T16:16:17.963Z"
    }
   },
   "outputs": [],
   "source": [
    "sorted_train_df = resample_candidates(sql, L_dev)\n",
    "sorted_train_df.to_csv(\"output/GiG/gig_dataset_mapper.tsv\", sep=\"\\t\", index=False)\n",
    "sorted_train_df.head()"
   ]
  }
 ],
 "metadata": {
  "jupytext": {
   "formats": "ipynb,py:light"
  },
  "kernelspec": {
   "display_name": "Python [conda env:snorkeling_full_text]",
   "language": "python",
   "name": "conda-env-snorkeling_full_text-py"
  },
  "language_info": {
   "codemirror_mode": {
    "name": "ipython",
    "version": 3
   },
   "file_extension": ".py",
   "mimetype": "text/x-python",
   "name": "python",
   "nbconvert_exporter": "python",
   "pygments_lexer": "ipython3",
   "version": "3.7.2"
  },
  "toc": {
   "base_numbering": 1,
   "nav_menu": {},
   "number_sections": true,
   "sideBar": true,
   "skip_h1_title": false,
   "title_cell": "Table of Contents",
   "title_sidebar": "Contents",
   "toc_cell": false,
   "toc_position": {},
   "toc_section_display": true,
   "toc_window_display": false
  }
 },
 "nbformat": 4,
 "nbformat_minor": 2
}
