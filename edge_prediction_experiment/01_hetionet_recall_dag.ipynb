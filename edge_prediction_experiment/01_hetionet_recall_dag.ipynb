{
 "cells": [
  {
   "cell_type": "markdown",
   "metadata": {},
   "source": [
    "# Measure Disease associations Gene Edge Recall"
   ]
  },
  {
   "cell_type": "markdown",
   "metadata": {},
   "source": [
    "This notebook is designed to estimate how many hetionet edges can be recalled from this weakly supervised approach.\n",
    "After the discriminator model has been trained, the last step is to predict whether every candidate sentence mentions a disease associates gene relationship.\n",
    "Following the predictions, the next step is to group each candidate sentence based on each candidate pair and take the max value of each group.\n",
    "This max value represents the probability that an edge should or does exist.\n",
    "Lastly, once each candidate has been scored I use the precision recall curve to estimate how many edges can be recovered from this method."
   ]
  },
  {
   "cell_type": "code",
   "execution_count": 1,
   "metadata": {
    "ExecuteTime": {
     "end_time": "2022-03-01T15:45:08.339911Z",
     "start_time": "2022-03-01T15:42:38.021937Z"
    }
   },
   "outputs": [],
   "source": [
    "%load_ext autoreload\n",
    "%autoreload 2\n",
    "%matplotlib inline\n",
    "\n",
    "import math\n",
    "from pathlib import Path\n",
    "\n",
    "import numpy as np\n",
    "import pandas as pd\n",
    "import plotnine as p9\n",
    "import plydata as ply\n",
    "import plydata.tidy as ply_tdy\n",
    "from sklearn.metrics import precision_recall_curve, roc_curve, auc\n",
    "from sqlalchemy import create_engine"
   ]
  },
  {
   "cell_type": "code",
   "execution_count": 2,
   "metadata": {
    "ExecuteTime": {
     "end_time": "2022-03-01T15:45:08.833012Z",
     "start_time": "2022-03-01T15:45:08.341874Z"
    }
   },
   "outputs": [],
   "source": [
    "# Set up the environment\n",
    "username = \"danich1\"\n",
    "password = \"snorkel\"\n",
    "dbname = \"pubmed_central_db\"\n",
    "\n",
    "# Path subject to change for different os\n",
    "database_str = (\n",
    "    f\"postgresql+psycopg2://{username}:{password}@/{dbname}?host=/var/run/postgresql\"\n",
    ")\n",
    "conn = create_engine(database_str)"
   ]
  },
  {
   "cell_type": "code",
   "execution_count": 3,
   "metadata": {
    "ExecuteTime": {
     "end_time": "2022-03-01T15:45:24.954724Z",
     "start_time": "2022-03-01T15:45:08.838683Z"
    }
   },
   "outputs": [
    {
     "name": "stderr",
     "output_type": "stream",
     "text": [
      "/home/danich1/anaconda3/envs/snorkeling_full_text/lib/python3.7/site-packages/IPython/core/interactiveshell.py:3147: DtypeWarning: Columns (4) have mixed types.Specify dtype option on import or set low_memory=False.\n"
     ]
    },
    {
     "data": {
      "text/html": [
       "<div>\n",
       "<style scoped>\n",
       "    .dataframe tbody tr th:only-of-type {\n",
       "        vertical-align: middle;\n",
       "    }\n",
       "\n",
       "    .dataframe tbody tr th {\n",
       "        vertical-align: top;\n",
       "    }\n",
       "\n",
       "    .dataframe thead th {\n",
       "        text-align: right;\n",
       "    }\n",
       "</style>\n",
       "<table border=\"1\" class=\"dataframe\">\n",
       "  <thead>\n",
       "    <tr style=\"text-align: right;\">\n",
       "      <th></th>\n",
       "      <th>entrez_gene_id</th>\n",
       "      <th>gene_symbol</th>\n",
       "      <th>doid_id</th>\n",
       "      <th>doid_name</th>\n",
       "      <th>sources</th>\n",
       "      <th>hetionet</th>\n",
       "      <th>n_sentences</th>\n",
       "      <th>has_sentence</th>\n",
       "      <th>partition_rank</th>\n",
       "      <th>split</th>\n",
       "    </tr>\n",
       "  </thead>\n",
       "  <tbody>\n",
       "    <tr>\n",
       "      <th>0</th>\n",
       "      <td>1</td>\n",
       "      <td>A1BG</td>\n",
       "      <td>DOID:2531</td>\n",
       "      <td>hematologic cancer</td>\n",
       "      <td>NaN</td>\n",
       "      <td>0</td>\n",
       "      <td>8</td>\n",
       "      <td>1</td>\n",
       "      <td>0.85860</td>\n",
       "      <td>1</td>\n",
       "    </tr>\n",
       "    <tr>\n",
       "      <th>1</th>\n",
       "      <td>1</td>\n",
       "      <td>A1BG</td>\n",
       "      <td>DOID:1319</td>\n",
       "      <td>brain cancer</td>\n",
       "      <td>NaN</td>\n",
       "      <td>0</td>\n",
       "      <td>0</td>\n",
       "      <td>0</td>\n",
       "      <td>0.36785</td>\n",
       "      <td>0</td>\n",
       "    </tr>\n",
       "    <tr>\n",
       "      <th>2</th>\n",
       "      <td>1</td>\n",
       "      <td>A1BG</td>\n",
       "      <td>DOID:1324</td>\n",
       "      <td>lung cancer</td>\n",
       "      <td>NaN</td>\n",
       "      <td>0</td>\n",
       "      <td>2</td>\n",
       "      <td>1</td>\n",
       "      <td>0.15465</td>\n",
       "      <td>0</td>\n",
       "    </tr>\n",
       "    <tr>\n",
       "      <th>3</th>\n",
       "      <td>1</td>\n",
       "      <td>A1BG</td>\n",
       "      <td>DOID:263</td>\n",
       "      <td>kidney cancer</td>\n",
       "      <td>NaN</td>\n",
       "      <td>0</td>\n",
       "      <td>0</td>\n",
       "      <td>0</td>\n",
       "      <td>0.87328</td>\n",
       "      <td>1</td>\n",
       "    </tr>\n",
       "    <tr>\n",
       "      <th>4</th>\n",
       "      <td>1</td>\n",
       "      <td>A1BG</td>\n",
       "      <td>DOID:1793</td>\n",
       "      <td>pancreatic cancer</td>\n",
       "      <td>NaN</td>\n",
       "      <td>0</td>\n",
       "      <td>10</td>\n",
       "      <td>1</td>\n",
       "      <td>0.17837</td>\n",
       "      <td>0</td>\n",
       "    </tr>\n",
       "  </tbody>\n",
       "</table>\n",
       "</div>"
      ],
      "text/plain": [
       "   entrez_gene_id gene_symbol    doid_id           doid_name sources  \\\n",
       "0               1        A1BG  DOID:2531  hematologic cancer     NaN   \n",
       "1               1        A1BG  DOID:1319        brain cancer     NaN   \n",
       "2               1        A1BG  DOID:1324         lung cancer     NaN   \n",
       "3               1        A1BG   DOID:263       kidney cancer     NaN   \n",
       "4               1        A1BG  DOID:1793   pancreatic cancer     NaN   \n",
       "\n",
       "   hetionet  n_sentences  has_sentence  partition_rank  split  \n",
       "0         0            8             1         0.85860      1  \n",
       "1         0            0             0         0.36785      0  \n",
       "2         0            2             1         0.15465      0  \n",
       "3         0            0             0         0.87328      1  \n",
       "4         0           10             1         0.17837      0  "
      ]
     },
     "execution_count": 3,
     "metadata": {},
     "output_type": "execute_result"
    }
   ],
   "source": [
    "hetionet_dag_map_df = pd.read_csv(\n",
    "    Path(\"../snorkeling_helper/label_functions/knowledge_bases\")\n",
    "    / \"disease_associates_gene.tsv.xz\",\n",
    "    sep=\"\\t\",\n",
    ")\n",
    "hetionet_dag_map_df >> ply.slice_rows(5)"
   ]
  },
  {
   "cell_type": "code",
   "execution_count": 4,
   "metadata": {
    "ExecuteTime": {
     "end_time": "2022-03-01T15:45:30.756604Z",
     "start_time": "2022-03-01T15:45:24.959226Z"
    }
   },
   "outputs": [
    {
     "data": {
      "text/html": [
       "<div>\n",
       "<style scoped>\n",
       "    .dataframe tbody tr th:only-of-type {\n",
       "        vertical-align: middle;\n",
       "    }\n",
       "\n",
       "    .dataframe tbody tr th {\n",
       "        vertical-align: top;\n",
       "    }\n",
       "\n",
       "    .dataframe thead th {\n",
       "        text-align: right;\n",
       "    }\n",
       "</style>\n",
       "<table border=\"1\" class=\"dataframe\">\n",
       "  <thead>\n",
       "    <tr style=\"text-align: right;\">\n",
       "      <th></th>\n",
       "      <th>pred</th>\n",
       "      <th>candidate_id</th>\n",
       "    </tr>\n",
       "  </thead>\n",
       "  <tbody>\n",
       "    <tr>\n",
       "      <th>0</th>\n",
       "      <td>0.706093</td>\n",
       "      <td>121</td>\n",
       "    </tr>\n",
       "    <tr>\n",
       "      <th>1</th>\n",
       "      <td>0.707084</td>\n",
       "      <td>122</td>\n",
       "    </tr>\n",
       "    <tr>\n",
       "      <th>2</th>\n",
       "      <td>0.658592</td>\n",
       "      <td>124</td>\n",
       "    </tr>\n",
       "    <tr>\n",
       "      <th>3</th>\n",
       "      <td>0.798254</td>\n",
       "      <td>148</td>\n",
       "    </tr>\n",
       "    <tr>\n",
       "      <th>4</th>\n",
       "      <td>0.645717</td>\n",
       "      <td>190</td>\n",
       "    </tr>\n",
       "  </tbody>\n",
       "</table>\n",
       "</div>"
      ],
      "text/plain": [
       "       pred  candidate_id\n",
       "0  0.706093           121\n",
       "1  0.707084           122\n",
       "2  0.658592           124\n",
       "3  0.798254           148\n",
       "4  0.645717           190"
      ]
     },
     "execution_count": 4,
     "metadata": {},
     "output_type": "execute_result"
    }
   ],
   "source": [
    "sentence_prediction_df = pd.read_csv(\n",
    "    \"output/all_predicted_dag_sentences.tsv\", sep=\"\\t\"\n",
    ") >> ply.arrange(\"candidate_id\")\n",
    "sentence_prediction_df >> ply.slice_rows(5)"
   ]
  },
  {
   "cell_type": "code",
   "execution_count": 5,
   "metadata": {
    "ExecuteTime": {
     "end_time": "2022-03-01T15:55:29.404307Z",
     "start_time": "2022-03-01T15:45:30.761484Z"
    }
   },
   "outputs": [
    {
     "data": {
      "text/html": [
       "<div>\n",
       "<style scoped>\n",
       "    .dataframe tbody tr th:only-of-type {\n",
       "        vertical-align: middle;\n",
       "    }\n",
       "\n",
       "    .dataframe tbody tr th {\n",
       "        vertical-align: top;\n",
       "    }\n",
       "\n",
       "    .dataframe thead th {\n",
       "        text-align: right;\n",
       "    }\n",
       "</style>\n",
       "<table border=\"1\" class=\"dataframe\">\n",
       "  <thead>\n",
       "    <tr style=\"text-align: right;\">\n",
       "      <th></th>\n",
       "      <th>candidate_id</th>\n",
       "      <th>doid_id</th>\n",
       "      <th>entrez_gene_id</th>\n",
       "    </tr>\n",
       "  </thead>\n",
       "  <tbody>\n",
       "    <tr>\n",
       "      <th>0</th>\n",
       "      <td>121</td>\n",
       "      <td>DOID:3070</td>\n",
       "      <td>1434</td>\n",
       "    </tr>\n",
       "    <tr>\n",
       "      <th>1</th>\n",
       "      <td>122</td>\n",
       "      <td>DOID:3070</td>\n",
       "      <td>1434</td>\n",
       "    </tr>\n",
       "    <tr>\n",
       "      <th>2</th>\n",
       "      <td>124</td>\n",
       "      <td>DOID:3070</td>\n",
       "      <td>1434</td>\n",
       "    </tr>\n",
       "    <tr>\n",
       "      <th>3</th>\n",
       "      <td>148</td>\n",
       "      <td>DOID:2355</td>\n",
       "      <td>4524</td>\n",
       "    </tr>\n",
       "    <tr>\n",
       "      <th>4</th>\n",
       "      <td>190</td>\n",
       "      <td>DOID:10763</td>\n",
       "      <td>173</td>\n",
       "    </tr>\n",
       "  </tbody>\n",
       "</table>\n",
       "</div>"
      ],
      "text/plain": [
       "   candidate_id     doid_id  entrez_gene_id\n",
       "0           121   DOID:3070            1434\n",
       "1           122   DOID:3070            1434\n",
       "2           124   DOID:3070            1434\n",
       "3           148   DOID:2355            4524\n",
       "4           190  DOID:10763             173"
      ]
     },
     "execution_count": 5,
     "metadata": {},
     "output_type": "execute_result"
    }
   ],
   "source": [
    "sql = \"\"\"\n",
    "select candidate_id, disease_cid as doid_id, gene_cid as entrez_gene_id\n",
    "from disease_gene inner join (\n",
    "    select sentence_id, document_id\n",
    "    from sentence\n",
    ") as sentence_map\n",
    "on disease_gene.sentence_id = sentence_map.sentence_id\n",
    "where section = 'title' or section ='abstract'\n",
    "\"\"\"\n",
    "candidate_to_sentence_map_df = (\n",
    "    pd.read_sql(sql, conn)\n",
    "    >> ply_tdy.separate_rows(\"entrez_gene_id\", sep=\";\")\n",
    "    >> ply.call(\".astype\", {\"entrez_gene_id\": int})\n",
    ")\n",
    "candidate_to_sentence_map_df >> ply.slice_rows(5)"
   ]
  },
  {
   "cell_type": "markdown",
   "metadata": {},
   "source": [
    "# Merge Predictions with Candidates and Hetionet Map"
   ]
  },
  {
   "cell_type": "code",
   "execution_count": 6,
   "metadata": {
    "ExecuteTime": {
     "end_time": "2022-03-01T15:55:32.860748Z",
     "start_time": "2022-03-01T15:55:29.405625Z"
    }
   },
   "outputs": [
    {
     "data": {
      "text/html": [
       "<div>\n",
       "<style scoped>\n",
       "    .dataframe tbody tr th:only-of-type {\n",
       "        vertical-align: middle;\n",
       "    }\n",
       "\n",
       "    .dataframe tbody tr th {\n",
       "        vertical-align: top;\n",
       "    }\n",
       "\n",
       "    .dataframe thead th {\n",
       "        text-align: right;\n",
       "    }\n",
       "</style>\n",
       "<table border=\"1\" class=\"dataframe\">\n",
       "  <thead>\n",
       "    <tr style=\"text-align: right;\">\n",
       "      <th></th>\n",
       "      <th>pred</th>\n",
       "      <th>candidate_id</th>\n",
       "      <th>doid_id</th>\n",
       "      <th>entrez_gene_id</th>\n",
       "      <th>gene_symbol</th>\n",
       "      <th>doid_name</th>\n",
       "      <th>hetionet</th>\n",
       "      <th>has_sentence</th>\n",
       "      <th>partition_rank</th>\n",
       "      <th>split</th>\n",
       "    </tr>\n",
       "  </thead>\n",
       "  <tbody>\n",
       "    <tr>\n",
       "      <th>0</th>\n",
       "      <td>0.706093</td>\n",
       "      <td>121</td>\n",
       "      <td>DOID:3070</td>\n",
       "      <td>1434</td>\n",
       "      <td>CSE1L</td>\n",
       "      <td>malignant glioma</td>\n",
       "      <td>0</td>\n",
       "      <td>1</td>\n",
       "      <td>0.73874</td>\n",
       "      <td>1</td>\n",
       "    </tr>\n",
       "    <tr>\n",
       "      <th>1</th>\n",
       "      <td>0.707084</td>\n",
       "      <td>122</td>\n",
       "      <td>DOID:3070</td>\n",
       "      <td>1434</td>\n",
       "      <td>CSE1L</td>\n",
       "      <td>malignant glioma</td>\n",
       "      <td>0</td>\n",
       "      <td>1</td>\n",
       "      <td>0.73874</td>\n",
       "      <td>1</td>\n",
       "    </tr>\n",
       "    <tr>\n",
       "      <th>2</th>\n",
       "      <td>0.658592</td>\n",
       "      <td>124</td>\n",
       "      <td>DOID:3070</td>\n",
       "      <td>1434</td>\n",
       "      <td>CSE1L</td>\n",
       "      <td>malignant glioma</td>\n",
       "      <td>0</td>\n",
       "      <td>1</td>\n",
       "      <td>0.73874</td>\n",
       "      <td>1</td>\n",
       "    </tr>\n",
       "    <tr>\n",
       "      <th>3</th>\n",
       "      <td>0.726981</td>\n",
       "      <td>248507</td>\n",
       "      <td>DOID:3070</td>\n",
       "      <td>1434</td>\n",
       "      <td>CSE1L</td>\n",
       "      <td>malignant glioma</td>\n",
       "      <td>0</td>\n",
       "      <td>1</td>\n",
       "      <td>0.73874</td>\n",
       "      <td>1</td>\n",
       "    </tr>\n",
       "    <tr>\n",
       "      <th>4</th>\n",
       "      <td>0.749319</td>\n",
       "      <td>511705</td>\n",
       "      <td>DOID:3070</td>\n",
       "      <td>1434</td>\n",
       "      <td>CSE1L</td>\n",
       "      <td>malignant glioma</td>\n",
       "      <td>0</td>\n",
       "      <td>1</td>\n",
       "      <td>0.73874</td>\n",
       "      <td>1</td>\n",
       "    </tr>\n",
       "  </tbody>\n",
       "</table>\n",
       "</div>"
      ],
      "text/plain": [
       "       pred  candidate_id    doid_id  entrez_gene_id gene_symbol  \\\n",
       "0  0.706093           121  DOID:3070            1434       CSE1L   \n",
       "1  0.707084           122  DOID:3070            1434       CSE1L   \n",
       "2  0.658592           124  DOID:3070            1434       CSE1L   \n",
       "3  0.726981        248507  DOID:3070            1434       CSE1L   \n",
       "4  0.749319        511705  DOID:3070            1434       CSE1L   \n",
       "\n",
       "          doid_name  hetionet  has_sentence  partition_rank  split  \n",
       "0  malignant glioma         0             1         0.73874      1  \n",
       "1  malignant glioma         0             1         0.73874      1  \n",
       "2  malignant glioma         0             1         0.73874      1  \n",
       "3  malignant glioma         0             1         0.73874      1  \n",
       "4  malignant glioma         0             1         0.73874      1  "
      ]
     },
     "execution_count": 6,
     "metadata": {},
     "output_type": "execute_result"
    }
   ],
   "source": [
    "all_dag_predictions_df = (\n",
    "    sentence_prediction_df\n",
    "    >> ply.inner_join(candidate_to_sentence_map_df, on=\"candidate_id\")\n",
    "    >> ply.inner_join(\n",
    "        hetionet_dag_map_df >> ply.select(\"-sources\", \"-n_sentences\"),\n",
    "        on=[\"doid_id\", \"entrez_gene_id\"],\n",
    "    )\n",
    ")\n",
    "all_dag_predictions_df >> ply.slice_rows(5)"
   ]
  },
  {
   "cell_type": "code",
   "execution_count": 7,
   "metadata": {
    "ExecuteTime": {
     "end_time": "2022-03-01T16:00:14.728464Z",
     "start_time": "2022-03-01T15:55:32.861889Z"
    }
   },
   "outputs": [
    {
     "data": {
      "text/html": [
       "<div>\n",
       "<style scoped>\n",
       "    .dataframe tbody tr th:only-of-type {\n",
       "        vertical-align: middle;\n",
       "    }\n",
       "\n",
       "    .dataframe tbody tr th {\n",
       "        vertical-align: top;\n",
       "    }\n",
       "\n",
       "    .dataframe thead th {\n",
       "        text-align: right;\n",
       "    }\n",
       "</style>\n",
       "<table border=\"1\" class=\"dataframe\">\n",
       "  <thead>\n",
       "    <tr style=\"text-align: right;\">\n",
       "      <th></th>\n",
       "      <th>doid_id</th>\n",
       "      <th>entrez_gene_id</th>\n",
       "      <th>gene_symbol</th>\n",
       "      <th>doid_name</th>\n",
       "      <th>hetionet</th>\n",
       "      <th>has_sentence</th>\n",
       "      <th>partition_rank</th>\n",
       "      <th>split</th>\n",
       "      <th>metric</th>\n",
       "      <th>score</th>\n",
       "    </tr>\n",
       "  </thead>\n",
       "  <tbody>\n",
       "    <tr>\n",
       "      <th>0</th>\n",
       "      <td>DOID:3070</td>\n",
       "      <td>1434</td>\n",
       "      <td>CSE1L</td>\n",
       "      <td>malignant glioma</td>\n",
       "      <td>0</td>\n",
       "      <td>1</td>\n",
       "      <td>0.738740</td>\n",
       "      <td>1</td>\n",
       "      <td>pred_max</td>\n",
       "      <td>0.954886</td>\n",
       "    </tr>\n",
       "    <tr>\n",
       "      <th>1</th>\n",
       "      <td>DOID:2355</td>\n",
       "      <td>4524</td>\n",
       "      <td>MTHFR</td>\n",
       "      <td>anemia</td>\n",
       "      <td>1</td>\n",
       "      <td>1</td>\n",
       "      <td>0.398270</td>\n",
       "      <td>0</td>\n",
       "      <td>pred_max</td>\n",
       "      <td>0.878160</td>\n",
       "    </tr>\n",
       "    <tr>\n",
       "      <th>2</th>\n",
       "      <td>DOID:10763</td>\n",
       "      <td>173</td>\n",
       "      <td>AFM</td>\n",
       "      <td>hypertension</td>\n",
       "      <td>0</td>\n",
       "      <td>1</td>\n",
       "      <td>0.759880</td>\n",
       "      <td>1</td>\n",
       "      <td>pred_max</td>\n",
       "      <td>0.926797</td>\n",
       "    </tr>\n",
       "    <tr>\n",
       "      <th>3</th>\n",
       "      <td>DOID:8893</td>\n",
       "      <td>3605</td>\n",
       "      <td>IL17A</td>\n",
       "      <td>psoriasis</td>\n",
       "      <td>1</td>\n",
       "      <td>1</td>\n",
       "      <td>0.104070</td>\n",
       "      <td>0</td>\n",
       "      <td>pred_max</td>\n",
       "      <td>0.916013</td>\n",
       "    </tr>\n",
       "    <tr>\n",
       "      <th>4</th>\n",
       "      <td>DOID:2377</td>\n",
       "      <td>55768</td>\n",
       "      <td>NGLY1</td>\n",
       "      <td>multiple sclerosis</td>\n",
       "      <td>0</td>\n",
       "      <td>1</td>\n",
       "      <td>0.723770</td>\n",
       "      <td>1</td>\n",
       "      <td>pred_max</td>\n",
       "      <td>0.544663</td>\n",
       "    </tr>\n",
       "    <tr>\n",
       "      <th>5</th>\n",
       "      <td>DOID:1612</td>\n",
       "      <td>1956</td>\n",
       "      <td>EGFR</td>\n",
       "      <td>breast cancer</td>\n",
       "      <td>1</td>\n",
       "      <td>1</td>\n",
       "      <td>0.062298</td>\n",
       "      <td>0</td>\n",
       "      <td>pred_max</td>\n",
       "      <td>0.967520</td>\n",
       "    </tr>\n",
       "    <tr>\n",
       "      <th>6</th>\n",
       "      <td>DOID:1612</td>\n",
       "      <td>5728</td>\n",
       "      <td>PTEN</td>\n",
       "      <td>breast cancer</td>\n",
       "      <td>1</td>\n",
       "      <td>1</td>\n",
       "      <td>0.793100</td>\n",
       "      <td>1</td>\n",
       "      <td>pred_max</td>\n",
       "      <td>0.957922</td>\n",
       "    </tr>\n",
       "    <tr>\n",
       "      <th>7</th>\n",
       "      <td>DOID:1612</td>\n",
       "      <td>5293</td>\n",
       "      <td>PIK3CD</td>\n",
       "      <td>breast cancer</td>\n",
       "      <td>1</td>\n",
       "      <td>1</td>\n",
       "      <td>0.538700</td>\n",
       "      <td>0</td>\n",
       "      <td>pred_max</td>\n",
       "      <td>0.864579</td>\n",
       "    </tr>\n",
       "    <tr>\n",
       "      <th>8</th>\n",
       "      <td>DOID:11054</td>\n",
       "      <td>2261</td>\n",
       "      <td>FGFR3</td>\n",
       "      <td>urinary bladder cancer</td>\n",
       "      <td>1</td>\n",
       "      <td>1</td>\n",
       "      <td>0.095635</td>\n",
       "      <td>0</td>\n",
       "      <td>pred_max</td>\n",
       "      <td>0.928092</td>\n",
       "    </tr>\n",
       "    <tr>\n",
       "      <th>9</th>\n",
       "      <td>DOID:7148</td>\n",
       "      <td>3569</td>\n",
       "      <td>IL6</td>\n",
       "      <td>rheumatoid arthritis</td>\n",
       "      <td>1</td>\n",
       "      <td>1</td>\n",
       "      <td>0.424320</td>\n",
       "      <td>0</td>\n",
       "      <td>pred_max</td>\n",
       "      <td>0.934345</td>\n",
       "    </tr>\n",
       "  </tbody>\n",
       "</table>\n",
       "</div>"
      ],
      "text/plain": [
       "      doid_id  entrez_gene_id gene_symbol               doid_name  hetionet  \\\n",
       "0   DOID:3070            1434       CSE1L        malignant glioma         0   \n",
       "1   DOID:2355            4524       MTHFR                  anemia         1   \n",
       "2  DOID:10763             173         AFM            hypertension         0   \n",
       "3   DOID:8893            3605       IL17A               psoriasis         1   \n",
       "4   DOID:2377           55768       NGLY1      multiple sclerosis         0   \n",
       "5   DOID:1612            1956        EGFR           breast cancer         1   \n",
       "6   DOID:1612            5728        PTEN           breast cancer         1   \n",
       "7   DOID:1612            5293      PIK3CD           breast cancer         1   \n",
       "8  DOID:11054            2261       FGFR3  urinary bladder cancer         1   \n",
       "9   DOID:7148            3569         IL6    rheumatoid arthritis         1   \n",
       "\n",
       "   has_sentence  partition_rank  split    metric     score  \n",
       "0             1        0.738740      1  pred_max  0.954886  \n",
       "1             1        0.398270      0  pred_max  0.878160  \n",
       "2             1        0.759880      1  pred_max  0.926797  \n",
       "3             1        0.104070      0  pred_max  0.916013  \n",
       "4             1        0.723770      1  pred_max  0.544663  \n",
       "5             1        0.062298      0  pred_max  0.967520  \n",
       "6             1        0.793100      1  pred_max  0.957922  \n",
       "7             1        0.538700      0  pred_max  0.864579  \n",
       "8             1        0.095635      0  pred_max  0.928092  \n",
       "9             1        0.424320      0  pred_max  0.934345  "
      ]
     },
     "execution_count": 7,
     "metadata": {},
     "output_type": "execute_result"
    }
   ],
   "source": [
    "all_dag_df = (\n",
    "    all_dag_predictions_df\n",
    "    >> ply.group_by(\"doid_id\", \"entrez_gene_id\")\n",
    "    >> ply.define(\n",
    "        pred_max=\"max(pred)\", pred_mean=\"mean(pred)\", pred_median=\"median(pred)\"\n",
    "    )\n",
    "    >> ply.select(\"-pred\", \"-candidate_id\")\n",
    "    >> ply.distinct()\n",
    "    >> ply.ungroup()\n",
    "    >> ply_tdy.gather(\"metric\", \"score\", [\"pred_max\", \"pred_mean\", \"pred_median\"])\n",
    ")\n",
    "all_dag_df >> ply.slice_rows(10)"
   ]
  },
  {
   "cell_type": "code",
   "execution_count": 8,
   "metadata": {
    "ExecuteTime": {
     "end_time": "2022-03-01T16:00:14.830980Z",
     "start_time": "2022-03-01T16:00:14.730322Z"
    }
   },
   "outputs": [
    {
     "data": {
      "text/html": [
       "<div>\n",
       "<style scoped>\n",
       "    .dataframe tbody tr th:only-of-type {\n",
       "        vertical-align: middle;\n",
       "    }\n",
       "\n",
       "    .dataframe tbody tr th {\n",
       "        vertical-align: top;\n",
       "    }\n",
       "\n",
       "    .dataframe thead th {\n",
       "        text-align: right;\n",
       "    }\n",
       "</style>\n",
       "<table border=\"1\" class=\"dataframe\">\n",
       "  <thead>\n",
       "    <tr style=\"text-align: right;\">\n",
       "      <th></th>\n",
       "      <th>doid_id</th>\n",
       "      <th>entrez_gene_id</th>\n",
       "      <th>gene_symbol</th>\n",
       "      <th>doid_name</th>\n",
       "      <th>hetionet</th>\n",
       "      <th>has_sentence</th>\n",
       "      <th>partition_rank</th>\n",
       "      <th>split</th>\n",
       "      <th>metric</th>\n",
       "      <th>score</th>\n",
       "    </tr>\n",
       "  </thead>\n",
       "  <tbody>\n",
       "    <tr>\n",
       "      <th>10</th>\n",
       "      <td>DOID:9206</td>\n",
       "      <td>100508689</td>\n",
       "      <td>LOC100508689</td>\n",
       "      <td>Barrett's esophagus</td>\n",
       "      <td>0</td>\n",
       "      <td>1</td>\n",
       "      <td>0.91940</td>\n",
       "      <td>2</td>\n",
       "      <td>pred_max</td>\n",
       "      <td>0.906463</td>\n",
       "    </tr>\n",
       "    <tr>\n",
       "      <th>12</th>\n",
       "      <td>DOID:9352</td>\n",
       "      <td>173</td>\n",
       "      <td>AFM</td>\n",
       "      <td>type 2 diabetes mellitus</td>\n",
       "      <td>0</td>\n",
       "      <td>0</td>\n",
       "      <td>0.94394</td>\n",
       "      <td>2</td>\n",
       "      <td>pred_max</td>\n",
       "      <td>0.944439</td>\n",
       "    </tr>\n",
       "    <tr>\n",
       "      <th>20</th>\n",
       "      <td>DOID:2531</td>\n",
       "      <td>207</td>\n",
       "      <td>AKT1</td>\n",
       "      <td>hematologic cancer</td>\n",
       "      <td>1</td>\n",
       "      <td>1</td>\n",
       "      <td>0.93864</td>\n",
       "      <td>2</td>\n",
       "      <td>pred_max</td>\n",
       "      <td>0.950269</td>\n",
       "    </tr>\n",
       "    <tr>\n",
       "      <th>27</th>\n",
       "      <td>DOID:2531</td>\n",
       "      <td>954</td>\n",
       "      <td>ENTPD2</td>\n",
       "      <td>hematologic cancer</td>\n",
       "      <td>0</td>\n",
       "      <td>0</td>\n",
       "      <td>0.92122</td>\n",
       "      <td>2</td>\n",
       "      <td>pred_max</td>\n",
       "      <td>0.884520</td>\n",
       "    </tr>\n",
       "    <tr>\n",
       "      <th>34</th>\n",
       "      <td>DOID:2355</td>\n",
       "      <td>7018</td>\n",
       "      <td>TF</td>\n",
       "      <td>anemia</td>\n",
       "      <td>1</td>\n",
       "      <td>1</td>\n",
       "      <td>0.99302</td>\n",
       "      <td>2</td>\n",
       "      <td>pred_max</td>\n",
       "      <td>0.921203</td>\n",
       "    </tr>\n",
       "  </tbody>\n",
       "</table>\n",
       "</div>"
      ],
      "text/plain": [
       "      doid_id  entrez_gene_id   gene_symbol                 doid_name  \\\n",
       "10  DOID:9206       100508689  LOC100508689       Barrett's esophagus   \n",
       "12  DOID:9352             173           AFM  type 2 diabetes mellitus   \n",
       "20  DOID:2531             207          AKT1        hematologic cancer   \n",
       "27  DOID:2531             954        ENTPD2        hematologic cancer   \n",
       "34  DOID:2355            7018            TF                    anemia   \n",
       "\n",
       "    hetionet  has_sentence  partition_rank  split    metric     score  \n",
       "10         0             1         0.91940      2  pred_max  0.906463  \n",
       "12         0             0         0.94394      2  pred_max  0.944439  \n",
       "20         1             1         0.93864      2  pred_max  0.950269  \n",
       "27         0             0         0.92122      2  pred_max  0.884520  \n",
       "34         1             1         0.99302      2  pred_max  0.921203  "
      ]
     },
     "execution_count": 8,
     "metadata": {},
     "output_type": "execute_result"
    }
   ],
   "source": [
    "test_entity_df = all_dag_df >> ply.query(\"split == 2\")\n",
    "test_entity_df >> ply.slice_rows(5)"
   ]
  },
  {
   "cell_type": "markdown",
   "metadata": {},
   "source": [
    "# Determine Precision and Recall"
   ]
  },
  {
   "cell_type": "code",
   "execution_count": 9,
   "metadata": {
    "ExecuteTime": {
     "end_time": "2022-03-01T16:00:14.857814Z",
     "start_time": "2022-03-01T16:00:14.833881Z"
    }
   },
   "outputs": [],
   "source": [
    "performance_map = dict()"
   ]
  },
  {
   "cell_type": "code",
   "execution_count": 10,
   "metadata": {
    "ExecuteTime": {
     "end_time": "2022-03-01T16:00:14.898338Z",
     "start_time": "2022-03-01T16:00:14.859153Z"
    }
   },
   "outputs": [],
   "source": [
    "precision, recall, pr_threshold = precision_recall_curve(\n",
    "    test_entity_df >> ply.query(\"metric=='pred_max'\") >> ply.pull(\"hetionet\"),\n",
    "    test_entity_df >> ply.query(\"metric=='pred_max'\") >> ply.pull(\"score\"),\n",
    ")\n",
    "\n",
    "fpr, tpr, roc_threshold = roc_curve(\n",
    "    test_entity_df >> ply.query(\"metric=='pred_max'\") >> ply.pull(\"hetionet\"),\n",
    "    test_entity_df >> ply.query(\"metric=='pred_max'\") >> ply.pull(\"score\"),\n",
    ")\n",
    "\n",
    "performance_map[\"PR\"] = (\n",
    "    pd.DataFrame(\n",
    "        {\n",
    "            \"precision\": precision,\n",
    "            \"recall\": recall,\n",
    "            \"pr_threshold\": np.append(pr_threshold, 1),\n",
    "        }\n",
    "    )\n",
    "    >> ply.define(model=f'\"pred_max/AUC={auc(recall, precision):.2f}\"')\n",
    ")\n",
    "\n",
    "performance_map[\"AUROC\"] = pd.DataFrame(\n",
    "    {\"fpr\": fpr, \"tpr\": tpr, \"roc_threshold\": roc_threshold}\n",
    ") >> ply.define(model=f'\"pred_max/AUC={auc(fpr, tpr):.2f}\"')"
   ]
  },
  {
   "cell_type": "code",
   "execution_count": 11,
   "metadata": {
    "ExecuteTime": {
     "end_time": "2022-03-01T16:00:14.936653Z",
     "start_time": "2022-03-01T16:00:14.899502Z"
    }
   },
   "outputs": [],
   "source": [
    "precision, recall, pr_threshold = precision_recall_curve(\n",
    "    test_entity_df >> ply.query(\"metric=='pred_mean'\") >> ply.pull(\"hetionet\"),\n",
    "    test_entity_df >> ply.query(\"metric=='pred_mean'\") >> ply.pull(\"score\"),\n",
    ")\n",
    "\n",
    "fpr, tpr, roc_threshold = roc_curve(\n",
    "    test_entity_df >> ply.query(\"metric=='pred_mean'\") >> ply.pull(\"hetionet\"),\n",
    "    test_entity_df >> ply.query(\"metric=='pred_mean'\") >> ply.pull(\"score\"),\n",
    ")\n",
    "\n",
    "performance_map[\"PR\"] = performance_map[\"PR\"].append(\n",
    "    pd.DataFrame(\n",
    "        {\n",
    "            \"precision\": precision,\n",
    "            \"recall\": recall,\n",
    "            \"pr_threshold\": np.append(pr_threshold, 1),\n",
    "        }\n",
    "    )\n",
    "    >> ply.define(model=f'\"pred_mean/AUC={auc(recall, precision):.2f}\"')\n",
    ")\n",
    "\n",
    "performance_map[\"AUROC\"] = performance_map[\"AUROC\"].append(\n",
    "    pd.DataFrame({\"fpr\": fpr, \"tpr\": tpr, \"roc_threshold\": roc_threshold})\n",
    "    >> ply.define(model=f'\"pred_mean/AUC={auc(fpr, tpr):.2f}\"')\n",
    ")"
   ]
  },
  {
   "cell_type": "code",
   "execution_count": 12,
   "metadata": {
    "ExecuteTime": {
     "end_time": "2022-03-01T16:00:14.975295Z",
     "start_time": "2022-03-01T16:00:14.938040Z"
    }
   },
   "outputs": [],
   "source": [
    "precision, recall, pr_threshold = precision_recall_curve(\n",
    "    test_entity_df >> ply.query(\"metric=='pred_median'\") >> ply.pull(\"hetionet\"),\n",
    "    test_entity_df >> ply.query(\"metric=='pred_median'\") >> ply.pull(\"score\"),\n",
    ")\n",
    "\n",
    "fpr, tpr, roc_threshold = roc_curve(\n",
    "    test_entity_df >> ply.query(\"metric=='pred_median'\") >> ply.pull(\"hetionet\"),\n",
    "    test_entity_df >> ply.query(\"metric=='pred_median'\") >> ply.pull(\"score\"),\n",
    ")\n",
    "\n",
    "performance_map[\"PR\"] = performance_map[\"PR\"].append(\n",
    "    pd.DataFrame(\n",
    "        {\n",
    "            \"precision\": precision,\n",
    "            \"recall\": recall,\n",
    "            \"pr_threshold\": np.append(pr_threshold, 1),\n",
    "        }\n",
    "    )\n",
    "    >> ply.define(model=f'\"pred_median/AUC={auc(recall, precision):.2f}\"')\n",
    ")\n",
    "\n",
    "performance_map[\"AUROC\"] = performance_map[\"AUROC\"].append(\n",
    "    pd.DataFrame({\"fpr\": fpr, \"tpr\": tpr, \"roc_threshold\": roc_threshold})\n",
    "    >> ply.define(model=f'\"pred_median/AUC={auc(fpr, tpr):.2f}\"')\n",
    ")"
   ]
  },
  {
   "cell_type": "code",
   "execution_count": 13,
   "metadata": {
    "ExecuteTime": {
     "end_time": "2022-03-01T16:00:15.553824Z",
     "start_time": "2022-03-01T16:00:14.976511Z"
    }
   },
   "outputs": [
    {
     "data": {
      "image/png": "[encoded data removed]",
      "text/plain": [
       "<Figure size 640x480 with 1 Axes>"
      ]
     },
     "metadata": {},
     "output_type": "display_data"
    },
    {
     "name": "stdout",
     "output_type": "stream",
     "text": [
      "<ggplot: (-9223363259432165155)>\n"
     ]
    }
   ],
   "source": [
    "g = (\n",
    "    p9.ggplot(\n",
    "        performance_map[\"AUROC\"]\n",
    "        >> ply.call(\n",
    "            \".append\",\n",
    "            pd.DataFrame(\n",
    "                {\n",
    "                    \"fpr\": [0, 0.25, 0.5, 0.75, 1],\n",
    "                    \"tpr\": [0, 0.25, 0.5, 0.75, 1],\n",
    "                    \"model\": \"random\",\n",
    "                }\n",
    "            ),\n",
    "        )\n",
    "    )\n",
    "    + p9.aes(x=\"fpr\", y=\"tpr\", group=\"model\", color=\"model\", linetype=\"model\")\n",
    "    + p9.geom_line()\n",
    "    + p9.theme_seaborn(\"white\")\n",
    "    + p9.scale_color_manual([\"#1b9e77\", \"#d95f02\", \"#7570b3\", \"#000000\"])\n",
    "    + p9.scale_linetype_manual([\"solid\", \"solid\", \"solid\", \"dashed\"])\n",
    ")\n",
    "print(g)"
   ]
  },
  {
   "cell_type": "code",
   "execution_count": 14,
   "metadata": {
    "ExecuteTime": {
     "end_time": "2022-03-01T16:00:16.043516Z",
     "start_time": "2022-03-01T16:00:15.555220Z"
    }
   },
   "outputs": [
    {
     "data": {
      "image/png": "[encoded data removed]",
      "text/plain": [
       "<Figure size 640x480 with 1 Axes>"
      ]
     },
     "metadata": {},
     "output_type": "display_data"
    },
    {
     "name": "stdout",
     "output_type": "stream",
     "text": [
      "<ggplot: (-9223363259425797716)>\n"
     ]
    }
   ],
   "source": [
    "g = (\n",
    "    p9.ggplot(performance_map[\"PR\"])\n",
    "    + p9.aes(x=\"recall\", y=\"precision\", group=\"model\", color=\"model\", linetype=\"model\")\n",
    "    + p9.geom_line()\n",
    "    + p9.theme_seaborn(\"white\")\n",
    "    + p9.scale_color_manual([\"#1b9e77\", \"#d95f02\", \"#7570b3\", \"#000000\"])\n",
    "    + p9.scale_linetype_manual([\"solid\", \"solid\", \"solid\", \"dashed\"])\n",
    "    + p9.geom_hline(\n",
    "        yintercept=(\n",
    "            test_entity_df >> ply.query(\"metric=='pred_median'\") >> ply.pull(\"hetionet\")\n",
    "        ).mean(),\n",
    "        linetype=\"dashed\",\n",
    "    )\n",
    ")\n",
    "print(g)"
   ]
  },
  {
   "cell_type": "markdown",
   "metadata": {},
   "source": [
    "## Estimate number of new Edges Added"
   ]
  },
  {
   "cell_type": "code",
   "execution_count": 15,
   "metadata": {
    "ExecuteTime": {
     "end_time": "2022-03-01T16:00:22.173238Z",
     "start_time": "2022-03-01T16:00:16.045106Z"
    },
    "scrolled": true
   },
   "outputs": [
    {
     "data": {
      "text/html": [
       "<div>\n",
       "<style scoped>\n",
       "    .dataframe tbody tr th:only-of-type {\n",
       "        vertical-align: middle;\n",
       "    }\n",
       "\n",
       "    .dataframe tbody tr th {\n",
       "        vertical-align: top;\n",
       "    }\n",
       "\n",
       "    .dataframe thead th {\n",
       "        text-align: right;\n",
       "    }\n",
       "</style>\n",
       "<table border=\"1\" class=\"dataframe\">\n",
       "  <thead>\n",
       "    <tr style=\"text-align: right;\">\n",
       "      <th></th>\n",
       "      <th>edges</th>\n",
       "      <th>in_hetionet</th>\n",
       "      <th>precision</th>\n",
       "      <th>sen_cutoff</th>\n",
       "    </tr>\n",
       "  </thead>\n",
       "  <tbody>\n",
       "    <tr>\n",
       "      <th>0</th>\n",
       "      <td>8207</td>\n",
       "      <td>Existing</td>\n",
       "      <td>0.072548</td>\n",
       "      <td>0.38</td>\n",
       "    </tr>\n",
       "    <tr>\n",
       "      <th>1</th>\n",
       "      <td>103663</td>\n",
       "      <td>Novel</td>\n",
       "      <td>0.072548</td>\n",
       "      <td>0.38</td>\n",
       "    </tr>\n",
       "    <tr>\n",
       "      <th>2</th>\n",
       "      <td>8206</td>\n",
       "      <td>Existing</td>\n",
       "      <td>0.072504</td>\n",
       "      <td>0.39</td>\n",
       "    </tr>\n",
       "    <tr>\n",
       "      <th>3</th>\n",
       "      <td>103602</td>\n",
       "      <td>Novel</td>\n",
       "      <td>0.072504</td>\n",
       "      <td>0.39</td>\n",
       "    </tr>\n",
       "    <tr>\n",
       "      <th>4</th>\n",
       "      <td>8206</td>\n",
       "      <td>Existing</td>\n",
       "      <td>0.072568</td>\n",
       "      <td>0.40</td>\n",
       "    </tr>\n",
       "    <tr>\n",
       "      <th>5</th>\n",
       "      <td>103534</td>\n",
       "      <td>Novel</td>\n",
       "      <td>0.072568</td>\n",
       "      <td>0.40</td>\n",
       "    </tr>\n",
       "    <tr>\n",
       "      <th>6</th>\n",
       "      <td>8203</td>\n",
       "      <td>Existing</td>\n",
       "      <td>0.072620</td>\n",
       "      <td>0.41</td>\n",
       "    </tr>\n",
       "    <tr>\n",
       "      <th>7</th>\n",
       "      <td>103451</td>\n",
       "      <td>Novel</td>\n",
       "      <td>0.072620</td>\n",
       "      <td>0.41</td>\n",
       "    </tr>\n",
       "    <tr>\n",
       "      <th>8</th>\n",
       "      <td>8199</td>\n",
       "      <td>Existing</td>\n",
       "      <td>0.072718</td>\n",
       "      <td>0.42</td>\n",
       "    </tr>\n",
       "    <tr>\n",
       "      <th>9</th>\n",
       "      <td>103338</td>\n",
       "      <td>Novel</td>\n",
       "      <td>0.072718</td>\n",
       "      <td>0.42</td>\n",
       "    </tr>\n",
       "  </tbody>\n",
       "</table>\n",
       "</div>"
      ],
      "text/plain": [
       "    edges in_hetionet  precision  sen_cutoff\n",
       "0    8207    Existing   0.072548        0.38\n",
       "1  103663       Novel   0.072548        0.38\n",
       "2    8206    Existing   0.072504        0.39\n",
       "3  103602       Novel   0.072504        0.39\n",
       "4    8206    Existing   0.072568        0.40\n",
       "5  103534       Novel   0.072568        0.40\n",
       "6    8203    Existing   0.072620        0.41\n",
       "7  103451       Novel   0.072620        0.41\n",
       "8    8199    Existing   0.072718        0.42\n",
       "9  103338       Novel   0.072718        0.42"
      ]
     },
     "execution_count": 15,
     "metadata": {},
     "output_type": "execute_result"
    }
   ],
   "source": [
    "df_iterator = (\n",
    "    performance_map[\"PR\"]\n",
    "    >> ply.query(\"model.str.contains('max')& pr_threshold < 1\")\n",
    "    >> ply.call(\".round\", {\"pr_threshold\": 2})\n",
    "    >> ply.distinct(\"pr_threshold\", \"last\")\n",
    ")\n",
    "\n",
    "edges_added_records = []\n",
    "for idx, row in df_iterator.iterrows():\n",
    "    cutoff = row[\"pr_threshold\"]\n",
    "\n",
    "    values_added = (\n",
    "        all_dag_df\n",
    "        >> ply.query(\"metric.str.contains('max')\")\n",
    "        >> ply.query(\"score >= @cutoff\")\n",
    "        >> ply.pull(\"hetionet\")\n",
    "    )\n",
    "\n",
    "    edges_added_records.append(\n",
    "        {\n",
    "            \"edges\": values_added.sum(),\n",
    "            \"in_hetionet\": \"Existing\",\n",
    "            \"precision\": row[\"precision\"],\n",
    "            \"sen_cutoff\": cutoff,\n",
    "        }\n",
    "    )\n",
    "\n",
    "    edges_added_records.append(\n",
    "        {\n",
    "            \"edges\": values_added.shape[0] - values_added.sum(),\n",
    "            \"in_hetionet\": \"Novel\",\n",
    "            \"precision\": row[\"precision\"],\n",
    "            \"sen_cutoff\": cutoff,\n",
    "        }\n",
    "    )\n",
    "\n",
    "\n",
    "edges_added_df = pd.DataFrame.from_records(edges_added_records)\n",
    "edges_added_df >> ply.slice_rows(10)"
   ]
  },
  {
   "cell_type": "code",
   "execution_count": 16,
   "metadata": {
    "ExecuteTime": {
     "end_time": "2022-02-01T19:17:11.339998Z",
     "start_time": "2022-02-01T19:17:11.093653Z"
    }
   },
   "outputs": [
    {
     "data": {
      "image/png": "[encoded data removed]",
      "text/plain": [
       "<Figure size 640x480 with 1 Axes>"
      ]
     },
     "metadata": {},
     "output_type": "display_data"
    },
    {
     "name": "stdout",
     "output_type": "stream",
     "text": [
      "<ggplot: (8739553177180)>\n"
     ]
    }
   ],
   "source": [
    "g = (\n",
    "    p9.ggplot(edges_added_df >> ply.query(\"edges > 0 & precision > 0\"))\n",
    "    + p9.aes(x=\"precision\", y=\"edges\", color=\"in_hetionet\")\n",
    "    + p9.geom_point()\n",
    "    + p9.theme_seaborn(\"white\")\n",
    "    + p9.scale_color_brewer(type=\"qual\", palette=2)\n",
    ")\n",
    "print(g)"
   ]
  },
  {
   "cell_type": "code",
   "execution_count": 17,
   "metadata": {
    "ExecuteTime": {
     "end_time": "2022-02-01T19:17:11.441289Z",
     "start_time": "2022-02-01T19:17:11.342020Z"
    }
   },
   "outputs": [
    {
     "data": {
      "text/html": [
       "<div>\n",
       "<style scoped>\n",
       "    .dataframe tbody tr th:only-of-type {\n",
       "        vertical-align: middle;\n",
       "    }\n",
       "\n",
       "    .dataframe tbody tr th {\n",
       "        vertical-align: top;\n",
       "    }\n",
       "\n",
       "    .dataframe thead th {\n",
       "        text-align: right;\n",
       "    }\n",
       "</style>\n",
       "<table border=\"1\" class=\"dataframe\">\n",
       "  <thead>\n",
       "    <tr style=\"text-align: right;\">\n",
       "      <th></th>\n",
       "      <th>recall</th>\n",
       "      <th>edges</th>\n",
       "      <th>in_hetionet</th>\n",
       "      <th>relation</th>\n",
       "    </tr>\n",
       "  </thead>\n",
       "  <tbody>\n",
       "    <tr>\n",
       "      <th>0</th>\n",
       "      <td>0.331669</td>\n",
       "      <td>8172</td>\n",
       "      <td>Existing</td>\n",
       "      <td>DaG</td>\n",
       "    </tr>\n",
       "    <tr>\n",
       "      <th>1</th>\n",
       "      <td>NaN</td>\n",
       "      <td>101518</td>\n",
       "      <td>Novel</td>\n",
       "      <td>DaG</td>\n",
       "    </tr>\n",
       "  </tbody>\n",
       "</table>\n",
       "</div>"
      ],
      "text/plain": [
       "     recall   edges in_hetionet relation\n",
       "0  0.331669    8172    Existing      DaG\n",
       "1       NaN  101518       Novel      DaG"
      ]
     },
     "execution_count": 17,
     "metadata": {},
     "output_type": "execute_result"
    }
   ],
   "source": [
    "edges_df = pd.DataFrame.from_records(\n",
    "    [\n",
    "        {\n",
    "            \"recall\": (\n",
    "                all_dag_df\n",
    "                >> ply.query(\"metric=='pred_max' & score > 0.5\")  # precision 0.073798\n",
    "                >> ply.pull(\"hetionet\")\n",
    "            ).sum()\n",
    "            / all_dag_df.query(\"hetionet == 1\").shape[0],\n",
    "            \"edges\": (\n",
    "                all_dag_df\n",
    "                >> ply.query(\"metric=='pred_max' & score > 0.5\")\n",
    "                >> ply.pull(\"hetionet\")\n",
    "            ).sum(),\n",
    "            \"in_hetionet\": \"Existing\",\n",
    "            \"relation\": \"DaG\",\n",
    "        },\n",
    "        {\n",
    "            \"edges\": (\n",
    "                all_dag_df\n",
    "                >> ply.query(\"metric=='pred_max' & score > 0.5\")\n",
    "                >> ply.query(\"hetionet==0\")\n",
    "            ).shape[0],\n",
    "            \"in_hetionet\": \"Novel\",\n",
    "            \"relation\": \"DaG\",\n",
    "        },\n",
    "    ]\n",
    ")\n",
    "\n",
    "edges_df"
   ]
  },
  {
   "cell_type": "code",
   "execution_count": 18,
   "metadata": {
    "ExecuteTime": {
     "end_time": "2022-02-01T19:17:11.807430Z",
     "start_time": "2022-02-01T19:17:11.445686Z"
    },
    "scrolled": false
   },
   "outputs": [
    {
     "data": {
      "image/png": "[encoded data removed]",
      "text/plain": [
       "<Figure size 640x480 with 1 Axes>"
      ]
     },
     "metadata": {
      "needs_background": "light"
     },
     "output_type": "display_data"
    },
    {
     "name": "stdout",
     "output_type": "stream",
     "text": [
      "<ggplot: (8739579381382)>\n"
     ]
    }
   ],
   "source": [
    "g = (\n",
    "    p9.ggplot(edges_df, p9.aes(x=\"relation\", y=\"edges\", fill=\"in_hetionet\"))\n",
    "    + p9.geom_col(position=\"dodge\")\n",
    "    + p9.geom_text(\n",
    "        p9.aes(\n",
    "            label=(\n",
    "                edges_df.apply(\n",
    "                    lambda x: f\"{x['edges']} ({x['recall']*100:.0f}%)\"\n",
    "                    if not math.isnan(x[\"recall\"])\n",
    "                    else f\"{x['edges']}\",\n",
    "                    axis=1,\n",
    "                )\n",
    "            )\n",
    "        ),\n",
    "        position=p9.position_dodge(width=1),\n",
    "        size=9,\n",
    "        va=\"bottom\",\n",
    "    )\n",
    "    + p9.scale_y_log10()\n",
    "    + p9.theme(\n",
    "        axis_text_y=p9.element_blank(),\n",
    "        axis_ticks_major=p9.element_blank(),\n",
    "        rect=p9.element_blank(),\n",
    "    )\n",
    ")\n",
    "print(g)"
   ]
  },
  {
   "cell_type": "markdown",
   "metadata": {},
   "source": [
    "# Take home messages"
   ]
  },
  {
   "cell_type": "markdown",
   "metadata": {},
   "source": [
    "1. Recall is okay. Achieves 33% which is better than originally thought.\n",
    "2. If the discriminator model trained correctly I hypothesize that the recall would be a lot more higher."
   ]
  }
 ],
 "metadata": {
  "jupytext": {
   "formats": "ipynb,py:light"
  },
  "kernelspec": {
   "display_name": "Python [conda env:snorkeling_full_text]",
   "language": "python",
   "name": "conda-env-snorkeling_full_text-py"
  },
  "language_info": {
   "codemirror_mode": {
    "name": "ipython",
    "version": 3
   },
   "file_extension": ".py",
   "mimetype": "text/x-python",
   "name": "python",
   "nbconvert_exporter": "python",
   "pygments_lexer": "ipython3",
   "version": "3.7.2"
  },
  "toc": {
   "base_numbering": 1,
   "nav_menu": {},
   "number_sections": true,
   "sideBar": true,
   "skip_h1_title": false,
   "title_cell": "Table of Contents",
   "title_sidebar": "Contents",
   "toc_cell": false,
   "toc_position": {},
   "toc_section_display": true,
   "toc_window_display": false
  }
 },
 "nbformat": 4,
 "nbformat_minor": 2
}
