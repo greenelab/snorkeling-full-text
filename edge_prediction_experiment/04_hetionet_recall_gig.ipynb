{
 "cells": [
  {
   "cell_type": "markdown",
   "metadata": {},
   "source": [
    "# Measure Gene interacts Gene Edge Recall"
   ]
  },
  {
   "cell_type": "markdown",
   "metadata": {},
   "source": [
    "This notebook is designed to estimate how many hetionet edges can be recalled from this weakly supervised approach.\n",
    "After the discriminator model has been trained, the last step is to predict whether every candidate sentence mentions a gene interacts gene relationship.\n",
    "Following the predictions, the next step is to group each candidate sentence based on each candidate pair and take the max value of each group.\n",
    "This max value represents the probability that an edge should or does exist.\n",
    "Lastly, once each candidate has been scored I use the precision recall curve to estimate how many edges can be recovered from this method."
   ]
  },
  {
   "cell_type": "code",
   "execution_count": 1,
   "metadata": {
    "ExecuteTime": {
     "end_time": "2022-03-25T16:34:00.818715Z",
     "start_time": "2022-03-25T16:33:52.860307Z"
    }
   },
   "outputs": [],
   "source": [
    "%load_ext autoreload\n",
    "%autoreload 2\n",
    "%matplotlib inline\n",
    "\n",
    "import math\n",
    "from pathlib import Path\n",
    "\n",
    "import numpy as np\n",
    "import pandas as pd\n",
    "import plotnine as p9\n",
    "import plydata as ply\n",
    "import plydata.tidy as ply_tdy\n",
    "from sklearn.metrics import precision_recall_curve, roc_curve, auc\n",
    "from sqlalchemy import create_engine"
   ]
  },
  {
   "cell_type": "code",
   "execution_count": 2,
   "metadata": {
    "ExecuteTime": {
     "end_time": "2022-03-25T16:34:01.096637Z",
     "start_time": "2022-03-25T16:34:00.825203Z"
    }
   },
   "outputs": [],
   "source": [
    "# Set up the environment\n",
    "username = \"danich1\"\n",
    "password = \"snorkel\"\n",
    "dbname = \"pubmed_central_db\"\n",
    "\n",
    "# Path subject to change for different os\n",
    "database_str = (\n",
    "    f\"postgresql+psycopg2://{username}:{password}@/{dbname}?host=/var/run/postgresql\"\n",
    ")\n",
    "conn = create_engine(database_str)"
   ]
  },
  {
   "cell_type": "code",
   "execution_count": 3,
   "metadata": {
    "ExecuteTime": {
     "end_time": "2022-03-25T16:34:04.477720Z",
     "start_time": "2022-03-25T16:34:01.098016Z"
    }
   },
   "outputs": [
    {
     "data": {
      "text/html": [
       "<div>\n",
       "<style scoped>\n",
       "    .dataframe tbody tr th:only-of-type {\n",
       "        vertical-align: middle;\n",
       "    }\n",
       "\n",
       "    .dataframe tbody tr th {\n",
       "        vertical-align: top;\n",
       "    }\n",
       "\n",
       "    .dataframe thead th {\n",
       "        text-align: right;\n",
       "    }\n",
       "</style>\n",
       "<table border=\"1\" class=\"dataframe\">\n",
       "  <thead>\n",
       "    <tr style=\"text-align: right;\">\n",
       "      <th></th>\n",
       "      <th>gene1_id</th>\n",
       "      <th>gene1_name</th>\n",
       "      <th>gene2_id</th>\n",
       "      <th>gene2_name</th>\n",
       "      <th>sources</th>\n",
       "      <th>n_sentences</th>\n",
       "      <th>hetionet</th>\n",
       "      <th>has_sentence</th>\n",
       "      <th>split</th>\n",
       "      <th>partition_rank</th>\n",
       "    </tr>\n",
       "  </thead>\n",
       "  <tbody>\n",
       "    <tr>\n",
       "      <th>0</th>\n",
       "      <td>1</td>\n",
       "      <td>A1BG</td>\n",
       "      <td>10321</td>\n",
       "      <td>CRISP3</td>\n",
       "      <td>II_literature|hetio-dag</td>\n",
       "      <td>5</td>\n",
       "      <td>1</td>\n",
       "      <td>1</td>\n",
       "      <td>3</td>\n",
       "      <td>0.436432</td>\n",
       "    </tr>\n",
       "    <tr>\n",
       "      <th>1</th>\n",
       "      <td>125</td>\n",
       "      <td>ADH1B</td>\n",
       "      <td>10321</td>\n",
       "      <td>CRISP3</td>\n",
       "      <td>NaN</td>\n",
       "      <td>1</td>\n",
       "      <td>0</td>\n",
       "      <td>1</td>\n",
       "      <td>3</td>\n",
       "      <td>0.664368</td>\n",
       "    </tr>\n",
       "    <tr>\n",
       "      <th>2</th>\n",
       "      <td>301</td>\n",
       "      <td>ANXA1</td>\n",
       "      <td>10321</td>\n",
       "      <td>CRISP3</td>\n",
       "      <td>NaN</td>\n",
       "      <td>4</td>\n",
       "      <td>0</td>\n",
       "      <td>1</td>\n",
       "      <td>4</td>\n",
       "      <td>0.801239</td>\n",
       "    </tr>\n",
       "    <tr>\n",
       "      <th>3</th>\n",
       "      <td>354</td>\n",
       "      <td>KLK3</td>\n",
       "      <td>10321</td>\n",
       "      <td>CRISP3</td>\n",
       "      <td>NaN</td>\n",
       "      <td>4</td>\n",
       "      <td>0</td>\n",
       "      <td>1</td>\n",
       "      <td>3</td>\n",
       "      <td>0.444879</td>\n",
       "    </tr>\n",
       "    <tr>\n",
       "      <th>4</th>\n",
       "      <td>367</td>\n",
       "      <td>AR</td>\n",
       "      <td>10321</td>\n",
       "      <td>CRISP3</td>\n",
       "      <td>NaN</td>\n",
       "      <td>8</td>\n",
       "      <td>0</td>\n",
       "      <td>1</td>\n",
       "      <td>4</td>\n",
       "      <td>0.884661</td>\n",
       "    </tr>\n",
       "  </tbody>\n",
       "</table>\n",
       "</div>"
      ],
      "text/plain": [
       "   gene1_id gene1_name  gene2_id gene2_name                  sources  \\\n",
       "0         1       A1BG     10321     CRISP3  II_literature|hetio-dag   \n",
       "1       125      ADH1B     10321     CRISP3                      NaN   \n",
       "2       301      ANXA1     10321     CRISP3                      NaN   \n",
       "3       354       KLK3     10321     CRISP3                      NaN   \n",
       "4       367         AR     10321     CRISP3                      NaN   \n",
       "\n",
       "   n_sentences  hetionet  has_sentence  split  partition_rank  \n",
       "0            5         1             1      3        0.436432  \n",
       "1            1         0             1      3        0.664368  \n",
       "2            4         0             1      4        0.801239  \n",
       "3            4         0             1      3        0.444879  \n",
       "4            8         0             1      4        0.884661  "
      ]
     },
     "execution_count": 3,
     "metadata": {},
     "output_type": "execute_result"
    }
   ],
   "source": [
    "hetionet_gig_map_df = pd.read_csv(\n",
    "    Path(\"../snorkeling_helper/label_functions/knowledge_bases\")\n",
    "    / \"gene_interacts_gene.tsv.xz\",\n",
    "    sep=\"\\t\",\n",
    ")\n",
    "hetionet_gig_map_df >> ply.slice_rows(5)"
   ]
  },
  {
   "cell_type": "code",
   "execution_count": 4,
   "metadata": {
    "ExecuteTime": {
     "end_time": "2022-03-25T16:34:07.581198Z",
     "start_time": "2022-03-25T16:34:04.479521Z"
    }
   },
   "outputs": [
    {
     "data": {
      "text/html": [
       "<div>\n",
       "<style scoped>\n",
       "    .dataframe tbody tr th:only-of-type {\n",
       "        vertical-align: middle;\n",
       "    }\n",
       "\n",
       "    .dataframe tbody tr th {\n",
       "        vertical-align: top;\n",
       "    }\n",
       "\n",
       "    .dataframe thead th {\n",
       "        text-align: right;\n",
       "    }\n",
       "</style>\n",
       "<table border=\"1\" class=\"dataframe\">\n",
       "  <thead>\n",
       "    <tr style=\"text-align: right;\">\n",
       "      <th></th>\n",
       "      <th>pred</th>\n",
       "      <th>candidate_id</th>\n",
       "    </tr>\n",
       "  </thead>\n",
       "  <tbody>\n",
       "    <tr>\n",
       "      <th>1056724</th>\n",
       "      <td>0.028647</td>\n",
       "      <td>273</td>\n",
       "    </tr>\n",
       "    <tr>\n",
       "      <th>1056725</th>\n",
       "      <td>0.035636</td>\n",
       "      <td>274</td>\n",
       "    </tr>\n",
       "    <tr>\n",
       "      <th>1056726</th>\n",
       "      <td>0.036965</td>\n",
       "      <td>275</td>\n",
       "    </tr>\n",
       "    <tr>\n",
       "      <th>1056722</th>\n",
       "      <td>0.006021</td>\n",
       "      <td>276</td>\n",
       "    </tr>\n",
       "    <tr>\n",
       "      <th>1056723</th>\n",
       "      <td>0.006014</td>\n",
       "      <td>278</td>\n",
       "    </tr>\n",
       "  </tbody>\n",
       "</table>\n",
       "</div>"
      ],
      "text/plain": [
       "             pred  candidate_id\n",
       "1056724  0.028647           273\n",
       "1056725  0.035636           274\n",
       "1056726  0.036965           275\n",
       "1056722  0.006021           276\n",
       "1056723  0.006014           278"
      ]
     },
     "execution_count": 4,
     "metadata": {},
     "output_type": "execute_result"
    }
   ],
   "source": [
    "sentence_prediction_df = pd.read_csv(\n",
    "    \"output/all_predicted_gig_sentences.tsv\", sep=\"\\t\"\n",
    ") >> ply.arrange(\"candidate_id\")\n",
    "sentence_prediction_df >> ply.slice_rows(5)"
   ]
  },
  {
   "cell_type": "code",
   "execution_count": 5,
   "metadata": {
    "ExecuteTime": {
     "end_time": "2022-03-25T17:23:58.720141Z",
     "start_time": "2022-03-25T16:34:07.582934Z"
    }
   },
   "outputs": [
    {
     "data": {
      "text/html": [
       "<div>\n",
       "<style scoped>\n",
       "    .dataframe tbody tr th:only-of-type {\n",
       "        vertical-align: middle;\n",
       "    }\n",
       "\n",
       "    .dataframe tbody tr th {\n",
       "        vertical-align: top;\n",
       "    }\n",
       "\n",
       "    .dataframe thead th {\n",
       "        text-align: right;\n",
       "    }\n",
       "</style>\n",
       "<table border=\"1\" class=\"dataframe\">\n",
       "  <thead>\n",
       "    <tr style=\"text-align: right;\">\n",
       "      <th></th>\n",
       "      <th>candidate_id</th>\n",
       "      <th>gene1_id</th>\n",
       "      <th>gene2_id</th>\n",
       "    </tr>\n",
       "  </thead>\n",
       "  <tbody>\n",
       "    <tr>\n",
       "      <th>0</th>\n",
       "      <td>80394</td>\n",
       "      <td>5111</td>\n",
       "      <td>5111</td>\n",
       "    </tr>\n",
       "    <tr>\n",
       "      <th>1</th>\n",
       "      <td>162426</td>\n",
       "      <td>6648</td>\n",
       "      <td>6648</td>\n",
       "    </tr>\n",
       "    <tr>\n",
       "      <th>2</th>\n",
       "      <td>340241</td>\n",
       "      <td>5829</td>\n",
       "      <td>1072</td>\n",
       "    </tr>\n",
       "    <tr>\n",
       "      <th>3</th>\n",
       "      <td>514638</td>\n",
       "      <td>3908</td>\n",
       "      <td>3785</td>\n",
       "    </tr>\n",
       "    <tr>\n",
       "      <th>4</th>\n",
       "      <td>702411</td>\n",
       "      <td>1084</td>\n",
       "      <td>1084</td>\n",
       "    </tr>\n",
       "  </tbody>\n",
       "</table>\n",
       "</div>"
      ],
      "text/plain": [
       "   candidate_id  gene1_id  gene2_id\n",
       "0         80394      5111      5111\n",
       "1        162426      6648      6648\n",
       "2        340241      5829      1072\n",
       "3        514638      3908      3785\n",
       "4        702411      1084      1084"
      ]
     },
     "execution_count": 5,
     "metadata": {},
     "output_type": "execute_result"
    }
   ],
   "source": [
    "sql = \"\"\"\n",
    "select candidate_id, gene1_cid as gene1_id, gene2_cid as gene2_id\n",
    "from gene_gene inner join (\n",
    "    select sentence_id, document_id\n",
    "    from sentence\n",
    ") as sentence_map\n",
    "on gene_gene.sentence_id = sentence_map.sentence_id\n",
    "where section = 'title' or section ='abstract'\n",
    "\"\"\"\n",
    "candidate_to_sentence_map_df = (\n",
    "    pd.read_sql(sql, conn)\n",
    "    >> ply_tdy.separate_rows(\"gene1_id\", sep=\";\")\n",
    "    >> ply_tdy.separate_rows(\"gene2_id\", sep=\";\")\n",
    "    >> ply.call(\".astype\", {\"gene1_id\": int, \"gene2_id\": int})\n",
    ")\n",
    "candidate_to_sentence_map_df >> ply.slice_rows(5)"
   ]
  },
  {
   "cell_type": "markdown",
   "metadata": {},
   "source": [
    "# Merge Predictions with Candidates and Hetionet Map"
   ]
  },
  {
   "cell_type": "code",
   "execution_count": 6,
   "metadata": {
    "ExecuteTime": {
     "end_time": "2022-03-25T17:24:03.986360Z",
     "start_time": "2022-03-25T17:23:58.763485Z"
    }
   },
   "outputs": [
    {
     "data": {
      "text/html": [
       "<div>\n",
       "<style scoped>\n",
       "    .dataframe tbody tr th:only-of-type {\n",
       "        vertical-align: middle;\n",
       "    }\n",
       "\n",
       "    .dataframe tbody tr th {\n",
       "        vertical-align: top;\n",
       "    }\n",
       "\n",
       "    .dataframe thead th {\n",
       "        text-align: right;\n",
       "    }\n",
       "</style>\n",
       "<table border=\"1\" class=\"dataframe\">\n",
       "  <thead>\n",
       "    <tr style=\"text-align: right;\">\n",
       "      <th></th>\n",
       "      <th>pred</th>\n",
       "      <th>candidate_id</th>\n",
       "      <th>gene1_id</th>\n",
       "      <th>gene2_id</th>\n",
       "      <th>gene1_name</th>\n",
       "      <th>gene2_name</th>\n",
       "      <th>hetionet</th>\n",
       "      <th>has_sentence</th>\n",
       "      <th>split</th>\n",
       "      <th>partition_rank</th>\n",
       "    </tr>\n",
       "  </thead>\n",
       "  <tbody>\n",
       "    <tr>\n",
       "      <th>0</th>\n",
       "      <td>0.009936</td>\n",
       "      <td>306</td>\n",
       "      <td>2214</td>\n",
       "      <td>3126</td>\n",
       "      <td>FCGR3A</td>\n",
       "      <td>HLA-DRB4</td>\n",
       "      <td>0</td>\n",
       "      <td>1</td>\n",
       "      <td>3</td>\n",
       "      <td>0.186838</td>\n",
       "    </tr>\n",
       "    <tr>\n",
       "      <th>1</th>\n",
       "      <td>0.028243</td>\n",
       "      <td>27576626</td>\n",
       "      <td>2214</td>\n",
       "      <td>3126</td>\n",
       "      <td>FCGR3A</td>\n",
       "      <td>HLA-DRB4</td>\n",
       "      <td>0</td>\n",
       "      <td>1</td>\n",
       "      <td>3</td>\n",
       "      <td>0.186838</td>\n",
       "    </tr>\n",
       "    <tr>\n",
       "      <th>2</th>\n",
       "      <td>0.008986</td>\n",
       "      <td>307</td>\n",
       "      <td>2214</td>\n",
       "      <td>925</td>\n",
       "      <td>FCGR3A</td>\n",
       "      <td>CD8A</td>\n",
       "      <td>0</td>\n",
       "      <td>1</td>\n",
       "      <td>3</td>\n",
       "      <td>0.562457</td>\n",
       "    </tr>\n",
       "    <tr>\n",
       "      <th>3</th>\n",
       "      <td>0.030561</td>\n",
       "      <td>181646</td>\n",
       "      <td>2214</td>\n",
       "      <td>925</td>\n",
       "      <td>FCGR3A</td>\n",
       "      <td>CD8A</td>\n",
       "      <td>0</td>\n",
       "      <td>1</td>\n",
       "      <td>3</td>\n",
       "      <td>0.562457</td>\n",
       "    </tr>\n",
       "    <tr>\n",
       "      <th>4</th>\n",
       "      <td>0.005113</td>\n",
       "      <td>422243</td>\n",
       "      <td>2214</td>\n",
       "      <td>925</td>\n",
       "      <td>FCGR3A</td>\n",
       "      <td>CD8A</td>\n",
       "      <td>0</td>\n",
       "      <td>1</td>\n",
       "      <td>3</td>\n",
       "      <td>0.562457</td>\n",
       "    </tr>\n",
       "  </tbody>\n",
       "</table>\n",
       "</div>"
      ],
      "text/plain": [
       "       pred  candidate_id  gene1_id  gene2_id gene1_name gene2_name  hetionet  \\\n",
       "0  0.009936           306      2214      3126     FCGR3A   HLA-DRB4         0   \n",
       "1  0.028243      27576626      2214      3126     FCGR3A   HLA-DRB4         0   \n",
       "2  0.008986           307      2214       925     FCGR3A       CD8A         0   \n",
       "3  0.030561        181646      2214       925     FCGR3A       CD8A         0   \n",
       "4  0.005113        422243      2214       925     FCGR3A       CD8A         0   \n",
       "\n",
       "   has_sentence  split  partition_rank  \n",
       "0             1      3        0.186838  \n",
       "1             1      3        0.186838  \n",
       "2             1      3        0.562457  \n",
       "3             1      3        0.562457  \n",
       "4             1      3        0.562457  "
      ]
     },
     "execution_count": 6,
     "metadata": {},
     "output_type": "execute_result"
    }
   ],
   "source": [
    "all_gig_predictions_df = (\n",
    "    sentence_prediction_df\n",
    "    >> ply.inner_join(candidate_to_sentence_map_df, on=\"candidate_id\")\n",
    "    >> ply.inner_join(\n",
    "        hetionet_gig_map_df >> ply.select(\"-sources\", \"-n_sentences\"),\n",
    "        on=[\"gene1_id\", \"gene2_id\"],\n",
    "    )\n",
    ")\n",
    "all_gig_predictions_df >> ply.slice_rows(5)"
   ]
  },
  {
   "cell_type": "code",
   "execution_count": 7,
   "metadata": {
    "ExecuteTime": {
     "end_time": "2022-03-25T17:53:05.889258Z",
     "start_time": "2022-03-25T17:24:03.987701Z"
    }
   },
   "outputs": [
    {
     "data": {
      "text/html": [
       "<div>\n",
       "<style scoped>\n",
       "    .dataframe tbody tr th:only-of-type {\n",
       "        vertical-align: middle;\n",
       "    }\n",
       "\n",
       "    .dataframe tbody tr th {\n",
       "        vertical-align: top;\n",
       "    }\n",
       "\n",
       "    .dataframe thead th {\n",
       "        text-align: right;\n",
       "    }\n",
       "</style>\n",
       "<table border=\"1\" class=\"dataframe\">\n",
       "  <thead>\n",
       "    <tr style=\"text-align: right;\">\n",
       "      <th></th>\n",
       "      <th>gene1_id</th>\n",
       "      <th>gene2_id</th>\n",
       "      <th>gene1_name</th>\n",
       "      <th>gene2_name</th>\n",
       "      <th>hetionet</th>\n",
       "      <th>has_sentence</th>\n",
       "      <th>split</th>\n",
       "      <th>partition_rank</th>\n",
       "      <th>metric</th>\n",
       "      <th>score</th>\n",
       "    </tr>\n",
       "  </thead>\n",
       "  <tbody>\n",
       "    <tr>\n",
       "      <th>0</th>\n",
       "      <td>2214</td>\n",
       "      <td>3126</td>\n",
       "      <td>FCGR3A</td>\n",
       "      <td>HLA-DRB4</td>\n",
       "      <td>0</td>\n",
       "      <td>1</td>\n",
       "      <td>3</td>\n",
       "      <td>0.186838</td>\n",
       "      <td>pred_max</td>\n",
       "      <td>0.028243</td>\n",
       "    </tr>\n",
       "    <tr>\n",
       "      <th>1</th>\n",
       "      <td>2214</td>\n",
       "      <td>925</td>\n",
       "      <td>FCGR3A</td>\n",
       "      <td>CD8A</td>\n",
       "      <td>0</td>\n",
       "      <td>1</td>\n",
       "      <td>3</td>\n",
       "      <td>0.562457</td>\n",
       "      <td>pred_max</td>\n",
       "      <td>0.067613</td>\n",
       "    </tr>\n",
       "    <tr>\n",
       "      <th>2</th>\n",
       "      <td>3126</td>\n",
       "      <td>925</td>\n",
       "      <td>HLA-DRB4</td>\n",
       "      <td>CD8A</td>\n",
       "      <td>0</td>\n",
       "      <td>1</td>\n",
       "      <td>3</td>\n",
       "      <td>0.009897</td>\n",
       "      <td>pred_max</td>\n",
       "      <td>0.058933</td>\n",
       "    </tr>\n",
       "    <tr>\n",
       "      <th>3</th>\n",
       "      <td>26762</td>\n",
       "      <td>26762</td>\n",
       "      <td>HAVCR1</td>\n",
       "      <td>HAVCR1</td>\n",
       "      <td>0</td>\n",
       "      <td>1</td>\n",
       "      <td>3</td>\n",
       "      <td>0.620434</td>\n",
       "      <td>pred_max</td>\n",
       "      <td>0.169719</td>\n",
       "    </tr>\n",
       "    <tr>\n",
       "      <th>4</th>\n",
       "      <td>960</td>\n",
       "      <td>79812</td>\n",
       "      <td>CD44</td>\n",
       "      <td>MMRN2</td>\n",
       "      <td>0</td>\n",
       "      <td>1</td>\n",
       "      <td>3</td>\n",
       "      <td>0.592383</td>\n",
       "      <td>pred_max</td>\n",
       "      <td>0.046297</td>\n",
       "    </tr>\n",
       "    <tr>\n",
       "      <th>5</th>\n",
       "      <td>960</td>\n",
       "      <td>214</td>\n",
       "      <td>CD44</td>\n",
       "      <td>ALCAM</td>\n",
       "      <td>0</td>\n",
       "      <td>1</td>\n",
       "      <td>3</td>\n",
       "      <td>0.218735</td>\n",
       "      <td>pred_max</td>\n",
       "      <td>0.088906</td>\n",
       "    </tr>\n",
       "    <tr>\n",
       "      <th>6</th>\n",
       "      <td>960</td>\n",
       "      <td>3920</td>\n",
       "      <td>CD44</td>\n",
       "      <td>LAMP2</td>\n",
       "      <td>0</td>\n",
       "      <td>1</td>\n",
       "      <td>3</td>\n",
       "      <td>0.464101</td>\n",
       "      <td>pred_max</td>\n",
       "      <td>0.047109</td>\n",
       "    </tr>\n",
       "    <tr>\n",
       "      <th>7</th>\n",
       "      <td>79812</td>\n",
       "      <td>214</td>\n",
       "      <td>MMRN2</td>\n",
       "      <td>ALCAM</td>\n",
       "      <td>0</td>\n",
       "      <td>1</td>\n",
       "      <td>3</td>\n",
       "      <td>0.137790</td>\n",
       "      <td>pred_max</td>\n",
       "      <td>0.048018</td>\n",
       "    </tr>\n",
       "    <tr>\n",
       "      <th>8</th>\n",
       "      <td>79812</td>\n",
       "      <td>3920</td>\n",
       "      <td>MMRN2</td>\n",
       "      <td>LAMP2</td>\n",
       "      <td>0</td>\n",
       "      <td>1</td>\n",
       "      <td>3</td>\n",
       "      <td>0.463695</td>\n",
       "      <td>pred_max</td>\n",
       "      <td>0.051866</td>\n",
       "    </tr>\n",
       "    <tr>\n",
       "      <th>9</th>\n",
       "      <td>214</td>\n",
       "      <td>3920</td>\n",
       "      <td>ALCAM</td>\n",
       "      <td>LAMP2</td>\n",
       "      <td>0</td>\n",
       "      <td>1</td>\n",
       "      <td>3</td>\n",
       "      <td>0.426731</td>\n",
       "      <td>pred_max</td>\n",
       "      <td>0.050189</td>\n",
       "    </tr>\n",
       "  </tbody>\n",
       "</table>\n",
       "</div>"
      ],
      "text/plain": [
       "   gene1_id  gene2_id gene1_name gene2_name  hetionet  has_sentence  split  \\\n",
       "0      2214      3126     FCGR3A   HLA-DRB4         0             1      3   \n",
       "1      2214       925     FCGR3A       CD8A         0             1      3   \n",
       "2      3126       925   HLA-DRB4       CD8A         0             1      3   \n",
       "3     26762     26762     HAVCR1     HAVCR1         0             1      3   \n",
       "4       960     79812       CD44      MMRN2         0             1      3   \n",
       "5       960       214       CD44      ALCAM         0             1      3   \n",
       "6       960      3920       CD44      LAMP2         0             1      3   \n",
       "7     79812       214      MMRN2      ALCAM         0             1      3   \n",
       "8     79812      3920      MMRN2      LAMP2         0             1      3   \n",
       "9       214      3920      ALCAM      LAMP2         0             1      3   \n",
       "\n",
       "   partition_rank    metric     score  \n",
       "0        0.186838  pred_max  0.028243  \n",
       "1        0.562457  pred_max  0.067613  \n",
       "2        0.009897  pred_max  0.058933  \n",
       "3        0.620434  pred_max  0.169719  \n",
       "4        0.592383  pred_max  0.046297  \n",
       "5        0.218735  pred_max  0.088906  \n",
       "6        0.464101  pred_max  0.047109  \n",
       "7        0.137790  pred_max  0.048018  \n",
       "8        0.463695  pred_max  0.051866  \n",
       "9        0.426731  pred_max  0.050189  "
      ]
     },
     "execution_count": 7,
     "metadata": {},
     "output_type": "execute_result"
    }
   ],
   "source": [
    "all_gig_df = (\n",
    "    all_gig_predictions_df\n",
    "    >> ply.group_by(\"gene1_id\", \"gene2_id\")\n",
    "    >> ply.define(\n",
    "        pred_max=\"max(pred)\", pred_mean=\"mean(pred)\", pred_median=\"median(pred)\"\n",
    "    )\n",
    "    >> ply.select(\"-pred\", \"-candidate_id\")\n",
    "    >> ply.distinct()\n",
    "    >> ply.ungroup()\n",
    "    >> ply_tdy.gather(\"metric\", \"score\", [\"pred_max\", \"pred_mean\", \"pred_median\"])\n",
    ")\n",
    "all_gig_df >> ply.slice_rows(10)"
   ]
  },
  {
   "cell_type": "code",
   "execution_count": 8,
   "metadata": {
    "ExecuteTime": {
     "end_time": "2022-03-25T17:53:06.010584Z",
     "start_time": "2022-03-25T17:53:05.891452Z"
    }
   },
   "outputs": [
    {
     "data": {
      "text/html": [
       "<div>\n",
       "<style scoped>\n",
       "    .dataframe tbody tr th:only-of-type {\n",
       "        vertical-align: middle;\n",
       "    }\n",
       "\n",
       "    .dataframe tbody tr th {\n",
       "        vertical-align: top;\n",
       "    }\n",
       "\n",
       "    .dataframe thead th {\n",
       "        text-align: right;\n",
       "    }\n",
       "</style>\n",
       "<table border=\"1\" class=\"dataframe\">\n",
       "  <thead>\n",
       "    <tr style=\"text-align: right;\">\n",
       "      <th></th>\n",
       "      <th>gene1_id</th>\n",
       "      <th>gene2_id</th>\n",
       "      <th>gene1_name</th>\n",
       "      <th>gene2_name</th>\n",
       "      <th>hetionet</th>\n",
       "      <th>has_sentence</th>\n",
       "      <th>split</th>\n",
       "      <th>partition_rank</th>\n",
       "      <th>metric</th>\n",
       "      <th>score</th>\n",
       "    </tr>\n",
       "  </thead>\n",
       "  <tbody>\n",
       "    <tr>\n",
       "      <th>20</th>\n",
       "      <td>5293</td>\n",
       "      <td>6426</td>\n",
       "      <td>PIK3CD</td>\n",
       "      <td>SRSF1</td>\n",
       "      <td>0</td>\n",
       "      <td>1</td>\n",
       "      <td>5</td>\n",
       "      <td>0.965715</td>\n",
       "      <td>pred_max</td>\n",
       "      <td>0.116629</td>\n",
       "    </tr>\n",
       "    <tr>\n",
       "      <th>27</th>\n",
       "      <td>5728</td>\n",
       "      <td>5728</td>\n",
       "      <td>PTEN</td>\n",
       "      <td>PTEN</td>\n",
       "      <td>0</td>\n",
       "      <td>1</td>\n",
       "      <td>5</td>\n",
       "      <td>0.997108</td>\n",
       "      <td>pred_max</td>\n",
       "      <td>0.320329</td>\n",
       "    </tr>\n",
       "    <tr>\n",
       "      <th>38</th>\n",
       "      <td>22921</td>\n",
       "      <td>253827</td>\n",
       "      <td>MSRB2</td>\n",
       "      <td>MSRB3</td>\n",
       "      <td>0</td>\n",
       "      <td>1</td>\n",
       "      <td>5</td>\n",
       "      <td>0.933276</td>\n",
       "      <td>pred_max</td>\n",
       "      <td>0.090662</td>\n",
       "    </tr>\n",
       "    <tr>\n",
       "      <th>70</th>\n",
       "      <td>1636</td>\n",
       "      <td>3827</td>\n",
       "      <td>ACE</td>\n",
       "      <td>KNG1</td>\n",
       "      <td>0</td>\n",
       "      <td>1</td>\n",
       "      <td>5</td>\n",
       "      <td>0.937494</td>\n",
       "      <td>pred_max</td>\n",
       "      <td>0.342082</td>\n",
       "    </tr>\n",
       "    <tr>\n",
       "      <th>130</th>\n",
       "      <td>2244</td>\n",
       "      <td>10242</td>\n",
       "      <td>FGB</td>\n",
       "      <td>KCNMB2</td>\n",
       "      <td>0</td>\n",
       "      <td>1</td>\n",
       "      <td>5</td>\n",
       "      <td>0.926956</td>\n",
       "      <td>pred_max</td>\n",
       "      <td>0.080059</td>\n",
       "    </tr>\n",
       "  </tbody>\n",
       "</table>\n",
       "</div>"
      ],
      "text/plain": [
       "     gene1_id  gene2_id gene1_name gene2_name  hetionet  has_sentence  split  \\\n",
       "20       5293      6426     PIK3CD      SRSF1         0             1      5   \n",
       "27       5728      5728       PTEN       PTEN         0             1      5   \n",
       "38      22921    253827      MSRB2      MSRB3         0             1      5   \n",
       "70       1636      3827        ACE       KNG1         0             1      5   \n",
       "130      2244     10242        FGB     KCNMB2         0             1      5   \n",
       "\n",
       "     partition_rank    metric     score  \n",
       "20         0.965715  pred_max  0.116629  \n",
       "27         0.997108  pred_max  0.320329  \n",
       "38         0.933276  pred_max  0.090662  \n",
       "70         0.937494  pred_max  0.342082  \n",
       "130        0.926956  pred_max  0.080059  "
      ]
     },
     "execution_count": 8,
     "metadata": {},
     "output_type": "execute_result"
    }
   ],
   "source": [
    "test_entity_df = all_gig_df >> ply.query(\"split == 5\")\n",
    "test_entity_df >> ply.slice_rows(5)"
   ]
  },
  {
   "cell_type": "markdown",
   "metadata": {},
   "source": [
    "# Determine Precision and Recall"
   ]
  },
  {
   "cell_type": "code",
   "execution_count": 9,
   "metadata": {
    "ExecuteTime": {
     "end_time": "2022-03-25T17:53:06.027921Z",
     "start_time": "2022-03-25T17:53:06.012054Z"
    }
   },
   "outputs": [],
   "source": [
    "performance_map = dict()"
   ]
  },
  {
   "cell_type": "code",
   "execution_count": 10,
   "metadata": {
    "ExecuteTime": {
     "end_time": "2022-03-25T17:53:06.220268Z",
     "start_time": "2022-03-25T17:53:06.031750Z"
    }
   },
   "outputs": [],
   "source": [
    "precision, recall, pr_threshold = precision_recall_curve(\n",
    "    test_entity_df >> ply.query(\"metric=='pred_max'\") >> ply.pull(\"hetionet\"),\n",
    "    test_entity_df >> ply.query(\"metric=='pred_max'\") >> ply.pull(\"score\"),\n",
    ")\n",
    "\n",
    "fpr, tpr, roc_threshold = roc_curve(\n",
    "    test_entity_df >> ply.query(\"metric=='pred_max'\") >> ply.pull(\"hetionet\"),\n",
    "    test_entity_df >> ply.query(\"metric=='pred_max'\") >> ply.pull(\"score\"),\n",
    ")\n",
    "\n",
    "performance_map[\"PR\"] = (\n",
    "    pd.DataFrame(\n",
    "        {\n",
    "            \"precision\": precision,\n",
    "            \"recall\": recall,\n",
    "            \"pr_threshold\": np.append(pr_threshold, 1),\n",
    "        }\n",
    "    )\n",
    "    >> ply.define(model=f'\"pred_max/AUC={auc(recall, precision):.2f}\"')\n",
    ")\n",
    "\n",
    "performance_map[\"AUROC\"] = pd.DataFrame(\n",
    "    {\"fpr\": fpr, \"tpr\": tpr, \"roc_threshold\": roc_threshold}\n",
    ") >> ply.define(model=f'\"pred_max/AUC={auc(fpr, tpr):.2f}\"')"
   ]
  },
  {
   "cell_type": "code",
   "execution_count": 11,
   "metadata": {
    "ExecuteTime": {
     "end_time": "2022-03-25T17:53:06.298960Z",
     "start_time": "2022-03-25T17:53:06.221461Z"
    }
   },
   "outputs": [],
   "source": [
    "precision, recall, pr_threshold = precision_recall_curve(\n",
    "    test_entity_df >> ply.query(\"metric=='pred_mean'\") >> ply.pull(\"hetionet\"),\n",
    "    test_entity_df >> ply.query(\"metric=='pred_mean'\") >> ply.pull(\"score\"),\n",
    ")\n",
    "\n",
    "fpr, tpr, roc_threshold = roc_curve(\n",
    "    test_entity_df >> ply.query(\"metric=='pred_mean'\") >> ply.pull(\"hetionet\"),\n",
    "    test_entity_df >> ply.query(\"metric=='pred_mean'\") >> ply.pull(\"score\"),\n",
    ")\n",
    "\n",
    "performance_map[\"PR\"] = performance_map[\"PR\"].append(\n",
    "    pd.DataFrame(\n",
    "        {\n",
    "            \"precision\": precision,\n",
    "            \"recall\": recall,\n",
    "            \"pr_threshold\": np.append(pr_threshold, 1),\n",
    "        }\n",
    "    )\n",
    "    >> ply.define(model=f'\"pred_mean/AUC={auc(recall, precision):.2f}\"')\n",
    ")\n",
    "\n",
    "performance_map[\"AUROC\"] = performance_map[\"AUROC\"].append(\n",
    "    pd.DataFrame({\"fpr\": fpr, \"tpr\": tpr, \"roc_threshold\": roc_threshold})\n",
    "    >> ply.define(model=f'\"pred_mean/AUC={auc(fpr, tpr):.2f}\"')\n",
    ")"
   ]
  },
  {
   "cell_type": "code",
   "execution_count": 12,
   "metadata": {
    "ExecuteTime": {
     "end_time": "2022-03-25T17:53:06.378973Z",
     "start_time": "2022-03-25T17:53:06.300147Z"
    }
   },
   "outputs": [],
   "source": [
    "precision, recall, pr_threshold = precision_recall_curve(\n",
    "    test_entity_df >> ply.query(\"metric=='pred_median'\") >> ply.pull(\"hetionet\"),\n",
    "    test_entity_df >> ply.query(\"metric=='pred_median'\") >> ply.pull(\"score\"),\n",
    ")\n",
    "\n",
    "fpr, tpr, roc_threshold = roc_curve(\n",
    "    test_entity_df >> ply.query(\"metric=='pred_median'\") >> ply.pull(\"hetionet\"),\n",
    "    test_entity_df >> ply.query(\"metric=='pred_median'\") >> ply.pull(\"score\"),\n",
    ")\n",
    "\n",
    "performance_map[\"PR\"] = performance_map[\"PR\"].append(\n",
    "    pd.DataFrame(\n",
    "        {\n",
    "            \"precision\": precision,\n",
    "            \"recall\": recall,\n",
    "            \"pr_threshold\": np.append(pr_threshold, 1),\n",
    "        }\n",
    "    )\n",
    "    >> ply.define(model=f'\"pred_median/AUC={auc(recall, precision):.2f}\"')\n",
    ")\n",
    "\n",
    "performance_map[\"AUROC\"] = performance_map[\"AUROC\"].append(\n",
    "    pd.DataFrame({\"fpr\": fpr, \"tpr\": tpr, \"roc_threshold\": roc_threshold})\n",
    "    >> ply.define(model=f'\"pred_median/AUC={auc(fpr, tpr):.2f}\"')\n",
    ")"
   ]
  },
  {
   "cell_type": "code",
   "execution_count": 13,
   "metadata": {
    "ExecuteTime": {
     "end_time": "2022-03-25T17:53:07.154449Z",
     "start_time": "2022-03-25T17:53:06.380175Z"
    }
   },
   "outputs": [
    {
     "data": {
      "image/png": "[encoded data removed]",
      "text/plain": [
       "<Figure size 640x480 with 1 Axes>"
      ]
     },
     "metadata": {},
     "output_type": "display_data"
    },
    {
     "name": "stdout",
     "output_type": "stream",
     "text": [
      "<ggplot: (-9223363291570213425)>\n"
     ]
    }
   ],
   "source": [
    "g = (\n",
    "    p9.ggplot(\n",
    "        performance_map[\"AUROC\"]\n",
    "        >> ply.call(\n",
    "            \".append\",\n",
    "            pd.DataFrame(\n",
    "                {\n",
    "                    \"fpr\": [0, 0.25, 0.5, 0.75, 1],\n",
    "                    \"tpr\": [0, 0.25, 0.5, 0.75, 1],\n",
    "                    \"model\": \"random\",\n",
    "                }\n",
    "            ),\n",
    "        )\n",
    "    )\n",
    "    + p9.aes(x=\"fpr\", y=\"tpr\", group=\"model\", color=\"model\", linetype=\"model\")\n",
    "    + p9.geom_line()\n",
    "    + p9.theme_seaborn(\"white\")\n",
    "    + p9.scale_color_manual([\"#1b9e77\", \"#d95f02\", \"#7570b3\", \"#000000\"])\n",
    "    + p9.scale_linetype_manual([\"solid\", \"solid\", \"solid\", \"dashed\"])\n",
    ")\n",
    "print(g)"
   ]
  },
  {
   "cell_type": "code",
   "execution_count": 14,
   "metadata": {
    "ExecuteTime": {
     "end_time": "2022-03-25T17:53:08.656678Z",
     "start_time": "2022-03-25T17:53:07.155893Z"
    }
   },
   "outputs": [
    {
     "data": {
      "image/png": "[encoded data removed]",
      "text/plain": [
       "<Figure size 640x480 with 1 Axes>"
      ]
     },
     "metadata": {},
     "output_type": "display_data"
    },
    {
     "name": "stdout",
     "output_type": "stream",
     "text": [
      "<ggplot: (-9223363291835754485)>\n"
     ]
    }
   ],
   "source": [
    "g = (\n",
    "    p9.ggplot(performance_map[\"PR\"])\n",
    "    + p9.aes(x=\"recall\", y=\"precision\", group=\"model\", color=\"model\", linetype=\"model\")\n",
    "    + p9.geom_line()\n",
    "    + p9.theme_seaborn(\"white\")\n",
    "    + p9.scale_color_manual([\"#1b9e77\", \"#d95f02\", \"#7570b3\", \"#000000\"])\n",
    "    + p9.scale_linetype_manual([\"solid\", \"solid\", \"solid\", \"dashed\"])\n",
    "    + p9.geom_hline(\n",
    "        yintercept=(\n",
    "            test_entity_df >> ply.query(\"metric=='pred_median'\") >> ply.pull(\"hetionet\")\n",
    "        ).mean(),\n",
    "        linetype=\"dashed\",\n",
    "    )\n",
    ")\n",
    "print(g)"
   ]
  },
  {
   "cell_type": "markdown",
   "metadata": {},
   "source": [
    "## Estimate number of new Edges Added"
   ]
  },
  {
   "cell_type": "code",
   "execution_count": 15,
   "metadata": {
    "ExecuteTime": {
     "end_time": "2022-03-25T17:53:34.594803Z",
     "start_time": "2022-03-25T17:53:08.658037Z"
    },
    "scrolled": true
   },
   "outputs": [
    {
     "data": {
      "text/html": [
       "<div>\n",
       "<style scoped>\n",
       "    .dataframe tbody tr th:only-of-type {\n",
       "        vertical-align: middle;\n",
       "    }\n",
       "\n",
       "    .dataframe tbody tr th {\n",
       "        vertical-align: top;\n",
       "    }\n",
       "\n",
       "    .dataframe thead th {\n",
       "        text-align: right;\n",
       "    }\n",
       "</style>\n",
       "<table border=\"1\" class=\"dataframe\">\n",
       "  <thead>\n",
       "    <tr style=\"text-align: right;\">\n",
       "      <th></th>\n",
       "      <th>edges</th>\n",
       "      <th>in_hetionet</th>\n",
       "      <th>precision</th>\n",
       "      <th>sen_cutoff</th>\n",
       "    </tr>\n",
       "  </thead>\n",
       "  <tbody>\n",
       "    <tr>\n",
       "      <th>0</th>\n",
       "      <td>21134</td>\n",
       "      <td>Existing</td>\n",
       "      <td>0.036412</td>\n",
       "      <td>0.00</td>\n",
       "    </tr>\n",
       "    <tr>\n",
       "      <th>1</th>\n",
       "      <td>559469</td>\n",
       "      <td>Novel</td>\n",
       "      <td>0.036412</td>\n",
       "      <td>0.00</td>\n",
       "    </tr>\n",
       "    <tr>\n",
       "      <th>2</th>\n",
       "      <td>21080</td>\n",
       "      <td>Existing</td>\n",
       "      <td>0.038407</td>\n",
       "      <td>0.01</td>\n",
       "    </tr>\n",
       "    <tr>\n",
       "      <th>3</th>\n",
       "      <td>549134</td>\n",
       "      <td>Novel</td>\n",
       "      <td>0.038407</td>\n",
       "      <td>0.01</td>\n",
       "    </tr>\n",
       "    <tr>\n",
       "      <th>4</th>\n",
       "      <td>20711</td>\n",
       "      <td>Existing</td>\n",
       "      <td>0.043392</td>\n",
       "      <td>0.02</td>\n",
       "    </tr>\n",
       "    <tr>\n",
       "      <th>5</th>\n",
       "      <td>491065</td>\n",
       "      <td>Novel</td>\n",
       "      <td>0.043392</td>\n",
       "      <td>0.02</td>\n",
       "    </tr>\n",
       "    <tr>\n",
       "      <th>6</th>\n",
       "      <td>19996</td>\n",
       "      <td>Existing</td>\n",
       "      <td>0.050173</td>\n",
       "      <td>0.03</td>\n",
       "    </tr>\n",
       "    <tr>\n",
       "      <th>7</th>\n",
       "      <td>412725</td>\n",
       "      <td>Novel</td>\n",
       "      <td>0.050173</td>\n",
       "      <td>0.03</td>\n",
       "    </tr>\n",
       "    <tr>\n",
       "      <th>8</th>\n",
       "      <td>19120</td>\n",
       "      <td>Existing</td>\n",
       "      <td>0.057941</td>\n",
       "      <td>0.04</td>\n",
       "    </tr>\n",
       "    <tr>\n",
       "      <th>9</th>\n",
       "      <td>338864</td>\n",
       "      <td>Novel</td>\n",
       "      <td>0.057941</td>\n",
       "      <td>0.04</td>\n",
       "    </tr>\n",
       "  </tbody>\n",
       "</table>\n",
       "</div>"
      ],
      "text/plain": [
       "    edges in_hetionet  precision  sen_cutoff\n",
       "0   21134    Existing   0.036412        0.00\n",
       "1  559469       Novel   0.036412        0.00\n",
       "2   21080    Existing   0.038407        0.01\n",
       "3  549134       Novel   0.038407        0.01\n",
       "4   20711    Existing   0.043392        0.02\n",
       "5  491065       Novel   0.043392        0.02\n",
       "6   19996    Existing   0.050173        0.03\n",
       "7  412725       Novel   0.050173        0.03\n",
       "8   19120    Existing   0.057941        0.04\n",
       "9  338864       Novel   0.057941        0.04"
      ]
     },
     "execution_count": 15,
     "metadata": {},
     "output_type": "execute_result"
    }
   ],
   "source": [
    "df_iterator = (\n",
    "    performance_map[\"PR\"]\n",
    "    >> ply.query(\"model.str.contains('max')& pr_threshold < 1\")\n",
    "    >> ply.call(\".round\", {\"pr_threshold\": 2})\n",
    "    >> ply.distinct(\"pr_threshold\", \"last\")\n",
    ")\n",
    "\n",
    "edges_added_records = []\n",
    "for idx, row in df_iterator.iterrows():\n",
    "    cutoff = row[\"pr_threshold\"]\n",
    "\n",
    "    values_added = (\n",
    "        all_gig_df\n",
    "        >> ply.query(\"metric.str.contains('max')\")\n",
    "        >> ply.query(\"score >= @cutoff\")\n",
    "        >> ply.pull(\"hetionet\")\n",
    "    )\n",
    "\n",
    "    edges_added_records.append(\n",
    "        {\n",
    "            \"edges\": values_added.sum(),\n",
    "            \"in_hetionet\": \"Existing\",\n",
    "            \"precision\": row[\"precision\"],\n",
    "            \"sen_cutoff\": cutoff,\n",
    "        }\n",
    "    )\n",
    "\n",
    "    edges_added_records.append(\n",
    "        {\n",
    "            \"edges\": values_added.shape[0] - values_added.sum(),\n",
    "            \"in_hetionet\": \"Novel\",\n",
    "            \"precision\": row[\"precision\"],\n",
    "            \"sen_cutoff\": cutoff,\n",
    "        }\n",
    "    )\n",
    "\n",
    "\n",
    "edges_added_df = pd.DataFrame.from_records(edges_added_records)\n",
    "edges_added_df >> ply.slice_rows(10)"
   ]
  },
  {
   "cell_type": "code",
   "execution_count": 16,
   "metadata": {
    "ExecuteTime": {
     "end_time": "2022-03-25T17:53:34.882254Z",
     "start_time": "2022-03-25T17:53:34.596179Z"
    }
   },
   "outputs": [
    {
     "data": {
      "image/png": "[encoded data removed]",
      "text/plain": [
       "<Figure size 640x480 with 1 Axes>"
      ]
     },
     "metadata": {},
     "output_type": "display_data"
    },
    {
     "name": "stdout",
     "output_type": "stream",
     "text": [
      "<ggplot: (8745340444613)>\n"
     ]
    }
   ],
   "source": [
    "g = (\n",
    "    p9.ggplot(edges_added_df >> ply.query(\"edges > 0 & precision > 0\"))\n",
    "    + p9.aes(x=\"precision\", y=\"edges\", color=\"in_hetionet\")\n",
    "    + p9.geom_point()\n",
    "    + p9.theme_seaborn(\"white\")\n",
    "    + p9.scale_color_brewer(type=\"qual\", palette=2)\n",
    "    + p9.scale_y_log10()\n",
    ")\n",
    "print(g)"
   ]
  },
  {
   "cell_type": "code",
   "execution_count": 17,
   "metadata": {
    "ExecuteTime": {
     "end_time": "2022-03-25T17:53:35.151143Z",
     "start_time": "2022-03-25T17:53:34.883698Z"
    }
   },
   "outputs": [
    {
     "data": {
      "text/html": [
       "<div>\n",
       "<style scoped>\n",
       "    .dataframe tbody tr th:only-of-type {\n",
       "        vertical-align: middle;\n",
       "    }\n",
       "\n",
       "    .dataframe tbody tr th {\n",
       "        vertical-align: top;\n",
       "    }\n",
       "\n",
       "    .dataframe thead th {\n",
       "        text-align: right;\n",
       "    }\n",
       "</style>\n",
       "<table border=\"1\" class=\"dataframe\">\n",
       "  <thead>\n",
       "    <tr style=\"text-align: right;\">\n",
       "      <th></th>\n",
       "      <th>recall</th>\n",
       "      <th>edges</th>\n",
       "      <th>in_hetionet</th>\n",
       "      <th>relation</th>\n",
       "    </tr>\n",
       "  </thead>\n",
       "  <tbody>\n",
       "    <tr>\n",
       "      <th>0</th>\n",
       "      <td>0.285969</td>\n",
       "      <td>18131</td>\n",
       "      <td>Existing</td>\n",
       "      <td>GiG</td>\n",
       "    </tr>\n",
       "    <tr>\n",
       "      <th>1</th>\n",
       "      <td>NaN</td>\n",
       "      <td>277542</td>\n",
       "      <td>Novel</td>\n",
       "      <td>GiG</td>\n",
       "    </tr>\n",
       "  </tbody>\n",
       "</table>\n",
       "</div>"
      ],
      "text/plain": [
       "     recall   edges in_hetionet relation\n",
       "0  0.285969   18131    Existing      GiG\n",
       "1       NaN  277542       Novel      GiG"
      ]
     },
     "execution_count": 17,
     "metadata": {},
     "output_type": "execute_result"
    }
   ],
   "source": [
    "edges_df = pd.DataFrame.from_records(\n",
    "    [\n",
    "        {\n",
    "            \"recall\": (\n",
    "                all_gig_df\n",
    "                >> ply.query(\"metric=='pred_max' & score > 0.05\")  # precision 0.06627\n",
    "                >> ply.pull(\"hetionet\")\n",
    "            ).sum()\n",
    "            / all_gig_df.query(\"hetionet == 1\").shape[0],\n",
    "            \"edges\": (\n",
    "                all_gig_df\n",
    "                >> ply.query(\"metric=='pred_max' & score > 0.05\")\n",
    "                >> ply.pull(\"hetionet\")\n",
    "            ).sum(),\n",
    "            \"in_hetionet\": \"Existing\",\n",
    "            \"relation\": \"GiG\",\n",
    "        },\n",
    "        {\n",
    "            \"edges\": (\n",
    "                all_gig_df\n",
    "                >> ply.query(\"metric=='pred_max' & score > 0.05\")\n",
    "                >> ply.query(\"hetionet==0\")\n",
    "            ).shape[0],\n",
    "            \"in_hetionet\": \"Novel\",\n",
    "            \"relation\": \"GiG\",\n",
    "        },\n",
    "    ]\n",
    ")\n",
    "\n",
    "edges_df"
   ]
  },
  {
   "cell_type": "code",
   "execution_count": 18,
   "metadata": {
    "ExecuteTime": {
     "end_time": "2022-03-25T17:53:35.511086Z",
     "start_time": "2022-03-25T17:53:35.152360Z"
    },
    "scrolled": false
   },
   "outputs": [
    {
     "data": {
      "image/png": "[encoded data removed]",
      "text/plain": [
       "<Figure size 640x480 with 1 Axes>"
      ]
     },
     "metadata": {
      "needs_background": "light"
     },
     "output_type": "display_data"
    },
    {
     "name": "stdout",
     "output_type": "stream",
     "text": [
      "<ggplot: (8745019095104)>\n"
     ]
    }
   ],
   "source": [
    "g = (\n",
    "    p9.ggplot(edges_df, p9.aes(x=\"relation\", y=\"edges\", fill=\"in_hetionet\"))\n",
    "    + p9.geom_col(position=\"dodge\")\n",
    "    + p9.geom_text(\n",
    "        p9.aes(\n",
    "            label=(\n",
    "                edges_df.apply(\n",
    "                    lambda x: f\"{x['edges']} ({x['recall']*100:.0f}%)\"\n",
    "                    if not math.isnan(x[\"recall\"])\n",
    "                    else f\"{x['edges']}\",\n",
    "                    axis=1,\n",
    "                )\n",
    "            )\n",
    "        ),\n",
    "        position=p9.position_dodge(width=1),\n",
    "        size=9,\n",
    "        va=\"bottom\",\n",
    "    )\n",
    "    + p9.scale_y_log10()\n",
    "    + p9.theme(\n",
    "        axis_text_y=p9.element_blank(),\n",
    "        axis_ticks_major=p9.element_blank(),\n",
    "        rect=p9.element_blank(),\n",
    "    )\n",
    ")\n",
    "print(g)"
   ]
  },
  {
   "cell_type": "markdown",
   "metadata": {},
   "source": [
    "# Take home messages"
   ]
  },
  {
   "cell_type": "markdown",
   "metadata": {},
   "source": [
    "1. Recall is okay. Achieves 29% which is better than originally thought.\n",
    "2. If the discriminator model trained correctly I hypothesize that the recall would be a lot more higher."
   ]
  }
 ],
 "metadata": {
  "jupytext": {
   "formats": "ipynb,py:light"
  },
  "kernelspec": {
   "display_name": "Python [conda env:snorkeling_full_text]",
   "language": "python",
   "name": "conda-env-snorkeling_full_text-py"
  },
  "language_info": {
   "codemirror_mode": {
    "name": "ipython",
    "version": 3
   },
   "file_extension": ".py",
   "mimetype": "text/x-python",
   "name": "python",
   "nbconvert_exporter": "python",
   "pygments_lexer": "ipython3",
   "version": "3.7.2"
  },
  "toc": {
   "base_numbering": 1,
   "nav_menu": {},
   "number_sections": true,
   "sideBar": true,
   "skip_h1_title": false,
   "title_cell": "Table of Contents",
   "title_sidebar": "Contents",
   "toc_cell": false,
   "toc_position": {},
   "toc_section_display": true,
   "toc_window_display": false
  }
 },
 "nbformat": 4,
 "nbformat_minor": 2
}
